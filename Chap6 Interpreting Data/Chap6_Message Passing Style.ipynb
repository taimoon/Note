{
 "cells": [
  {
   "cell_type": "markdown",
   "metadata": {},
   "source": [
    "# Message Passing\n",
    "Prerequisite : Understand functions as if they are **values** (i.e.: first-class citizen)\n",
    "# Represent Rational Number\n",
    "\n",
    "Beside using `class` keyword, we can represent the Rational data type using **message passing style** like below."
   ]
  },
  {
   "cell_type": "code",
   "execution_count": 61,
   "metadata": {},
   "outputs": [],
   "source": [
    "def Rational(n, d):\n",
    "    assert(d != 0)\n",
    "    from math import gcd\n",
    "    g = gcd(n,d)\n",
    "    def dispatch(msg):\n",
    "        if msg == \"numer\":\n",
    "            return n // g\n",
    "        elif msg == \"denom\":\n",
    "            return d // g\n",
    "        else:\n",
    "            raise Exception(f\"{msg} : Unknown message for Rational instance\")\n",
    "    return dispatch\n",
    "\n",
    "def numer(r):\n",
    "    return r(\"numer\")\n",
    "\n",
    "def denom(r):\n",
    "    return r(\"denom\")\n",
    "\n",
    "def rational_str(r):\n",
    "    return f\"Rational({numer(r)}, {denom(r)})\"\n",
    "\n",
    "def is_eq_ratio(r1, r2):\n",
    "    return numer(r1)*denom(r2) == denom(r1)*numer(r2)\n",
    "\n",
    "def add_ratio(r1, r2):\n",
    "    return Rational(\n",
    "        numer(r1)*denom(r2) + numer(r2)*denom(r1),\n",
    "        denom(r1)*denom(r2))\n",
    "\n",
    "def sub_ratio(r1, r2):\n",
    "    return Rational(\n",
    "        numer(r1)*denom(r2) - numer(r2)*denom(r1),\n",
    "        denom(r1)*denom(r2))\n",
    "\n",
    "def mul_ratio(r1, r2):\n",
    "    return Rational(\n",
    "        numer(r1) * numer(r2),\n",
    "        denom(r1) * denom(r2))\n",
    "\n",
    "def div_ratio(r1, r2):\n",
    "    return Rational(\n",
    "        numer(r1) * denom(r2),\n",
    "        denom(r1) * numer(r2))\n",
    "\n",
    "def test_rational():\n",
    "    r1 = Rational(1,2)\n",
    "    r2 = Rational(3,4)\n",
    "    ans = Rational(5,4)\n",
    "    assert(is_eq_ratio(add_ratio(r1,r2), ans))\n",
    "    ans = Rational(-1,4)\n",
    "    assert(is_eq_ratio(sub_ratio(r1,r2), ans))\n",
    "    ans = Rational(2,3)\n",
    "    assert(is_eq_ratio(div_ratio(r1,r2), ans))\n",
    "    ans = Rational(3,8)\n",
    "    assert(is_eq_ratio(mul_ratio(r1,r2), ans))\n",
    "\n",
    "test_rational()"
   ]
  },
  {
   "cell_type": "code",
   "execution_count": 62,
   "metadata": {},
   "outputs": [
    {
     "name": "stdout",
     "output_type": "stream",
     "text": [
      "Rational(1, 2)\n",
      "Rational(3, 4)\n",
      "Rational(5, 4)\n",
      "Rational(-1, 4)\n",
      "Rational(2, 3)\n",
      "Rational(3, 8)\n"
     ]
    }
   ],
   "source": [
    "r1 = Rational(1,2)\n",
    "r2 = Rational(3,4)\n",
    "print_ratio = lambda r: print(rational_str(r))\n",
    "print_ratio(r1)\n",
    "print_ratio(r2)\n",
    "print_ratio(add_ratio(r1,r2))\n",
    "print_ratio(sub_ratio(r1,r2))\n",
    "print_ratio(div_ratio(r1,r2))\n",
    "print_ratio(mul_ratio(r1,r2))"
   ]
  },
  {
   "cell_type": "markdown",
   "metadata": {},
   "source": [
    "# Represent Pair"
   ]
  },
  {
   "cell_type": "code",
   "execution_count": 63,
   "metadata": {},
   "outputs": [],
   "source": [
    "def Pair(x,y):\n",
    "    def dispatch(msg):\n",
    "        if msg == \"fst\":\n",
    "            return x\n",
    "        elif msg == \"snd\":\n",
    "            return y\n",
    "        elif msg == \"repr\":\n",
    "            return f\"Pair({x},{y})\"\n",
    "        elif msg == \"print\":\n",
    "            print(dispatch(\"repr\"))\n",
    "            return dispatch(\"repr\")\n",
    "        else:\n",
    "            raise Exception(f\"{msg}: Unknown message for Pair instance\") \n",
    "    return dispatch\n",
    "\n",
    "def fst(p):\n",
    "    return p(\"fst\")\n",
    "\n",
    "def snd(p):\n",
    "    return p(\"snd\")"
   ]
  },
  {
   "cell_type": "code",
   "execution_count": 64,
   "metadata": {},
   "outputs": [
    {
     "name": "stdout",
     "output_type": "stream",
     "text": [
      "9 Cirno\n",
      "Pair(9,Cirno)\n"
     ]
    },
    {
     "data": {
      "text/plain": [
       "'Pair(9,Cirno)'"
      ]
     },
     "execution_count": 64,
     "metadata": {},
     "output_type": "execute_result"
    }
   ],
   "source": [
    "p1 = Pair(9, \"Cirno\")\n",
    "print(fst(p1), snd(p1))\n",
    "p1(\"print\")"
   ]
  },
  {
   "cell_type": "markdown",
   "metadata": {},
   "source": [
    "# Change underlying representation of Rational"
   ]
  },
  {
   "cell_type": "code",
   "execution_count": 66,
   "metadata": {},
   "outputs": [],
   "source": [
    "def Rational(n, d):\n",
    "    assert(d != 0)\n",
    "    from math import gcd\n",
    "    g = gcd(n,d)\n",
    "    return Pair(n // g, d // g)\n",
    "\n",
    "def numer(r):\n",
    "    return r(\"fst\")\n",
    "\n",
    "def denom(r):\n",
    "    return r(\"snd\")\n",
    "\n",
    "test_rational()"
   ]
  },
  {
   "cell_type": "markdown",
   "metadata": {},
   "source": [
    "The Rational program is changed to use `Pair` rather using message passing style alone. However, other part of program like `add_rational` does not need modification. \n",
    "This is an independence between underlying representation and upper system. It is achieved through defining selector. "
   ]
  },
  {
   "cell_type": "code",
   "execution_count": 69,
   "metadata": {},
   "outputs": [],
   "source": [
    "def Rational(n, d):\n",
    "    assert(d != 0)\n",
    "    from math import gcd\n",
    "    g = gcd(n,d)\n",
    "    return n // g, d // g # this return a tuple\n",
    "\n",
    "def numer(r):\n",
    "    return r[0]\n",
    "\n",
    "def denom(r):\n",
    "    return r[1]\n",
    "\n",
    "test_rational() # check that if it works as expected"
   ]
  },
  {
   "cell_type": "markdown",
   "metadata": {},
   "source": [
    "# What is data?\n",
    "\n",
    "You maybe suprised that the data structure `Pair` is not even a value but it is a function. So is the `Rational`. Nevetheless, the `Rational` is working same as using `class` keyword in `Python`. Indeed, there is no much difference between data and procedure."
   ]
  },
  {
   "cell_type": "code",
   "execution_count": 9,
   "metadata": {},
   "outputs": [
    {
     "data": {
      "text/plain": [
       "<function __main__.Pair.<locals>.dispatch(msg)>"
      ]
     },
     "execution_count": 9,
     "metadata": {},
     "output_type": "execute_result"
    }
   ],
   "source": [
    "p = Pair(1,2)\n",
    "p"
   ]
  },
  {
   "cell_type": "markdown",
   "metadata": {},
   "source": [
    "# Represent Bank Account, `nonlocal`, lexical closure\n",
    "\n",
    "To model the real world, we often perceive the world composed of many independent objects. Objects are independent and each has **states** that change overtime. An object is said to \"have state\" if its behavior is influnced by its history. Bank account is an abstract entity but its balance changes over time hence it can be an object."
   ]
  },
  {
   "cell_type": "code",
   "execution_count": 17,
   "metadata": {},
   "outputs": [
    {
     "name": "stdout",
     "output_type": "stream",
     "text": [
      "100\n"
     ]
    },
    {
     "data": {
      "text/plain": [
       "75"
      ]
     },
     "execution_count": 17,
     "metadata": {},
     "output_type": "execute_result"
    }
   ],
   "source": [
    "def withdraw(acc, amt):\n",
    "    if amt > acc:\n",
    "        return \"insufficient fund\"\n",
    "    return acc - amt\n",
    "meiling_acc = 100  \n",
    "print(meiling_acc)\n",
    "meiling_acc =  withdraw(meiling_acc, 25)\n",
    "meiling_acc"
   ]
  },
  {
   "cell_type": "markdown",
   "metadata": {},
   "source": [
    "Above is rather cumbersome that reassignment is required to update the balance (state). Code below is done using lexical closure."
   ]
  },
  {
   "cell_type": "code",
   "execution_count": 18,
   "metadata": {},
   "outputs": [],
   "source": [
    "def new_account(balance):\n",
    "    def withdraw(amt):\n",
    "        nonlocal balance\n",
    "        if amt > balance:\n",
    "            return \"insufficient fund\"\n",
    "        balance = balance - amt\n",
    "        return balance\n",
    "    return withdraw"
   ]
  },
  {
   "cell_type": "code",
   "execution_count": 19,
   "metadata": {},
   "outputs": [
    {
     "name": "stdout",
     "output_type": "stream",
     "text": [
      "100\n",
      "25\n",
      "insufficient fund\n"
     ]
    }
   ],
   "source": [
    "sakuya_acc = new_account(125)\n",
    "print(sakuya_acc(25))\n",
    "print(sakuya_acc(75))\n",
    "print(sakuya_acc(30))"
   ]
  },
  {
   "cell_type": "markdown",
   "metadata": {},
   "source": [
    "To include the `deposit` operation, we can use message passing style to represent Bank Account"
   ]
  },
  {
   "cell_type": "code",
   "execution_count": 21,
   "metadata": {},
   "outputs": [],
   "source": [
    "def make_account(balance):\n",
    "    def withdraw(amt):\n",
    "        nonlocal balance\n",
    "        if amt > balance:\n",
    "            return \"insufficient fund\"\n",
    "        balance = balance - amt\n",
    "        return balance\n",
    "    def deposit(amt):\n",
    "        if amt < 0:\n",
    "            return f\"{amt}, no negative deposit transaction\"\n",
    "        nonlocal balance\n",
    "        balance = balance + amt\n",
    "        return balance\n",
    "    def dispatch(msg):\n",
    "        if msg == \"withdraw\":\n",
    "            return withdraw\n",
    "        elif msg == \"deposit\":\n",
    "            return deposit\n",
    "        else:\n",
    "            raise Exception(f\"{msg}: Unknown message for Bank Account Instance\")\n",
    "    return dispatch"
   ]
  },
  {
   "cell_type": "code",
   "execution_count": 23,
   "metadata": {},
   "outputs": [
    {
     "name": "stdout",
     "output_type": "stream",
     "text": [
      "110\n",
      "85\n"
     ]
    }
   ],
   "source": [
    "rumia_acc = make_account(75)\n",
    "print(rumia_acc(\"deposit\")(35))\n",
    "print(rumia_acc(\"withdraw\")(25))"
   ]
  },
  {
   "cell_type": "markdown",
   "metadata": {},
   "source": [
    "## Side Note: scoping, first-class functions, lexical closure"
   ]
  },
  {
   "cell_type": "code",
   "execution_count": 10,
   "metadata": {},
   "outputs": [
    {
     "name": "stdout",
     "output_type": "stream",
     "text": [
      "113.04\n",
      "113.09733552923255\n"
     ]
    }
   ],
   "source": [
    "pi = 3.14\n",
    "def sphere_volume(r):\n",
    "    return 4*r**3*pi/3\n",
    "print(sphere_volume(3))\n",
    "from math import pi\n",
    "print(sphere_volume(3))"
   ]
  },
  {
   "cell_type": "markdown",
   "metadata": {},
   "source": [
    "In the function `sphere_volume`, programming languages must somehow to resolve the value of the variable `pi`.\n",
    "\n",
    "Additinoally, a function is also an enclosing environment over its parameters and variables (ie.: these variables and parameters are local to the function). \n",
    "I would say these variables and parameters are in inner scope.\n",
    "Outer scope programs cannot directly assign the value of inner scoped variables.\n",
    "\n",
    "```\n",
    ">>> def sphere_volume(r):\n",
    "...     pi = 3.14\n",
    "...     return 4*r**3*pi/3\n",
    "...\n",
    ">>> print(pi)\n",
    "Traceback (most recent call last):\n",
    "  File \"<stdin>\", line 1, in <module>\n",
    "NameError: name 'pi' is not defined\n",
    "```\n",
    "\n",
    "To resolve the value of variable, if it is not defined in inner scope, then search in its outer scope, and repeat until either it is defined or reach global scope. This is known as lexical scoping."
   ]
  },
  {
   "cell_type": "markdown",
   "metadata": {},
   "source": [
    "## Side note to Scoping\n",
    "The concept of scoping is quite natural to who learn the algebra and basic of mathematical function. For example, below is general form of linear function.\n",
    "\n",
    "$$\n",
    "f(x) = mx + h\n",
    "$$\n",
    "\n",
    "Sometimes, the classes do not explicitly mention where the $x$, $m$ and $h$ variables should look for their values. Then, students somehow know that the function value depend on the value of $x$, if $m$ and $h$ are not given.\n",
    "\n",
    "In field of logic study, the $x$ is said to be bound by the function, whereas $m$ and $h$ are said to be free. The $x$ is called *bound variable* while $m$ and $h$ are called *free variable*."
   ]
  },
  {
   "cell_type": "code",
   "execution_count": 5,
   "metadata": {},
   "outputs": [
    {
     "data": {
      "text/plain": [
       "(50, 48)"
      ]
     },
     "execution_count": 5,
     "metadata": {},
     "output_type": "execute_result"
    }
   ],
   "source": [
    "def compose(f,g):\n",
    "    def fg(x):\n",
    "        return f(g(x))\n",
    "    return fg\n",
    "inc = lambda x : x + 1\n",
    "sqr = lambda x : x * x\n",
    "dec = lambda x : x - 1\n",
    "inc_sqr = compose(inc, sqr)\n",
    "dec_sqr = compose(dec, sqr)\n",
    "inc_sqr(7), dec_sqr(7)"
   ]
  },
  {
   "cell_type": "markdown",
   "metadata": {},
   "source": [
    "in `Python`, functions are first-class citizen such that it is allowed to:\n",
    "1. pass functions as arguments\n",
    "2. return functions as values\n",
    "3. assign functinos as values\n",
    "4. like values, can be included in other data structures\n",
    "\n",
    "When the function `compose` is called, it returns a function `fg` which involves other 2 functions `f`, and `g`. The question is that which values `f` and `g` refer to? \n",
    "\n",
    "By lexical closure, function is also an enclosing environment which keep track the values of variables.\n",
    "\n",
    "For example, `inc_sqr` maintains the record of `f = inc` and `g = dec`. The `dec_sqr` maintains the record of `f = dec` and `g = dec`"
   ]
  },
  {
   "cell_type": "markdown",
   "metadata": {},
   "source": [
    "```\n",
    ">>> def counter(start = 0):\n",
    "...     def next():\n",
    "...         start += 1\n",
    "...         return start\n",
    "...     return next\n",
    "...\n",
    ">>> i = counter(5)\n",
    ">>> i()\n",
    "Traceback (most recent call last):\n",
    "  File \"<stdin>\", line 1, in <module>\n",
    "  File \"<stdin>\", line 3, in next\n",
    "UnboundLocalError: local variable 'start' referenced before assignment\n",
    "```\n",
    "\n",
    "Above code is illegal in `Python`. `Python` default does not support full lexical closure. To fix this, we can use the keyword `nonlocal`. Beside that, we may define `generator` to support similar functionality."
   ]
  },
  {
   "cell_type": "code",
   "execution_count": 18,
   "metadata": {},
   "outputs": [
    {
     "name": "stdout",
     "output_type": "stream",
     "text": [
      "5 5\n",
      "6 6\n",
      "7 7\n",
      "8 8\n"
     ]
    }
   ],
   "source": [
    "def counter(start = 0):\n",
    "    start -= 1\n",
    "    def next():\n",
    "        nonlocal start\n",
    "        start += 1\n",
    "        return start\n",
    "    return next\n",
    "\n",
    "def count(start = 0):\n",
    "    while True:\n",
    "        yield start\n",
    "        start += 1\n",
    "\n",
    "i = counter(5)\n",
    "j = count(5)\n",
    "print(i(), next(j))\n",
    "print(i(), next(j))\n",
    "print(i(), next(j))\n",
    "print(i(), next(j))"
   ]
  }
 ],
 "metadata": {
  "kernelspec": {
   "display_name": "Python 3.10.2 64-bit",
   "language": "python",
   "name": "python3"
  },
  "language_info": {
   "codemirror_mode": {
    "name": "ipython",
    "version": 3
   },
   "file_extension": ".py",
   "mimetype": "text/x-python",
   "name": "python",
   "nbconvert_exporter": "python",
   "pygments_lexer": "ipython3",
   "version": "3.10.2"
  },
  "orig_nbformat": 4,
  "vscode": {
   "interpreter": {
    "hash": "2324a66782fee6ab9f0bdb3c9e79ee636ed86487484f245c4444858429ce7730"
   }
  }
 },
 "nbformat": 4,
 "nbformat_minor": 2
}
