{
 "cells": [
  {
   "cell_type": "markdown",
   "id": "5b375dbe",
   "metadata": {},
   "source": [
    "# Chapter 2: Higher Order Functions\n",
    "\n",
    "Adapted from the book SICP chapter 1.3\n",
    "\n",
    "## Function as value\n",
    "\n",
    "Refering to the summation program from previous chapter, we may generalize it into a function that calculate sum between a and b"
   ]
  },
  {
   "cell_type": "code",
   "execution_count": 14,
   "id": "fd8d77ee",
   "metadata": {},
   "outputs": [
    {
     "data": {
      "text/plain": [
       "45"
      ]
     },
     "execution_count": 14,
     "metadata": {},
     "output_type": "execute_result"
    }
   ],
   "source": [
    "def integer_sum(a, b):\n",
    "    result = 0\n",
    "    while a <= b:\n",
    "        result = result + a\n",
    "        a = a + 1\n",
    "    return result\n",
    "integer_sum(5,10)"
   ]
  },
  {
   "cell_type": "code",
   "execution_count": 12,
   "id": "9cb6a75a",
   "metadata": {},
   "outputs": [
    {
     "data": {
      "text/plain": [
       "355"
      ]
     },
     "execution_count": 12,
     "metadata": {},
     "output_type": "execute_result"
    }
   ],
   "source": [
    "def squared_sum(a, b):\n",
    "    result = 0\n",
    "    while a <= b:\n",
    "        result = result + a*a\n",
    "        a = a + 1\n",
    "    return result\n",
    "squared_sum(5,10)"
   ]
  },
  {
   "cell_type": "markdown",
   "id": "c7e6a879",
   "metadata": {},
   "source": [
    "The series below slowly converge to $\\frac{\\pi}{8} $\n",
    "\n",
    "$$\n",
    "\\frac{1}{1\\cdot 3} + \\frac{1}{5\\cdot 7} + \\frac{1}{9 \\cdot 11} + \\dots\n",
    "$$\n"
   ]
  },
  {
   "cell_type": "code",
   "execution_count": 6,
   "id": "4dd093e8",
   "metadata": {
    "scrolled": true
   },
   "outputs": [
    {
     "data": {
      "text/plain": [
       "3.1415906535898936"
      ]
     },
     "execution_count": 6,
     "metadata": {},
     "output_type": "execute_result"
    }
   ],
   "source": [
    "def pi_sum(b):\n",
    "    result = 0\n",
    "    a = 1\n",
    "    while a <= b:\n",
    "        result = result + 1/(a*(a+2))\n",
    "        a = a + 4\n",
    "    return result\n",
    "8*pi_sum(10**6)"
   ]
  },
  {
   "cell_type": "markdown",
   "id": "292ac988",
   "metadata": {},
   "source": [
    "`pi_sum` , `squared_sum` and `summation` share many similarities; they share similar structure such that\n",
    "\n",
    "```\n",
    "def <name>(a, b):\n",
    "    result = 0\n",
    "    while a <= b:\n",
    "        result = result + f(a)\n",
    "        a = step(a)\n",
    "    return result\n",
    "```"
   ]
  },
  {
   "cell_type": "markdown",
   "id": "448776d5",
   "metadata": {},
   "source": [
    "Indeed, the essence of these patterns have been asbtracted by mathmatician as below\n",
    "\n",
    "$$\n",
    "\\sum^{b}_{n = a}{f(n)} = f(a) + \\cdots + f(b)\n",
    "$$\n"
   ]
  },
  {
   "cell_type": "markdown",
   "id": "648e7b29",
   "metadata": {},
   "source": [
    "Thus, if we can pass the $f$ to a function as argument, then we express such pattern. It can be done easily in Python as follow:"
   ]
  },
  {
   "cell_type": "code",
   "execution_count": 8,
   "id": "9193959d",
   "metadata": {},
   "outputs": [],
   "source": [
    "def summation(f, stepper, a, b):\n",
    "    result = 0\n",
    "    while a <= b:\n",
    "        result = result + f(a)\n",
    "        a = stepper(a)\n",
    "    return result"
   ]
  },
  {
   "cell_type": "markdown",
   "id": "a5e83f30",
   "metadata": {},
   "source": [
    "Note that the parameters `f`, `stepper` are one-valued function. "
   ]
  },
  {
   "cell_type": "code",
   "execution_count": 13,
   "id": "0b394f58",
   "metadata": {},
   "outputs": [
    {
     "name": "stdout",
     "output_type": "stream",
     "text": [
      "45\n",
      "355\n",
      "3.1415906535898936\n"
     ]
    }
   ],
   "source": [
    "def inc(n):\n",
    "    return n + 1\n",
    "\n",
    "def identity(x):\n",
    "    return x\n",
    "\n",
    "def square(x):\n",
    "    return x*x\n",
    "\n",
    "def integer_sum(a,b):\n",
    "    return summation(identity, inc, a, b)\n",
    "\n",
    "def squared_sum(a,b):\n",
    "    return summation(square, inc, a, b)\n",
    "\n",
    "def pi_sum(n):\n",
    "    def pi_stepper(a):\n",
    "        return a+4\n",
    "    def pi_fn(a):\n",
    "        return 1/(a*(a+2))\n",
    "    return summation(pi_fn, pi_stepper, 1, n)\n",
    "\n",
    "print(integer_sum(5,10))\n",
    "print(squared_sum(5,10))\n",
    "print(pi_sum(10**6)*8)"
   ]
  },
  {
   "cell_type": "markdown",
   "id": "cda70916",
   "metadata": {},
   "source": [
    "# `lambda` as shorthand\n",
    "`lambda` is useful to express simple functions. The syntaxs are as follow:\n",
    "\n",
    "```\n",
    "lambda <param>* : <expr>\n",
    "```\n",
    "\n",
    "Calling `lambda` is same as conventional function if it is assigned to a variable\n",
    "\n",
    "```\n",
    "f = lambda <param>* : <expr>\n",
    "f(<args>*)\n",
    "```\n",
    "Or,\n",
    "```\n",
    "(lambda <param>* : <expr>)(<args>*)\n",
    "```\n",
    "\n",
    "\n",
    "For example, the simple functions such as `inc` and `identity can be written as"
   ]
  },
  {
   "cell_type": "code",
   "execution_count": 17,
   "id": "8a18727e",
   "metadata": {
    "scrolled": false
   },
   "outputs": [
    {
     "name": "stdout",
     "output_type": "stream",
     "text": [
      "45\n",
      "355\n"
     ]
    }
   ],
   "source": [
    "def integer_sum(a,b):\n",
    "    return summation(lambda x:x, lambda x:x+1, a, b)\n",
    "def squared_sum(a,b):\n",
    "    return summation(lambda x:x*x, lambda x:x+1, a, b)\n",
    "print(integer_sum(5,10))\n",
    "print(squared_sum(5,10))"
   ]
  },
  {
   "cell_type": "markdown",
   "id": "71879a6c",
   "metadata": {},
   "source": [
    "Indeed, we may use the same syntatic sugar to express the same code above."
   ]
  },
  {
   "cell_type": "code",
   "execution_count": 19,
   "id": "037db282",
   "metadata": {},
   "outputs": [
    {
     "name": "stdout",
     "output_type": "stream",
     "text": [
      "45\n"
     ]
    }
   ],
   "source": [
    "# this assign the lambda expression to a variable named integer_sum\n",
    "integer_sum = lambda a,b: summation(lambda x:x, lambda x:x+1, a, b)\n",
    "print(integer_sum(5,10))"
   ]
  },
  {
   "cell_type": "code",
   "execution_count": 15,
   "id": "6b7f5ec1",
   "metadata": {},
   "outputs": [
    {
     "name": "stdout",
     "output_type": "stream",
     "text": [
      "hello world\n"
     ]
    }
   ],
   "source": [
    "(lambda: print(\"hello world\"))()"
   ]
  },
  {
   "cell_type": "code",
   "execution_count": 16,
   "id": "05484c80",
   "metadata": {
    "scrolled": false
   },
   "outputs": [
    {
     "data": {
      "text/plain": [
       "5"
      ]
     },
     "execution_count": 16,
     "metadata": {},
     "output_type": "execute_result"
    }
   ],
   "source": [
    "add = lambda x,y: x+y\n",
    "add(2,3)"
   ]
  },
  {
   "cell_type": "markdown",
   "id": "de0fdaa9",
   "metadata": {},
   "source": [
    "## Functions as Returned Value\n",
    "Derivative of a single-valued function can be defined as follow:\n",
    "\n",
    "$$\n",
    "\\frac{d}{dx}{f(x)} = \\lim_{h\\rightarrow 0}{\\frac{f(x+h) - f(x)}{h}}\n",
    "$$\n",
    "\n",
    "We can approximate the value of $ \\frac{d}{dx}{f(x)}$ by using a small value $ h $. It is totally made sense that we've a function that transform the function into its derivative also another function."
   ]
  },
  {
   "cell_type": "code",
   "execution_count": 2,
   "id": "21f5727e",
   "metadata": {},
   "outputs": [
    {
     "name": "stdout",
     "output_type": "stream",
     "text": [
      "0.5000009999922561\n",
      "0.8775823222006984\n",
      "0.7500015000161397\n",
      "0.1875007499957393\n"
     ]
    }
   ],
   "source": [
    "def deriv(f, h = 0.000001):\n",
    "    return lambda x: (f(x+h) - f(x)) / h\n",
    "\n",
    "print(deriv(lambda x: x*x)(0.25)) # exact = 0.5\n",
    "from math import sin\n",
    "print(deriv(lambda x: sin(x))(0.5)) # cos(0.5) = 0.8776\n",
    "deriv_cube = deriv(lambda x: x**3)\n",
    "print(deriv_cube(0.5)) # exact = 0.75\n",
    "print(deriv_cube(0.25)) # exact = 0.1875"
   ]
  },
  {
   "cell_type": "markdown",
   "id": "4b484137",
   "metadata": {},
   "source": [
    "Python awards function the first-class citizen where functions are allowed to:\n",
    "1. functions can be assigned to a variable \n",
    "2. passing function as argument\n",
    "3. return function as value\n",
    "4. can be included in data structure\n",
    "\n",
    "Footnote: Some programming languages (C++, C) support function as value but rather cumbersome and unintuitive as they require additional syntax or libraries to emulate similar thing."
   ]
  },
  {
   "cell_type": "markdown",
   "id": "348da4bb",
   "metadata": {},
   "source": [
    "## Python Functions Special Features\n",
    "```\n",
    "def deriv(f, h = 0.000001):\n",
    "```\n",
    "Such parameter defintion is known as default argument which will be used if the argument is not supply.\n",
    "\n",
    "```\n",
    "def integer_sum(a = 1, b):\n",
    "```\n",
    "This is not valid because default arguments must not precede non-default parameters"
   ]
  },
  {
   "cell_type": "code",
   "execution_count": 31,
   "id": "23e81537",
   "metadata": {},
   "outputs": [
    {
     "name": "stdout",
     "output_type": "stream",
     "text": [
      "11\n",
      "16\n"
     ]
    }
   ],
   "source": [
    "def inc(a, stepsize=1):\n",
    "    return a + stepsize\n",
    "print(inc(10)) # 11\n",
    "print(inc(12,4)) # 16"
   ]
  },
  {
   "cell_type": "markdown",
   "id": "5dbb909c",
   "metadata": {},
   "source": [
    "# Exercise\n",
    "Write the code and write some example code that call your code.\n",
    "\n",
    "1. Integral of $f(x)$ can be approximated by this series below:\n",
    "\n",
    "    $$\n",
    "    \\int_{a}^{b}f(x) dx \n",
    "    = \\left[ \n",
    "    f\\left(a+\\frac{dx}{2}\\right) \n",
    "    + f\\left(a+ dx + \\frac{dx}{2}\\right) \n",
    "    + f\\left(a+ 2dx + \\frac{dx}{2}\\right) \n",
    "    \\cdots\n",
    "    f\\left(a+ b\\right) \n",
    "    \\right]dx\n",
    "    $$\n",
    "\n",
    "    Using the `summation` define such approximation"
   ]
  },
  {
   "cell_type": "code",
   "execution_count": 32,
   "id": "2c5634b7",
   "metadata": {},
   "outputs": [],
   "source": [
    "def integral():\n",
    "    pass"
   ]
  },
  {
   "cell_type": "markdown",
   "id": "ecda65ba",
   "metadata": {},
   "source": [
    "2. Modify the code of integral such that it returns a function that takes lower bound and upper bound parameters"
   ]
  },
  {
   "cell_type": "code",
   "execution_count": 33,
   "id": "e4567cf3",
   "metadata": {},
   "outputs": [],
   "source": [
    "def integrate():\n",
    "    pass"
   ]
  },
  {
   "cell_type": "markdown",
   "id": "dc944a22",
   "metadata": {},
   "source": [
    "3. Develop a program that's similar to `summation` but it is multiplying. Consider an example series:\n",
    "\n",
    "    $$\n",
    "    \\frac{\\pi}{4} = \\frac{2\\cdot4\\cdot4\\cdot6\\cdot6\\cdot8\\cdots}\n",
    "    {3\\cdot3\\cdot5\\cdot5\\cdot7\\cdot7\\cdots}\n",
    "    $$\n",
    "\n",
    "    Develop a program `product` that captures such patterns. Use `product` to define `pi_product`."
   ]
  },
  {
   "cell_type": "code",
   "execution_count": 3,
   "id": "b92e5021",
   "metadata": {},
   "outputs": [
    {
     "data": {
      "text/plain": [
       "0"
      ]
     },
     "execution_count": 3,
     "metadata": {},
     "output_type": "execute_result"
    }
   ],
   "source": [
    "def product():\n",
    "    pass\n",
    "\n",
    "def pi_product():\n",
    "    return 0\n",
    "\n",
    "pi_product() * 4"
   ]
  },
  {
   "cell_type": "markdown",
   "id": "fbf4a4d2",
   "metadata": {},
   "source": [
    "4. Oberve that the `factorial` also share similar structure with the `summation`\n",
    "\n",
    "    ```\n",
    "    def fact(n):\n",
    "        result = 1\n",
    "        i = 1\n",
    "        while i <= n:\n",
    "            result = result * i\n",
    "            i = i + 1\n",
    "        return result\n",
    "    ```\n",
    "They are similiar such that `summation` uses `+` while `factorial` uses `*`.\n",
    "\n",
    "Indeed, `factorial` and `summation` can be similarily abstract to a more general function `accumulate`. Complete the code"
   ]
  },
  {
   "cell_type": "code",
   "execution_count": null,
   "id": "35962976",
   "metadata": {},
   "outputs": [],
   "source": [
    "def accumulate(f, stepper, combiner, initial_value, a, b):\n",
    "    pass"
   ]
  },
  {
   "cell_type": "markdown",
   "id": "ab042ff3",
   "metadata": {},
   "source": [
    "Use `accumulate` to define the `summation` and `product`."
   ]
  },
  {
   "cell_type": "code",
   "execution_count": 5,
   "id": "dce3624e",
   "metadata": {},
   "outputs": [],
   "source": [
    "def summation():\n",
    "    pass\n",
    "def product():\n",
    "    pass"
   ]
  }
 ],
 "metadata": {
  "kernelspec": {
   "display_name": "Python 3.10.2 64-bit",
   "language": "python",
   "name": "python3"
  },
  "language_info": {
   "codemirror_mode": {
    "name": "ipython",
    "version": 3
   },
   "file_extension": ".py",
   "mimetype": "text/x-python",
   "name": "python",
   "nbconvert_exporter": "python",
   "pygments_lexer": "ipython3",
   "version": "3.10.2"
  },
  "vscode": {
   "interpreter": {
    "hash": "2324a66782fee6ab9f0bdb3c9e79ee636ed86487484f245c4444858429ce7730"
   }
  }
 },
 "nbformat": 4,
 "nbformat_minor": 5
}
