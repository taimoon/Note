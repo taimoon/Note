{
 "cells": [
  {
   "cell_type": "markdown",
   "metadata": {},
   "source": [
    "# Data Abstraction\n",
    "\n",
    "In the Chapter Problem Solving, we've proposed task seperation as a method to solve problem. In the Chapter Code Reuse, we've discussed about object oriented programming and inheritance, how it can be used wrongly.\n",
    "\n",
    "I'm going shamelessly steal the quotes from Gerald Jay Sussman in his SICP video lectures:\n",
    "\n",
    "1. To make a system that's robust, it has to be insensitive to small changes. In other word, a small change in the problem should lead to only a small change in the solution.\n",
    "2. Instead of solving a particular problem at every level of decomposition of the problem at the subproblem (task seperation method), **where you solve the class of problems which are a neighborhood of the particular problem that you're trying to solve.**\n",
    "\n",
    "He proposed that one of the way is to make a language express the class of problems and solutions. For example, Pandas is a library of data analysis, Tkinter is a library of GUI. "
   ]
  },
  {
   "cell_type": "markdown",
   "metadata": {},
   "source": [
    "## Discussion\n",
    "\n",
    "[Code a Snake Game with Python and Pygame 🐍 - Tutorial by freecodecamp.org](https://www.youtube.com/watch?v=8dfePlONtls)\n",
    "\n",
    "[Python Game Tutorial: Pong by freecodecamp.org](https://youtu.be/C6jJg9Zan7w)\n",
    "\n",
    "You may briefly watch and follow the video to make a Snake game and Pong game. The use of `self.x` and `self.y` is to represent the Snake coordinate, and while Pong game use `Turtle` primitive to represent `ball`. To move a `Snake` or a `ball` given direction, one has to defined the x coordinate and y coordinate for each direction case. \n",
    "\n",
    "It is fine for simple game like this. What if doing these in developing 3D render library or Physic Simulation library which involve heavy use of linear algebra(matrix, coordinate, arithmetic), these x,y,z coordinates will scatter over the place. It would be more organizable if we abstract these as `Coordinate` or `Vector` type. This is data abstraction.\n",
    "\n",
    "[The spelled-out intro to neural networks and backpropagation: building micrograd](https://youtu.be/VMj-3S1tku0)\n",
    "\n",
    "The video above is also a tutorial of developing miniature autograd which are the building block of backpropagation neural network.  Indeed, `Pytorch` include autograd feature. Autograd can be perceived as a data abstraction of derivatives of functions.\n",
    "\n",
    "The decision and necessity of using data abstraction is depend on the program you're working with. Data abstraction is a powerful weapon if you could use it properly.\n",
    "\n",
    "## Your Turn\n",
    "Discuss the advantages and disadvantages of `Rational` representation using `class` over naive method."
   ]
  },
  {
   "cell_type": "code",
   "execution_count": 2,
   "metadata": {},
   "outputs": [
    {
     "data": {
      "text/plain": [
       "(5, 4)"
      ]
     },
     "execution_count": 2,
     "metadata": {},
     "output_type": "execute_result"
    }
   ],
   "source": [
    "# Naive method\n",
    "def make_rational(n, d):\n",
    "\tassert(d != 0)\n",
    "\tfrom math import gcd\n",
    "\tg = gcd(n,d)\n",
    "\treturn n//g, d//g\n",
    "def add_rational(left_numer, left_denom, right_numer, right_denom):\n",
    "\treturn make_rational(\n",
    "\t\tleft_numer*right_denom + left_denom*right_numer,\n",
    "\t\tleft_denom*right_denom\n",
    "\t)\n",
    "n1,d1 = make_rational(1,2)\n",
    "n2,d2 = make_rational(3,4)\n",
    "add_rational(n1,d1, n2, d2)"
   ]
  },
  {
   "cell_type": "markdown",
   "metadata": {},
   "source": [
    "# Example: Constraint Programming\n",
    "\n",
    "In linear programming (topic from operational research), we often deal with the constraints, for example:\n",
    "\n",
    "$$\n",
    "\\text{maximise } Z = 3x + y\n",
    "$$\n",
    "subject to these constraints,\n",
    "$$\n",
    "\\begin{align*}\n",
    "x + y &\\leq 10 \\\\\n",
    "2x + y &\\leq 1 \\\\\n",
    "2x + 3y &\\leq 50 \\\\\n",
    "x \\geq 0, y \\geq 0\n",
    "\\end{align*}\n",
    "$$\n",
    "\n",
    "We would use simplex algorithm to optimize the $Z$ while not violating the constraints. However, outside the field, it is sometimes enough to check given point is not violating the constraints. For example, the relationship between Fahrenheit and Celsius can be expressed as follow:\n",
    "\n",
    "$$\n",
    "9C = 5(F - 32)\n",
    "$$\n",
    "\n",
    "In this example, I will express the relationship through joining **primitive constraints** by **connector**. Readers may read the section from SICP website for additonal information, motivation and implementation.\n",
    "\n",
    "The `contraint_prog.py` is Python implementation of minitature of constriant programming. Reader may refer it.\n",
    "\n",
    "Reference: https://sicp.sourceacademy.org/chapters/3.3.5.html"
   ]
  },
  {
   "cell_type": "code",
   "execution_count": 2,
   "metadata": {},
   "outputs": [
    {
     "data": {
      "text/plain": [
       "77.0"
      ]
     },
     "execution_count": 2,
     "metadata": {},
     "output_type": "execute_result"
    }
   ],
   "source": [
    "from constraint_prog import *\n",
    "\n",
    "def celsius_fahrenheit_converter(c:Connector, f:Connector):\n",
    "\tu = Connector()\n",
    "\tv = Connector()\n",
    "\tw = Connector()\n",
    "\tx = Connector()\n",
    "\ty = Connector()\n",
    "\tMultiplier(c,w,u)\n",
    "\tMultiplier(v,x,u)\n",
    "\tAdder(v,y,f)\n",
    "\tConstant(9, w)\n",
    "\tConstant(5, x)\n",
    "\tConstant(32, y)\n",
    "\treturn True\n",
    "\n",
    "F = Connector()\n",
    "C = Connector()\n",
    "celsius_fahrenheit_converter(C, F)\n",
    "C.set_val(25, \"user\")\n",
    "F"
   ]
  },
  {
   "cell_type": "markdown",
   "metadata": {},
   "source": [
    "We can express the constraint $x + y + z = C$ too using constraint primitives."
   ]
  },
  {
   "cell_type": "code",
   "execution_count": 3,
   "metadata": {},
   "outputs": [
    {
     "data": {
      "text/plain": [
       "15"
      ]
     },
     "execution_count": 3,
     "metadata": {},
     "output_type": "execute_result"
    }
   ],
   "source": [
    "from constraint_prog import *\n",
    "'''\n",
    "x + y + z = C\n",
    "x + y = d\n",
    "d + z = C\n",
    "'''\n",
    "def triplet_add(x, y, z, c):\n",
    "\td = Connector()\n",
    "\tAdder(x, y, d)\n",
    "\tAdder(d, z, c)\n",
    "\n",
    "x = Connector()\n",
    "y = Connector()\n",
    "z = Connector()\n",
    "c = Connector()\n",
    "triplet_add(x, y, z, c)\n",
    "Constant(50, c)\n",
    "x.set_val(20, \"user\")\n",
    "y.set_val(15, \"user\")\n",
    "z"
   ]
  },
  {
   "cell_type": "markdown",
   "metadata": {},
   "source": [
    "Using `triplet_adder`, we can express the `triplet_averager` $\\frac{x+y+z}{3} = C$. Equivalently, $x+y+z= 3\\cdot C$"
   ]
  },
  {
   "cell_type": "code",
   "execution_count": 4,
   "metadata": {},
   "outputs": [
    {
     "data": {
      "text/plain": [
       "105"
      ]
     },
     "execution_count": 4,
     "metadata": {},
     "output_type": "execute_result"
    }
   ],
   "source": [
    "def triplet_averager(x, y, z, c):\n",
    "\td = Connector()\n",
    "\te = Connector()\n",
    "\tConstant(3, e)\n",
    "\tMultiplier(e, c, d)\n",
    "\ttriplet_add(x,y,z, d)\n",
    "\treturn True\n",
    "x = Connector()\n",
    "y = Connector()\n",
    "z = Connector()\n",
    "c = Connector()\n",
    "triplet_averager(x, y, z, c)\n",
    "c.set_val(75, \"user\")\n",
    "x.set_val(20, \"user\")\n",
    "y.set_val(100, \"user\")\n",
    "z"
   ]
  },
  {
   "cell_type": "markdown",
   "metadata": {},
   "source": [
    "## Exercise\n",
    "It would be nicer to express the relationship in more expression oriented as follow:\n",
    "\n",
    "```\n",
    "def celsius_fahrenheit_converter(c:Connector):\n",
    "    return Connector(9)/Connector(5) * c + Connector(32)\n",
    "C = connector()\n",
    "F = celsius_fahrenheit_converter(C)\n",
    "```\n",
    "\n",
    "Modify the `constraint_prog.py` so it supports such feature. For example modification on `+`,\n",
    "\n",
    "```\n",
    "class Connector:\n",
    "...\n",
    "    def __add__(self, other):\n",
    "        z = Connector()\n",
    "        Adder(self, other, z)\n",
    "        return z\n",
    "...\n",
    "```\n",
    "\n",
    "It can be done more aggresive so that this can works too:\n",
    "\n",
    "```\n",
    "def celsius_fahrenheit_converter(c:Connector):\n",
    "    return 9/5 * c + 32\n",
    "C = connector()\n",
    "F = celsius_fahrenheit_converter(C)\n",
    "```\n",
    "\n",
    "Interested readers can refer to this video [The spelled-out intro to neural networks and backpropagation: building micrograd](https://youtu.be/VMj-3S1tku0) for ideas in implementations."
   ]
  }
 ],
 "metadata": {
  "kernelspec": {
   "display_name": "Python 3.10.2 64-bit",
   "language": "python",
   "name": "python3"
  },
  "language_info": {
   "codemirror_mode": {
    "name": "ipython",
    "version": 3
   },
   "file_extension": ".py",
   "mimetype": "text/x-python",
   "name": "python",
   "nbconvert_exporter": "python",
   "pygments_lexer": "ipython3",
   "version": "3.10.2"
  },
  "orig_nbformat": 4,
  "vscode": {
   "interpreter": {
    "hash": "2324a66782fee6ab9f0bdb3c9e79ee636ed86487484f245c4444858429ce7730"
   }
  }
 },
 "nbformat": 4,
 "nbformat_minor": 2
}
