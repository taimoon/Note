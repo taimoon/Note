{
 "cells": [
  {
   "attachments": {},
   "cell_type": "markdown",
   "id": "ca358d2b",
   "metadata": {},
   "source": [
    "# Chapter 3 - Sequence in Python\n",
    "\n",
    "According to Python official documentation, every entities in Python are *objects*.\n",
    "\n",
    "So below are also objects where Python's useful data structures:\n",
    "1. `list`   \n",
    "2. `tuple`  \n",
    "3. `string` \n",
    "4. `dict`   \n",
    "5. `set`    \n",
    "\n",
    "`list` is like object. Note that functions are values like numbers. An object usually contains attributes(a.k.a.: members) which hold values. To access the members, we use *dot notation* as follow:\n",
    "```\n",
    "<object_name>.<member_name>\n",
    "```\n",
    "If the attributes are functions, then we call it methods."
   ]
  },
  {
   "cell_type": "code",
   "execution_count": 1,
   "id": "4d8b5ac4",
   "metadata": {},
   "outputs": [
    {
     "name": "stdout",
     "output_type": "stream",
     "text": [
      "<built-in method extend of list object at 0x0000020409EBE400>\n",
      "[1, 2, 3, 5, 4, 7]\n",
      "[1, 2, 3, 4, 5, 7]\n"
     ]
    }
   ],
   "source": [
    "li = [1,2,3]\n",
    "print(li.extend)        # access method of list without calling it\n",
    "li.extend([5,4,7])      # also use dot notation to access list's member\n",
    "print(li)\n",
    "li.sort()\n",
    "print(li)"
   ]
  },
  {
   "cell_type": "markdown",
   "id": "e9c75956",
   "metadata": {},
   "source": [
    "Readers may read the [Programiz](https://www.programiz.com/python-programming) under the section of Python Data Types. And refer to Python documentations when you found unfamiliar methods (e.g.: `extend`, `slice`, `append`) This chapter intends to present the use of data structure in solving problem.\n",
    "\n",
    "1. [Programiz - list](https://www.programiz.com/python-programming/list)\n",
    "2. [Programiz - tuple](https://www.programiz.com/python-programming/tuple)\n",
    "3. [Programiz - string](https://www.programiz.com/python-programming/string)\n",
    "4. [Programiz - dict](https://www.programiz.com/python-programming/dictionary)\n",
    "5. [Programiz - set](https://www.programiz.com/python-programming/set)\n",
    "\n",
    "Few things to note that:\n",
    "1. `string`, `tuple`, and `list` are very similar like index access, slicing \n",
    "2. they have similiar iterators that allow iterating through the sequences\n",
    "3. all support **comphrension**\n",
    "4. `set` and `dict` are the same such that duplicates are not allowed and allow **fast membership testing** using `in`\n",
    "5. `list`, `dict`, `set` are mutable, `string` and `tuple` are not."
   ]
  },
  {
   "cell_type": "markdown",
   "id": "69c77fb7",
   "metadata": {},
   "source": [
    "# Tuple"
   ]
  },
  {
   "cell_type": "markdown",
   "id": "89d68455",
   "metadata": {},
   "source": [
    "## Tuple Assignment\n",
    "\n",
    "The swapping idiom is merely a syntatic sugar from tuple assignment"
   ]
  },
  {
   "cell_type": "code",
   "execution_count": 29,
   "id": "9fdc33c9",
   "metadata": {},
   "outputs": [
    {
     "name": "stdout",
     "output_type": "stream",
     "text": [
      "10 12\n",
      "12 10\n"
     ]
    }
   ],
   "source": [
    "x = 10\n",
    "y = 12\n",
    "print(x,y)\n",
    "x, y = y, x # (x,y) = (y, x)\n",
    "print(x,y)"
   ]
  },
  {
   "cell_type": "code",
   "execution_count": 30,
   "id": "cbe21256",
   "metadata": {},
   "outputs": [
    {
     "name": "stdout",
     "output_type": "stream",
     "text": [
      "10 12 15\n",
      "12 10\n"
     ]
    }
   ],
   "source": [
    "x, y, z = 10, 12, 15    # like (x,y,z) = (10, 12, 15)\n",
    "print(x, y, z)\n",
    "x, y = 12 ,10\n",
    "print(x, y)"
   ]
  },
  {
   "cell_type": "markdown",
   "id": "f6bd5ccc",
   "metadata": {},
   "source": [
    "## Tuple and Function Argument"
   ]
  },
  {
   "cell_type": "code",
   "execution_count": 31,
   "id": "623184f5",
   "metadata": {},
   "outputs": [
    {
     "data": {
      "text/plain": [
       "6"
      ]
     },
     "execution_count": 31,
     "metadata": {},
     "output_type": "execute_result"
    }
   ],
   "source": [
    "def summation(li):\n",
    "    result = 0\n",
    "    for i in li:\n",
    "        result += i\n",
    "    return result\n",
    "summation([1,2,3])"
   ]
  },
  {
   "cell_type": "markdown",
   "id": "445edaf8",
   "metadata": {},
   "source": [
    "Instead, you can use the aterisk operator (`*`)"
   ]
  },
  {
   "cell_type": "code",
   "execution_count": 32,
   "id": "c02a1045",
   "metadata": {},
   "outputs": [
    {
     "data": {
      "text/plain": [
       "10"
      ]
     },
     "execution_count": 32,
     "metadata": {},
     "output_type": "execute_result"
    }
   ],
   "source": [
    "def summation(*args):\n",
    "    result = 0\n",
    "    for i in args:\n",
    "        result += i\n",
    "    return result\n",
    "summation(1,2,3,4)"
   ]
  },
  {
   "cell_type": "markdown",
   "id": "021aa416",
   "metadata": {},
   "source": [
    "The aterisk operator will transform the arguments into a tuple"
   ]
  },
  {
   "cell_type": "code",
   "execution_count": 33,
   "id": "cd8647fb",
   "metadata": {},
   "outputs": [
    {
     "name": "stdout",
     "output_type": "stream",
     "text": [
      "(1, 2, 3) <class 'tuple'>\n"
     ]
    }
   ],
   "source": [
    "def print_args(*args):\n",
    "    print(args, type(args))\n",
    "print_args(1,2,3)"
   ]
  },
  {
   "cell_type": "markdown",
   "id": "7641d595",
   "metadata": {},
   "source": [
    "# Map, Filter, Accumulate, Comphrension"
   ]
  },
  {
   "cell_type": "code",
   "execution_count": 34,
   "id": "751532ee",
   "metadata": {},
   "outputs": [
    {
     "name": "stdout",
     "output_type": "stream",
     "text": [
      "[5, 6, 7, 8, 9, 10]\n",
      "[25, 36, 49, 64, 81, 100]\n"
     ]
    }
   ],
   "source": [
    "li = [i for i in range(5, 11)]      # enumeration through list comphrension\n",
    "print(li)\n",
    "print(list(map(lambda x: x*x, li))) # map"
   ]
  },
  {
   "cell_type": "code",
   "execution_count": 35,
   "id": "9e1096d8",
   "metadata": {
    "scrolled": true
   },
   "outputs": [
    {
     "data": {
      "text/plain": [
       "355"
      ]
     },
     "execution_count": 35,
     "metadata": {},
     "output_type": "execute_result"
    }
   ],
   "source": [
    "from functools import reduce\n",
    "from operator import add\n",
    "reduce(add, map(lambda x: x*x, li)) # accumulate or reduce"
   ]
  },
  {
   "cell_type": "code",
   "execution_count": 36,
   "id": "28cb5648",
   "metadata": {},
   "outputs": [
    {
     "data": {
      "text/plain": [
       "[1, 2, 5, 10]"
      ]
     },
     "execution_count": 36,
     "metadata": {},
     "output_type": "execute_result"
    }
   ],
   "source": [
    "n = 10\n",
    "li = list(range(1, n+1))\n",
    "li = filter(lambda x: n%x == 0, li)\n",
    "li = list(li)\n",
    "li"
   ]
  },
  {
   "cell_type": "code",
   "execution_count": 37,
   "id": "57501d2e",
   "metadata": {},
   "outputs": [
    {
     "data": {
      "text/plain": [
       "[1, 2, 5, 10]"
      ]
     },
     "execution_count": 37,
     "metadata": {},
     "output_type": "execute_result"
    }
   ],
   "source": [
    "def divisors(n):\n",
    "    # below is another way writing it using list comphrension\n",
    "    # use `if` to filter\n",
    "    # use `for` to iterate something\n",
    "    return [d for d in range(1,n+1) if n%d == 0]\n",
    "divisors(10)"
   ]
  },
  {
   "cell_type": "code",
   "execution_count": 38,
   "id": "cbac4839",
   "metadata": {},
   "outputs": [
    {
     "name": "stdout",
     "output_type": "stream",
     "text": [
      "True\n",
      "False\n",
      "True\n",
      "True\n"
     ]
    }
   ],
   "source": [
    "def is_perfect(n):\n",
    "    return sum(divisors(n)[:-1]) == n\n",
    "print(is_perfect(6))\n",
    "print(is_perfect(18))\n",
    "print(is_perfect(28))\n",
    "print(is_perfect(8128))"
   ]
  },
  {
   "cell_type": "markdown",
   "id": "33e6dc08",
   "metadata": {},
   "source": [
    "The comphrension, map, filter, accumulate can be similarily applied to all iterables including `tuple`, `set`, `dict` and `list`."
   ]
  },
  {
   "cell_type": "code",
   "execution_count": 39,
   "id": "2a4578ae",
   "metadata": {},
   "outputs": [
    {
     "name": "stdout",
     "output_type": "stream",
     "text": [
      "(0, 1, 2, 3, 4, 5, 6, 7, 8, 9)\n",
      "(0, 2, 4, 6, 8, 10, 12, 14, 16, 18)\n",
      "(0, 2, 4, 6, 8, 10, 12, 14, 16, 18)\n"
     ]
    }
   ],
   "source": [
    "t = tuple(i for i in range(10))\n",
    "print(t)\n",
    "print(tuple(map(lambda x: x*2, t)))\n",
    "print(tuple(i*2 for i in t))"
   ]
  },
  {
   "cell_type": "code",
   "execution_count": 40,
   "id": "52a4ad56",
   "metadata": {},
   "outputs": [
    {
     "data": {
      "text/plain": [
       "{'Khan Max': 46, 'Alan Max': 90, 'Alan Callie': 19, 'Mei Max': 26}"
      ]
     },
     "execution_count": 40,
     "metadata": {},
     "output_type": "execute_result"
    }
   ],
   "source": [
    "from random import choice, randint\n",
    "npc_first_names = [\"Alan\", \"Khan\", \"Mei\"]\n",
    "npc_second_names = [\"Leo\", \"Callie\", \"Max\"] \n",
    "random_name = lambda: choice(npc_first_names) + \" \" + choice(npc_second_names)\n",
    "# random npc with random level\n",
    "random_npc = {random_name(): randint(1,100) for _ in range(6)}\n",
    "random_npc"
   ]
  },
  {
   "cell_type": "markdown",
   "id": "3294de41",
   "metadata": {},
   "source": [
    "## Example: Pythagorean triples\n",
    "Given any positive integer $n$, list all Pythagorean triples $a^2 + b^2 = c^2$ for $c < n$\n",
    "1. Enumerate triple $(i,j,k)$ such that $i + j \\leq k$ and $i \\leq j$ (why?)\n",
    "2. Filter $(i,j,k)$ if it is Pythagorean triples"
   ]
  },
  {
   "cell_type": "code",
   "execution_count": 41,
   "id": "6fdef74b",
   "metadata": {},
   "outputs": [
    {
     "data": {
      "text/plain": [
       "[(1, 2, 3), (1, 2, 4), (1, 3, 4), (2, 3, 4)]"
      ]
     },
     "execution_count": 41,
     "metadata": {},
     "output_type": "execute_result"
    }
   ],
   "source": [
    "n = 4\n",
    "triples = [(x,y,z) for z in range(1, n+1) for y in range(1, z) for x in range(1, y)]\n",
    "triples"
   ]
  },
  {
   "cell_type": "code",
   "execution_count": 42,
   "id": "90d3836f",
   "metadata": {},
   "outputs": [
    {
     "data": {
      "text/plain": [
       "[(3, 4, 5),\n",
       " (6, 8, 10),\n",
       " (5, 12, 13),\n",
       " (9, 12, 15),\n",
       " (8, 15, 17),\n",
       " (12, 16, 20),\n",
       " (15, 20, 25),\n",
       " (7, 24, 25)]"
      ]
     },
     "execution_count": 42,
     "metadata": {},
     "output_type": "execute_result"
    }
   ],
   "source": [
    "def enumerate_triples(n):\n",
    "    return [(x,y,z) for z in range(1, n+1) for y in range(1, z) for x in range(1, y)]\n",
    "is_pytha_triple = lambda x,y,z : x*x + y*y == z*z\n",
    "n = 25\n",
    "pytha_triples = [triple for triple in enumerate_triples(n) if is_pytha_triple(*triple)]\n",
    "pytha_triples"
   ]
  },
  {
   "cell_type": "markdown",
   "id": "4970738e",
   "metadata": {},
   "source": [
    "The name of framework \"MapReduce\" might refer to the map function and reduce function in functional programming language."
   ]
  },
  {
   "cell_type": "markdown",
   "id": "1bc6d5e0",
   "metadata": {},
   "source": [
    "# Example: Sieve of Eratosthenes\n",
    "\n",
    "Reference: [`range`](https://www.w3schools.com/python/ref_func_range.asp)\n",
    "\n",
    "Consider the primality test, previously we have devised a $O(\\sqrt{n})$ algorithm that test if a number is prime. How can we do better than? It turns out that the ancient algorithm: [Sieve of Eratosthenes](https://en.wikipedia.org/wiki/Sieve_of_Eratosthenes) (read this link) is more efficient but it consumes memory. It trades memory for saving computation.\n",
    "\n",
    "Notice that `is_prime(n)` mostly take positive integers, then we might establish the following correspondence:\n",
    "```\n",
    "def is_prime(n):\n",
    "    return answer[n]\n",
    "```\n",
    "What remains is to fill out the list `answer`. We expect that:\n",
    "```\n",
    "answer[0] = False   # is_prime(0) == answer(0)\n",
    "answer[1] = False\n",
    "answer[2] = True    # is_prime(2) == answer(2)\n",
    "answer[3] = True\n",
    "...\n",
    "```"
   ]
  },
  {
   "cell_type": "code",
   "execution_count": 43,
   "id": "4f2414c6",
   "metadata": {},
   "outputs": [
    {
     "name": "stdout",
     "output_type": "stream",
     "text": [
      "0 False\n",
      "1 False\n",
      "2 True\n",
      "3 True\n",
      "4 False\n",
      "5 True\n",
      "6 False\n",
      "7 True\n"
     ]
    }
   ],
   "source": [
    "def sieve(n):\n",
    "    li = [True for _ in range(n)]\n",
    "    li[0] = False\n",
    "    li[1] = False\n",
    "    for i in range(2, n):\n",
    "        if li[i] == True:\n",
    "            for j in range(i*i, n, i):\n",
    "                li[j] = False\n",
    "    return li\n",
    "\n",
    "answer = sieve(1000)\n",
    "def is_prime(n):\n",
    "    return answer[n]\n",
    "\n",
    "for i in range(8):\n",
    "    print(i, is_prime(i))"
   ]
  },
  {
   "cell_type": "markdown",
   "id": "5ee4a054",
   "metadata": {},
   "source": [
    "Process of \"remembering\" the answer of function is called **memomizing**. It is a common technique to speed up the recursive algorithm if applicable. In Chapter 1 Evaluation Model, we've talked about how lazy programming language is inefficient. If it is memomized, computing the same expression multiple times only reaccess the cahced result. Hence, memoization make lazy evaluation faster."
   ]
  },
  {
   "cell_type": "markdown",
   "id": "844c7840",
   "metadata": {},
   "source": [
    "The question is that how come the new algorithm is faster than previous algorithm in testing primality According to some source, given input $n$, the new one has a time complexity of $O(n \\log {n})$ and  $ O(n) $ memory, the old one is $O(\\sqrt{n})$ and $ O(1) $. Since $n \\log{n}$ eventually outgrowth $\\sqrt{n}$, the old one is better but the choices of programs are often about trade-offs.\n",
    "\n",
    "Consider the problem listing the primes before $n$\n",
    "\n",
    "Using $O(\\sqrt{n})$ version, for each $ i $ before $ n $, the program have to peform at worst $O(\\sqrt{i})$. Thus, it is asymptotically near to $O(n\\sqrt{n})$.\n",
    "\n",
    "Using the sieve version, it is $O(n \\log {n})$. Indeed, the growth rate $O(n \\log {n})$ is smaller than $O(n\\sqrt{n})$ given big value $ n$ at the cost of $O(n)$ memory."
   ]
  },
  {
   "cell_type": "markdown",
   "id": "5017f9cc",
   "metadata": {},
   "source": [
    "## Exercise"
   ]
  },
  {
   "cell_type": "code",
   "execution_count": 44,
   "id": "a27a64b2",
   "metadata": {},
   "outputs": [],
   "source": [
    "'''\n",
    "partition(n,d) is the number of way sum up to n using positive integers no bigger than d.\n",
    "'''\n",
    "def partition(n, d):\n",
    "    if n == 0:\n",
    "        return 1\n",
    "    elif n < 0 or d <= 0:\n",
    "        return 0\n",
    "    else:\n",
    "        return partition(n, d - 1) + partition(n - d, d)"
   ]
  },
  {
   "cell_type": "code",
   "execution_count": 45,
   "id": "9e13b7b1",
   "metadata": {},
   "outputs": [
    {
     "data": {
      "text/plain": [
       "4087968"
      ]
     },
     "execution_count": 45,
     "metadata": {},
     "output_type": "execute_result"
    }
   ],
   "source": [
    "partition(70,70) # it becomes slower as n get bigger; it will just stuck forever if partition(200,200)"
   ]
  },
  {
   "cell_type": "code",
   "execution_count": 46,
   "id": "398a1d1c",
   "metadata": {},
   "outputs": [],
   "source": [
    "def memomise_partition(n):\n",
    "    # recur(n,d) hence memo[][]\n",
    "    memo = [[0 for _ in range(n)] for _ in range(n)]\n",
    "    for d in range(n):\n",
    "        memo[0][d] = 1\n",
    "    for d in range(n):\n",
    "        memo[d][1] = 1\n",
    "    for d in range(1, n):\n",
    "        for x in range(1, n):\n",
    "            memo[x][d] = memo[x-d][d] + memo[x][d-1]\n",
    "    return memo\n",
    "\n",
    "memo = memomise_partition(201)\n",
    "\n",
    "def faster_partition(n, d):\n",
    "    return memo[n][d]"
   ]
  },
  {
   "cell_type": "code",
   "execution_count": 47,
   "id": "56b319b7",
   "metadata": {},
   "outputs": [],
   "source": [
    "assert(faster_partition(10,10) == partition(10, 10))\n",
    "assert(faster_partition(7,5) == partition(7, 5))\n",
    "assert(faster_partition(5,3) == partition(5, 3))"
   ]
  },
  {
   "cell_type": "code",
   "execution_count": 48,
   "id": "6a3620dc",
   "metadata": {},
   "outputs": [
    {
     "data": {
      "text/plain": [
       "3972999029388"
      ]
     },
     "execution_count": 48,
     "metadata": {},
     "output_type": "execute_result"
    }
   ],
   "source": [
    "faster_partition(200,200)"
   ]
  },
  {
   "cell_type": "markdown",
   "id": "f188a007",
   "metadata": {},
   "source": [
    "1. (Difficult) Code above present how to memomize the partition, by refering to it, you may try to memomize the `product_num`"
   ]
  },
  {
   "cell_type": "code",
   "execution_count": 49,
   "id": "ae94e6d3",
   "metadata": {},
   "outputs": [],
   "source": [
    "def product_num(n):\n",
    "    pass"
   ]
  },
  {
   "cell_type": "markdown",
   "id": "249900d0",
   "metadata": {},
   "source": [
    "# Example: Coin Change Revisited\n",
    "\n",
    "Reference:\n",
    "1. [`slice`](https://www.geeksforgeeks.org/python-list-slicing/)\n",
    "\n",
    "In Chapter 2 Recusion, we can represent the group of coin type using `list` or `tuple`"
   ]
  },
  {
   "cell_type": "code",
   "execution_count": 50,
   "id": "3647809a",
   "metadata": {},
   "outputs": [],
   "source": [
    "MY_COINS = (5,10,20,50)\n",
    "EU_CURRENCY = [1,2,5,10,20,50,100,200]"
   ]
  },
  {
   "cell_type": "code",
   "execution_count": 51,
   "id": "09197091",
   "metadata": {},
   "outputs": [
    {
     "data": {
      "text/plain": [
       "49"
      ]
     },
     "execution_count": 51,
     "metadata": {},
     "output_type": "execute_result"
    }
   ],
   "source": [
    "def count_change(amount, coins):\n",
    "    if amount == 0:\n",
    "        return 1\n",
    "    elif amount < 0:\n",
    "        return 0\n",
    "    elif coins == []:\n",
    "        return 0\n",
    "    else:\n",
    "        return count_change(amount, coins[1:]) + count_change(amount - coins[0], coins)\n",
    "count_change(100, MY_COINS)"
   ]
  },
  {
   "cell_type": "code",
   "execution_count": 52,
   "id": "bfb905b6",
   "metadata": {
    "scrolled": true
   },
   "outputs": [
    {
     "data": {
      "text/plain": [
       "73682"
      ]
     },
     "execution_count": 52,
     "metadata": {},
     "output_type": "execute_result"
    }
   ],
   "source": [
    "count_change(200, EU_CURRENCY) # it takes some time to calculate"
   ]
  },
  {
   "cell_type": "markdown",
   "id": "2769e237",
   "metadata": {},
   "source": [
    "## Exercise"
   ]
  },
  {
   "cell_type": "code",
   "execution_count": 53,
   "id": "2b83e545",
   "metadata": {},
   "outputs": [
    {
     "name": "stdout",
     "output_type": "stream",
     "text": [
      "[0, 1, 2] [3, 4, 5] [3, 2, 1]\n",
      "[0, 1, 2, 3, 4, 5]\n",
      "[[0, 1, 2], [3, 4, 5], [3, 2, 1]]\n"
     ]
    }
   ],
   "source": [
    "# concatenation\n",
    "a = list(range(3))\n",
    "b = list(range(3,6))\n",
    "c = list(range(3,0,-1))\n",
    "print(a, b, c)\n",
    "print(a + b)\n",
    "print([a] + [b] + [c])"
   ]
  },
  {
   "cell_type": "code",
   "execution_count": 54,
   "id": "240cd03e",
   "metadata": {
    "scrolled": true
   },
   "outputs": [
    {
     "data": {
      "text/plain": [
       "[[1, 1, 1, 1, 1], [2, 1, 1, 1], [2, 2, 1], [3, 1, 1], [3, 2], [4, 1], [5]]"
      ]
     },
     "execution_count": 54,
     "metadata": {},
     "output_type": "execute_result"
    }
   ],
   "source": [
    "def sum_partition(n):\n",
    "    def recur(n, d, accumulated):\n",
    "        if n == 0:\n",
    "            return [accumulated]\n",
    "        elif n < 0 or d <= 0:\n",
    "            return []\n",
    "        else:\n",
    "            return recur(n, d - 1, accumulated) + recur(n - d, d, accumulated + [d])\n",
    "    return recur(n, n, [])\n",
    "sum_partition(5)"
   ]
  },
  {
   "cell_type": "markdown",
   "id": "ffa9ba88",
   "metadata": {},
   "source": [
    "1. The code above return list of group of integers that sum up to `n`. Develop a similar code for `product_partition`."
   ]
  },
  {
   "cell_type": "code",
   "execution_count": 55,
   "id": "a4e34876",
   "metadata": {},
   "outputs": [],
   "source": [
    "def product_partition(n):\n",
    "    pass"
   ]
  }
 ],
 "metadata": {
  "kernelspec": {
   "display_name": "Python 3.10.2 64-bit",
   "language": "python",
   "name": "python3"
  },
  "language_info": {
   "codemirror_mode": {
    "name": "ipython",
    "version": 3
   },
   "file_extension": ".py",
   "mimetype": "text/x-python",
   "name": "python",
   "nbconvert_exporter": "python",
   "pygments_lexer": "ipython3",
   "version": "3.10.2"
  },
  "vscode": {
   "interpreter": {
    "hash": "2324a66782fee6ab9f0bdb3c9e79ee636ed86487484f245c4444858429ce7730"
   }
  }
 },
 "nbformat": 4,
 "nbformat_minor": 5
}
