{
 "cells": [
  {
   "cell_type": "markdown",
   "metadata": {},
   "source": [
    "# Representation of Data"
   ]
  },
  {
   "cell_type": "code",
   "execution_count": 1,
   "metadata": {},
   "outputs": [
    {
     "data": {
      "text/plain": [
       "False"
      ]
     },
     "execution_count": 1,
     "metadata": {},
     "output_type": "execute_result"
    }
   ],
   "source": [
    "0.1 + 0.2 == 0.3"
   ]
  },
  {
   "attachments": {},
   "cell_type": "markdown",
   "metadata": {},
   "source": [
    "Mathematically, it is too resonable to expect `0.1 + 0.2 == 0.3` should return `True` but it does not work as expected on computer. This is due to the computer represent real number using floating point number rather than fixed point number. This is not a flaw of certain programming language but an enduring flaw across many computer.\n",
    "\n",
    "Different programs offer different trade-offs so is the choice of data representation. \n",
    "\n",
    "Floating point is a trade off of space efficiency, speed over accuracy. To an expert programmer, he able to visualize how the programs behave, what are the trade off implied by the programs."
   ]
  },
  {
   "cell_type": "markdown",
   "metadata": {},
   "source": [
    "# Coercion\n",
    "It is possible for a interpreter smart enough to correctly evaluate `5 + ' is a prime number'`. It is known as coercion but implicit. `str(5)` is a explicit conversion from int to string. Implicit coercion can confuse programmers. Hence some languages limit such coercion. Here is an example from Javascript that it is not clear at first sight why it evaluated as `'banana'`:\n",
    "\n",
    "```\n",
    "// you press the key f12 on Google Broswer\n",
    "// it will pop out another window, \n",
    "// click the console tab, it is the REPL of Javascript\n",
    "('b' + 'a' + + 'a' + 'a').toLowerCase() // 'banana'\n",
    "```"
   ]
  },
  {
   "cell_type": "markdown",
   "metadata": {},
   "source": [
    "## Truthy Value\n",
    "It is not always intuitive how the codes involving mix-types below should behave in Python"
   ]
  },
  {
   "cell_type": "code",
   "execution_count": null,
   "metadata": {},
   "outputs": [],
   "source": [
    "print('String' and False)\n",
    "print(6 and 'String')\n",
    "print(True  + 1)"
   ]
  },
  {
   "cell_type": "code",
   "execution_count": null,
   "metadata": {},
   "outputs": [],
   "source": [
    "False + 'True'"
   ]
  },
  {
   "cell_type": "markdown",
   "metadata": {},
   "source": [
    "Tips: It is totally okay to avoid use these behaviours unless you and others are comfortable with it. These behaviours are convenience for expert but not for beginner. If in doubt, search online or read the Python official documentation and try various expressions using the REPL."
   ]
  },
  {
   "cell_type": "markdown",
   "metadata": {},
   "source": [
    "## Additional Reading: When Data Type is important?\n",
    "\n",
    "[Ariane 5 Rocket Failure](https://www-users.cse.umn.edu/~arnold/disasters/ariane.html)\n",
    "\n",
    "[Fast Inverse Square Root — A Quake III Algorithm](https://youtu.be/p8u_k2LIZyo)\n",
    "\n",
    "The first one is a failure due to misuse of data type. And this mistake costs a lot. This showns lack of understanding of floating number can lead to a costly mistake.\n",
    "\n",
    "The second one is an interesting but good use of floating point. \n",
    "It should be noted that the time of the algorithm is the time when\n",
    "computing resource is very sacred and expensive.\n",
    "There is a built-in `sqrt` in modern cpu but it is not fast enough.\n",
    "The fast algorithm is a trade off of speed over accuracy.\n",
    "\n",
    "The necessity of understanding data depends\n",
    "what you want work with. Remember, **every program offer different trade-offs**.\n",
    "Some prefer the programming language automatically pick the best suitable data type\n",
    "so that it is easier.\n",
    "Some might prefer finer control by using different size of data type such as `int`, `float`, `double` and `unsigned`.\n",
    "\n",
    "From the case `0.1 + 0.2 != 0.3`, \n",
    "readers can infer that bank system cannot use `float` data type to represent money balance.\n",
    "Bank system uses fixed point number to represent money."
   ]
  }
 ],
 "metadata": {
  "kernelspec": {
   "display_name": "Python 3.10.2 64-bit",
   "language": "python",
   "name": "python3"
  },
  "language_info": {
   "codemirror_mode": {
    "name": "ipython",
    "version": 3
   },
   "file_extension": ".py",
   "mimetype": "text/x-python",
   "name": "python",
   "nbconvert_exporter": "python",
   "pygments_lexer": "ipython3",
   "version": "3.10.2"
  },
  "orig_nbformat": 4,
  "vscode": {
   "interpreter": {
    "hash": "2324a66782fee6ab9f0bdb3c9e79ee636ed86487484f245c4444858429ce7730"
   }
  }
 },
 "nbformat": 4,
 "nbformat_minor": 2
}
