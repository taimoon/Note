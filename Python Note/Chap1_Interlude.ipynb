{
 "cells": [
  {
   "cell_type": "markdown",
   "metadata": {},
   "source": [
    "# Data Type"
   ]
  },
  {
   "cell_type": "markdown",
   "metadata": {},
   "source": [
    "# Coercion\n",
    "It is possible for a interpreter smart enough to correctly evaluate `5 + ' is a prime number'`. It is known as coercion but implicit. `str(5)` is a explicit conversion from int to string. Implicit coercion can confuse programmers. Hence some languages limit such coercion. Here is an example from Javascript that it is not clear at first sight why it evaluated as `'banana'`:\n",
    "\n",
    "```\n",
    "// you press the key f12 on Google Broswer\n",
    "// it will pop out another window, \n",
    "// click the console tab, it is the REPL of Javascript\n",
    "('b' + 'a' + + 'a' + 'a').toLowerCase() // 'banana'\n",
    "```"
   ]
  },
  {
   "cell_type": "markdown",
   "metadata": {},
   "source": [
    "## Truthy Value\n",
    "It is not always intuitive how the codes involving mix-types below should behave in Python"
   ]
  },
  {
   "cell_type": "code",
   "execution_count": null,
   "metadata": {},
   "outputs": [],
   "source": [
    "print('String' and False)\n",
    "print(6 and 'String')\n",
    "print(True  + 1)"
   ]
  },
  {
   "cell_type": "code",
   "execution_count": null,
   "metadata": {},
   "outputs": [],
   "source": [
    "False + 'True'"
   ]
  },
  {
   "cell_type": "markdown",
   "metadata": {},
   "source": [
    "Tips: It is totally okay to avoid use these behaviours unless you and others are comfortable with it. These behaviours are convenience for expert but not for beginner. If in doubt, search online or read the Python official documentation and try various expressions using the REPL."
   ]
  },
  {
   "cell_type": "markdown",
   "metadata": {},
   "source": [
    "## Additional Reading: When Data Type is important?\n",
    "\n",
    "[Ariane 5 Rocket Failure](https://www-users.cse.umn.edu/~arnold/disasters/ariane.html)\n",
    "\n",
    "[Fast Inverse Square Root — A Quake III Algorithm](https://youtu.be/p8u_k2LIZyo)\n",
    "\n",
    "The first one is a failure due to misuse of data type. And this mistake costs a lot. This showns lack of understanding of data type can lead to a costly mistake.\n",
    "\n",
    "The second one is an interesting but good use of data type. \n",
    "It should be noted that the time of the algorithm is the time of where\n",
    "computing resource is very sacred and expensive.\n",
    "There is a built-in `sqrt` in modern cpu but it is not fast enough.\n",
    "The fast algorithm is a trade off of speed over accuracy.\n",
    "\n",
    "The necessity of understanding data type depends\n",
    "what you want work with. Remember, **every program offer different trade-offs**.\n",
    "Some prefer the programming language automatically pick the best suitable data type\n",
    "so that it is easier.\n",
    "Some might prefer finer control by using different size of data type such as `int`, `float`, `double` and `unsigned`.\n",
    "\n",
    "From the case `0.1 + 0.2 != 0.3`, \n",
    "readers can infer that bank system cannot use `float` data type to represent money balance.\n",
    "Bank system uses fixed point number to represent money."
   ]
  },
  {
   "cell_type": "markdown",
   "metadata": {},
   "source": [
    "## Additional Reading: Alternative of function evaluation\n",
    "\n",
    " \n",
    "For languages like `Python`, `Lisp` and `Javascript`, they awards the `function` as first-class citizen where `function` can be a value assigned to variable like numbers. \n",
    "What if these `function` do also follow the scoping as previously describe?\n",
    "Some languages take this ideas further into something called **lexical scoping**. \n",
    "Lexical scoping have many interesting and useful consequences that make the lnaguages more expressive and powerful. It is a powerful concept.\n",
    "Some languages like `R` follow **dynamic scoping**.\n",
    "\n",
    "However, `Python` natively does not follow full lexical scoping, but follow its own custom rules, and allow simulatation of lexical scoping through `nonlocal` keyword.\n",
    "\n",
    "On a fundamental level, Euclidean geometry assume that surface is flat whereas Non-Euclidean geometry assume that surface can be curved. Different axioms lead to different results. For example, triangle on flat surface is always equal to 180 degree or two right angles but on curved surface, it can be less or more than 2 right angles.\n",
    "\n",
    "This same applies in Computer Science. \n",
    "For example in Chapter 1, we see that different evaluation strategies lead to different program behaviour so are the scoping rules. To experiment these or even control these, you can design a toy programming langauge and play with it to see consequences. \n",
    "\n",
    "By the way, Non-Euclidean geometry is also a model allow Albert Einstein explain his general relativity theory. [reference](https://www.encyclopedia.com/science/encyclopedias-almanacs-transcripts-and-maps/shape-space-beginning-non-euclidean-geometry#:~:text=This%20geometrical%20system%20has%20since,of%20the%20curvature%20of%20spacetime.)\n",
    "\n",
    "Different program offer different trade-offs and behaviours. \n",
    "If you wish to experiment different scoping and understand better about programming languages, then you can design one programming language yourself.\n",
    "\n",
    "Beside these, some expect that `function` should behave much like as a excerpt of bigger program such that it affects other part program. Because it would be convenient and easy. These functions are said to be having **side-effects**. \n",
    "The program below is such an example. \n",
    "However, side-effects made the program harder reason about its correctness and behaviors; usually harder to debug. \n",
    "\n",
    "This is because to mentally simulate these side-effect program,  you have to remember the states of the program at different order of execution.\n",
    "It just burden your mental having remembering these. \n",
    "This time dependence made the program  harder to be executed in parallel as it requires some sort of synchronization.\n",
    "\n",
    "The functions without side-effects but returning value are called **pure**. In short, pure functions without side effect can trivally executed at parallel (the more, the faster).\n",
    "\n",
    "We will discuss this issues further in the chapter regarding Object."
   ]
  },
  {
   "cell_type": "code",
   "execution_count": null,
   "metadata": {},
   "outputs": [],
   "source": [
    "li = [1,2,3]\n",
    "def append_rand(xs):\n",
    "    from random import randint\n",
    "    xs.append(randint(0,10))\n",
    "append_rand(li)\n",
    "append_rand(li)\n",
    "print(li)"
   ]
  }
 ],
 "metadata": {
  "kernelspec": {
   "display_name": "Python 3.10.2 64-bit",
   "language": "python",
   "name": "python3"
  },
  "language_info": {
   "name": "python",
   "version": "3.10.2"
  },
  "orig_nbformat": 4,
  "vscode": {
   "interpreter": {
    "hash": "2324a66782fee6ab9f0bdb3c9e79ee636ed86487484f245c4444858429ce7730"
   }
  }
 },
 "nbformat": 4,
 "nbformat_minor": 2
}
