{
 "cells": [
  {
   "cell_type": "markdown",
   "metadata": {},
   "source": [
    "# Data Structure and Interpreter of Relational Algebra"
   ]
  },
  {
   "cell_type": "markdown",
   "metadata": {},
   "source": [
    "Motivation (Anecdote). One day, I read the chapter 4 of the database textbook on relational algebra and it has a section giving examples of queries using relational algebra. However, I'm very careless in calculating the algebra in calculating the queries that I formulated. Since it's algebra, instead of calculating these by hand, why not implement this as an interpreter? where I only type the query and the interpreter return the result. \n",
    "\n",
    "The interpreter is indeed, resemblance to SQL engine.  To implement this interpreter, it requires data structure to represent table and provide some primitive operators. This notebook provides the naive implementation of these.\n",
    "\n",
    "By implementing the toy SQL interpreter, we can see that how's `equijoin` (i.e.: inner join) is implemented in terms of primitive operators (`product`,`where`). One notable feature of the implementation is that it uses the previous interpreter `Lproc`. For instance, `Lroc` expressiones are used in `conditional_join` to evaluate to boolean value in `where` clauses. Readers can use the same idea to extend the interpreter such that it returns the value of expression in table. For example, the equivalent construct in sql is `select col_1+col_2 as col_3`.\n",
    "\n",
    "References:\n",
    "1. https://www.composingprograms.com/pages/43-declarative-programming.html\n",
    "2. Database Management Systems 2ed. - Raghu & Gehrke"
   ]
  },
  {
   "cell_type": "code",
   "execution_count": 1,
   "metadata": {},
   "outputs": [],
   "source": [
    "from Lproc import *\n",
    "def extend_env_vars(vars,vals,env):\n",
    "    match [vars,vals]:\n",
    "        case [(),()]:\n",
    "            return env\n",
    "        case [(x,*xs),(v,*vs)]:\n",
    "            return extend_env(x,v,extend_env_vars(xs,vs,env))"
   ]
  },
  {
   "cell_type": "code",
   "execution_count": 2,
   "metadata": {},
   "outputs": [],
   "source": [
    "from dataclasses import dataclass\n",
    "\n",
    "@dataclass\n",
    "class Table:\n",
    "    schema:tuple[str]\n",
    "    rows:tuple[tuple]\n",
    "    def __post_init__(self):\n",
    "        self.schema_ref = {s:i for i,s in enumerate(self.schema)}\n",
    "    \n",
    "    def __str__(self):\n",
    "        return (f'{\"|\".join(self.schema)}\\n' \n",
    "                + \"|\".join(\"-\" for _ in self.schema) + \"\\n\"\n",
    "                + \"\\n\".join(\"|\".join([str(i) for i in r]) for r in self.rows))\n",
    "    \n",
    "    def display(self):\n",
    "        from IPython.display import Markdown,display\n",
    "        display(Markdown(str(self)))\n",
    "    \n",
    "    def project(self,cols:list[str]):\n",
    "        idx = tuple(self.schema_ref[c] for c in cols)\n",
    "        return Table(cols,tuple(tuple(r[i] for i in idx) for r in self.rows))\n",
    "    \n",
    "    def exclude(self,cols: list[str]):\n",
    "        return self.project(tuple(c for c in self.schema if c not in set(cols)))\n",
    "    \n",
    "    def apply_row(self,exp:Exp,r:tuple):\n",
    "        env = extend_env_vars(self.schema,r,create_env())\n",
    "        return interp(expand(exp),env)\n",
    "    \n",
    "    def where(self,exp:Exp):\n",
    "        rows = tuple(r for r in self.rows if self.apply_row(exp,r) is True)\n",
    "        return Table(self.schema,rows)\n",
    "    \n",
    "    def rename(self,mapper:dict[str,str]):\n",
    "        return Table(tuple(mapper.get(c,c) for c in self.schema),self.rows)\n",
    "    \n",
    "    def union(self, t2):\n",
    "        assert(self.schema == t2.schema)\n",
    "        return Table(self.schema,self.rows + t2.rows)\n",
    "\n",
    "    def intersection(self, t2):\n",
    "        assert(self.schema == t2.schema)\n",
    "        return Table(self.schema,tuple(set.intersection(set(self.rows),set(t2.rows))))\n",
    "        \n",
    "    def difference(self, t2):\n",
    "        assert(self.schema == t2.schema)\n",
    "        return Table(self.schema,tuple(set.difference(set(self.rows),set(t2.rows))))\n",
    "\n",
    "    def product(self, t2):\n",
    "        \"doesn't renaming\"\n",
    "        from itertools import product\n",
    "        return Table(self.schema + t2.schema, tuple(l+r for l,r in product(self.rows,t2.rows)))\n",
    "\n",
    "    def conditional_join(self,t2,exp:Exp):\n",
    "        return self.product(t2).where(exp)\n",
    "    \n",
    "    def equijoin(self,t2,keys:list[str]):\n",
    "        def join_cond(keys:list[str]):\n",
    "            match keys:\n",
    "                case []:\n",
    "                    return True\n",
    "                case [k,*ks]:\n",
    "                    return And(Eq(Var(k),Var(f'r.{k}')),join_cond(ks))\n",
    "        \n",
    "        renames = {k:f'r.{k}' for k in keys}\n",
    "        return self.conditional_join(t2.rename(renames),\n",
    "                                     join_cond(keys)).exclude(list(renames.values()))\n",
    "    \n",
    "    def natural_join(self,t2):\n",
    "        return self.equijoin(t2,list(set.intersection(set(self.schema),t2.schema)))"
   ]
  },
  {
   "cell_type": "markdown",
   "metadata": {},
   "source": [
    "# Create Table Instances"
   ]
  },
  {
   "cell_type": "code",
   "execution_count": 3,
   "metadata": {},
   "outputs": [
    {
     "data": {
      "text/markdown": [
       "sailor_id|name|rating|age\n",
       "-|-|-|-\n",
       "22|Dustin|7|45\n",
       "31|Lubber|8|55\n",
       "58|Rusty|10|35"
      ],
      "text/plain": [
       "<IPython.core.display.Markdown object>"
      ]
     },
     "metadata": {},
     "output_type": "display_data"
    },
    {
     "data": {
      "text/markdown": [
       "sailor_id|name|rating|age\n",
       "-|-|-|-\n",
       "28|yuppy|9|35\n",
       "31|Lubber|8|55\n",
       "44|guppy|5|35\n",
       "58|Rusty|10|35"
      ],
      "text/plain": [
       "<IPython.core.display.Markdown object>"
      ]
     },
     "metadata": {},
     "output_type": "display_data"
    },
    {
     "data": {
      "text/markdown": [
       "sailor_id|boat_id|day\n",
       "-|-|-\n",
       "22|101|10/10/96\n",
       "58|103|11/12/96"
      ],
      "text/plain": [
       "<IPython.core.display.Markdown object>"
      ]
     },
     "metadata": {},
     "output_type": "display_data"
    }
   ],
   "source": [
    "s1 = Table(('sailor_id','name','rating','age'),\n",
    "      ((22,'Dustin',7,45),\n",
    "       (31,'Lubber',8,55),\n",
    "       (58,'Rusty',10,35),))\n",
    "s2 = Table(('sailor_id','name','rating','age'),(\n",
    "    (28,'yuppy',9,35),\n",
    "    (31,'Lubber',8,55),\n",
    "    (44,'guppy',5,35),\n",
    "    (58,'Rusty',10,35),\n",
    "))\n",
    "r1 = Table(('sailor_id','boat_id','day'),\n",
    "           ((22,101,'10/10/96'),\n",
    "            (58,103,'11/12/96')))\n",
    "s1.display()\n",
    "s2.display()\n",
    "r1.display()"
   ]
  },
  {
   "cell_type": "markdown",
   "metadata": {},
   "source": [
    "# Test out the operations"
   ]
  },
  {
   "cell_type": "code",
   "execution_count": 4,
   "metadata": {},
   "outputs": [
    {
     "data": {
      "text/markdown": [
       "name|rating\n",
       "-|-\n",
       "yuppy|9\n",
       "Lubber|8\n",
       "guppy|5\n",
       "Rusty|10"
      ],
      "text/plain": [
       "<IPython.core.display.Markdown object>"
      ]
     },
     "metadata": {},
     "output_type": "display_data"
    },
    {
     "data": {
      "text/markdown": [
       "sailor_id|name|rating|age\n",
       "-|-|-|-\n",
       "28|yuppy|9|35\n",
       "31|Lubber|8|55\n",
       "58|Rusty|10|35"
      ],
      "text/plain": [
       "<IPython.core.display.Markdown object>"
      ]
     },
     "metadata": {},
     "output_type": "display_data"
    },
    {
     "data": {
      "text/markdown": [
       "name|rating\n",
       "-|-\n",
       "yuppy|9\n",
       "Lubber|8\n",
       "Rusty|10"
      ],
      "text/plain": [
       "<IPython.core.display.Markdown object>"
      ]
     },
     "metadata": {},
     "output_type": "display_data"
    },
    {
     "data": {
      "text/markdown": [
       "sailor_id|name|rating|age\n",
       "-|-|-|-\n",
       "22|Dustin|7|45\n",
       "31|Lubber|8|55\n",
       "58|Rusty|10|35\n",
       "28|yuppy|9|35\n",
       "31|Lubber|8|55\n",
       "44|guppy|5|35\n",
       "58|Rusty|10|35"
      ],
      "text/plain": [
       "<IPython.core.display.Markdown object>"
      ]
     },
     "metadata": {},
     "output_type": "display_data"
    },
    {
     "data": {
      "text/markdown": [
       "sailor_id|name|rating|age\n",
       "-|-|-|-\n",
       "31|Lubber|8|55\n",
       "58|Rusty|10|35"
      ],
      "text/plain": [
       "<IPython.core.display.Markdown object>"
      ]
     },
     "metadata": {},
     "output_type": "display_data"
    },
    {
     "data": {
      "text/markdown": [
       "sailor_id|name|rating|age\n",
       "-|-|-|-\n",
       "22|Dustin|7|45"
      ],
      "text/plain": [
       "<IPython.core.display.Markdown object>"
      ]
     },
     "metadata": {},
     "output_type": "display_data"
    },
    {
     "data": {
      "text/markdown": [
       "sailor_id|name|rating|age|tmp.sailor_id|tmp.name|tmp.rating|tmp.age\n",
       "-|-|-|-|-|-|-|-\n",
       "22|Dustin|7|45|28|yuppy|9|35\n",
       "22|Dustin|7|45|31|Lubber|8|55\n",
       "22|Dustin|7|45|44|guppy|5|35\n",
       "22|Dustin|7|45|58|Rusty|10|35\n",
       "31|Lubber|8|55|28|yuppy|9|35\n",
       "31|Lubber|8|55|31|Lubber|8|55\n",
       "31|Lubber|8|55|44|guppy|5|35\n",
       "31|Lubber|8|55|58|Rusty|10|35\n",
       "58|Rusty|10|35|28|yuppy|9|35\n",
       "58|Rusty|10|35|31|Lubber|8|55\n",
       "58|Rusty|10|35|44|guppy|5|35\n",
       "58|Rusty|10|35|58|Rusty|10|35"
      ],
      "text/plain": [
       "<IPython.core.display.Markdown object>"
      ]
     },
     "metadata": {},
     "output_type": "display_data"
    }
   ],
   "source": [
    "r = s2.project(['name','rating'])\n",
    "r.display()\n",
    "r = s2.where(Gt(Var('rating'),7))\n",
    "r.display()\n",
    "r = (s2\n",
    "     .where(Gt(Var('rating'),7))\n",
    "     .project(['name','rating']))\n",
    "r.display()\n",
    "r = s1.union(s2)\n",
    "r.display()\n",
    "r = s1.intersection(s2)\n",
    "r.display()\n",
    "r = s1.difference(s2)\n",
    "r.display()\n",
    "r = s1.product(s2.rename({c:'tmp.' + c for c in s2.schema}))\n",
    "r.display()"
   ]
  },
  {
   "cell_type": "code",
   "execution_count": 5,
   "metadata": {},
   "outputs": [
    {
     "data": {
      "text/markdown": [
       "sailor_id|name|rating|age|boat_id|day\n",
       "-|-|-|-|-|-\n",
       "22|Dustin|7|45|101|10/10/96\n",
       "58|Rusty|10|35|103|11/12/96"
      ],
      "text/plain": [
       "<IPython.core.display.Markdown object>"
      ]
     },
     "metadata": {},
     "output_type": "display_data"
    },
    {
     "data": {
      "text/markdown": [
       "sailor_id|name|rating|age|boat_id|day\n",
       "-|-|-|-|-|-\n",
       "22|Dustin|7|45|101|10/10/96\n",
       "58|Rusty|10|35|103|11/12/96"
      ],
      "text/plain": [
       "<IPython.core.display.Markdown object>"
      ]
     },
     "metadata": {},
     "output_type": "display_data"
    }
   ],
   "source": [
    "r = s1.equijoin(r1,['sailor_id'])\n",
    "r.display()\n",
    "r = s1.natural_join(r1)\n",
    "r.display()"
   ]
  }
 ],
 "metadata": {
  "kernelspec": {
   "display_name": "Python 3",
   "language": "python",
   "name": "python3"
  },
  "language_info": {
   "codemirror_mode": {
    "name": "ipython",
    "version": 3
   },
   "file_extension": ".py",
   "mimetype": "text/x-python",
   "name": "python",
   "nbconvert_exporter": "python",
   "pygments_lexer": "ipython3",
   "version": "3.10.11"
  }
 },
 "nbformat": 4,
 "nbformat_minor": 2
}
