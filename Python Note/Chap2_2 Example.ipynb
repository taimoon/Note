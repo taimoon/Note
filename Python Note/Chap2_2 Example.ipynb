{
 "cells": [
  {
   "cell_type": "markdown",
   "id": "05db62fe",
   "metadata": {},
   "source": [
    "# Half-interval method\n",
    "Half-interval method is a simple yet powerful way of computing the root of $ f(x) = 0 $\n",
    "\n",
    "The idea is that if we are given two points $a$ and $b$ such that $f(a) < 0 < f(b)$ is true, then there must exist at least one $x$ between $a$ and $b$ is a root of $f(x)$. Then, how to search such $x$. \n",
    "\n",
    "Here is the algorithm:\n",
    "1. let $x$ be average $a$ and $b$\n",
    "2. if $f(x) > 0$, then $f(a) < 0 < f(x)$ thus there exists root between $a$ and $x$. Then repeat step 1.\n",
    "3. if $f(x) < 0$, then $f(x) < 0 < f(b)$ thus there exists root between $x$ and $b$. Then repeat step 1.\n",
    "4. if $f(x) = 0$ or $|a-b| \\leq \\epsilon $, then halt the process\n",
    "\n",
    "Footnote: The idea is strikingly similar to binary search. "
   ]
  },
  {
   "cell_type": "code",
   "execution_count": 2,
   "id": "ba77a5fd",
   "metadata": {},
   "outputs": [],
   "source": [
    "def half_interval_method(f, a, b, h = 0.001):\n",
    "    if f(a) > 0 == f(b) > 0:\n",
    "        raise Exception(\"half_interval_method: values are not of opposite\")\n",
    "    if f(a) > 0 and f(b) < 0:\n",
    "        a, b = b, a # idiom: swapping values\n",
    "    is_closed_enough = lambda x,y : abs(x-y) < h\n",
    "    mid_point = lambda x,y : (x+y)/2\n",
    "    test_value = 0\n",
    "    while not is_closed_enough(a,b):\n",
    "        test_value = f(mid_point(a,b))\n",
    "        if test_value > 0:\n",
    "            b = mid_point(a,b)\n",
    "        elif test_value < 0:\n",
    "            a = mid_point(a,b)\n",
    "        else:\n",
    "            return mid_point(a,b)\n",
    "    return mid_point(a,b)"
   ]
  },
  {
   "cell_type": "markdown",
   "id": "a1368cdd",
   "metadata": {},
   "source": [
    "We can use the advantage of the function above to compute `sqrt` and `cubert`."
   ]
  },
  {
   "cell_type": "code",
   "execution_count": 3,
   "id": "65784a17",
   "metadata": {},
   "outputs": [
    {
     "data": {
      "text/plain": [
       "1.41455078125"
      ]
     },
     "execution_count": 3,
     "metadata": {},
     "output_type": "execute_result"
    }
   ],
   "source": [
    "# root y of y^2 - x = 0 is equivalent to y = sqrt(x)\n",
    "fn = lambda x: x*x - 2\n",
    "val = half_interval_method(fn, 0, 2)\n",
    "val"
   ]
  },
  {
   "cell_type": "code",
   "execution_count": 5,
   "id": "451e06b3",
   "metadata": {},
   "outputs": [
    {
     "data": {
      "text/plain": [
       "1.4142135623730951"
      ]
     },
     "execution_count": 5,
     "metadata": {},
     "output_type": "execute_result"
    }
   ],
   "source": [
    "from math import sqrt\n",
    "sqrt(2)"
   ]
  },
  {
   "cell_type": "code",
   "execution_count": 6,
   "id": "efd1cb1e",
   "metadata": {},
   "outputs": [],
   "source": [
    "# exercise: define the sqrt, cubert function using half_interval_method\n",
    "def sqrt(x):\n",
    "    pass\n",
    "\n",
    "def cubert(x):\n",
    "    pass"
   ]
  },
  {
   "cell_type": "code",
   "execution_count": 7,
   "id": "57806775",
   "metadata": {},
   "outputs": [],
   "source": [
    "# more exercises\n",
    "def n_root(n):\n",
    "    def fn(x):\n",
    "        pass\n",
    "    return fn\n",
    "\n",
    "def sqrt(x):\n",
    "    return n_root(2)(x)\n",
    "\n",
    "def cubert(x):\n",
    "    return n_root(3)(x)\n"
   ]
  },
  {
   "cell_type": "code",
   "execution_count": 16,
   "id": "e78116d4",
   "metadata": {},
   "outputs": [
    {
     "data": {
      "text/plain": [
       "3.481401903178309"
      ]
     },
     "execution_count": 16,
     "metadata": {},
     "output_type": "execute_result"
    }
   ],
   "source": [
    "#  program that find solution for x**x = 1000\n",
    "half_interval_method(lambda x: x**x - 1000, 1, 10)\n",
    "# code a function that find solution for x*x = y given y\n",
    "# you may use sqrt as upper bound\n",
    "def powerful_solution(y):\n",
    "    pass"
   ]
  }
 ],
 "metadata": {
  "kernelspec": {
   "display_name": "Python 3.10.2 64-bit",
   "language": "python",
   "name": "python3"
  },
  "language_info": {
   "codemirror_mode": {
    "name": "ipython",
    "version": 3
   },
   "file_extension": ".py",
   "mimetype": "text/x-python",
   "name": "python",
   "nbconvert_exporter": "python",
   "pygments_lexer": "ipython3",
   "version": "3.10.2"
  },
  "vscode": {
   "interpreter": {
    "hash": "2324a66782fee6ab9f0bdb3c9e79ee636ed86487484f245c4444858429ce7730"
   }
  }
 },
 "nbformat": 4,
 "nbformat_minor": 5
}
