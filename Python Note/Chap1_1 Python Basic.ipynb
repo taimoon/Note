{
 "cells": [
  {
   "attachments": {},
   "cell_type": "markdown",
   "id": "45869822",
   "metadata": {},
   "source": [
    "# Programming in General\n",
    "\n",
    "Every programming languages always abstract the computation through many means such as\n",
    "\n",
    "\n",
    "1. Machine Languages - machine operation code over computation operation of ALU\n",
    "2. Assembly - correspondence between mnemonics of instruction sets and machine operation code\n",
    "3. High Level Languages - Functions, Types, Variables, Flow Control, ...\n",
    "\n",
    "The essence here is that any programming language always provide some form of **abstractions** over some form.\n",
    "\n",
    "Every powerful programming language provide these common useful means of abstraction:\n",
    "1. Functions, Recursions\n",
    "2. Variables, Naming\n",
    "3. Repetition, Looping\n",
    "4. Conditional Branching\n",
    "5. Primitive Entities (primitive operators, primitive data structures, etc.)\n",
    "6. User-defined entities\n",
    "7. Comments, Documentations\n",
    "8. Modules, Libraries\n",
    "\n",
    "Above listing which we will use `Python` to review each concept."
   ]
  },
  {
   "attachments": {},
   "cell_type": "markdown",
   "id": "f76e3548",
   "metadata": {},
   "source": [
    "# Primitives\n",
    "## Using Python as Calculator\n",
    "We may use Python interactive session (REPL) as calculator. `float` and `int` are the primitive types available in `Python`.\n",
    "```\n",
    "Python 3.10.2 (tags/v3.10.2:a58ebcc, Jan 17 2022, 14:12:15) [MSC v.1929 64 bit (AMD64)] on win32\n",
    "Type \"help\", \"copyright\", \"credits\" or \"license\" for more information.\n",
    ">>> 3*3 + 4*4 # same as (3*3) + (4*4)\n",
    "25\n",
    ">>> 3*3 + 4*4 == 5*5\n",
    "True\n",
    ">>> -1*-2\n",
    "2\n",
    ">>> -1*-2 < 0\n",
    "False\n",
    ">>> 7/3\n",
    "2.3333333333333335\n",
    ">>> type(7/3)\n",
    "<class 'float'>\n",
    ">>> 5**2\n",
    "25\n",
    ">>> type(5**2)\n",
    "<class 'int'>\n",
    ">>> 2**0.5\n",
    "1.4142135623730951\n",
    ">>> 2**0.5 >= 1.4\n",
    "True\n",
    ">>> type(True)\n",
    "<class 'bool'>\n",
    ">>> 123%7\n",
    "4\n",
    ">>> 123//7\n",
    "17\n",
    ">>> 123 % 7 + 123 // 7 * 7\n",
    "123\n",
    "```"
   ]
  },
  {
   "attachments": {},
   "cell_type": "markdown",
   "id": "86fd030b",
   "metadata": {},
   "source": [
    "In `Python` interactive session, the `>>>` indicates the shell prompting user input. The shell will execute the input once type some text and pressing enter (i.e.: pressing enter is equivalent to entering newline). \n",
    "\n",
    "### operands, operator, expressions\n",
    "We can use `Python` as if it is like our calculator. For example, `+-*/` are addition, substraction, multiplication, and division. \n",
    "The symbols operate on values are called **operator**, whereas the values are called **operands**. \n",
    "Usually, individual line like `123 % 7 + 123 // 7 * 7` involving operators, and operands are called **expressions**.\n",
    "\n",
    "The operators also follow most of the conventional precedences like PEDMAS and BODMAS rules. Anyway, **if in doubt, just put parentheses to disambiguate it**. Not need to memorize the exact precedences unless for conveniences.\n",
    "\n",
    "### function, type\n",
    "Beside, `7/3` is evaluated to a decimal point number `2.33...`. Any number having decimals is an instance of `float` number.\n",
    "\n",
    "The `type(<val>)` is an act of calling the function `type` (i.e.: call expression). It receives one argument and return the type of `<val>`. \n",
    "For example, \n",
    "1. the value of `type(7/3)`  shows that `7/3` is `float` type.\n",
    "2. `True` is `bool` type (i.e.: boolean type) so how you justify this?\n",
    "3. `25` is `int` type.\n",
    "\n",
    "`**` is an exponentiation operator such that `base**exponent`. Exponentation operator also operate on `float` number and return `float`, for example square root of 2 is about 1.414... .\n",
    "\n",
    "Unlike in Mathematics, `=` is the assignment operator and `==` is the equality operator. Since $3\\cdot3 + 4\\cdot4 = 5\\cdot5$, `3*3 + 4*4 == 5*5` return `True`. `True` and `False` are instances of Boolean Data Type.\n",
    "\n",
    "`%` is modulus operator, such that `n%d` returns the remainder of `n` is divided by `d`. Equivalently, `n` is divisible by `d` if and only if the remainder is equal to 0 (i.e.: `n%d == 0`)\n",
    "\n",
    "`//` is the floor division whereas `/` is true division. `a//b` is the value nearest to but smaller than `a/b`.\n",
    "\n",
    "\n",
    "Please make use of online resources to find other operators supported in `Python`: [List of operators in Python](https://www.w3schools.com/python/python_operators.asp)"
   ]
  },
  {
   "cell_type": "markdown",
   "id": "c286e705",
   "metadata": {},
   "source": [
    "# Variable, Assignment, Comment"
   ]
  },
  {
   "cell_type": "code",
   "execution_count": 1,
   "id": "60dbe9c0",
   "metadata": {},
   "outputs": [
    {
     "data": {
      "text/plain": [
       "56.556"
      ]
     },
     "execution_count": 1,
     "metadata": {},
     "output_type": "execute_result"
    }
   ],
   "source": [
    "# Python ignore the line (ie.: does not execute) that start with hashtag\n",
    "# It is known as single-line comment\n",
    "radius = 9.0\n",
    "pi = 3.142\n",
    "circumferences = 2 * pi * radius\n",
    "circumferences"
   ]
  },
  {
   "attachments": {},
   "cell_type": "markdown",
   "id": "a079a24f",
   "metadata": {},
   "source": [
    "`=` is the assignment operator. `radius = 9.0` is an assignment **statement** executed by `Python`. `Python` will associate the value `9.0` with the name `radius` by storing such association in global **environment**."
   ]
  },
  {
   "cell_type": "code",
   "execution_count": 2,
   "id": "8c34e69d",
   "metadata": {},
   "outputs": [
    {
     "data": {
      "text/plain": [
       "56.547000000000004"
      ]
     },
     "execution_count": 2,
     "metadata": {},
     "output_type": "execute_result"
    }
   ],
   "source": [
    "val = 6.283 * 9.0\n",
    "val"
   ]
  },
  {
   "attachments": {},
   "cell_type": "markdown",
   "id": "9c7ecf6d",
   "metadata": {},
   "source": [
    "Comparing these two codes above, we can see the intention of the first code, while the second is obscure.\n",
    "\n",
    "Indeed, naming/declaring can make the intentions clearer. An educated person can guess the first program trying to calculate circumference. Unlike the latter code, except the code author, we cannot guess the intentions of the code. It possibly calculate using tau constant. Hence, name your variable in a meaningful way.\n",
    "\n",
    "Declaring variable is the simplest form of abstraction.\n",
    "\n",
    "`Python` variables naming rules (identifier rules):\n",
    "- must start with a letter or underscore\n",
    "- cannot start with a number\n",
    "- only contain letter and number\n",
    "- case sensitive\n",
    "- same name as Python keywords are not allowed"
   ]
  },
  {
   "cell_type": "markdown",
   "id": "760d5cba",
   "metadata": {},
   "source": [
    "## Exercise"
   ]
  },
  {
   "cell_type": "markdown",
   "id": "f6c8ea79",
   "metadata": {},
   "source": [
    "$ (a,b,c) $ is a Pythagorean triplet iff. $ a,b,c $ are integers and solutions to $ a^2 + b^2 = c^2 $. Then verify that $ (9, 40, 41) $ is a Pythagorean Triple"
   ]
  },
  {
   "cell_type": "code",
   "execution_count": null,
   "id": "41f98513",
   "metadata": {},
   "outputs": [],
   "source": []
  },
  {
   "cell_type": "markdown",
   "id": "df2f5552",
   "metadata": {},
   "source": [
    "Given that formula calculating sphere volume is $\\frac{4}{3}\\pi r^3$, then what is the volume of sphere with radius $7$?"
   ]
  },
  {
   "cell_type": "code",
   "execution_count": null,
   "id": "0c65bfb9",
   "metadata": {},
   "outputs": [],
   "source": []
  },
  {
   "attachments": {},
   "cell_type": "markdown",
   "id": "fefb5496",
   "metadata": {},
   "source": [
    "# Defining and Calling Function\n",
    "We can define function in `Python` and its syntax as follow:\n",
    "\n",
    "```\n",
    "def <name>(<parameters>): # aka. function header or function definition\n",
    "    <body>\n",
    "```\n",
    "\n",
    "Indentation in Python is significant that it indicates the body or block structure. The code indented below the function, is considered part of the function body. It means that these indentated codes are executed if and only if the function is invoked (or called).\n",
    "\n",
    "```\n",
    "def circle_area(r)：\n",
    "    pi = 3.142          # part of the function\n",
    "    area = pi * r * r   # part of the function\n",
    "    return area         # part of the function\n",
    "    \n",
    "    # below are  part of the function\n",
    "    # but not executed as it is after the return statement\n",
    "    area = round(area, 3)\n",
    "    return area\n",
    "```\n",
    "\n",
    "**Function name also follow the same rule in variable naming**\n",
    "\n",
    "**Every functions in Python always return something; default is `None`**\n",
    "\n",
    "**Functions also stop executing and exit if evaluating return expression**\n",
    "\n",
    "Parameters can be empty (ie.: function with no parameter)"
   ]
  },
  {
   "attachments": {},
   "cell_type": "markdown",
   "id": "14526c0a",
   "metadata": {},
   "source": [
    "Calling/Invoking Function syntax is as follow:\n",
    "\n",
    "```\n",
    "<function_name>(<arguments>)\n",
    "```\n",
    "\n",
    "Remark: \n",
    "1. Parameters are the names defined in function defintion \n",
    "2. Arguments are the values passed to the functions during calling the function."
   ]
  },
  {
   "cell_type": "code",
   "execution_count": 3,
   "id": "974df94a",
   "metadata": {},
   "outputs": [
    {
     "data": {
      "text/plain": [
       "25"
      ]
     },
     "execution_count": 3,
     "metadata": {},
     "output_type": "execute_result"
    }
   ],
   "source": [
    "def sum_of_sqr(x,y): \n",
    "    return x*x + y*y \n",
    "\n",
    "# calling function aka. call expression\n",
    "sum_of_sqr(3,4)"
   ]
  },
  {
   "attachments": {},
   "cell_type": "markdown",
   "id": "dc1882d4",
   "metadata": {},
   "source": [
    "## How to evaluate the call expression?\n",
    "As approximation, we can follow the substitution rule : Assign each value (argument) to parameter correspondingly, treat each parameter as variable when evaluating the call expression.\n",
    "\n",
    "```\n",
    "sum_of_sqr(5,7)\n",
    "5*5 + 7*7\n",
    "25 + 49\n",
    "74\n",
    "```"
   ]
  },
  {
   "attachments": {},
   "cell_type": "markdown",
   "id": "c13e6834",
   "metadata": {},
   "source": [
    "# `print`\n",
    "\n",
    "`print` is also a function that can accept one argument and then output the argument on the screen.\n",
    "\n",
    "Remark: If you write program in a script file and run it, then `Python` will execute the code **sequentially** (i.e.: line1, line2, ...)"
   ]
  },
  {
   "cell_type": "code",
   "execution_count": 4,
   "id": "386e5d53",
   "metadata": {},
   "outputs": [
    {
     "name": "stdout",
     "output_type": "stream",
     "text": [
      "HP\n",
      "Canon\n",
      "<class 'str'>\n",
      "3\n",
      "None\n",
      "False\n"
     ]
    }
   ],
   "source": [
    "print('HP')\n",
    "print('Canon')\n",
    "print(type('Epson'))\n",
    "print(1 + 2)\n",
    "print(None)\n",
    "print(False)"
   ]
  },
  {
   "attachments": {},
   "cell_type": "markdown",
   "id": "a2c31d9c",
   "metadata": {},
   "source": [
    "# Reading Documentation `print`\n",
    "\n",
    "\n",
    "\n",
    "\n",
    "reference: https://docs.python.org/3/library/functions.html#print\n",
    "\n",
    "```\n",
    "print(*objects, sep=' ', end='\\n', file=None, flush=False)\n",
    "```\n",
    "\n",
    "Above is the `print` function header as defined by the Python official documentation.\n",
    "\n",
    "\n",
    "\n",
    "## Default Arguments\n",
    "\n",
    "`sep=' ', end='\\n', file=None, flush=False` are known as default arguments. For example, when caller didn't pass arguments for `end` ,`file` and `flush`, then the call expression will evalute using the default arguments. For example\n",
    "\n",
    "```\n",
    "print('default argument')\n",
    "\n",
    "# above will be evaluted as\n",
    "print('default argument', sep=' ', end='\\n', file=None, flush=False)\n",
    "\n",
    "\n",
    "print('default argument', sep=' ')\n",
    "print('default argument', end='\\n')\n",
    "print('default argument', sep=' ', end='\\n')\n",
    "\n",
    "# will be evaluted as\n",
    "print('default argument', sep=' ', end='\\n', file=None, flush=False)\n",
    "```\n",
    "\n",
    "## Aterisk Arguments\n",
    "`*objects` allows variable number of arguments. For example"
   ]
  },
  {
   "cell_type": "code",
   "execution_count": 5,
   "id": "2516eb57",
   "metadata": {},
   "outputs": [
    {
     "name": "stdout",
     "output_type": "stream",
     "text": [
      "1 2 3 4\n",
      "Fibonacci sequence: 0,0,1,1,2,3,5,8\n",
      "Miku, Luka, IA, Gumi and Teto\n"
     ]
    }
   ],
   "source": [
    "print(1,2,3,4)\n",
    "# print(1,2,3,4, sep=' ', end='\\n')\n",
    "\n",
    "# replace end with null string '', \n",
    "# so that it doesn't print new line\n",
    "print('Fibonacci sequence: ', end='')\n",
    "print(0,0,1,1,2,3,5,8, sep=',')\n",
    "\n",
    "print('Miku', 'Luka', 'IA', 'Gumi', sep=', ', end=' and ')\n",
    "print('Teto')"
   ]
  },
  {
   "attachments": {},
   "cell_type": "markdown",
   "id": "83b08ff0",
   "metadata": {},
   "source": [
    "# Statements, Expressions\n",
    "\n",
    "```\n",
    "x = 2   # this is an statement\n",
    "print(x = 3) # is illegal with assignment operator \"=\"\n",
    "```\n",
    "\n",
    "Statements usually do not behave the same as expressions.\n",
    "\n",
    "Rarely, we can use walrus operator `:=` so that assignment behaves like it is an expression too."
   ]
  },
  {
   "cell_type": "code",
   "execution_count": 6,
   "id": "40506027",
   "metadata": {},
   "outputs": [
    {
     "name": "stdout",
     "output_type": "stream",
     "text": [
      "-1\n",
      "-2\n",
      "-2\n"
     ]
    }
   ],
   "source": [
    "x = -1\n",
    "print(x)\n",
    "print(x := -2) # x is assigned to -2, then return -2\n",
    "print(x)"
   ]
  },
  {
   "attachments": {},
   "cell_type": "markdown",
   "id": "d1b398dc",
   "metadata": {},
   "source": [
    "# String"
   ]
  },
  {
   "cell_type": "code",
   "execution_count": 7,
   "id": "7dba4d5d",
   "metadata": {},
   "outputs": [
    {
     "name": "stdout",
     "output_type": "stream",
     "text": [
      "content enclosed with quotes is an instance of String type\n",
      "<class 'str'>\n",
      "enclosed with double quotes is also an string\n",
      "Enclosing with triple quotes allow multiline contents.\n",
      "This is an example\n"
     ]
    }
   ],
   "source": [
    "msg = 'content enclosed with quotes is an instance of String type'\n",
    "print(msg)\n",
    "print(type(msg))\n",
    "print(\"enclosed with double quotes is also an string\")\n",
    "print('''Enclosing with triple quotes allow multiline contents.\n",
    "This is an example''')"
   ]
  },
  {
   "attachments": {},
   "cell_type": "markdown",
   "id": "9f777d7a",
   "metadata": {},
   "source": [
    "## String Manipulation"
   ]
  },
  {
   "cell_type": "code",
   "execution_count": 8,
   "id": "98e2307d",
   "metadata": {},
   "outputs": [
    {
     "name": "stdout",
     "output_type": "stream",
     "text": [
      "Kirisame Marisa\n"
     ]
    }
   ],
   "source": [
    "first_name = 'Marisa'\n",
    "last_name = 'Kirisame'\n",
    "print(last_name + ' ' + first_name) # + on strings is string concatenation"
   ]
  },
  {
   "cell_type": "code",
   "execution_count": 9,
   "id": "ede57854",
   "metadata": {},
   "outputs": [
    {
     "name": "stdout",
     "output_type": "stream",
     "text": [
      "True\n",
      "True\n",
      "False\n"
     ]
    }
   ],
   "source": [
    "# Like numeric type, string can be compared equality, and Lexicographic order\n",
    "print('Marisa' == 'Marisa')\n",
    "print('abc' < 'abd')\n",
    "print('abc' > 'abd')"
   ]
  },
  {
   "attachments": {},
   "cell_type": "markdown",
   "id": "09bbade5",
   "metadata": {},
   "source": [
    "## Special Character"
   ]
  },
  {
   "cell_type": "code",
   "execution_count": 10,
   "id": "ea0230f6",
   "metadata": {},
   "outputs": [
    {
     "name": "stdout",
     "output_type": "stream",
     "text": [
      "The blackslash \\ is a special symbol that escape certain symbols\n",
      "For example, as blackslash is special, then we must escape it (\\) to print it. Newline is \\n\n",
      "' is single quote\n",
      "\" is double quote\n",
      "\n",
      "def greet():\n",
      "\treturn 'Hello'\n",
      "\n",
      "C:\\Program Files\\Racket\n",
      "C:\\Program Files\\Git\n"
     ]
    }
   ],
   "source": [
    "# \\ is to escape the next character so that it treats differently\n",
    "newline = '\\n' \n",
    "tab = '\\t'\n",
    "\n",
    "'''\n",
    "Enclosing with triple quotes allow multiline comments like this.\n",
    "As the string below is single-quoted, single-quote inside of it must be escaped\n",
    "so that the Python can distisguish.\n",
    "'''\n",
    "\n",
    "print('The blackslash \\\\ is a special symbol that escape certain symbols')\n",
    "print('For example, as blackslash is special, then we must escape it (\\\\) to print it. Newline is \\\\n')\n",
    "\n",
    "print('\\' is single quote')\n",
    "print('\" is double quote\\n')\n",
    "print('def greet():\\n\\treturn \\'Hello\\'\\n')\n",
    "\n",
    "working_dir = 'C:\\\\Program Files\\\\Racket' # escape \\ to include \\\n",
    "\n",
    "print(working_dir)\n",
    "print(r'C:\\Program Files\\Git') # raw-string so that you not need to escape \\"
   ]
  },
  {
   "attachments": {},
   "cell_type": "markdown",
   "id": "9a8265c5",
   "metadata": {},
   "source": [
    "## Formatting String using f-strings "
   ]
  },
  {
   "cell_type": "code",
   "execution_count": 11,
   "id": "3f30a4da",
   "metadata": {},
   "outputs": [
    {
     "name": "stdout",
     "output_type": "stream",
     "text": [
      "(9,40,41) is a Pythagorean Triple \n",
      "since 9^2 + 40^2 = 81 + 1600 = 1681 = 41^2\n"
     ]
    }
   ],
   "source": [
    "a = 9\n",
    "b = 40\n",
    "c = 41\n",
    "# started with f, f-string formatting\n",
    "msg = f'''({a},{b},{c}) is a Pythagorean Triple \n",
    "since {a}^2 + {b}^2 = {a**2} + {b**2} = {c**2} = {c}^2'''\n",
    "\n",
    "# for f-string, the contents between curly brackets are\n",
    "# like expressions will be evaluated\n",
    "print(msg)"
   ]
  },
  {
   "cell_type": "markdown",
   "id": "82221453",
   "metadata": {},
   "source": [
    "## `input`\n",
    "Definition of `input`, is `input(prompt)` where `prompt` is value printed before prompting user input. The function `input` receives user input then return the input as string."
   ]
  },
  {
   "cell_type": "code",
   "execution_count": 12,
   "id": "a79aed8d",
   "metadata": {},
   "outputs": [
    {
     "name": "stdout",
     "output_type": "stream",
     "text": [
      "Hi teng man, nice to meet you\n"
     ]
    },
    {
     "data": {
      "text/plain": [
       "'received input: teng man'"
      ]
     },
     "execution_count": 12,
     "metadata": {},
     "output_type": "execute_result"
    }
   ],
   "source": [
    "def greet_ask():\n",
    "    name = input('Hello, what\\'s your name?')\n",
    "    print(f'Hi {name}, nice to meet you')\n",
    "    return f'received input: {name}'\n",
    "greet_ask()"
   ]
  },
  {
   "cell_type": "markdown",
   "id": "e5a1aecd",
   "metadata": {},
   "source": [
    "# Data Types in Python\n",
    "It is tempting to try the code below but it does not work as expected. It is an example of `TypeError`\n",
    "\n",
    "```\n",
    "Python 3.10.2 (tags/v3.10.2:a58ebcc, Jan 17 2022, 14:12:15) [MSC v.1929 64 bit (AMD64)] on win32\n",
    "Type \"help\", \"copyright\", \"credits\" or \"license\" for more information.\n",
    ">>> name = 'banana'\n",
    ">>> price = 1.5\n",
    ">>> print(f'{name} one piece, {price}')\n",
    "banana one piece, 1.5\n",
    ">>> number = input(f'How many {name} you want?: ')\n",
    "How many banana you want?: 10\n",
    ">>> number * price\n",
    "Traceback (most recent call last):\n",
    "  File \"<stdin>\", line 1, in <module>\n",
    "TypeError: can't multiply sequence by non-int of type 'float'\n",
    "```"
   ]
  },
  {
   "cell_type": "markdown",
   "id": "5cf97940",
   "metadata": {},
   "source": [
    "Note that `input` function return `string` data, then the variable `number` is of `string` type. The variable `price` is of `float` type. However, the operator `*` between `string` and `float` is undefiend, then the `Python` throw an error about it. Sometimes, the operators are not defined over operands with different types.\n",
    "\n",
    "To fix this, we can convert it into numeric type as below."
   ]
  },
  {
   "cell_type": "code",
   "execution_count": 13,
   "id": "947f4b2c",
   "metadata": {},
   "outputs": [
    {
     "name": "stdout",
     "output_type": "stream",
     "text": [
      "banana one piece, 1.5\n"
     ]
    },
    {
     "data": {
      "text/plain": [
       "15.0"
      ]
     },
     "execution_count": 13,
     "metadata": {},
     "output_type": "execute_result"
    }
   ],
   "source": [
    "name = 'banana'\n",
    "price = 1.5\n",
    "print(f'{name} one piece, {price}')\n",
    "# float(x) will convert x to float type, similarily for int(x), str(x)\n",
    "number = float(input(f'How many {name} you want?'))\n",
    "number * price"
   ]
  },
  {
   "attachments": {},
   "cell_type": "markdown",
   "id": "833eb46c",
   "metadata": {},
   "source": [
    "# `eval`\n",
    "\n",
    "Another way to fix the `banana` code is to use `eval`. Python interpreter prompt user and also read user input as string, then the interpreter evaluates the input expression; `eval` can do the same thing such that `eval` will evaluate string argument as if it is Python code."
   ]
  },
  {
   "cell_type": "code",
   "execution_count": 14,
   "id": "d26c0574",
   "metadata": {},
   "outputs": [
    {
     "name": "stdout",
     "output_type": "stream",
     "text": [
      "banana one piece, 1.5\n"
     ]
    },
    {
     "data": {
      "text/plain": [
       "15.0"
      ]
     },
     "execution_count": 14,
     "metadata": {},
     "output_type": "execute_result"
    }
   ],
   "source": [
    "name = 'banana'\n",
    "price = 1.5\n",
    "print(f'{name} one piece, {price}')\n",
    "number = eval(input(f'How many {name} you want?'))\n",
    "number * price"
   ]
  },
  {
   "cell_type": "markdown",
   "id": "a6cd202e",
   "metadata": {},
   "source": [
    "## Real Number Representation using Float Number"
   ]
  },
  {
   "cell_type": "code",
   "execution_count": 15,
   "id": "28d4986d",
   "metadata": {},
   "outputs": [
    {
     "data": {
      "text/plain": [
       "False"
      ]
     },
     "execution_count": 15,
     "metadata": {},
     "output_type": "execute_result"
    }
   ],
   "source": [
    "0.1 + 0.2 == 0.3"
   ]
  },
  {
   "cell_type": "markdown",
   "id": "b64440c7",
   "metadata": {},
   "source": [
    "Mathematically, it is too resonable to expect `0.1 + 0.2 == 0.3` should return `True` but it does not work as expected on computer. This is due to the computer represent real number using floating point number rather than fixed point number. This is not a flaw of certain programming language but an enduring flaw across many computer.\n",
    "\n",
    "Typing is also an abstraction but it still require additional knowledges and cares to make an effective use.\n",
    "\n",
    "Different programs offer different trade-offs so is the choice of data representation. \n",
    "\n",
    "Floating point is a trade off of space efficiency, speed over accuracy. To an expert programmer, he able to visualize how the programs behave, what are the trade off implied by the programs."
   ]
  },
  {
   "cell_type": "markdown",
   "id": "f1e0607c",
   "metadata": {},
   "source": [
    "# Compound Expression and Evaluation Model\n",
    "Evaluation model is not meant to be exact in describing how the program is executed. The model is to allow us reason about how a program is executed. The model is often simple and incomplete but not trivial."
   ]
  },
  {
   "cell_type": "code",
   "execution_count": 16,
   "id": "3ca29a5b",
   "metadata": {},
   "outputs": [
    {
     "data": {
      "text/plain": [
       "29.0"
      ]
     },
     "execution_count": 16,
     "metadata": {},
     "output_type": "execute_result"
    }
   ],
   "source": [
    "from math import sqrt       # import specific functions of library\n",
    "from operator import add\n",
    "def square(x):\n",
    "    return x*x\n",
    "def sum_of_square(x, y):\n",
    "    return add(square(x),square(y))\n",
    "def euclidean_distance(x, y):\n",
    "    return sqrt(sum_of_square(x,y))\n",
    "def f(x):\n",
    "    return x+1\n",
    "euclidean_distance(f(19), f(20))"
   ]
  },
  {
   "cell_type": "markdown",
   "id": "f9624058",
   "metadata": {},
   "source": [
    "How can `euclidean_distance(f(19), f(20))` is evaluated?\n",
    "\n",
    "Applicative Rule states that:\n",
    "1. Evaluate each argument\n",
    "2. Evaluate the function body with each formal parameter replaced by the corresponding argument\n",
    "\n",
    "Hence,\n",
    "\n",
    "```\n",
    "euclidean_distance(f(19), f(20))\n",
    "euclidean_distance(19+1,20+1)\n",
    "euclidean_distance(20,21)\n",
    "sqrt(sum_of_square(20,21))\n",
    "sqrt(add(square(20), square(21)))\n",
    "sqrt(add(20*20, 21*21))\n",
    "sqrt(add(400, 441))\n",
    "sqrt(841)\n",
    "29.0\n",
    "```"
   ]
  },
  {
   "attachments": {},
   "cell_type": "markdown",
   "id": "88cee4b3",
   "metadata": {},
   "source": [
    "Normal Rule states that:\n",
    "1. Evaluate the arguments only as needed otherwise pass them\n",
    "2. Evaluate the function body with each formal parameter replaced by the corresponding argument\n",
    "\n",
    "Hence,\n",
    "```\n",
    "euclidean_distance(f(19), f(20))\n",
    "sqrt(sum_of_square(f(19),f(20)))\n",
    "sqrt(add(square(f(19)), square(f(20)))\n",
    "sqrt(add(f(19)*f(19), f(20)*f(20)))\n",
    "sqrt(add((19+1)*(19+1), (20+1)*(20+1)))\n",
    "# now reduce it\n",
    "sqrt(add(20*20,21*21))\n",
    "sqrt(add(400,441))\n",
    "sqrt(841)\n",
    "29.0\n",
    "```"
   ]
  },
  {
   "cell_type": "markdown",
   "id": "44725bf0",
   "metadata": {},
   "source": [
    "We see that in applicative order, the expression does not expand as much as in normal order since it eagerly evaluates the expression. We also see that in normal order, there are expressions are evaluated multiple times in normal order such as `(19+1)*(19+1)`. It is not true to conclude that applicative is more efficient than normal order."
   ]
  },
  {
   "attachments": {},
   "cell_type": "markdown",
   "id": "88e5b9cb",
   "metadata": {},
   "source": [
    "# Boolean Type and logical operators\n",
    "\n",
    "`not`, `and`, and `or` are logical operators over the boolean values `True` and `False`.\n",
    "`not` has the highest precedence among logical operators. Anyway, if in doubt, just put parentheses.\n",
    "\n",
    "The syntax and semantics of logical operators:\n",
    "1. `not p`\n",
    "   The expression is evaluated to `False` if `p` is `True`, and vice versa.\n",
    "2. `p1 and p2 and ... and pN`\n",
    "    The expression is `False` if any one of these `p`'s is `False`. Otherwise, it is `True`.\n",
    "3. `p1 or p2 or ... or pN`\n",
    "   The expression is `True` if any one of these `p`'s is `True`. Otherwise, it is `False`.\n",
    "\n",
    "Note: To familiarize with any programming langugaes, we programmer often play around with the smallest unit of the programming language; imagining if of experimenting. As an exercise to reader, please write expressions that manipulate the boolean data."
   ]
  },
  {
   "cell_type": "code",
   "execution_count": 17,
   "id": "87aa9852",
   "metadata": {},
   "outputs": [
    {
     "name": "stdout",
     "output_type": "stream",
     "text": [
      "<class 'bool'>\n",
      "<class 'bool'>\n",
      "False\n",
      "True\n"
     ]
    }
   ],
   "source": [
    "print(type(True))\n",
    "print(type(False))\n",
    "print(not True)\n",
    "print(not False)"
   ]
  },
  {
   "cell_type": "code",
   "execution_count": 18,
   "id": "2ca7cdaa",
   "metadata": {},
   "outputs": [
    {
     "name": "stdout",
     "output_type": "stream",
     "text": [
      "True\n",
      "False\n"
     ]
    }
   ],
   "source": [
    "print(not True and False or True)\n",
    "print(not (True and False or True))"
   ]
  },
  {
   "cell_type": "markdown",
   "id": "640fcc33",
   "metadata": {},
   "source": [
    "## Normal Order Evaluation and Logical operators\n",
    "In Python, the expressions involving `or` and `and`, their operands are lazily evaluated. It is called *short-circuited*\n",
    "\n",
    "Consider two examples,\n",
    "```\n",
    "(130%2 == 0) or (130%3 == 0) or (130%5 == 0) \n",
    "```\n",
    "If any one of these subexpressions is evaluated as `True`, then we can conclude the whole expression is `True` regardless of others.\n",
    "However, if we follow applicative order, then we must evaluate each subexpressions `(130%2 == 0)`, `(130%3 == 0)` and `(130%5 == 0)` before reaching the conclusion. In normal order, when we know the subexpression `(130%2) == 0` is `True`, we can conclude it is `True`.\n",
    "\n",
    "As an exercise, readers may use similar reason infer that the below code is more efficient in normal order.\n",
    "```\n",
    "(0.1 + 0.2 == 0.3) and (130%10 == 0) and (130%5 == 0)\n",
    "```\n",
    "\n",
    "Besides the efficiency, it is true that both expressions yield same result regardless of the evaluation strategies used (Why?). By the way, Python adopts applicative order in most cases unless stated in official documentation like example above. However, there exists expressions where different strategies yield different result."
   ]
  },
  {
   "cell_type": "markdown",
   "id": "97cf880b",
   "metadata": {},
   "source": [
    "# Conditionals\n",
    "\n",
    "Conditionals syntax in Python is as below:\n",
    "```\n",
    "if <expression>:\n",
    "    <code>\n",
    "elif <expression>:\n",
    "    <code>\n",
    "else：\n",
    "    <code>\n",
    "```\n",
    "\n",
    "The `elif` and `else` are optional.\n",
    "\n",
    "If current branch `<expression>` is evaluated to be `True`, then the indented codes beneath the `<expression>`, will be executed. Otherwise, go to next `elif` branch  repeat previous process if there is any `elif` remains. If there is an `else` branch and while all `if` and `elif` branches are false, the code in `else` will be executed.\n",
    "\n",
    "Or else, the conditional block is skipped."
   ]
  },
  {
   "cell_type": "code",
   "execution_count": 19,
   "id": "890b814f",
   "metadata": {},
   "outputs": [
    {
     "name": "stdout",
     "output_type": "stream",
     "text": [
      "10\n",
      "10\n",
      "10\n"
     ]
    }
   ],
   "source": [
    "def abs1(x):\n",
    "    # return non-negative value\n",
    "    if x < 0:\n",
    "        return -x\n",
    "    else:\n",
    "        return x\n",
    "\n",
    "def abs2(x):\n",
    "    return -x if x < 0 else x # one line if-else conditional\n",
    "\n",
    "def abs3(x):\n",
    "    if x < 0:\n",
    "        return -x\n",
    "    elif x == 0:\n",
    "        return 0\n",
    "    else:\n",
    "        return x\n",
    "\n",
    "print(abs1(-10))\n",
    "print(abs2(-10))\n",
    "print(abs3(-10))"
   ]
  },
  {
   "cell_type": "markdown",
   "id": "97467c09",
   "metadata": {},
   "source": [
    "The code below is the program of paper, rock, scissors game. You not need to comphrehend what is going on inside the function `random_hand`, but you need to know that it return a string from 'paper', 'rock' and 'scissors' randomly. We can use it as if it is a black box that does the right thing. This is the power of abstraction."
   ]
  },
  {
   "cell_type": "code",
   "execution_count": 20,
   "id": "f1f7be2b",
   "metadata": {},
   "outputs": [
    {
     "name": "stdout",
     "output_type": "stream",
     "text": [
      "user = paper, AI = scissors\n"
     ]
    },
    {
     "data": {
      "text/plain": [
       "'you lose'"
      ]
     },
     "execution_count": 20,
     "metadata": {},
     "output_type": "execute_result"
    }
   ],
   "source": [
    "def random_hand():\n",
    "    # return a string from the  ['paper', 'rock', 'scissors'] randomly\n",
    "    # enclosed with square brackets and values seperated with comma\n",
    "    # then it is a list which holds multiple values\n",
    "    hands = ['paper', 'rock', 'scissors'] \n",
    "    from random import choice\n",
    "    return choice(hands)\n",
    "\n",
    "def rock_paper_scissors():\n",
    "    usr_hand = input('Enter any one: paper, rock, scissors')\n",
    "    ai_hand = random_hand() \n",
    "    print(f'user = {usr_hand}, AI = {ai_hand}')\n",
    "    # determing which hand is winning\n",
    "    if usr_hand == ai_hand:\n",
    "        return 'draw'\n",
    "    elif usr_hand == 'paper' and ai_hand == 'rock':\n",
    "        return \"you win\"\n",
    "    elif usr_hand == 'rock' and ai_hand == 'scissors':\n",
    "        return \"you win\"\n",
    "    elif usr_hand == 'scissors' and ai_hand == 'paper':\n",
    "        return \"you win\"\n",
    "    else:\n",
    "        return \"you lose\"\n",
    "rock_paper_scissors()"
   ]
  },
  {
   "cell_type": "markdown",
   "id": "0f60add9",
   "metadata": {},
   "source": [
    "# Repetition, Reassignment\n",
    "\n",
    "In Python, we can loop our program using either `while` or `for`. \n",
    "\n",
    "```\n",
    "while <expression>:\n",
    "    <code>\n",
    "```\n",
    "If the `<expression>` is evaluated to be `True`, then the `<code>` is executed, and repeated until `<expression>` is `False`."
   ]
  },
  {
   "cell_type": "code",
   "execution_count": 21,
   "id": "d74e38c3",
   "metadata": {},
   "outputs": [
    {
     "name": "stdout",
     "output_type": "stream",
     "text": [
      "0\n",
      "1\n",
      "2\n",
      "Reach The End\n"
     ]
    }
   ],
   "source": [
    "i = 0\n",
    "while i <= 2:\n",
    "    print(i)\n",
    "    i = i + 1   # Reassignment\n",
    "print(\"Reach The End\")"
   ]
  },
  {
   "cell_type": "markdown",
   "id": "f34a1826",
   "metadata": {},
   "source": [
    "## Using Debugger\n",
    "\n",
    "Readers are recommended to use debugger to visualize the execution of program above. The exact methods using debugger depends which IDE you use. Hence, readers shall consult other online resources. Debugger allows us inspect how program is executed.\n",
    "\n",
    "Online resources:\n",
    "1. [IDLE's debugger](https://www.youtube.com/watch?v=HiQZKDI61E4)\n",
    "2. [Pycharm's debugger](https://www.youtube.com/watch?v=sRGpvbhOhQs)\n",
    "3. [Python Tutor](https://pythontutor.com/python-debugger.html#mode=edit)\n",
    "\n",
    "Pycharm debugger provides more details where environment and frame stack are clearly shown. \n",
    "\n",
    "Debugger might be useful for beginner to visualize the program execution. It is also must-learn tool for professional developers. By inserting breakpoint and stepping, developers able to narrow down the location of error; eases the debugging process, hence its name."
   ]
  },
  {
   "cell_type": "markdown",
   "id": "2a84faa8",
   "metadata": {},
   "source": [
    "## Be the Python Evaluator\n",
    "How does the `while` loop works?\n",
    "\n",
    "| Line | Reducing Expression                   | Name   | Values          | Comment                                                      |\n",
    "| ---- | ------------------------------------- | ------ | --------------- | ------------------------------------------------------------ |\n",
    "| 1    | i = 0                                 | i      | 0               |                                                              |\n",
    "| 2    | i  <= 2  -> 0 <= 2 -> True            |        | True            | at the while                                                 |\n",
    "| 3    | print(i)                              | OUTPUT | 0               |                                                              |\n",
    "| 4    | i = i + 1 <br />i = 0 + 1 <br />i = 1 | i      | 1               | reassignment; update the variable i                                                              |\n",
    "| 2    | i  <= 2  -> 1 <= 2 -> True            |        | True            | at the while                                                 |\n",
    "| 3    | print(i)                              | OUTPUT | 0<br />1        |                                                              |\n",
    "| 4    | i = i + 1 <br />i = 1 + 1 <br />i = 2 | i      | 2               | reassignment; update the variable i                          |\n",
    "| 2    | i  <= 2  -> 2 <= 2 -> True            |        | True            | at the while                                                 |\n",
    "| 3    | print(i)                              | OUTPUT | 0<br />1<br />2 |                                                              |\n",
    "| 4    | i = i + 1 <br />i = 2 + 1 <br />i = 3 | i      | 3               |reassignment; update the variable i                           |\n",
    "| 2    | i  <= 2  -> 3  <= 2 -> False          |        |                 | at the while, since it is False, program will not execute its body, jump to after its body |\n",
    "| 5    | print(\"Reach The End\")                | OUTPUT | 0<br />1<br />2<br />Reach The End |                                                              |\n"
   ]
  },
  {
   "cell_type": "markdown",
   "id": "093c9386",
   "metadata": {},
   "source": [
    "`for` here (unlike in `C`) is to iterate over something. For example, `range(n)` is a sequence starting from 0 until n-1, then the statement `for i in range(5)`, the `i` variable will walk to the next thing of the sequence for each iteration. Common idioms in using `for` will be presented implicitly through example. For now, we use `for` for convienence. This explaination is incomplete but enough for our purpose."
   ]
  },
  {
   "cell_type": "code",
   "execution_count": 22,
   "id": "94bdd41f",
   "metadata": {},
   "outputs": [
    {
     "name": "stdout",
     "output_type": "stream",
     "text": [
      "0\n",
      "1\n",
      "2\n",
      "3\n",
      "4\n",
      "hakurei\n",
      "marisa\n",
      "kochiya\n"
     ]
    }
   ],
   "source": [
    "for i in range(5): # range(n) is end exclusive\n",
    "    print(i)\n",
    "\n",
    "for character in ['hakurei', 'marisa', 'kochiya']:\n",
    "    print(character)"
   ]
  },
  {
   "cell_type": "markdown",
   "id": "b6289b31",
   "metadata": {},
   "source": [
    "Consider a problem calculate the sum of $ 1 $ until $ n $. Says `n = 5`, then we may naviely type"
   ]
  },
  {
   "cell_type": "code",
   "execution_count": 23,
   "id": "b630c99d",
   "metadata": {},
   "outputs": [
    {
     "data": {
      "text/plain": [
       "15"
      ]
     },
     "execution_count": 23,
     "metadata": {},
     "output_type": "execute_result"
    }
   ],
   "source": [
    "1 + 2 + 3 + 4 + 5"
   ]
  },
  {
   "cell_type": "markdown",
   "id": "2935d932",
   "metadata": {},
   "source": [
    "When `n` is getting larger, it is not practical to type all the numbers. Code below is very common idiom among many programming languages that do the same thing"
   ]
  },
  {
   "cell_type": "code",
   "execution_count": 24,
   "id": "e2ebe9c6",
   "metadata": {},
   "outputs": [
    {
     "data": {
      "text/plain": [
       "15"
      ]
     },
     "execution_count": 24,
     "metadata": {},
     "output_type": "execute_result"
    }
   ],
   "source": [
    "n = 5\n",
    "i = 1\n",
    "result = 0\n",
    "while i <= n:\n",
    "    result += i # shorthand for result = result + i\n",
    "    i += 1\n",
    "result"
   ]
  },
  {
   "cell_type": "markdown",
   "id": "0326aa4b",
   "metadata": {},
   "source": [
    "The code above use `i` and `result` as state variables temporary store the values."
   ]
  },
  {
   "cell_type": "markdown",
   "id": "c5c90e4d",
   "metadata": {},
   "source": [
    "Below code that use `for` and `range` do the same thing."
   ]
  },
  {
   "cell_type": "code",
   "execution_count": 25,
   "id": "03b5292d",
   "metadata": {},
   "outputs": [
    {
     "data": {
      "text/plain": [
       "15"
      ]
     },
     "execution_count": 25,
     "metadata": {},
     "output_type": "execute_result"
    }
   ],
   "source": [
    "result = 0\n",
    "n = 5\n",
    "for i in range(n + 1):\n",
    "    result = result + i\n",
    "result"
   ]
  },
  {
   "cell_type": "markdown",
   "id": "e95bded7",
   "metadata": {},
   "source": [
    "## Statements, Expressions\n",
    "\n",
    "```\n",
    "x = 2   # this is an statement\n",
    "print(x = 3) # is illegal with assignment operator \"=\"\n",
    "```\n",
    "\n",
    "Statements usually do not behave the same as expressions. We cannot put if-elif-else branch in an expression, but we can put one line if-else because it is an expression.\n",
    "\n",
    "Rarely, we can use walrus operator `:=` so that assignment behaves like it is an expression too."
   ]
  },
  {
   "cell_type": "code",
   "execution_count": 26,
   "id": "225ba7f5",
   "metadata": {},
   "outputs": [
    {
     "name": "stdout",
     "output_type": "stream",
     "text": [
      "-1\n",
      "-2\n",
      "-2\n",
      "2\n"
     ]
    }
   ],
   "source": [
    "x = -1\n",
    "print(x)\n",
    "print(x := -2) # x is assigned to -2, then return -2\n",
    "print(x)\n",
    "print(-x if x < 0 else x)"
   ]
  },
  {
   "cell_type": "markdown",
   "id": "241f5ed2",
   "metadata": {},
   "source": [
    "## Program Flow\n",
    "\n",
    "The explained evaluation model just now is not sufficient to describe how Python program run. But the clearer picture includes 2 more simple rules:\n",
    "\n",
    "1. Program is executed line by line, **sequentially**\n",
    "2. Program may jump to other line during execution (ie.: functions, conditionals or repetitions)"
   ]
  },
  {
   "cell_type": "code",
   "execution_count": 27,
   "id": "bce57e60",
   "metadata": {},
   "outputs": [
    {
     "name": "stdout",
     "output_type": "stream",
     "text": [
      "print_expr(line4, 4)\n",
      "print_expr(line5, True)\n",
      "line6\n",
      "print_expr(line9, True)\n",
      "line10\n",
      "print_expr(line11, 3)\n",
      "print_expr(line9, True)\n",
      "line10\n",
      "print_expr(line11, 2)\n",
      "print_expr(line9, True)\n",
      "line10\n",
      "print_expr(line11, 1)\n",
      "print_expr(line9, True)\n",
      "line10\n",
      "print_expr(line11, 0)\n",
      "print_expr(line9, False)\n"
     ]
    }
   ],
   "source": [
    "def print_expr(line, expr):\n",
    "    print(f\"print_expr(line{line}, {expr})\")\n",
    "    return expr\n",
    "print_expr(4, x := 4)       \n",
    "if print_expr(5, x%2 == 0):\n",
    "    print(\"line6\")\n",
    "else:\n",
    "    print(\"line8\")\n",
    "while print_expr(9, x > 0):\n",
    "    print(\"line10\")\n",
    "    print_expr(11, x := x - 1) # := is assignment expression, it is used sparingly"
   ]
  },
  {
   "cell_type": "markdown",
   "id": "400a40ed",
   "metadata": {},
   "source": [
    "# Quick Check"
   ]
  },
  {
   "cell_type": "markdown",
   "id": "480abcd4",
   "metadata": {},
   "source": [
    "1. Try to reason or visualize how below code is evaluated. You may use pen and paper to keep track the variables' value."
   ]
  },
  {
   "cell_type": "code",
   "execution_count": 28,
   "id": "b576d88d",
   "metadata": {
    "scrolled": true
   },
   "outputs": [
    {
     "data": {
      "text/plain": [
       "21"
      ]
     },
     "execution_count": 28,
     "metadata": {},
     "output_type": "execute_result"
    }
   ],
   "source": [
    "'''\n",
    "This program also calculate the sum of integers from 0 until n\n",
    "'''\n",
    "n = 6\n",
    "result = 0\n",
    "i = 1\n",
    "while i <= n :\n",
    "    result = result + i\n",
    "    i = i + 1\n",
    "result"
   ]
  },
  {
   "cell_type": "code",
   "execution_count": 29,
   "id": "2c864dfc",
   "metadata": {},
   "outputs": [
    {
     "data": {
      "text/plain": [
       "21"
      ]
     },
     "execution_count": 29,
     "metadata": {},
     "output_type": "execute_result"
    }
   ],
   "source": [
    "n = 6\n",
    "result = 0\n",
    "while n > 0:\n",
    "    result = result + n\n",
    "    n = n - 1\n",
    "result"
   ]
  },
  {
   "cell_type": "code",
   "execution_count": 30,
   "id": "c7abf038",
   "metadata": {},
   "outputs": [
    {
     "data": {
      "text/plain": [
       "9"
      ]
     },
     "execution_count": 30,
     "metadata": {},
     "output_type": "execute_result"
    }
   ],
   "source": [
    "# you may use this utility tool\n",
    "def print_n_ret(expr):\n",
    "    print(expr)\n",
    "    return expr\n",
    "\n",
    "n = 6\n",
    "result = 0\n",
    "while n > 0:\n",
    "    if n % 3 == 0:\n",
    "        result = result + n\n",
    "    n = n - 1\n",
    "result"
   ]
  },
  {
   "cell_type": "code",
   "execution_count": 31,
   "id": "215eaee6",
   "metadata": {},
   "outputs": [
    {
     "data": {
      "text/plain": [
       "9"
      ]
     },
     "execution_count": 31,
     "metadata": {},
     "output_type": "execute_result"
    }
   ],
   "source": [
    "# you may use this utility tool\n",
    "def print_n_ret(expr):\n",
    "    print(expr)\n",
    "    return expr\n",
    "\n",
    "n = 7\n",
    "result = 0\n",
    "'''\n",
    "Note that for one-line if-else experssion \n",
    "<conseq> if <pred> else <alter>\n",
    "<pred> is evaluated first\n",
    "<conseq> only evaluate if <pred> is evaluated to be True\n",
    "<alter> only evaluate if <pred> is evaluated to be False\n",
    "'''\n",
    "while n > 0:\n",
    "    result = result + (n if (n := n - 1)%3 == 0 else 0)\n",
    "result"
   ]
  }
 ],
 "metadata": {
  "kernelspec": {
   "display_name": "Python 3 (ipykernel)",
   "language": "python",
   "name": "python3"
  },
  "language_info": {
   "codemirror_mode": {
    "name": "ipython",
    "version": 3
   },
   "file_extension": ".py",
   "mimetype": "text/x-python",
   "name": "python",
   "nbconvert_exporter": "python",
   "pygments_lexer": "ipython3",
   "version": "3.10.2"
  },
  "vscode": {
   "interpreter": {
    "hash": "2324a66782fee6ab9f0bdb3c9e79ee636ed86487484f245c4444858429ce7730"
   }
  }
 },
 "nbformat": 4,
 "nbformat_minor": 5
}
