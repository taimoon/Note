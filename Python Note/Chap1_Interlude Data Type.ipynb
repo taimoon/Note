{
 "cells": [
  {
   "cell_type": "markdown",
   "metadata": {},
   "source": [
    "# Truthy Value\n",
    "It is not always intuitive how the codes involving mix-types below should behave in Python"
   ]
  },
  {
   "cell_type": "code",
   "execution_count": null,
   "metadata": {},
   "outputs": [],
   "source": [
    "print('String' and False)\n",
    "print(6 and 'String')\n",
    "print(True  + 1)"
   ]
  },
  {
   "cell_type": "code",
   "execution_count": null,
   "metadata": {},
   "outputs": [],
   "source": [
    "False + 'True'"
   ]
  },
  {
   "cell_type": "markdown",
   "metadata": {},
   "source": [
    "Tips: It is totally okay to avoid use these behaviours unless you and others are comfortable with it. These behaviours are convenience for expert but not for beginner. If in doubt, search online or read the Python official documentation and try various expressions using the REPL."
   ]
  },
  {
   "cell_type": "markdown",
   "metadata": {},
   "source": [
    "## Additional Reading: When Data Type is important?\n",
    "\n",
    "[Ariane 5 Rocket Failure](https://www-users.cse.umn.edu/~arnold/disasters/ariane.html)\n",
    "\n",
    "[Fast Inverse Square Root — A Quake III Algorithm](https://youtu.be/p8u_k2LIZyo)\n",
    "\n",
    "The first one is a failure due to misuse of data type. And this mistake costs a lot. This showns lack of understanding of data type can lead to a costly mistake.\n",
    "\n",
    "The second one is an interesting but good use of data type. \n",
    "It should be noted that the time of the algorithm is the time of where\n",
    "computing resource is very sacred and expensive.\n",
    "There is a built-in `sqrt` in modern cpu but it is not fast enough.\n",
    "The fast algorithm is a trade off of speed over accuracy.\n",
    "\n",
    "The necessity of understanding data type depends\n",
    "what you want work with. Remember, **every program offer different trade-offs**.\n",
    "Some prefer the programming language automatically pick the best suitable data type\n",
    "so that it is easier.\n",
    "Some might prefer finer control by using different size of data type such as `int`, `float`, `double` and `unsigned`.\n",
    "\n",
    "From the case `0.1 + 0.2 != 0.3`, \n",
    "readers can infer that bank system cannot use `float` data type to represent money balance.\n",
    "Bank system uses fixed point number to represent money."
   ]
  }
 ],
 "metadata": {
  "kernelspec": {
   "display_name": "Python 3.10.2 64-bit",
   "language": "python",
   "name": "python3"
  },
  "language_info": {
   "name": "python",
   "version": "3.10.2"
  },
  "orig_nbformat": 4,
  "vscode": {
   "interpreter": {
    "hash": "2324a66782fee6ab9f0bdb3c9e79ee636ed86487484f245c4444858429ce7730"
   }
  }
 },
 "nbformat": 4,
 "nbformat_minor": 2
}
