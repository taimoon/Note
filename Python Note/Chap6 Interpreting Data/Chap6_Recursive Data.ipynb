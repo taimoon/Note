{
 "cells": [
  {
   "cell_type": "markdown",
   "metadata": {},
   "source": [
    "# Representing Mutable List"
   ]
  },
  {
   "cell_type": "code",
   "execution_count": 191,
   "metadata": {},
   "outputs": [],
   "source": [
    "def Pair(x,y):\n",
    "    def dispatch(msg):\n",
    "        if msg == \"fst\":\n",
    "            return x\n",
    "        elif msg == \"snd\":\n",
    "            return y\n",
    "        elif msg == \"repr\":\n",
    "            return f\"Pair({x},{y})\"\n",
    "        elif msg == \"print\":\n",
    "            print(dispatch(\"repr\"))\n",
    "            return dispatch(\"repr\")\n",
    "        else:\n",
    "            raise Exception(f\"{msg}: Unknown message for Pair instance\") \n",
    "    return dispatch"
   ]
  },
  {
   "cell_type": "code",
   "execution_count": 192,
   "metadata": {},
   "outputs": [
    {
     "name": "stdout",
     "output_type": "stream",
     "text": [
      "Pair(1, Pair(2, Pair(3, Pair(4, None))))\n",
      "1\n",
      "2\n",
      "None\n",
      "Pair(1, Pair(2, Pair(3, Pair(4, None))))\n"
     ]
    }
   ],
   "source": [
    "def li_str(li):\n",
    "    if li is not None:\n",
    "        return f\"Pair({li('fst')}, {li_str(li('snd'))})\"\n",
    "\n",
    "\n",
    "def enumerate_li(a, b, stepper = lambda x : x + 1):\n",
    "    def recur(a):\n",
    "        if a > b:\n",
    "            return None\n",
    "        else:\n",
    "            return Pair(a, recur(stepper(a)))\n",
    "    return recur(a)\n",
    "\n",
    "li = Pair(1, Pair(2, Pair(3, Pair(4, None))))\n",
    "print(li_str(li))\n",
    "print(li(\"fst\"))\n",
    "print(li(\"snd\")(\"fst\"))\n",
    "print(li(\"snd\")(\"snd\")(\"snd\")(\"snd\"))\n",
    "\n",
    "print(li_str(enumerate_li(1, 4)))"
   ]
  },
  {
   "cell_type": "code",
   "execution_count": 193,
   "metadata": {},
   "outputs": [
    {
     "data": {
      "text/plain": [
       "'Pair(Yin Yang, Pair(LISP, Pair(9, None)))'"
      ]
     },
     "execution_count": 193,
     "metadata": {},
     "output_type": "execute_result"
    }
   ],
   "source": [
    "def push(li, x):\n",
    "    return Pair(x, li)\n",
    "li = None\n",
    "li = push(li, 9)\n",
    "li = push(li, \"LISP\")\n",
    "li = push(li, \"Yin Yang\")\n",
    "li_str(li)"
   ]
  },
  {
   "cell_type": "markdown",
   "metadata": {},
   "source": [
    "It would be nicer that reassignment is not required. To avoid reassignment, we can do something similar in Chapter Message Passing Style."
   ]
  },
  {
   "cell_type": "code",
   "execution_count": 194,
   "metadata": {},
   "outputs": [
    {
     "name": "stdout",
     "output_type": "stream",
     "text": [
      "Pair(7, None)\n",
      "Pair(LISP, Pair(7, None))\n",
      "Pair(Yin Yang, Pair(LISP, Pair(7, None)))\n"
     ]
    }
   ],
   "source": [
    "def Stack():\n",
    "    li = None\n",
    "    def push(x):\n",
    "        nonlocal li\n",
    "        li = Pair(x, li)\n",
    "        return li\n",
    "    return push\n",
    "\n",
    "li = Stack()\n",
    "print(li_str(li(7)))\n",
    "print(li_str(li(\"LISP\")))\n",
    "print(li_str(li(\"Yin Yang\")))"
   ]
  },
  {
   "cell_type": "markdown",
   "metadata": {},
   "source": [
    "## Adding Mutators for `Pair`"
   ]
  },
  {
   "cell_type": "code",
   "execution_count": 195,
   "metadata": {},
   "outputs": [],
   "source": [
    "def Pair(x,y):\n",
    "    def dispatch(msg):\n",
    "        if msg == \"fst\":\n",
    "            return x\n",
    "        elif msg == \"snd\":\n",
    "            return y\n",
    "        elif msg == \"set_fst!\":\n",
    "            def f(n):\n",
    "                nonlocal x\n",
    "                x = n\n",
    "            return f\n",
    "        elif msg == \"set_snd!\":\n",
    "            def f(n):\n",
    "                nonlocal y\n",
    "                y = n\n",
    "            return f\n",
    "        elif msg == \"repr\":\n",
    "            return f\"Pair({x},{y})\"\n",
    "        elif msg == \"print\":\n",
    "            print(dispatch(\"repr\"))\n",
    "            return dispatch(\"repr\")\n",
    "        else:\n",
    "            raise Exception(f\"{msg}: Unknown message for Pair instance\") \n",
    "    return dispatch"
   ]
  },
  {
   "cell_type": "code",
   "execution_count": 196,
   "metadata": {},
   "outputs": [
    {
     "name": "stdout",
     "output_type": "stream",
     "text": [
      "Pair(0, Pair(1, Pair(2, Pair(3, None))))\n",
      "Pair(0, Pair(1, Pair(FLAGGED, Pair(3, None))))\n",
      "Pair(0, Pair(1, None))\n"
     ]
    }
   ],
   "source": [
    "li = enumerate_li(0,3)\n",
    "print(li_str(li))\n",
    "li(\"snd\")(\"snd\")(\"set_fst!\")(\"FLAGGED\")\n",
    "print(li_str(li))\n",
    "li(\"snd\")(\"set_snd!\")(None)\n",
    "print(li_str(li))"
   ]
  },
  {
   "cell_type": "markdown",
   "metadata": {},
   "source": [
    "# Stack, Queue, Deque\n",
    "\n",
    "Let start with some applications,\n",
    "\n",
    "In reality, we often familiar with the **queue** which follows the concept of *first come, first serve*. But some prefer to call it **first in first out** (FIFO). For example, it is just nature to use queue to manage orders in ticketing system.\n",
    "\n",
    "However, **stack** follows the concept of **last in first out**. Often, a pile of plates is taken as analogies to describe how stack works. The most recent plate is at the top, then it will be also the first taken out. \n",
    "A more relevant application would be the undo-redo operations in editor applications. They are actually follow the concept of stack (why?). \n",
    "Unbeknownst to many, many CPU processor dedicate one of its register to store the pointer ot stack for fast access.\n",
    "\n",
    "Anyway, this note will provide implementation of queue and stack. You should find out why `enqueue` and `dequeue` are constant time operation.\n",
    "\n",
    "**Exercise**: Implement Deque, where push, pop, enqueue are constant time operation, including **the case of deleting the Node at the back of the list**.\n",
    "\n",
    "Tips: Maintain back pointer for each Node"
   ]
  },
  {
   "cell_type": "code",
   "execution_count": 197,
   "metadata": {},
   "outputs": [],
   "source": [
    "def Queue():\n",
    "    li = None\n",
    "    back = None\n",
    "    def enqueue(x):\n",
    "        nonlocal back\n",
    "        new_back = Pair(x, None)\n",
    "        if back is None:\n",
    "            nonlocal li\n",
    "            back = li = new_back\n",
    "            return li\n",
    "        else:\n",
    "            back(\"set_snd!\")(new_back)\n",
    "            back = new_back\n",
    "            return li\n",
    "    def dequeue():\n",
    "        nonlocal li, back\n",
    "        li = li(\"snd\")\n",
    "        back = back if li is not None else back\n",
    "        return li\n",
    "    def repr():\n",
    "        def recur(li):\n",
    "            if li(\"snd\") is not None:\n",
    "                return f\"{li('fst')}, {recur(li('snd'))}\"\n",
    "            else:\n",
    "                return li('fst')\n",
    "        return f\"({recur(li)})\"\n",
    "    def dispatch(msg):\n",
    "        if msg == \"enqueue!\":\n",
    "            return enqueue\n",
    "        elif msg == \"dequeue!\":\n",
    "            return dequeue\n",
    "        elif msg == \"repr\":\n",
    "            return repr\n",
    "        else:\n",
    "            raise Exception(f\"{msg}: Unknown message for Queue instances\")\n",
    "    return dispatch"
   ]
  },
  {
   "cell_type": "code",
   "execution_count": 198,
   "metadata": {},
   "outputs": [],
   "source": [
    "def Stack():\n",
    "    li = None\n",
    "    def push(x):\n",
    "        nonlocal li\n",
    "        li = Pair(x, li)\n",
    "        return li\n",
    "    def pop():\n",
    "        nonlocal li\n",
    "        li = li(\"snd\")\n",
    "        return li\n",
    "    def repr():\n",
    "        def recur(li):\n",
    "            if li(\"snd\") is not None:\n",
    "                return f\"{li('fst')}, {recur(li('snd'))}\"\n",
    "            else:\n",
    "                return li('fst')\n",
    "        return f\"({recur(li)})\"\n",
    "    def dispatch(msg):\n",
    "        if msg == \"push!\":\n",
    "            return push\n",
    "        elif msg == \"pop!\":\n",
    "            return pop\n",
    "        elif msg == \"repr\":\n",
    "            return repr\n",
    "        else:\n",
    "            raise Exception(f\"{msg}: Unknown message for Stack instances\")\n",
    "    return dispatch"
   ]
  },
  {
   "cell_type": "code",
   "execution_count": 199,
   "metadata": {},
   "outputs": [
    {
     "name": "stdout",
     "output_type": "stream",
     "text": [
      "(Seiran, Ringo, Tewi, Reisen)\n",
      "(Ringo, Tewi, Reisen)\n",
      "(Eirin, Kaguya, Ringo, Tewi, Reisen)\n"
     ]
    }
   ],
   "source": [
    "s = Stack()\n",
    "s(\"push!\")(\"Reisen\")\n",
    "s(\"push!\")(\"Tewi\")\n",
    "s(\"push!\")(\"Ringo\")\n",
    "s(\"push!\")(\"Seiran\")\n",
    "print(s(\"repr\")())\n",
    "s(\"pop!\")()\n",
    "print(s(\"repr\")())\n",
    "s(\"push!\")(\"Kaguya\")\n",
    "s(\"push!\")(\"Eirin\")\n",
    "print(s(\"repr\")())"
   ]
  },
  {
   "cell_type": "code",
   "execution_count": 200,
   "metadata": {},
   "outputs": [
    {
     "name": "stdout",
     "output_type": "stream",
     "text": [
      "(Komachi, Yuyuko, Yukari)\n",
      "(Yuyuko, Yukari)\n",
      "(Yuyuko, Yukari, Coffin Dancers)\n"
     ]
    }
   ],
   "source": [
    "q = Queue()\n",
    "q(\"enqueue!\")(\"Komachi\")\n",
    "q(\"enqueue!\")(\"Yuyuko\")\n",
    "q(\"enqueue!\")(\"Yukari\")\n",
    "print(q(\"repr\")())\n",
    "q(\"dequeue!\")()\n",
    "print(q(\"repr\")())\n",
    "q(\"enqueue!\")(\"Coffin Dancers\")\n",
    "print(q(\"repr\")())"
   ]
  },
  {
   "cell_type": "markdown",
   "metadata": {},
   "source": [
    "# Represent Binary Search Tree"
   ]
  },
  {
   "cell_type": "code",
   "execution_count": 203,
   "metadata": {},
   "outputs": [],
   "source": [
    "def Node(x, left = None, right = None):\n",
    "    def dispatch(msg):\n",
    "        if msg == \"data\":\n",
    "            return x\n",
    "        elif msg == \"left\":\n",
    "            return left\n",
    "        elif msg == \"right\":\n",
    "            return right\n",
    "    return dispatch\n",
    "\n",
    "def data(node):\n",
    "    return node(\"data\")\n",
    "\n",
    "def left(node):\n",
    "    return node(\"left\")\n",
    "\n",
    "def right(node):\n",
    "    return node(\"right\")\n",
    "\n",
    "def Table():\n",
    "    # Table is a binary tree that store Node\n",
    "    # each Node is pair of key, and value\n",
    "    # then the tree is ordered by key\n",
    "    tbl = None\n",
    "    def key(p):\n",
    "        return p(\"fst\")\n",
    "    def at(k):\n",
    "        def recur(node):\n",
    "            if node is None:\n",
    "                return None\n",
    "            elif k < key(data(node)):\n",
    "                return recur(left(node))\n",
    "            elif k > key(data(node)):\n",
    "                return recur(right(node))\n",
    "            else: # k is in the tree\n",
    "                return data(node)(\"snd\")\n",
    "        return recur(tbl)\n",
    "    def insert(k, v):\n",
    "        x = Pair(k, v)\n",
    "        def recur(node):\n",
    "            if node is None:\n",
    "                return Node(x)\n",
    "            elif key(x) < key(data(node)):\n",
    "                return Node(data(node), recur(left(node)), right(node))\n",
    "            elif key(x) > key(data(node)):\n",
    "                return Node(data(node), left(node), recur(right(node)))\n",
    "            else: # x is in the tree\n",
    "                return Node(x, left(node), right(node))\n",
    "        nonlocal tbl\n",
    "        tbl = recur(tbl)\n",
    "        return tbl\n",
    "    def dispatch(key, val = None):\n",
    "        key = str(key)\n",
    "        if val is None:\n",
    "            return at(key)\n",
    "        else:\n",
    "            return insert(key, val)\n",
    "    return dispatch"
   ]
  },
  {
   "cell_type": "markdown",
   "metadata": {},
   "source": [
    "# Application of `Table`: Work Like `Pyhton`'s `dict`"
   ]
  },
  {
   "cell_type": "code",
   "execution_count": 204,
   "metadata": {},
   "outputs": [
    {
     "name": "stdout",
     "output_type": "stream",
     "text": [
      "Cirno\n",
      "None\n",
      "Black White Human Magician\n",
      "Black White Human Magician 16\n",
      "Pair(Girl of Knowledge, Pair(Elemental Magician, Pair(Librarian, None)))\n"
     ]
    }
   ],
   "source": [
    "tbl = Table()\n",
    "tbl(9, \"Cirno\")\n",
    "print(tbl(9))\n",
    "\n",
    "tbl(\"Reimu\", None)\n",
    "print(tbl(\"Reimu\"))\n",
    "\n",
    "info = Table()\n",
    "info(\"age\", 16)\n",
    "info(\"alias\", \"Black White Human Magician\")\n",
    "print(info(\"alias\"))\n",
    "tbl(\"Marisa\", info)\n",
    "print(tbl(\"Marisa\")(\"alias\"), tbl(\"Marisa\")(\"age\"))\n",
    "\n",
    "alias = Pair(\"Girl of Knowledge\", Pair(\"Elemental Magician\", Pair(\"Librarian\", None)))\n",
    "tbl(\"Patchouli\", alias)\n",
    "print(li_str(tbl(\"Patchouli\")))"
   ]
  },
  {
   "cell_type": "markdown",
   "metadata": {},
   "source": [
    "# Application of `Table` : Represeting Object"
   ]
  },
  {
   "cell_type": "code",
   "execution_count": 137,
   "metadata": {},
   "outputs": [
    {
     "name": "stdout",
     "output_type": "stream",
     "text": [
      "Bank_Acc(Hakurei Reimu,80)\n",
      "Bank_Acc(Hakurei Reimu,200)\n"
     ]
    }
   ],
   "source": [
    "def Bank_Acc(nm, amt = 0):\n",
    "    def withdraw(this, amt):\n",
    "        this(\"amt\", this(\"amt\") - amt)\n",
    "    def deposit(this, amt):\n",
    "        this(\"amt\", this(\"amt\") + amt)\n",
    "    def repr(this):\n",
    "        return f\"Bank_Acc({this('nm')},{this('amt')})\"\n",
    "    this = Table()\n",
    "    this(\"withdraw\", withdraw)\n",
    "    this(\"nm\", nm)\n",
    "    this(\"amt\", amt)\n",
    "    this(\"deposit\", deposit)\n",
    "    this(\"repr\", repr)\n",
    "    return this\n",
    "\n",
    "def call_dict_fn(inst, name, *args):\n",
    "    return inst(name)(inst, *args)\n",
    "\n",
    "reimu_acc = Bank_Acc(\"Hakurei Reimu\", 100)\n",
    "call_dict_fn(reimu_acc, \"withdraw\", 20)\n",
    "print(call_dict_fn(reimu_acc, \"repr\"))\n",
    "call_dict_fn(reimu_acc, \"deposit\", 120)\n",
    "print(call_dict_fn(reimu_acc, \"repr\"))"
   ]
  }
 ],
 "metadata": {
  "kernelspec": {
   "display_name": "Python 3.10.2 64-bit",
   "language": "python",
   "name": "python3"
  },
  "language_info": {
   "codemirror_mode": {
    "name": "ipython",
    "version": 3
   },
   "file_extension": ".py",
   "mimetype": "text/x-python",
   "name": "python",
   "nbconvert_exporter": "python",
   "pygments_lexer": "ipython3",
   "version": "3.10.2"
  },
  "orig_nbformat": 4,
  "vscode": {
   "interpreter": {
    "hash": "2324a66782fee6ab9f0bdb3c9e79ee636ed86487484f245c4444858429ce7730"
   }
  }
 },
 "nbformat": 4,
 "nbformat_minor": 2
}
