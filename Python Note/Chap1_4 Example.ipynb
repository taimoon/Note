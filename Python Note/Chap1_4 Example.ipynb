{
 "cells": [
  {
   "cell_type": "code",
   "execution_count": null,
   "metadata": {},
   "outputs": [],
   "source": [
    "def random_hand():\n",
    "    # return a string from the  ['paper', 'rock', 'scissors'] randomly\n",
    "    # enclosed with square brackets and values seperated with comma\n",
    "    # then it is a list which holds multiple values\n",
    "    hands = ['paper', 'rock', 'scissors'] \n",
    "    from random import choice\n",
    "    return choice(hands)\n",
    "\n",
    "def rock_paper_scissors():\n",
    "    usr_hand = input('Enter any one: paper, rock, scissors')\n",
    "    ai_hand = random_hand() \n",
    "    print(f'user = {usr_hand}, AI = {ai_hand}')\n",
    "    # determing which hand is winning\n",
    "    if usr_hand == ai_hand:\n",
    "        return 'draw'\n",
    "    elif usr_hand == 'paper' and ai_hand == 'rock':\n",
    "        return \"you win\"\n",
    "    elif usr_hand == 'rock' and ai_hand == 'scissors':\n",
    "        return \"you win\"\n",
    "    elif usr_hand == 'scissors' and ai_hand == 'paper':\n",
    "        return \"you win\"\n",
    "    else:\n",
    "        return \"you lose\"\n",
    "rock_paper_scissors()"
   ]
  },
  {
   "cell_type": "code",
   "execution_count": 2,
   "metadata": {},
   "outputs": [
    {
     "name": "stdout",
     "output_type": "stream",
     "text": [
      "user = paper, AI = scissors\n",
      "AI win a score\n",
      "user = paper, AI = rock\n",
      "user win a score\n",
      "user = paper, AI = scissors\n",
      "AI win a score\n",
      "1-2 User Lose!\n"
     ]
    }
   ],
   "source": [
    "def random_hand():\n",
    "    # return a string from the  ['paper', 'rock', 'scissors'] randomly\n",
    "    hands = ['paper', 'rock', 'scissors']\n",
    "    from random import choice\n",
    "    return choice(hands)\n",
    "def who_win(hand1, hand2):\n",
    "    '''\n",
    "    hand1, draw - -1\n",
    "    \n",
    "    hand1, win  - 0\n",
    "    \n",
    "    hand1, lose - 1\n",
    "    '''\n",
    "    if hand1 == hand2:\n",
    "        return -1\n",
    "    elif hand1 == 'paper' and hand2 == 'rock':\n",
    "        return 0\n",
    "    elif hand1 == 'rock' and hand2 == 'scissors':\n",
    "        return 0\n",
    "    elif hand1 == 'scissors' and hand2 == 'paper':\n",
    "        return 0\n",
    "    else:\n",
    "        return 1\n",
    "\n",
    "def is_win_score(s,n):\n",
    "\treturn s >= (n//2 + 1)\n",
    "\n",
    "def test(n):\n",
    "\tfor i in range(n+1):\n",
    "\t\tprint(i, is_win_score(i, n)) \n",
    "\n",
    "def rock_paper_scissors(n = 3):\n",
    "    usr_score = 0\n",
    "    ai_score = 0\n",
    "    while True:\n",
    "        usr_hand = input('Enter any one: paper, rock, scissors')\n",
    "        ai_hand = random_hand()\n",
    "        print(f'user = {usr_hand}, AI = {ai_hand}')\n",
    "        res = who_win(ai_hand, usr_hand)\n",
    "        if res == 1:\n",
    "            usr_score += res\n",
    "            print('user win a score')\n",
    "        elif res == 0:\n",
    "            ai_score += 1\n",
    "            print('AI win a score')\n",
    "        else:\n",
    "            print('draw')\n",
    "        \n",
    "        if is_win_score(usr_score,n):\n",
    "            print(f'{usr_score}-{ai_score} User win!')\n",
    "            break\n",
    "        elif is_win_score(ai_score,n):\n",
    "            print(f'{usr_score}-{ai_score} User Lose!')\n",
    "            break\n",
    "    \n",
    "rock_paper_scissors()"
   ]
  }
 ],
 "metadata": {
  "kernelspec": {
   "display_name": "Python 3",
   "language": "python",
   "name": "python3"
  },
  "language_info": {
   "codemirror_mode": {
    "name": "ipython",
    "version": 3
   },
   "file_extension": ".py",
   "mimetype": "text/x-python",
   "name": "python",
   "nbconvert_exporter": "python",
   "pygments_lexer": "ipython3",
   "version": "3.10.2"
  },
  "orig_nbformat": 4,
  "vscode": {
   "interpreter": {
    "hash": "2324a66782fee6ab9f0bdb3c9e79ee636ed86487484f245c4444858429ce7730"
   }
  }
 },
 "nbformat": 4,
 "nbformat_minor": 2
}
