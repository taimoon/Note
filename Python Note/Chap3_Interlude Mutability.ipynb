{
 "cells": [
  {
   "cell_type": "markdown",
   "metadata": {},
   "source": [
    "`Python` has the notion of **mutability**.  Approximately, an entity in `Python` that has internal states which change over time, is said to be mutable. \n",
    "This note does not dicuss neither the exact nor working definition of mutability.\n",
    "Rather, the note provides few examples shows the perculiar behaviour mutability. "
   ]
  },
  {
   "cell_type": "markdown",
   "metadata": {},
   "source": [
    "# List is Mutable\n",
    "\n",
    "`List` is an object and mutable. Suppose that the program intends to initialize the game board for tic-tac toe. \n",
    "Incrementally, once the program successully print out the board, the author can start working on inserting tic and tac.\n",
    "However, the author realised that it doesn't work as expected.\n",
    "\n",
    "It is intended to insert a tic on a block only, but the the change is also effective on other row."
   ]
  },
  {
   "cell_type": "code",
   "execution_count": 1,
   "metadata": {},
   "outputs": [
    {
     "name": "stdout",
     "output_type": "stream",
     "text": [
      "['-', '-', '-']\n",
      "['-', '-', '-']\n",
      "['-', '-', '-']\n"
     ]
    }
   ],
   "source": [
    "row = ['-', '-', '-']\n",
    "board = [row for _ in range(3)]\n",
    "def print_board(board):\n",
    "    for r in board:\n",
    "        print(r)\n",
    "print_board(board)"
   ]
  },
  {
   "cell_type": "code",
   "execution_count": 2,
   "metadata": {},
   "outputs": [
    {
     "name": "stdout",
     "output_type": "stream",
     "text": [
      "['-', 'O', '-']\n",
      "['-', 'O', '-']\n",
      "['-', 'O', '-']\n"
     ]
    }
   ],
   "source": [
    "# insert a tic on a block\n",
    "board[0][1] = 'O'\n",
    "print_board(board)"
   ]
  },
  {
   "cell_type": "markdown",
   "metadata": {},
   "source": [
    "This happens because the expression  `[row for _ in range(3)]`  doesn't do deep copy of `row`. \n",
    "Rather, it only kept the reference to location of the `row` list.\n",
    "This is the things discussed in the topic Problem of Sameness and Change.\n",
    "\n",
    "Indeed, `board[0]`,`board[1]` and `board[2]` refer to the same `row`. This can be tested using `is` operator."
   ]
  },
  {
   "cell_type": "code",
   "execution_count": 3,
   "metadata": {},
   "outputs": [
    {
     "name": "stdout",
     "output_type": "stream",
     "text": [
      "True\n",
      "True\n"
     ]
    }
   ],
   "source": [
    "print(board[0] is board[1])\n",
    "print(board[0] is board[2])"
   ]
  },
  {
   "cell_type": "code",
   "execution_count": 4,
   "metadata": {},
   "outputs": [
    {
     "name": "stdout",
     "output_type": "stream",
     "text": [
      "['-', '-', '-']\n",
      "['-', '-', '-']\n",
      "['-', '-', '-']\n",
      "after insert\n",
      "['-', 'O', '-']\n",
      "['-', '-', '-']\n",
      "['-', '-', '-']\n"
     ]
    }
   ],
   "source": [
    "# fixed version\n",
    "board = [['-', '-', '-'] for _ in range(3)] # change\n",
    "def print_board(board):\n",
    "    for r in board:\n",
    "        print(r)\n",
    "print_board(board)\n",
    "print(\"after insert\")\n",
    "# insert a tic on a block\n",
    "board[0][1] = 'O'\n",
    "print_board(board)"
   ]
  },
  {
   "cell_type": "code",
   "execution_count": 5,
   "metadata": {},
   "outputs": [
    {
     "name": "stdout",
     "output_type": "stream",
     "text": [
      "False\n",
      "False\n"
     ]
    }
   ],
   "source": [
    "print(board[0] is board[1])\n",
    "print(board[0] is board[2])"
   ]
  },
  {
   "cell_type": "markdown",
   "metadata": {},
   "source": [
    "The program above is fixed version.\n",
    "We should do `is` testing \n",
    "to ensure that `board[0]`, `board[1]` and `board[2]` are not the same thing."
   ]
  },
  {
   "cell_type": "markdown",
   "metadata": {},
   "source": [
    "# Function Default Argument and Mutability\n",
    "The function definition of below `greeting(name, greet='hello')` where `greeting` is seemingly assigned the value `hello`, it is called **default argument**.\n",
    "When calling the `greeting` function and the argument `greet` is not supplied (i.e.: line2), the `greeting` function will use the value of default argument instead.\n",
    "\n",
    "Note that the values (including expressions) of default arguments are evaluated once.\n",
    "Please take note that, non default parameters must precede the default arguments. \n",
    "\n",
    "For example, `def greeting(greet = 'hello', name)` is illegal in `Python`."
   ]
  },
  {
   "cell_type": "code",
   "execution_count": 6,
   "metadata": {},
   "outputs": [
    {
     "name": "stdout",
     "output_type": "stream",
     "text": [
      "hello Hakurei\n",
      "Good Morning Hakurei\n"
     ]
    }
   ],
   "source": [
    "def greeting(name, greet = 'hello'):\n",
    "    print(f\"{greet} {name}\")\n",
    "greeting('Hakurei')\n",
    "greeting('Hakurei', 'Good Morning')"
   ]
  },
  {
   "attachments": {},
   "cell_type": "markdown",
   "metadata": {},
   "source": [
    "Consider a situation, in Malaysia, we've 10, 20, 50 cents, and below is a way to make up RM 1\n",
    "\n",
    "$$\n",
    "20 + 20 + 10 + 50 = 100 \\text{ cents} = \\text{RM } 1\n",
    "$$\n",
    "\n",
    "Then, program below returns the number of ways of making change to a target amount."
   ]
  },
  {
   "cell_type": "code",
   "execution_count": 7,
   "metadata": {},
   "outputs": [],
   "source": [
    "def count_change(amount, coins):\n",
    "    if amount == 0:\n",
    "        return 1\n",
    "    elif amount < 0:\n",
    "        return 0\n",
    "    elif coins == []:\n",
    "        return 0\n",
    "    else:\n",
    "        return count_change(amount, coins[1:]) + count_change(amount - coins[0], coins)"
   ]
  },
  {
   "cell_type": "code",
   "execution_count": 8,
   "metadata": {},
   "outputs": [
    {
     "data": {
      "text/plain": [
       "10"
      ]
     },
     "execution_count": 8,
     "metadata": {},
     "output_type": "execute_result"
    }
   ],
   "source": [
    "COINS = [1,5,10,25,50]\n",
    "assert(count_change(100, COINS) == 292)\n",
    "MY_COINS = [10,20,50]\n",
    "count_change(100, MY_COINS)"
   ]
  },
  {
   "cell_type": "markdown",
   "metadata": {},
   "source": [
    "It is tempting to use default argument like below"
   ]
  },
  {
   "cell_type": "code",
   "execution_count": 9,
   "metadata": {},
   "outputs": [],
   "source": [
    "DEFAULT_COINS = [1,5,10,25,50]\n",
    "def count_change(amount, coins = DEFAULT_COINS):\n",
    "    if amount == 0:\n",
    "        return 1\n",
    "    elif amount < 0:\n",
    "        return 0\n",
    "    elif coins == []:\n",
    "        return 0\n",
    "    else:\n",
    "        return count_change(amount, coins[1:]) + count_change(amount - coins[0], coins)\n",
    "assert(count_change(100) == 292)"
   ]
  },
  {
   "cell_type": "code",
   "execution_count": 10,
   "metadata": {},
   "outputs": [
    {
     "data": {
      "text/plain": [
       "242"
      ]
     },
     "execution_count": 10,
     "metadata": {},
     "output_type": "execute_result"
    }
   ],
   "source": [
    "DEFAULT_COINS.pop()\n",
    "count_change(100)"
   ]
  },
  {
   "cell_type": "markdown",
   "metadata": {},
   "source": [
    "If we try to run this code\n",
    "```\n",
    "DEFAULT_COINS.pop()\n",
    "count_change(100)\n",
    "```\n",
    "you will get different results. \n",
    "Note that the values (including expressions) of default arguments are evaluated once.\n",
    "Additionaly, `DEFAULT_COINS` is a mutable list then \n",
    "the default argument `coins` only store the reference of location.\n",
    "Hence, the function `count_change` can use the changed mutable `DEFAULT_COINS`.\n",
    "\n",
    "To avoid these, use immutable objects (e.g.: `tuple`, `string`) so that it throws error if the program attempts to change it."
   ]
  },
  {
   "cell_type": "code",
   "execution_count": 11,
   "metadata": {},
   "outputs": [],
   "source": [
    "DEFAULT_COINS = (1,5,10,25,50)  # tuple\n",
    "def count_change(amount, coins = (1,5,10,25,50)):\n",
    "    if amount == 0:\n",
    "        return 1\n",
    "    elif amount < 0:\n",
    "        return 0\n",
    "    elif coins == (): # change\n",
    "        return 0\n",
    "    else:\n",
    "        return count_change(amount, coins[1:]) + count_change(amount - coins[0], coins)\n",
    "assert(count_change(100) == 292)"
   ]
  }
 ],
 "metadata": {
  "kernelspec": {
   "display_name": "Python 3.10.2 64-bit",
   "language": "python",
   "name": "python3"
  },
  "language_info": {
   "codemirror_mode": {
    "name": "ipython",
    "version": 3
   },
   "file_extension": ".py",
   "mimetype": "text/x-python",
   "name": "python",
   "nbconvert_exporter": "python",
   "pygments_lexer": "ipython3",
   "version": "3.10.2"
  },
  "orig_nbformat": 4,
  "vscode": {
   "interpreter": {
    "hash": "2324a66782fee6ab9f0bdb3c9e79ee636ed86487484f245c4444858429ce7730"
   }
  }
 },
 "nbformat": 4,
 "nbformat_minor": 2
}
