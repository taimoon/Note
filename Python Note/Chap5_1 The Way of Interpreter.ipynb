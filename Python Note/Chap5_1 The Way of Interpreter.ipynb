{
 "cells": [
  {
   "cell_type": "markdown",
   "metadata": {},
   "source": [
    "# Lint - Binary Operator Calculator"
   ]
  },
  {
   "cell_type": "markdown",
   "metadata": {},
   "source": [
    "The syntax and evaluation:\n",
    "```\n",
    "3 => 3\n",
    "4 => 4\n",
    "Mul(3,3) => 3*3 => 9\n",
    "Mul(4,4) => 4*4 => 16\n",
    "Add(9,16) => 25\n",
    "Add(Mul(3,3),Mul(4,4)) => Add(9,16) => 25\n",
    "```\n",
    "\n",
    "This section proposes two implementations which are first using data structure (Python's `list`) and second is using closure,procedural representation (i.e.: message passing style). The functions are organized as follow:\n",
    "\n",
    "```\n",
    "# Primitive operation we want to snarf from Python\n",
    "x+y # the add operator\n",
    "int # the integer\n",
    "x*y # the mul operator\n",
    "\n",
    "# constructor\n",
    "Add(x,y) # create Add expression, x and y can be expression\n",
    "Mul(x,y) # create Mul expression, x and y can be expression\n",
    "int(x) # create a number\n",
    "\n",
    "# predicate\n",
    "is_Mul(e) # test e if mul expression\n",
    "is_Add(e) # test e if add expression\n",
    "is_Num(e) # test e if a number\n",
    "\n",
    "# selector\n",
    "augend(Add(x,y)) -> x\n",
    "addend(Add(x,y)) -> y\n",
    "multiplier(Mul(x,y)) -> x\n",
    "multiplicand(Mul(x,y)) -> y\n",
    "```"
   ]
  },
  {
   "cell_type": "markdown",
   "metadata": {},
   "source": [
    "## The `calc` interpreter"
   ]
  },
  {
   "cell_type": "code",
   "execution_count": 1,
   "metadata": {},
   "outputs": [],
   "source": [
    "def calc(p):\n",
    "    if is_Num(p):\n",
    "        return p\n",
    "    elif is_Add(p):\n",
    "        return calc(augend(p)) + calc(addend(p))\n",
    "    elif is_Mul(p):\n",
    "        return calc(multiplier(p)) * calc(multiplicand(p))\n",
    "\n",
    "def is_Num(e):\n",
    "    'is_Num(int(x)) -> True'\n",
    "    ...\n",
    "def is_Add(e):\n",
    "    'is_Add(Add(x,y)) -> True'\n",
    "    ...\n",
    "def augend(e):\n",
    "    'augend(Add(x,y)) -> x'\n",
    "    ...\n",
    "def addend(e):\n",
    "    'addend(Add(x,y)) -> y'\n",
    "    ...\n",
    "def is_Mul(e):\n",
    "    'is_Mul(Mul(x,y)) -> True'\n",
    "    ...\n",
    "def multiplier(e):\n",
    "    'multiplier(Mul(x,y)) -> x'\n",
    "    ...\n",
    "def multiplicand(e):\n",
    "    'multiplicand(Mul(x,y)) -> y'\n",
    "    ..."
   ]
  },
  {
   "cell_type": "markdown",
   "metadata": {},
   "source": [
    "## Data Structure"
   ]
  },
  {
   "cell_type": "code",
   "execution_count": 2,
   "metadata": {},
   "outputs": [
    {
     "name": "stdout",
     "output_type": "stream",
     "text": [
      "Add(Mul(3,3),Mul(4,4)) => 25\n"
     ]
    }
   ],
   "source": [
    "def is_Num(e):\n",
    "    return isinstance(e,int)\n",
    "\n",
    "def Add(x,y):\n",
    "    return ['+',x,y]\n",
    "def is_Add(e):\n",
    "    return isinstance(e,list) and e[0] == '+'\n",
    "def augend(e):\n",
    "    return e[1]\n",
    "def addend(e):\n",
    "    return e[2]\n",
    "\n",
    "def Mul(x,y):\n",
    "    return ['*',x,y]\n",
    "def is_Mul(e):\n",
    "    return isinstance(e,list) and e[0] == '*'\n",
    "def multiplier(e):\n",
    "    return e[1]\n",
    "def multiplicand(e):\n",
    "    return e[2]\n",
    "\n",
    "def recur_repr(e):\n",
    "    if is_Add(e):\n",
    "        return f'Add({recur_repr(augend(e))},{recur_repr(addend(e))})'\n",
    "    elif is_Mul(e):\n",
    "        return f'Mul({recur_repr(multiplier(e))},{recur_repr(multiplicand(e))})'\n",
    "    elif is_Num(e):\n",
    "        return str(e)\n",
    "    else:\n",
    "        return ''\n",
    "\n",
    "expression = Add(Mul(3,3),Mul(4,4))\n",
    "print(recur_repr(expression),'=>',calc(expression))"
   ]
  },
  {
   "cell_type": "markdown",
   "metadata": {},
   "source": [
    "## Message passing style"
   ]
  },
  {
   "cell_type": "code",
   "execution_count": 3,
   "metadata": {},
   "outputs": [
    {
     "name": "stdout",
     "output_type": "stream",
     "text": [
      "Add(Mul(3,3),Mul(4,4)) => 25\n"
     ]
    }
   ],
   "source": [
    "def is_Num(e):\n",
    "    return isinstance(e,int)\n",
    "\n",
    "def recur_repr(e):\n",
    "    return e('repr') if not is_Num(e) else e\n",
    "\n",
    "def Add(x,y):\n",
    "    def dispatch(msg):\n",
    "        if msg == 'augend':\n",
    "            return x\n",
    "        elif msg == 'addend':\n",
    "            return y\n",
    "        elif msg == 'annotation':\n",
    "            return 'add'\n",
    "        elif msg == 'repr':\n",
    "            return f'Add({recur_repr(x)},{recur_repr(y)})'\n",
    "    return dispatch\n",
    "def is_Add(e):\n",
    "    return e('annotation') == 'add'\n",
    "def augend(e):\n",
    "    return e('augend')\n",
    "def addend(e):\n",
    "    return e('addend')\n",
    "\n",
    "def Mul(x,y):\n",
    "    def dispatch(msg):\n",
    "        if msg == 'multiplier':\n",
    "            return x\n",
    "        elif msg == 'multiplicand':\n",
    "            return y\n",
    "        elif msg == 'annotation':\n",
    "            return 'mul'\n",
    "        elif msg == 'repr':\n",
    "            return f'Mul({recur_repr(x)},{recur_repr(y)})'\n",
    "    return dispatch\n",
    "def is_Mul(e):\n",
    "    return e('annotation') == 'mul'\n",
    "def multiplier(e):\n",
    "    return e('multiplier')\n",
    "def multiplicand(e):\n",
    "    return e('multiplicand')\n",
    "\n",
    "expression = Add(Mul(3,3),Mul(4,4))\n",
    "print(recur_repr(expression),'=>',calc(expression))"
   ]
  },
  {
   "cell_type": "markdown",
   "metadata": {},
   "source": [
    "# Object based Calculator\n",
    "\n",
    "It would be very cumbersome and a lot of work to use methods in previous section as the language becomes larger. This is because we've to define constructor,selectors and predicates for each type of expression added to our language. The reptitive tasks of defining these is an opportunity to introduce convenient abstraction to sort thing out. \n",
    "\n",
    "In `python`, we may make use of `class` to define constructor,selectors,predicates and representation at once."
   ]
  },
  {
   "cell_type": "code",
   "execution_count": 4,
   "metadata": {},
   "outputs": [
    {
     "name": "stdout",
     "output_type": "stream",
     "text": [
      "Add(Mul(3,3),Mul(4,4)) => 25\n"
     ]
    }
   ],
   "source": [
    "class Add:\n",
    "    def __init__(self,x,y) -> None:\n",
    "        self.left = x\n",
    "        self.right = y\n",
    "    def __repr__(self) -> str:\n",
    "        return f'Add({self.left},{self.right})'\n",
    "\n",
    "class Mul:\n",
    "    def __init__(self,x,y) -> None:\n",
    "        self.left = x\n",
    "        self.right = y\n",
    "    def __repr__(self) -> str:\n",
    "        return f'Mul({self.left},{self.right})'\n",
    "\n",
    "Num=int\n",
    "def calc(e):\n",
    "    if isinstance(e,Num):\n",
    "        return e\n",
    "    elif isinstance(e,Mul):\n",
    "        return calc(e.left) * calc(e.right)\n",
    "    elif isinstance(e,Add):\n",
    "        return calc(e.left) + calc(e.right)\n",
    "    \n",
    "expression = Add(Mul(3,3),Mul(4,4))\n",
    "print(repr(expression),'=>',calc(expression))"
   ]
  },
  {
   "cell_type": "markdown",
   "metadata": {},
   "source": [
    "# Structural Pattern Matching\n",
    "In writing interpter using `python`, it can be more convenient by using `match...case` statement as follows"
   ]
  },
  {
   "cell_type": "code",
   "execution_count": 5,
   "metadata": {},
   "outputs": [
    {
     "name": "stdout",
     "output_type": "stream",
     "text": [
      "Add(Mul(3,3),Mul(4,4)) => 25\n"
     ]
    }
   ],
   "source": [
    "Mul.__match_args__=('left','right')\n",
    "Add.__match_args__=('left','right')\n",
    "def calc(e):\n",
    "    match e:\n",
    "        case int(x):\n",
    "            return x\n",
    "        case Mul(left,right):\n",
    "            return calc(left) * calc(right)\n",
    "        case Add(left,right):\n",
    "            return calc(left) + calc(right)\n",
    "    \n",
    "expression = Add(Mul(3,3),Mul(4,4))\n",
    "print(repr(expression),'=>',calc(expression))"
   ]
  },
  {
   "cell_type": "markdown",
   "metadata": {},
   "source": [
    "# `dataclass`\n",
    "As a programmer, it is a virtue to be lazy; invest effort in reducing repetition tasks. Indeed, `python` provides a convenient way to define constructors,selectors,predicates,representation and match arguments at once; by using the decorator `dataclass`.\n",
    "\n",
    "In later sections, we shall use the `dataclass` abstraction in developing interpreter."
   ]
  },
  {
   "cell_type": "code",
   "execution_count": 6,
   "metadata": {},
   "outputs": [
    {
     "name": "stdout",
     "output_type": "stream",
     "text": [
      "Mul(left=Mul(left=Div(left=4, right=3), right=Mul(left=3, right=Mul(left=3, right=3))), right=Div(left=22, right=7)) => 113.14285714285714\n"
     ]
    }
   ],
   "source": [
    "from dataclasses import dataclass\n",
    "@dataclass\n",
    "class Exp: ...\n",
    "Val = int|float\n",
    "Expr = Exp|Val\n",
    "\n",
    "@dataclass\n",
    "class BinOp(Exp):\n",
    "    left:Expr\n",
    "    right:Expr\n",
    "\n",
    "@dataclass\n",
    "class Add(BinOp): ...\n",
    "\n",
    "@dataclass\n",
    "class Sub(BinOp): ...\n",
    "\n",
    "@dataclass\n",
    "class Mul(BinOp): ...\n",
    "\n",
    "@dataclass\n",
    "class Div(BinOp): ...\n",
    "\n",
    "def calc(e:Expr):\n",
    "    match e:\n",
    "        case int(x)|float(x):\n",
    "            return x\n",
    "        case Mul(left,right):\n",
    "            return calc(left) * calc(right)\n",
    "        case Add(left,right):\n",
    "            return calc(left) + calc(right)\n",
    "        case Sub(left,right):\n",
    "            return calc(left) - calc(right)\n",
    "        case Div(left,right):\n",
    "            return calc(left) / calc(right)\n",
    "\n",
    "expression = Mul(\n",
    "    Mul(Div(4,3),\n",
    "        Mul(3,Mul(3,3))),\n",
    "    Div(22,7))\n",
    "print(repr(expression),'=>',calc(expression))"
   ]
  },
  {
   "cell_type": "markdown",
   "metadata": {},
   "source": [
    "# Lvar"
   ]
  },
  {
   "cell_type": "markdown",
   "metadata": {},
   "source": [
    "In previous section, we've design and implement the language `calc`. Say, the formula calculating the sphere volume can be expressed as follow:\n",
    "\n",
    "$V(r) = \\frac{4}{3}\\pi r^3$\n",
    "\n",
    "```\n",
    "Mul(Mul(Div(4,3),Mul(3,Mul(3,3))),Div(22,7)) => 113.142\n",
    "Mul(Mul(Div(4,3),Mul(5,Mul(5,5))),Div(22,7)) => 523.809\n",
    "Mul(Mul(Div(4,3),Mul(7,Mul(7,7))),Div(22,7)) => 1437.333\n",
    "```\n",
    "\n",
    "\n",
    "To calculate the volume at radius $r=5$ using `calc`, then we may type the formula accordingly and replace the symbol accordingly. But we have to repeat this process whenever we use different value of radius. It would be better then the `calc` remember the formula and we only pass the value of radius to the formula to get the result. Furthermore, the program is obscured from its original meaning like `Div(22,7)` is the approximated value of $\\pi$\n",
    "\n",
    "However, the `calc` here is not that expressive as it does not support the notion of associate names with values; this is percisely the concept of variables. To support variables, our interpreter must somehow to store that information in somewhere. This section propose the implementation of environment that store association, and extend the language to support variables.\n",
    "\n",
    "The syntax and evaluation are as follow:\n",
    "```\n",
    "Let(Var('x'),10,Add(Var('x'),10)),Env()\n",
    "    => Add(Var('x'),10), Env([['x',10]])\n",
    "        Var('x'), Env([['x',10]]) => 10\n",
    "        10,Env() => 10\n",
    "    => Add(10,10), Env([['x',10]])\n",
    "    => 20\n",
    "```"
   ]
  },
  {
   "cell_type": "markdown",
   "metadata": {},
   "source": [
    "## Environment\n",
    "The contract is as follow\n",
    "```\n",
    "create_env() => Env([])\n",
    "extend_env(x,v,Env([*xs])) => Env([[x,v],*xs])\n",
    "apply_env(x,Env([[y,v],*xs]))\n",
    "    => v if x == y\n",
    "    => apply_env(x,Env([*xs]))\n",
    "apply_env(x,Env([])) => error\n",
    "```"
   ]
  },
  {
   "cell_type": "code",
   "execution_count": 7,
   "metadata": {},
   "outputs": [
    {
     "data": {
      "text/plain": [
       "(7, 5, 3)"
      ]
     },
     "execution_count": 7,
     "metadata": {},
     "output_type": "execute_result"
    }
   ],
   "source": [
    "from dataclasses import dataclass\n",
    "@dataclass\n",
    "class Env:\n",
    "    env:list[list[str,int|float]]\n",
    "    def apply(self,var:str):\n",
    "        match self:\n",
    "            case Env([]):\n",
    "                raise NameError()\n",
    "            case Env([[x,v],*xs]) if x==var:\n",
    "                return v\n",
    "            case Env([_,*xs]):\n",
    "                return Env([*xs]).apply(var)\n",
    "    \n",
    "    def extend(self,var:str,val:Val):\n",
    "        return Env([(var,val),*self.env])\n",
    "\n",
    "def create_env() -> Env:\n",
    "    return Env([])\n",
    "\n",
    "def apply_env(var:str,env:Env) -> Val:\n",
    "    return env.apply(var)\n",
    "\n",
    "def extend_env(var:str,v:Val,env:Env) -> Env:\n",
    "    return env.extend(var,v)\n",
    "\n",
    "env = extend_env('x',5,\n",
    "                 extend_env('y',3,\n",
    "                            extend_env('x',2,\n",
    "                                       extend_env('z',7,create_env()))))\n",
    "apply_env('z',env),apply_env('x',env),apply_env('y',env)"
   ]
  },
  {
   "cell_type": "markdown",
   "metadata": {},
   "source": [
    "##  Add `let` to Lvar"
   ]
  },
  {
   "cell_type": "code",
   "execution_count": 8,
   "metadata": {},
   "outputs": [],
   "source": [
    "@dataclass\n",
    "class Var:\n",
    "    id:str\n",
    "\n",
    "@dataclass\n",
    "class Let:\n",
    "    var:Var\n",
    "    val:Exp\n",
    "    body:Exp\n",
    "\n",
    "def interp(e,env):\n",
    "    match e:\n",
    "        case int(x)|float(x):\n",
    "            return x\n",
    "        case Var(id):\n",
    "            return apply_env(id,env)\n",
    "        case Mul(left,right):\n",
    "            return interp(left,env) * interp(right,env)\n",
    "        case Add(left,right):\n",
    "            return interp(left,env) + interp(right,env)\n",
    "        case Sub(left,right):\n",
    "            return interp(left,env) - interp(right,env)\n",
    "        case Div(left,right):\n",
    "            return interp(left,env) / interp(right,env)\n",
    "        case Let(str(id),val,body):\n",
    "            return interp(body,extend_env(str(id),interp(val,env),env))"
   ]
  },
  {
   "cell_type": "code",
   "execution_count": 9,
   "metadata": {},
   "outputs": [
    {
     "name": "stdout",
     "output_type": "stream",
     "text": [
      "113.14285714285714\n",
      "523.8095238095237\n",
      "1437.3333333333333\n"
     ]
    }
   ],
   "source": [
    "formula = Let('pi',Div(22,7),Mul(Div(4,3),Mul(Var('pi'),Mul(Var('r'),Mul(Var('r'),Var('r'))))))\n",
    "expression = Let('r',3,formula)\n",
    "print(interp(expression,create_env()))\n",
    "expression = Let('r',5,formula)\n",
    "print(interp(expression,create_env()))\n",
    "expression = Let('r',7,formula)\n",
    "print(interp(expression,create_env()))"
   ]
  },
  {
   "cell_type": "markdown",
   "metadata": {},
   "source": [
    "# Lproc\n",
    "\n",
    "Though we've added variables to the language, it's not that expressive because we can't define the notion of formula in `Lvar`. Hence, we include the procedural abstraction to our language. The syntax and evaluation are as follow:\n",
    "\n",
    "```py\n",
    "Let('sqr', Proc('x',Mul(Var('x'),Var('x'))), Add(App(Var('sqr'),3), App(Var('sqr'),4))), Env([])\n",
    "=> Add(App(Var('sqr'),3), App(Var('sqr'),4)), Env([['sqr',Proc('x',Mul(Var('x'),Var('x'))]])\n",
    "    => App(Var('sqr'),3), Env([['sqr',Proc('x',Mul(Var('x'),Var('x'))]])\n",
    "    => App(Proc('x',Mul(Var('x'),Var('x')), 3), Env([['sqr',Proc('x',Mul(Var('x'),Var('x'))]])\n",
    "    => Mul(Var('x'),Var('x')), Env([['x',3],['sqr',Proc('x',Mul(Var('x'),Var('x'))]])\n",
    "    => Mul(3,3) => 9\n",
    "...\n",
    "=> Add(9,16) => 25\n",
    "```"
   ]
  },
  {
   "cell_type": "code",
   "execution_count": 10,
   "metadata": {},
   "outputs": [],
   "source": [
    "@dataclass\n",
    "class Proc(Exp):\n",
    "    param:str\n",
    "    body:Expr\n",
    "\n",
    "@dataclass\n",
    "class App(Exp):\n",
    "    op:Expr\n",
    "    arg:Expr\n",
    "\n",
    "def interp(e,env):\n",
    "    match e:\n",
    "        case int(x)|float(x):\n",
    "            return x\n",
    "        case Mul(left,right):\n",
    "            return interp(left,env) * interp(right,env)\n",
    "        case Add(left,right):\n",
    "            return interp(left,env) + interp(right,env)\n",
    "        case Sub(left,right):\n",
    "            return interp(left,env) - interp(right,env)\n",
    "        case Div(left,right):\n",
    "            return interp(left,env) / interp(right,env)\n",
    "        case Let(str(id),val,body):\n",
    "            return interp(body,extend_env(id,interp(val,env),env))\n",
    "        case Proc(params,body):\n",
    "            return Proc(params,body)\n",
    "        case Var(id):\n",
    "            return apply_env(id,env)\n",
    "        case App(op,arg):\n",
    "            match interp(op,env):\n",
    "                case Proc(param,body):\n",
    "                    return interp(body,extend_env(param,interp(arg,env),env))\n",
    "        case _:\n",
    "            raise NotImplementedError('interp, unexpected argument', e)"
   ]
  },
  {
   "cell_type": "code",
   "execution_count": 11,
   "metadata": {},
   "outputs": [
    {
     "name": "stdout",
     "output_type": "stream",
     "text": [
      "25\n",
      "2145.523809523809\n"
     ]
    }
   ],
   "source": [
    "expression = Let('sqr', Proc('x', Mul(Var('x'),Var('x'))), \n",
    "                 Add(App(Var('sqr'),3), App(Var('sqr'),4)))\n",
    "print(interp(expression,create_env()))\n",
    "cube = Proc('x',Mul(Var('x'),Mul(Var('x'),Var('x'))))\n",
    "volume = Proc('r',Let('pi',Div(22,7), Mul(Div(4,3),Mul(Var('pi'),App(Var('cube'),Var('r'))))))\n",
    "# 4/3*22/7*(2**3)**3 = 2145.52...\n",
    "expression = Let('cube',cube,Let('volume',volume, App(Var('volume'),App(Var('cube'),2))))\n",
    "print(interp(expression,create_env()))"
   ]
  },
  {
   "cell_type": "markdown",
   "metadata": {},
   "source": [
    "# Lif"
   ]
  },
  {
   "cell_type": "markdown",
   "metadata": {},
   "source": [
    "The language `Lproc` is lack of control flow construct; it cannot selectively interpret the program. For example, it is nearly impossible to define the `abs` formula in `Lproc`\n",
    "\n",
    "$$\n",
    "abs(x) = \\begin{cases}\n",
    "      -x & \\text{if $x < 0$}\\\\\n",
    "      x & \\text{otherwise}\n",
    "    \\end{cases}\n",
    "$$\n",
    "Therefore, to support such feature, the language shall include `if` construct and boolean expression (e.g.: `<,>,<=,>=,==`).\n",
    "\n",
    "The added syntax and evaluation as follow:\n",
    "\n",
    "```\n",
    "\n",
    "```\n"
   ]
  },
  {
   "cell_type": "code",
   "execution_count": 12,
   "metadata": {},
   "outputs": [],
   "source": [
    "@dataclass\n",
    "class Lt(BinOp): ...\n",
    "@dataclass\n",
    "class Gt(BinOp): ...\n",
    "@dataclass\n",
    "class Le(BinOp): ...\n",
    "@dataclass\n",
    "class Ge(BinOp): ...\n",
    "@dataclass\n",
    "class Eq(BinOp): ...\n",
    "\n",
    "Val = int|float|bool\n",
    "Expr = Exp|Val\n",
    "\n",
    "@dataclass\n",
    "class If(Exp):\n",
    "    pred:Expr\n",
    "    conseq:Expr\n",
    "    alter:Expr\n",
    "\n",
    "def interp(e,env):\n",
    "    match e:\n",
    "        case int(x)|float(x)|bool(x):\n",
    "            return x\n",
    "        case Mul(left,right):\n",
    "            return interp(left,env) * interp(right,env)\n",
    "        case Add(left,right):\n",
    "            return interp(left,env) + interp(right,env)\n",
    "        case Sub(left,right):\n",
    "            return interp(left,env) - interp(right,env)\n",
    "        case Div(left,right):\n",
    "            return interp(left,env) / interp(right,env)\n",
    "        case Let(str(id),val,body):\n",
    "            return interp(body,extend_env(id,interp(val,env),env))\n",
    "        case Proc(params,body):\n",
    "            return Proc(params,body)\n",
    "        case Var(id):\n",
    "            return apply_env(id,env)\n",
    "        case App(op,arg):\n",
    "            match interp(op,env):\n",
    "                case Proc(param,body):\n",
    "                    return interp(body,extend_env(param,interp(arg,env),env))\n",
    "        case Lt(left,right):\n",
    "            return interp(left,env) < interp(right,env)\n",
    "        case Gt(left,right):\n",
    "            return interp(left,env) > interp(right,env)\n",
    "        case Le(left,right):\n",
    "            return interp(left,env) <= interp(right,env)\n",
    "        case Ge(left,right):\n",
    "            return interp(left,env) >= interp(right,env)\n",
    "        case Eq(left,right):\n",
    "            return interp(left,env) == interp(right,env)\n",
    "        case If(pred,conseq,alter):\n",
    "            if interp(pred,env) is True:\n",
    "                return interp(conseq,env)\n",
    "            else:\n",
    "                return interp(alter,env)\n",
    "        case _:\n",
    "            raise NotImplementedError('interp, unexpected argument', e)"
   ]
  },
  {
   "cell_type": "code",
   "execution_count": 13,
   "metadata": {},
   "outputs": [
    {
     "name": "stdout",
     "output_type": "stream",
     "text": [
      "10\n",
      "10\n",
      "0\n",
      "2\n"
     ]
    }
   ],
   "source": [
    "abs = Proc('x',If(Lt(Var('x'),0),Sub(0,Var('x')),Var('x')))\n",
    "expression = Let('abs',abs, App(Var('abs'),-10))\n",
    "print(interp(expression,create_env()))\n",
    "expression = Let('abs',abs, App(Var('abs'),10))\n",
    "print(interp(expression,create_env()))\n",
    "expression = Let('abs',abs, App(Var('abs'),0))\n",
    "print(interp(expression,create_env()))\n",
    "expression = Let('abs',abs, App(Var('abs'),-2))\n",
    "print(interp(expression,create_env()))"
   ]
  },
  {
   "cell_type": "markdown",
   "metadata": {},
   "source": [
    "# Marco Expander (a.k.a syntatic extension)"
   ]
  },
  {
   "cell_type": "markdown",
   "metadata": {},
   "source": [
    "Observe that the semantic of `Let` can be dervied from `Proc` and `App` such that\n",
    "\n",
    "```py\n",
    "Let(x,v,body) = App(Proc(x,body),v)\n",
    "```\n",
    "\n",
    "There are a lot of constructs can be derived. For example, we can define `And` and `Or` operator using `If` such that\n",
    "\n",
    "```py\n",
    "And(p1,p2) = If(p1,p2,False)\n",
    "Or(p1,p2) = If(p1,True,p2)\n",
    "Not(p1) = If(p1,false,true)\n",
    "```\n",
    "\n",
    "The syntax and semantic of `cond` are as follow:\n",
    "\n",
    "```py\n",
    "Cond([[p1,e1],[p2,e2],...,e_n])\n",
    "=> If(p1,e1,Cond([[p2,e2],...,e_n]))\n",
    "\n",
    "Cond([[p,e],_e])\n",
    "=> If(p,e,_e)\n",
    "\n",
    "Cond([[p,e]])\n",
    "=> If(p,e,false)\n",
    "```\n",
    "\n",
    "Instead of interpreting the `Cond` that way, we expand first the recursive case until it reaches the other base cases, we'll get\n",
    "\n",
    "```py\n",
    "Cond([[p1,e1],[p2,e2],...,[p_m,e_m],e_n])\n",
    "=> If(p1,e1,If(p2,e2,If(...,If(p_m,e_m,e_n))))\n",
    "```\n",
    "\n",
    "Indeed, we can even interleave some naive optimizations during expanding such that\n",
    "```py\n",
    "If(true,conseq,alter) => conseq\n",
    "If(false,conseq,alter) => alter\n",
    "If(Not(e),conseq,alter) => If(e,conseq,alter)\n",
    "```"
   ]
  },
  {
   "cell_type": "code",
   "execution_count": 14,
   "metadata": {},
   "outputs": [],
   "source": [
    "@dataclass\n",
    "class UnaryOp(Exp):\n",
    "    e:Expr\n",
    "\n",
    "@dataclass\n",
    "class Not(UnaryOp):...\n",
    "@dataclass\n",
    "class And(BinOp):...\n",
    "@dataclass\n",
    "class Or(BinOp):...\n",
    "\n",
    "@dataclass\n",
    "class Cond(Exp):\n",
    "    clauses:list[list[Expr,Expr]]\n",
    "\n",
    "def expand(e):\n",
    "    match e:\n",
    "        case int()|float()|bool()|Var():\n",
    "            return e\n",
    "        case And(left,right):\n",
    "            return expand(If(left,right,False))\n",
    "        case Or(left,right):\n",
    "            return expand(If(left,True,right))\n",
    "        case If(Not(pred),conseq,alter):\n",
    "            return expand(If(pred,alter,conseq))\n",
    "        case If(True,conseq,_):\n",
    "            return expand(conseq)\n",
    "        case If(False,_,alter):\n",
    "            return expand(alter)\n",
    "        case If(pred,conseq,alter):\n",
    "            return If(expand(pred),expand(conseq),expand(alter))\n",
    "        case Cond([[pred,conseq],alter]):\n",
    "            return expand(If(pred,conseq,alter))\n",
    "        case Cond([[pred,conseq]]):\n",
    "            return expand(If(pred,conseq,False))\n",
    "        case Cond([[pred,conseq],*clauses]):\n",
    "            return expand(If(pred,conseq,Cond([*clauses])))\n",
    "        case Let(str(id),val,body):\n",
    "            return expand(App(Proc(id,body),val))\n",
    "        case App(op,arg):\n",
    "            return App(expand(op),expand(arg))\n",
    "        case Proc(param,body):\n",
    "            return Proc(param,expand(body))\n",
    "        case BinOp(left,right):\n",
    "            return e.__class__(expand(left),expand(right))\n",
    "        case _:\n",
    "            raise NotImplementedError('expander, unexpected ',e)"
   ]
  },
  {
   "cell_type": "code",
   "execution_count": 15,
   "metadata": {},
   "outputs": [
    {
     "name": "stdout",
     "output_type": "stream",
     "text": [
      "10\n",
      "True\n"
     ]
    }
   ],
   "source": [
    "abs = Proc('x',If(Lt(Var('x'),0),Sub(0,Var('x')),Var('x')))\n",
    "abs = Proc('x',Cond([\n",
    "    [Lt(Var('x'),0),Sub(0,Var('x'))],\n",
    "    [Eq(Var('x'),0),Var('x')],\n",
    "    Var('x'),\n",
    "]))\n",
    "exp = Let('abs',abs, App(Var('abs'),-10))\n",
    "r = interp(expand(exp),create_env())\n",
    "print(r)\n",
    "exp = And(Not(False),Or(False,True))\n",
    "r = expand(exp) # we can see that it's already evaluate the result before passing to interpreter\n",
    "print(r)"
   ]
  },
  {
   "cell_type": "markdown",
   "metadata": {},
   "source": [
    "# Recursion\n",
    "The language requires no special mechanism in supporting recursion"
   ]
  },
  {
   "cell_type": "code",
   "execution_count": 16,
   "metadata": {},
   "outputs": [
    {
     "data": {
      "text/plain": [
       "55"
      ]
     },
     "execution_count": 16,
     "metadata": {},
     "output_type": "execute_result"
    }
   ],
   "source": [
    "exp = Let('sum',Proc('n',\n",
    "                     If(Eq(Var('n'),0),\n",
    "                        0,\n",
    "                        Add(Var('n'),\n",
    "                            App(Var('sum'),Sub(Var('n'),1))))),\n",
    "          App(Var('sum'),10))\n",
    "env = create_env()\n",
    "interp(expand(exp),env)"
   ]
  },
  {
   "cell_type": "markdown",
   "metadata": {},
   "source": [
    "# Conclusion"
   ]
  },
  {
   "cell_type": "markdown",
   "metadata": {},
   "source": [
    "**Interpreter itself is just another program**\n",
    "\n",
    "It's quite subtle that it's just another program that explain program's result. It's not necessary to rely on hardware to explain the meaning of program, but we can develop a program called interpreter to explain  the meaning of program.\n",
    "\n",
    "> The intepreter, which determines the meaning of expressions in a programming language, is just another program. \n",
    "> \n",
    "> Hal Abelson, Structure and Interpretation of Computer Program\n",
    "\n",
    "Indeed, the gba emulator is just another interpreter that execute the legacy code of gba games by interpreting the legacy machine language; yes, it's not our device directly execute these legacy bur rather, it's the emulator that interpreting these legacy code.\n",
    "\n",
    "The study of this chatper belong to the field of programming languages, specifically the implementation and design."
   ]
  },
  {
   "cell_type": "markdown",
   "metadata": {},
   "source": [
    "**Abstraction**\n",
    "\n",
    "We see how proper abstraction can ease the development and make the code more concise via pattern-matching and object-oriented techniques."
   ]
  },
  {
   "cell_type": "markdown",
   "metadata": {},
   "source": [
    "**Macro**\n",
    "\n",
    "The macro expander allows smaller implementation of programming language. This is achieve through two functions `expand` and `interp` where `interp` implements the core constructs whereas `expand` implements the derived constructs. This is how marco in `Scheme` language works. Though, the notebook shows the application of macro via `python` but the ideas are the same.\n",
    "\n",
    "Indeed, marco is an abstracton over programming language itself since it can extend the languages. It's a meta-language feature. For example, the pattern-matching in `Scheme` can be shipped by using macro, rather than being as a part of compiler."
   ]
  },
  {
   "cell_type": "markdown",
   "metadata": {},
   "source": [
    "**Interpreter as a way to study the semantics of programming languages**\n",
    "\n",
    "**By implementing a programming langauge (interpreter), it helps us better understand why language is designed this way and the implications of features.**"
   ]
  },
  {
   "cell_type": "code",
   "execution_count": 17,
   "metadata": {},
   "outputs": [
    {
     "data": {
      "text/plain": [
       "5"
      ]
     },
     "execution_count": 17,
     "metadata": {},
     "output_type": "execute_result"
    }
   ],
   "source": [
    "exp = Let('a',3,\n",
    "          Let('p',Proc('z',Var('a')),\n",
    "              Let('f',Proc('x',App(Var('p'),0)),\n",
    "              Let('a',5,\n",
    "                  App(Var('f'),2)))))\n",
    "interp(expand(exp),create_env())"
   ]
  },
  {
   "cell_type": "markdown",
   "metadata": {},
   "source": [
    "Adapted example from EOPL\n",
    "```\n",
    "let a = 3\n",
    "in let p = proc (z) a\n",
    "    in let f = proc (x) (p 0)\n",
    "        in let a = 5\n",
    "            in (f 2)\n",
    "```\n",
    "or equivalent in `Lproc`\n",
    "```py\n",
    "Let('a',3,\n",
    "    Let('p',Proc('z',Var('a')),\n",
    "        Let('f',Proc('x',App(Var('p'),0)),\n",
    "        Let('a',5,\n",
    "            App(Var('f'),2)))))\n",
    "```\n",
    "or equivalent in `haskell` assuming you paste it in repl mode (`ghci`)\n",
    "```haskell\n",
    ":{\n",
    "let a = 3\n",
    "    in let p z = a\n",
    "        in let f x = (p 0)\n",
    "            in let a = 5\n",
    "                in (f 2)\n",
    ":}\n",
    "```\n",
    "or equivalent in `racket`\n",
    "```\n",
    "(let ([a 3])\n",
    "    (let ([p (lambda (z) a)])\n",
    "        (let ([f (lambda (x) (p 0))])\n",
    "            (let ([a 5])\n",
    "                (f 2)))))\n",
    "```"
   ]
  },
  {
   "cell_type": "markdown",
   "metadata": {},
   "source": [
    "What do we expect the result returns? According to the `Lproc`, it returns 5 but `haskell` and `racket` returns 3. This is because according to the implementation, `Lproc` extends the environment upon application. This causes that the interpreter look for the value of variable that's most recently bound to environment. This is known as *dynamic scoping*. Whereas, `haskell`,`racket` and most of modern programming languages follows *lexical scoping* or some variant of it.\n",
    "\n",
    "Why *dynmaic scoping* is implemented in this notebook? Because it's easy where the interpreter only return the value of procedure itselt and only extend environment upon applied. Furthermore, recursion under this implementation doesn't require special treatment.\n",
    "\n",
    "To support *lexical scoping* together with *closure*, the procedure and recursion require special treatment which complicates the implementation.\n",
    "\n",
    "But why most of modern programming languages adopt *lexical scoping*?\n",
    "- It allows optimization as all references of variables can pre-determined (hence the name is lexical)\n",
    "- It's easier to read the program, as the variables implies by the scoping\n",
    "- Dynamic scoped program is very hard to debug than lexical scoped program"
   ]
  },
  {
   "cell_type": "markdown",
   "metadata": {},
   "source": [
    "**What's missing from this chapter**\n",
    "\n",
    "- Doesn't include implementation of parser.\n",
    "- Doesn't use inheritance as mean of abstraction to extend the language"
   ]
  }
 ],
 "metadata": {
  "kernelspec": {
   "display_name": "Python 3",
   "language": "python",
   "name": "python3"
  },
  "language_info": {
   "codemirror_mode": {
    "name": "ipython",
    "version": 3
   },
   "file_extension": ".py",
   "mimetype": "text/x-python",
   "name": "python",
   "nbconvert_exporter": "python",
   "pygments_lexer": "ipython3",
   "version": "3.10.11"
  }
 },
 "nbformat": 4,
 "nbformat_minor": 2
}
