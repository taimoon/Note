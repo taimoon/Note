{
 "cells": [
  {
   "cell_type": "markdown",
   "metadata": {},
   "source": [
    "# Functions"
   ]
  },
  {
   "cell_type": "markdown",
   "metadata": {},
   "source": [
    "## Default arguments\n",
    "\n",
    "Consider the case that the summation of integers between `a` and `b`, rather than starting from 0. It also consider the step size (eg.: `1 + 3 + 5 + 7 + ...`) "
   ]
  },
  {
   "cell_type": "code",
   "execution_count": 3,
   "metadata": {},
   "outputs": [
    {
     "name": "stdout",
     "output_type": "stream",
     "text": [
      "55\n",
      "25\n"
     ]
    }
   ],
   "source": [
    "def integer_sum(a, b, step_size = 1):\n",
    "    res = 0\n",
    "    while a <= b:\n",
    "        res = res + a\n",
    "        a += step_size\n",
    "    return res\n",
    "print(integer_sum(1, 10))\n",
    "print(integer_sum(1, 10, 2))"
   ]
  },
  {
   "cell_type": "markdown",
   "metadata": {},
   "source": [
    "The header of function definition `integer_sum(a, b, step_size = 1)`, that the `step_size = 1` is called **default argument**. If the function does not get value for the default argument like `integer_sum`, then it will use the value `1`.\n",
    "\n",
    "The non-default arguments must precede the default arguments, or else the Python complains it. It is tempting to do this, but this does not work\n",
    "```\n",
    "def integer_sum(a = 0, b, step_size = 1):\n",
    "    res = 0\n",
    "    while a <= b:\n",
    "        res = res + a\n",
    "        a += step_size\n",
    "    return res\n",
    "```\n",
    "\n",
    "For example, you may read the [Python official documentation](https://docs.python.org/3/library/functions.html#print) that `print` also has `end` as default argument.\n",
    "```\n",
    "print(*objects, sep=' ', end='\\n', file=sys.stdout, flush=False)\n",
    "```"
   ]
  },
  {
   "cell_type": "code",
   "execution_count": 41,
   "metadata": {},
   "outputs": [
    {
     "name": "stdout",
     "output_type": "stream",
     "text": [
      "Yes, You are\tHakurei\n",
      "Yes, You are\tMarisa\n",
      "Yes, You are\tKochiya\n"
     ]
    }
   ],
   "source": [
    "print(\"Yes, You are\", end='\\t')\n",
    "print(\"Hakurei\")\n",
    "print(\"Yes, You are\", end='\\t')\n",
    "print(\"Marisa\")\n",
    "print(\"Yes, You are\", end='\\t')\n",
    "print(\"Kochiya\")"
   ]
  },
  {
   "cell_type": "markdown",
   "metadata": {},
   "source": [
    "The summation can be mathematically written as \n",
    "\n",
    "$$\n",
    "\\sum^{5}_{i = 1} i = 1 + 2 + 3 + 4 + 5\n",
    "$$\n",
    "\n",
    "More abstractly,\n",
    "$$\n",
    "\\sum^{b}_{i = a} i = a + (a+1) + \\cdots + (b-1) + b\n",
    "$$\n",
    "\n",
    "If we wish to calculate the sum until 50, then we merely change the value of `n` to 50. \n",
    "\n",
    "Suppose that what if we are interested the properties of sum of sum. For example,\n",
    "\n",
    "$$\n",
    "\\sum^{4}_{j = 1}\\sum^{j}_{i = 1} i = \\sum^{4}_{i = 1} i + \\sum^{3}_{i = 1} i + \\sum^{2}_{i = 1} + \\sum^{1}_{i = 1} i\n",
    "$$\n",
    "\n",
    "$$\n",
    "\\sum^{k}_{j = b}\\sum^{j}_{i = a} i = \\sum^{k}_{i = a} i + \\sum^{k-1}_{i = a} i + \\cdots + \\sum^{b}_{i = a} i\n",
    "$$\n",
    "\n",
    "Write one any related function to this sum of sum. You may use `integer_sum` to define sum of sum."
   ]
  },
  {
   "cell_type": "code",
   "execution_count": null,
   "metadata": {},
   "outputs": [],
   "source": []
  },
  {
   "cell_type": "markdown",
   "metadata": {},
   "source": [
    "Factorial of $ n $ denoted as $ n! $ can be defined as follow\n",
    "\n",
    "$$\n",
    "n! = n(n-1)...(2)(1)\n",
    "$$\n",
    "\n",
    "$$\n",
    "4! = 4(3)(2)(1) = 24\n",
    "$$\n",
    "\n",
    "Permutation of two positive integers, $n$ and $k$ is defined as\n",
    "\n",
    "$$\n",
    "^np_r = \\frac{n!}{(n-k)!}\n",
    "$$\n",
    "\n",
    "Write functions that calculate the values of permutation and factorial given different values of $n$ and $k$. Your functions are expected to work or throw error based different input. Then, you are required to write `assert` test out your written function. Write some example call expressions that involve your functions.\n",
    "\n",
    "There are 2 ways to define the function `permutation` in terms of `fact` or without `fact`. Please reason about the trade offs between these 2 functions. (Google it yourself) By the way, integer can overflow in some programming languages.\n",
    "\n",
    "Tips: \n",
    "1. Refer to the `integer_sum` program, tweak the code\n",
    "2. Start from particular, small, like generalize one parameter at once"
   ]
  },
  {
   "cell_type": "code",
   "execution_count": null,
   "metadata": {},
   "outputs": [],
   "source": [
    "def integer_sum(n):\n",
    "    res = 0\n",
    "    while n > 0:\n",
    "        res = res + n\n",
    "        n = n - 1\n",
    "    return res\n",
    "\n",
    "def fact(n):\n",
    "    pass\n",
    "\n",
    "def permutation_v1(n, k = 0):\n",
    "    pass\n",
    "\n",
    "def permutation_v2(n, k = 0):\n",
    "    pass\n",
    "\n",
    "assert(fact(10) == 10)\n",
    "assert(permutation_v1(10,2) == 90)\n",
    "assert(permutation_v2(10,2) == 90)"
   ]
  },
  {
   "cell_type": "markdown",
   "metadata": {},
   "source": [
    "# Perfect Number and Mersene Prime"
   ]
  },
  {
   "cell_type": "markdown",
   "metadata": {},
   "source": [
    "Develop a program that check a number is a perfect number. [Reference](https://en.wikipedia.org/wiki/Perfect_number)"
   ]
  },
  {
   "cell_type": "code",
   "execution_count": null,
   "metadata": {},
   "outputs": [],
   "source": [
    "def is_perfect(n):\n",
    "    pass\n",
    "\n",
    "print(is_perfect(6))\n",
    "print(is_perfect(28))\n",
    "print(is_perfect(496))\n",
    "print(is_perfect(777))"
   ]
  },
  {
   "cell_type": "markdown",
   "metadata": {},
   "source": [
    "Mersene number is defined as number in form of $2^n - 1$ for any integer $n$. If given Mersene number $q$ is prime, then $\\frac{q(q+1)}{2}$ is an even perfect number. Code the program to find first 10 Mersene prime and validate that they form even perfect number."
   ]
  },
  {
   "cell_type": "code",
   "execution_count": null,
   "metadata": {},
   "outputs": [],
   "source": []
  },
  {
   "cell_type": "markdown",
   "metadata": {},
   "source": [
    "# Guessing Game\n",
    "\n",
    "Guessing game is a classical program for beginner. Because it involves conditionals, input/output and repetition.\n",
    "- Initially, the program starts with a random integer as answer.\n",
    "- Then, the program prompts the user and read the input from user.\n",
    "- Then the program check if the input is the answer.\n",
    "- If the input is not the answer, output a retry message to user, and repeat the prompting and reading.\n",
    "- If yes, output a message to user that it is the answer.\n",
    "\n",
    "1. Tweak the code `guessing_game` so it also print out how many time the user guess the number.\n",
    "2. Read the article [A guessing game - Khan Academy](https://www.khanacademy.org/computing/computer-science/algorithms/intro-to-algorithms/a/a-guessing-game). And use the strategy to play the game, it should not take more than $\\log_2(bound) = \\log_2(1000) = 10$ steps."
   ]
  },
  {
   "cell_type": "code",
   "execution_count": null,
   "metadata": {},
   "outputs": [],
   "source": [
    "def guessing_game():\n",
    "    from random import randint\n",
    "    bound = 1000\n",
    "    answer = randint(0, bound)\n",
    "    guess = -1\n",
    "\n",
    "    while guess != answer:\n",
    "        guess = int(input(f\"Guess my number between 0 and {bound}: \")) # note that input return string.\n",
    "        if guess < answer:\n",
    "            print(f\"The guess {guess} is smaller than my number. Try again\")\n",
    "        elif guess > answer:\n",
    "            print(f\"The guess {guess} is bigger than my number. Try again\")\n",
    "    \n",
    "    print(f\"You've guess my number: {answer}\")\n",
    "    \n",
    "    return True\n",
    "\n",
    "guessing_game()"
   ]
  },
  {
   "cell_type": "markdown",
   "metadata": {},
   "source": [
    "# Evaluation Model"
   ]
  },
  {
   "cell_type": "markdown",
   "metadata": {},
   "source": [
    "(Difficult) There is a test whether a programming language is eagerly evaluated or lazily evaluated. The presented code is the test program in Python. Explain what happens if the code below is eagerly evaluated or lazily evaluated. You may try this on R language.\n",
    "\n",
    "```\n",
    "def p():\n",
    "    return p()\n",
    "def test(x,y):\n",
    "    if x == 0:\n",
    "        return 0\n",
    "    else:\n",
    "        return y\n",
    "test(0, p()) \n",
    "```"
   ]
  },
  {
   "cell_type": "markdown",
   "metadata": {},
   "source": []
  },
  {
   "cell_type": "markdown",
   "metadata": {},
   "source": [
    "(Difficult) Like many programming languages, `Python` reserved some words as keywords that cannot be used as function name or variable name. `while`, `for`, `in`, `if`, `elif`, `else`, logical operators and etc are keywords. Interested readers consult online documentation for complete listing of `Python` keywords. \n",
    "\n",
    "Usually, program line involving keywords has its special treatment. In `LISP`, we call it is a *special form*. Similarily, we can say logical operators are special forms as they are evaluated differently from convetional code.\n",
    "\n",
    "`my_if` is a function work similarily like `if` branch. But it does not work as expected in some cases.\n",
    "\n",
    "Find which value of `x` where `case1(x)` return something but `case2(x)` throw error.\n",
    "\n",
    "Explain why `inverse1` works but not `inverse2` for certain value of x. Explain why `if` must be special form construct rather than in form of function."
   ]
  },
  {
   "cell_type": "code",
   "execution_count": null,
   "metadata": {},
   "outputs": [],
   "source": [
    "def my_if(predicate, consequent, alternative):\n",
    "    if predicate == True:\n",
    "        return consequent\n",
    "    else:\n",
    "        return alternative\n",
    "\n",
    "def inverse1(x):\n",
    "    if x != 0:\n",
    "        return 1 / x\n",
    "    else:\n",
    "        return x\n",
    "def inverse2(x):\n",
    "    return my_if(x != 0, 1 / x, x)"
   ]
  }
 ],
 "metadata": {
  "kernelspec": {
   "display_name": "Python 3.10.2 64-bit",
   "language": "python",
   "name": "python3"
  },
  "language_info": {
   "codemirror_mode": {
    "name": "ipython",
    "version": 3
   },
   "file_extension": ".py",
   "mimetype": "text/x-python",
   "name": "python",
   "nbconvert_exporter": "python",
   "pygments_lexer": "ipython3",
   "version": "3.10.2"
  },
  "orig_nbformat": 4,
  "vscode": {
   "interpreter": {
    "hash": "2324a66782fee6ab9f0bdb3c9e79ee636ed86487484f245c4444858429ce7730"
   }
  }
 },
 "nbformat": 4,
 "nbformat_minor": 2
}
