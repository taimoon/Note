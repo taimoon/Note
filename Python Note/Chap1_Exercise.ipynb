{
 "cells": [
  {
   "cell_type": "markdown",
   "metadata": {},
   "source": [
    "# Functions"
   ]
  },
  {
   "attachments": {},
   "cell_type": "markdown",
   "metadata": {},
   "source": [
    "## Reading Documentation `print`\n",
    "\n",
    "reference: https://docs.python.org/3/library/functions.html#print\n",
    "\n",
    "```\n",
    "print(*objects, sep=' ', end='\\n', file=None, flush=False)\n",
    "```\n",
    "\n",
    "Above is the `print` function header as defined by the Python official documentation.\n",
    "\n",
    "\n",
    "\n",
    "### Default Arguments\n",
    "\n",
    "`sep=' ', end='\\n', file=None, flush=False` are known as default arguments. For example, when caller didn't pass arguments for `end` ,`file` and `flush`, then the call expression will evalute using the default arguments. For example\n",
    "\n",
    "```\n",
    "print('default argument')\n",
    "\n",
    "# above will be evaluted as\n",
    "print('default argument', sep=' ', end='\\n', file=None, flush=False)\n",
    "\n",
    "\n",
    "print('default argument', sep=' ')\n",
    "print('default argument', end='\\n')\n",
    "print('default argument', sep=' ', end='\\n')\n",
    "\n",
    "# will be evaluted as\n",
    "print('default argument', sep=' ', end='\\n', file=None, flush=False)\n",
    "```\n",
    "\n",
    "### Aterisk Arguments\n",
    "`*objects` allows variable number of arguments. For example"
   ]
  },
  {
   "cell_type": "code",
   "execution_count": 2,
   "metadata": {},
   "outputs": [
    {
     "name": "stdout",
     "output_type": "stream",
     "text": [
      "1 2 3 4\n",
      "Fibonacci sequence: 0,0,1,1,2,3,5,8\n",
      "Miku, Luka, IA, Gumi and Teto\n"
     ]
    }
   ],
   "source": [
    "print(1,2,3,4)\n",
    "# print(1,2,3,4, sep=' ', end='\\n')\n",
    "\n",
    "# replace end with null string '', \n",
    "# so that it doesn't print new line\n",
    "print('Fibonacci sequence: ', end='')\n",
    "print(0,0,1,1,2,3,5,8, sep=',')\n",
    "\n",
    "print('Miku', 'Luka', 'IA', 'Gumi', sep=', ', end=' and ')\n",
    "print('Teto')"
   ]
  },
  {
   "cell_type": "markdown",
   "metadata": {},
   "source": [
    "## Default arguments\n",
    "\n",
    "Consider the case that the summation of integers between `a` and `b`, rather than starting from 0. It also consider the step size (eg.: `1 + 3 + 5 + 7 + ...`) "
   ]
  },
  {
   "cell_type": "code",
   "execution_count": 3,
   "metadata": {},
   "outputs": [
    {
     "name": "stdout",
     "output_type": "stream",
     "text": [
      "55\n",
      "25\n"
     ]
    }
   ],
   "source": [
    "def integer_sum(a, b, step_size = 1):\n",
    "    res = 0\n",
    "    while a <= b:\n",
    "        res = res + a\n",
    "        a += step_size\n",
    "    return res\n",
    "print(integer_sum(1, 10))\n",
    "print(integer_sum(1, 10, 2))"
   ]
  },
  {
   "attachments": {},
   "cell_type": "markdown",
   "metadata": {},
   "source": [
    "The header of function definition `integer_sum(a, b, step_size = 1)`, that the `step_size = 1` is called **default argument**. If the function does not get value for the default argument like `integer_sum`, then it will use the value `1`.\n",
    "\n",
    "The non-default arguments must precede the default arguments, or else the Python complains it. It is tempting to do this, but this does not work\n",
    "```\n",
    "def integer_sum(a = 0, b, step_size = 1):\n",
    "    res = 0\n",
    "    while a <= b:\n",
    "        res = res + a\n",
    "        a += step_size\n",
    "    return res\n",
    "```"
   ]
  },
  {
   "attachments": {},
   "cell_type": "markdown",
   "metadata": {},
   "source": [
    "## Practice - Sum of Sum"
   ]
  },
  {
   "cell_type": "markdown",
   "metadata": {},
   "source": [
    "The summation can be mathematically written as \n",
    "\n",
    "$$\n",
    "\\sum^{5}_{i = 1} i = 1 + 2 + 3 + 4 + 5\n",
    "$$\n",
    "\n",
    "More abstractly,\n",
    "$$\n",
    "\\sum^{b}_{i = a} i = a + (a+1) + \\cdots + (b-1) + b\n",
    "$$\n",
    "\n",
    "If we wish to calculate the sum until 50, then we merely change the value of `n` to 50. \n",
    "\n",
    "Suppose that what if we are interested the properties of sum of sum. For example,\n",
    "\n",
    "$$\n",
    "\\sum^{4}_{j = 1}\\sum^{j}_{i = 1} i = \\sum^{4}_{i = 1} i + \\sum^{3}_{i = 1} i + \\sum^{2}_{i = 1} + \\sum^{1}_{i = 1} i\n",
    "$$\n",
    "\n",
    "$$\n",
    "\\sum^{k}_{j = b}\\sum^{j}_{i = a} i = \\sum^{k}_{i = a} i + \\sum^{k-1}_{i = a} i + \\cdots + \\sum^{b}_{i = a} i\n",
    "$$\n",
    "\n",
    "Write one any related function to this sum of sum. You may use `integer_sum` to define sum of sum."
   ]
  },
  {
   "cell_type": "code",
   "execution_count": null,
   "metadata": {},
   "outputs": [],
   "source": []
  },
  {
   "attachments": {},
   "cell_type": "markdown",
   "metadata": {},
   "source": [
    "## Practice - Permutation"
   ]
  },
  {
   "attachments": {},
   "cell_type": "markdown",
   "metadata": {},
   "source": [
    "Factorial of $ n $ denoted as $ n! $ can be defined as follow\n",
    "\n",
    "$$\n",
    "n! = n(n-1)...(2)(1)\n",
    "$$\n",
    "\n",
    "$$\n",
    "4! = 4(3)(2)(1) = 24\n",
    "$$\n",
    "\n",
    "Permutation of two positive integers, $n$ and $k$ is defined as\n",
    "\n",
    "$$\n",
    "^np_r = \\frac{n!}{(n-k)!}\n",
    "$$\n",
    "\n",
    "Write functions that calculate the values of permutation and factorial given different values of $n$ and $k$. Your functions are expected to work or throw error based on different input. Then, you are required to write `assert` test out your written function. Write some example call expressions that involve your functions.\n",
    "\n",
    "There are 2 ways to define the function `permutation` in terms of `fact` or without `fact`. Please reason about the trade offs between these 2 functions. \n",
    "By the way, integer can overflow in some programming languages.(Google it yourself) \n",
    "\n",
    "Tips: \n",
    "1. Refer to the `integer_sum` program, tweak the code so it times sequentially\n",
    "2. Start from particular, small, like generalize one parameter at once"
   ]
  },
  {
   "cell_type": "code",
   "execution_count": null,
   "metadata": {},
   "outputs": [],
   "source": [
    "def integer_sum(n):\n",
    "    res = 0\n",
    "    while n > 0:\n",
    "        res = res + n\n",
    "        n = n - 1\n",
    "    return res\n",
    "\n",
    "def fact(n):\n",
    "    pass\n",
    "\n",
    "def permutation_v1(n, k = 0):\n",
    "    pass\n",
    "\n",
    "def permutation_v2(n, k = 0):\n",
    "    pass\n",
    "\n",
    "assert(fact(10) == 10)\n",
    "assert(permutation_v1(10,2) == 90)\n",
    "assert(permutation_v2(10,2) == 90)"
   ]
  },
  {
   "attachments": {},
   "cell_type": "markdown",
   "metadata": {},
   "source": [
    "## Practice - Perfect Number and Mersene Prime"
   ]
  },
  {
   "cell_type": "markdown",
   "metadata": {},
   "source": [
    "Develop a program that check a number is a perfect number. [Reference](https://en.wikipedia.org/wiki/Perfect_number)"
   ]
  },
  {
   "cell_type": "code",
   "execution_count": null,
   "metadata": {},
   "outputs": [],
   "source": [
    "def is_perfect(n):\n",
    "    pass\n",
    "\n",
    "print(is_perfect(6))\n",
    "print(is_perfect(28))\n",
    "print(is_perfect(496))\n",
    "print(is_perfect(777))"
   ]
  },
  {
   "cell_type": "markdown",
   "metadata": {},
   "source": [
    "Mersene number is defined as number in form of $2^n - 1$ for any integer $n$. If given Mersene number $q$ is prime, then $\\frac{q(q+1)}{2}$ is an even perfect number. Code the program to find first 10 Mersene prime and validate that they form even perfect number."
   ]
  },
  {
   "cell_type": "code",
   "execution_count": null,
   "metadata": {},
   "outputs": [],
   "source": []
  },
  {
   "attachments": {},
   "cell_type": "markdown",
   "metadata": {},
   "source": [
    "# Guessing Game\n",
    "\n",
    "Guessing game is a classical program for beginner. Because it involves conditionals, input/output and repetition.\n",
    "- Initially, the program starts with a random integer as answer.\n",
    "- Then, the program prompts the user and read the input from user.\n",
    "- Then the program check if the input is the answer.\n",
    "- If the input is not the answer, output a retry message to user, and repeat the prompting and reading.\n",
    "- If yes, output a message to user that it is the answer.\n",
    "\n",
    "1. Tweak the code `guessing_game` so it also print out how many time the user guess the number.\n",
    "2. Read the article [A guessing game - Khan Academy](https://www.khanacademy.org/computing/computer-science/algorithms/intro-to-algorithms/a/a-guessing-game). And use the strategy to play the game, it should not take more than $\\log_2(bound) = \\log_2(1000) = 10$ steps."
   ]
  },
  {
   "cell_type": "code",
   "execution_count": null,
   "metadata": {},
   "outputs": [],
   "source": [
    "def guessing_game():\n",
    "    from random import randint\n",
    "    bound = 1000\n",
    "    answer = randint(0, bound)\n",
    "    guess = -1\n",
    "\n",
    "    while guess != answer:\n",
    "        guess = int(input(f\"Guess my number between 0 and {bound}: \")) # note that input return string.\n",
    "        if guess < answer:\n",
    "            print(f\"The guess {guess} is smaller than my number. Try again\")\n",
    "        elif guess > answer:\n",
    "            print(f\"The guess {guess} is bigger than my number. Try again\")\n",
    "    \n",
    "    print(f\"You've guess my number: {answer}\")\n",
    "    \n",
    "    return True\n",
    "\n",
    "guessing_game()"
   ]
  },
  {
   "attachments": {},
   "cell_type": "markdown",
   "metadata": {},
   "source": [
    "# Evaluation Model Revisited "
   ]
  },
  {
   "cell_type": "code",
   "execution_count": null,
   "metadata": {},
   "outputs": [],
   "source": [
    "from math import sqrt\n",
    "from operator import add\n",
    "def square(x):\n",
    "    return x*x\n",
    "def sum_of_square(x, y):\n",
    "    return add(square(x),square(y))\n",
    "def euclidean_distance(x, y):\n",
    "    return sqrt(sum_of_square(x,y))\n",
    "def f(x):\n",
    "    return x+1\n",
    "euclidean_distance(f(19), f(20))"
   ]
  },
  {
   "attachments": {},
   "cell_type": "markdown",
   "metadata": {},
   "source": [
    "## Applicative Rule (Eager Evalution)\n",
    "1. Evaluate each argument\n",
    "2. Evaluate the function body with each formal parameter replaced by the corresponding argument\n",
    "\n",
    "Hence,\n",
    "\n",
    "```\n",
    "euclidean_distance(f(19), f(20))\n",
    "euclidean_distance(19+1,20+1)\n",
    "euclidean_distance(20,21)\n",
    "sqrt(sum_of_square(20,21))\n",
    "sqrt(add(square(20), square(21)))\n",
    "sqrt(add(20*20, 21*21))\n",
    "sqrt(add(400, 441))\n",
    "sqrt(841)\n",
    "29.0\n",
    "```\n",
    "\n",
    "\n",
    "## Normal Rule (Lazy evaluation)\n",
    "1. Evaluate the arguments only as needed otherwise pass them\n",
    "2. Evaluate the function body with each formal parameter replaced by the corresponding argument\n",
    "\n",
    "Hence,\n",
    "```\n",
    "euclidean_distance(f(19), f(20))\n",
    "sqrt(sum_of_square(f(19),f(20)))\n",
    "sqrt(add(square(f(19)), square(f(20)))\n",
    "sqrt(add(f(19)*f(19), f(20)*f(20)))\n",
    "sqrt(add((19+1)*(19+1), (20+1)*(20+1)))\n",
    "# now reduce it\n",
    "sqrt(add(20*20,21*21))\n",
    "sqrt(add(400,441))\n",
    "sqrt(841)\n",
    "29.0\n",
    "```\n",
    "\n",
    "We see that in applicative order, the expression does not expand as much as in normal order since it eagerly evaluates the expression. We also see that in normal order, there are expressions are evaluated multiple times in normal order such as `(19+1)*(19+1)`. It is not true to conclude that applicative is more efficient than normal order. The justification example can be found in exercise."
   ]
  },
  {
   "attachments": {},
   "cell_type": "markdown",
   "metadata": {},
   "source": [
    "1. There is a test whether a programming language is eagerly evaluated or lazily evaluated. The presented code is the test program in Python. Explain what happens if the code below is eagerly evaluated or lazily evaluated. You may try this on R language.\n",
    "\n",
    "    ```\n",
    "    def p():\n",
    "        return p()\n",
    "    def test(x,y):\n",
    "        if x == 0:\n",
    "            return 0\n",
    "        else:\n",
    "            return y\n",
    "    test(0, p()) \n",
    "    ```\n",
    "    Footnote: It is a difficult question"
   ]
  },
  {
   "attachments": {},
   "cell_type": "markdown",
   "metadata": {},
   "source": [
    "## Normal Order Evaluation and Logical operators\n",
    "In Python, the expressions involving `or` and `and`, their operands are lazily evaluated. It is called *short-circuited*\n",
    "\n",
    "Consider two examples,\n",
    "```\n",
    "(130%2 == 0) or (130%3 == 0) or (130%5 == 0) \n",
    "```\n",
    "If any one of these subexpressions is evaluated as `True`, then we can conclude the whole expression is `True` regardless of others.\n",
    "However, if we follow applicative order, then we must evaluate each subexpressions `(130%2 == 0)`, `(130%3 == 0)` and `(130%5 == 0)` before reaching the conclusion. In normal order, when we know the subexpression `(130%2) == 0` is `True`, we can conclude it is `True`.\n",
    "\n",
    "As an exercise, readers may use similar reason infer that the below code is more efficient in normal order.\n",
    "```\n",
    "(0.1 + 0.2 == 0.3) and (130%10 == 0) and (130%5 == 0)\n",
    "```\n",
    "\n",
    "Besides the efficiency, it is true that both expressions yield same result regardless of the evaluation strategies used (Why?). By the way, Python adopts applicative order in most cases unless stated in official documentation like example above. However, there exists expressions where different strategies yield different result."
   ]
  },
  {
   "attachments": {},
   "cell_type": "markdown",
   "metadata": {},
   "source": [
    "2. Continue the difficulty of previous question.\n",
    "\n",
    "    Like many programming languages, `Python` reserved some words as keywords that cannot be used as function name or variable name. `while`, `for`, `in`, `if`, `elif`, `else`, logical operators and etc are keywords. Interested readers consult online documentation for complete listing of `Python` keywords. \n",
    "\n",
    "    Usually, program line involving keywords has its special treatment. In `LISP`, we call it is a *special form*. Similarily, we can say logical operators are special forms as they are evaluated differently from conventional code.\n",
    "\n",
    "    Explain why the code below work?\n",
    "\n",
    "    ```\n",
    "    True and False and (1/0)\n",
    "    True or (0/0)\n",
    "    ```\n",
    "\n",
    "    But the code below throw error?\n",
    "    ```\n",
    "    True and True and (1/0)\n",
    "    False or (10%2 != 0) or (0/0)\n",
    "    ```\n"
   ]
  },
  {
   "attachments": {},
   "cell_type": "markdown",
   "metadata": {},
   "source": [
    "3. `my_if` is a function work similarily like `if` branch. But it does not work as expected in some cases.\n",
    "\n",
    "    Find which value of `x` where `inverse1(x)` return something but `inverse2(x)` throw error.\n",
    "\n",
    "    Explain why `inverse1` works but not `inverse2` for certain value of x. Explain why `if` must be special form construct rather than in form of function."
   ]
  },
  {
   "cell_type": "code",
   "execution_count": null,
   "metadata": {},
   "outputs": [],
   "source": [
    "def my_if(predicate, consequent, alternative):\n",
    "    if predicate == True:\n",
    "        return consequent\n",
    "    else:\n",
    "        return alternative\n",
    "\n",
    "def inverse1(x):\n",
    "    if x != 0:\n",
    "        return 1 / x\n",
    "    else:\n",
    "        return x\n",
    "def inverse2(x):\n",
    "    return my_if(x != 0, 1 / x, x)"
   ]
  }
 ],
 "metadata": {
  "kernelspec": {
   "display_name": "Python 3.10.2 64-bit",
   "language": "python",
   "name": "python3"
  },
  "language_info": {
   "codemirror_mode": {
    "name": "ipython",
    "version": 3
   },
   "file_extension": ".py",
   "mimetype": "text/x-python",
   "name": "python",
   "nbconvert_exporter": "python",
   "pygments_lexer": "ipython3",
   "version": "3.10.2"
  },
  "orig_nbformat": 4,
  "vscode": {
   "interpreter": {
    "hash": "2324a66782fee6ab9f0bdb3c9e79ee636ed86487484f245c4444858429ce7730"
   }
  }
 },
 "nbformat": 4,
 "nbformat_minor": 2
}
