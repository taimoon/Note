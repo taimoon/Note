{
 "cells": [
  {
   "cell_type": "markdown",
   "id": "a44ed089",
   "metadata": {},
   "source": [
    "# Problem Solving\n",
    "\n",
    "Let consider a mathematical problem: Code a program that find greatest common divisor of two integers.\n",
    "\n",
    "Of course, we can google the code, copy the code, and run it. Even better, we can import the function from math, just use it.\n",
    "Thus in here, $gcd$ is used as an example for learning purpose.\n",
    "\n",
    "In solving problem, we understand the problem first, and do some googling. In this case, we have to understand the notion of greatest common divisor. In this case, the greatest common divisor between two integers $a$ and $b$, denoted as $gcd(a,b)$. \n",
    "$d$ is a divisor of integer $a$ iff the remainder is 0 when $a$ is divided by $d$.\n",
    "\n",
    "To understand the definition, we can try some examples. For example,\n",
    "- divisors of $12$ are $1,2,3,4,6,12$ \n",
    "- divisors of $18$ are $1,2,3,6,9,18$\n",
    "- $12$ and $18$ share mutiple common divisors $1,2,3,6$ but $6$ is the largest among them. \n",
    "- By definition, $gcd(12,18) = 6$\n",
    "\n",
    "In programming, we often develop the program **incrementally**. We start from small and easy problem but related. \n",
    "For example, we try to code a program that find greatest common divisor of $12$ and $18$. \n",
    "It is also why we try to list out particular example in understanding the definition.\n",
    "\n",
    "Observe that how we find greatest common divisor manually, we list out the divisors of two integers correspondingly, then search out the largest one.\n",
    "\n",
    "Unfortunately, this does not directly translate into a program. We can try further break down the problem. So let consider finding largest divisor of 18. The steps are as follow:\n",
    "\n",
    "1. Generate all positive integers until 18 since any number larger than 18 cannot be divisor of 18.\n",
    "2. Test each positive integer if a divisor of 18\n",
    "3. Find the largest divisor but smaller than 18 since number always divide itself\n",
    "\n",
    "This do not directly solve even the particular problem, but it worth a try first. The code below is an idiom that update the largest during iteration. "
   ]
  },
  {
   "cell_type": "code",
   "execution_count": 8,
   "id": "ac4269f6",
   "metadata": {},
   "outputs": [
    {
     "data": {
      "text/plain": [
       "9"
      ]
     },
     "execution_count": 8,
     "metadata": {},
     "output_type": "execute_result"
    }
   ],
   "source": [
    "x = 18\n",
    "d = 1\n",
    "max_d = 1\n",
    "def is_divisor(n, d):\n",
    "    return n%d == 0\n",
    "while d < x:\n",
    "    if is_divisor(x,d) and d > max_d:\n",
    "        max_d = d\n",
    "    d += 1\n",
    "max_d"
   ]
  },
  {
   "cell_type": "markdown",
   "id": "d1f56a63",
   "metadata": {},
   "source": [
    "It works as expected that the largest divisor of 18 is 9 excluding the number 18 itself. \n",
    "We can develop a program from code above to solve the particular problem $gcd(a,b)$."
   ]
  },
  {
   "cell_type": "code",
   "execution_count": 22,
   "id": "d59c209b",
   "metadata": {},
   "outputs": [
    {
     "data": {
      "text/plain": [
       "6"
      ]
     },
     "execution_count": 22,
     "metadata": {},
     "output_type": "execute_result"
    }
   ],
   "source": [
    "a = 18\n",
    "b = 12\n",
    "d = 1\n",
    "max_d = 1\n",
    "def is_divisor(n, d):\n",
    "    return n%d == 0\n",
    "while d < b or d < a:\n",
    "    if is_divisor(a,d) and is_divisor(b, d) and d > max_d:\n",
    "        max_d = d\n",
    "    d += 1\n",
    "max_d"
   ]
  },
  {
   "cell_type": "markdown",
   "id": "0f75714f",
   "metadata": {},
   "source": [
    "# Designing Function\n",
    "\n",
    "Previously, we have coded a program that find greatest common divisor of $12$ and $18$. \n",
    "If we wish to find $gcd(186,217)$, then we simply change the values of $a$ and $b$.\n",
    "\n",
    "Indeed, $gcd$ is a very useful operation. To reduce a rational $\\frac{n}{d}$ to its simplest form, it required to divide both $n$ and $d$ integers with the the greatest common divisor of $n$ and $d$. \n",
    "Note that, $n$ and $d$ can be any integer.\n",
    "The program that supports rational arithmetic simply calculate $gcd$ often. \n",
    "We often take it for granted in using the scientific calculator do rational arithmetic.\n",
    "\n",
    "Due to this, the operations will be executed **elsewhere**, and **mutiple times** on **different inputs**. These reasons are sufficient enough to refactor the program into a function. \n",
    "\n",
    "As rules of thumb in designing function:\n",
    "1. Consider what are the required parameters\n",
    "2. Consider what value to be returned\n",
    "3. You can write description of the function\n",
    "\n",
    "```\n",
    "a = 18  # can be parameter\n",
    "b = 12  # can be parameter\n",
    "d = 1\n",
    "max_d = 1\n",
    "def is_divisor(n, d):\n",
    "    return x%d == 0\n",
    "while d < b or d < a:\n",
    "    if is_divisor(a,d) and is_divisor(b, d) and d > max_d:\n",
    "        max_d = d\n",
    "    d += 1\n",
    "max_d   # return value\n",
    "```"
   ]
  },
  {
   "cell_type": "code",
   "execution_count": 24,
   "id": "b4216f1e",
   "metadata": {},
   "outputs": [
    {
     "name": "stdout",
     "output_type": "stream",
     "text": [
      "6\n",
      "31\n"
     ]
    }
   ],
   "source": [
    "def gcd(a,b):\n",
    "    \"return integer that greatest divisor of both a and b\"\n",
    "    # the string just below the function definition is known as docstring\n",
    "    # In Pycharm or VS studio code, it will be shown as tooltip if you hover mouse cursor over the function name\n",
    "    # In Jupyter, press shift + tab\n",
    "    d = 1\n",
    "    max_d = 1\n",
    "    \n",
    "    def is_divisor(n, d):\n",
    "        return n%d == 0\n",
    "    \n",
    "    while d < b or d < a:\n",
    "        if is_divisor(a,d) and is_divisor(b, d) and d > max_d:\n",
    "            max_d = d\n",
    "        d += 1\n",
    "    \n",
    "    return max_d    # always remember to put return if you want the function return something other than none\n",
    "\n",
    "print(gcd(12,18))\n",
    "print(gcd(186,217))"
   ]
  },
  {
   "cell_type": "markdown",
   "id": "7db5d2d9",
   "metadata": {},
   "source": [
    "# Debugging, Testing\n",
    "\n",
    "Our program will simply fail to work as expected and break in some case. Failures are extremely common in programming, especially on first try. \n",
    "The code does not work as expected for negative integer arguments.  Weirdly, it works as expected for some cases. As the `Python` does not complain syntax error, if it runs but does not as work expected, then it is known as **semantic error**.\n",
    "\n",
    "For historical reason, we programmer generally call programming error as **bug**, and the process of finding and correting bug is known as **debugging**. "
   ]
  },
  {
   "cell_type": "code",
   "execution_count": 33,
   "id": "40aabba8",
   "metadata": {},
   "outputs": [
    {
     "name": "stdout",
     "output_type": "stream",
     "text": [
      "1\n",
      "6\n",
      "6\n"
     ]
    }
   ],
   "source": [
    "print(gcd(-12, -18))\n",
    "print(gcd(-12, 18))\n",
    "print(gcd(12, -18))"
   ]
  },
  {
   "cell_type": "markdown",
   "id": "47a1cb56",
   "metadata": {},
   "source": [
    "To fix this, we can reassign the arguments with their absolute value"
   ]
  },
  {
   "cell_type": "code",
   "execution_count": 36,
   "id": "93071ec9",
   "metadata": {},
   "outputs": [
    {
     "name": "stdout",
     "output_type": "stream",
     "text": [
      "6\n",
      "6\n",
      "6\n"
     ]
    }
   ],
   "source": [
    "def abs(x):\n",
    "    return -x if x < 0 else x\n",
    "\n",
    "def gcd(_a,_b):\n",
    "    a = abs(_a)\n",
    "    b = abs(_b)\n",
    "    d = 1\n",
    "    max_d = 1\n",
    "    \n",
    "    def is_divisor(n, d):\n",
    "        return n%d == 0\n",
    "    \n",
    "    while d < b or d < a:\n",
    "        if is_divisor(a,d) and is_divisor(b, d) and d > max_d:\n",
    "            max_d = d\n",
    "        d += 1\n",
    "    \n",
    "    return max_d    # always remember to put return if you want the function return something other than none\n",
    "\n",
    "print(gcd(-12, -18))\n",
    "print(gcd(-12, 18))\n",
    "print(gcd(12, -18))"
   ]
  },
  {
   "cell_type": "markdown",
   "id": "04f5917e",
   "metadata": {},
   "source": [
    "We can use `assert` to ensure that function work as we expected"
   ]
  },
  {
   "cell_type": "code",
   "execution_count": 37,
   "id": "cc735610",
   "metadata": {},
   "outputs": [],
   "source": [
    "assert(gcd(-12, -18) == 6)\n",
    "assert(gcd(-12, 18) == 6)\n",
    "assert(gcd(12, -18) == 6)\n",
    "assert(gcd(12, 18) == 6)\n",
    "assert(gcd(186,217) == 31)"
   ]
  },
  {
   "cell_type": "markdown",
   "id": "5b468b76",
   "metadata": {},
   "source": [
    "# Variables and Parameters are Local"
   ]
  },
  {
   "cell_type": "code",
   "execution_count": 42,
   "id": "8b991ba0",
   "metadata": {},
   "outputs": [
    {
     "name": "stdout",
     "output_type": "stream",
     "text": [
      "9\n",
      "-9\n",
      "7\n"
     ]
    }
   ],
   "source": [
    "a = -9\n",
    "max_d = 7\n",
    "def gcd(a,b):\n",
    "    a = abs(a)\n",
    "    b = abs(b)\n",
    "    d = 1\n",
    "    max_d = 1\n",
    "    \n",
    "    def is_divisor(n, d):\n",
    "        return n%d == 0\n",
    "    \n",
    "    while d < b or d < a:\n",
    "        if is_divisor(a,d) and is_divisor(b, d) and d > max_d:\n",
    "            max_d = d\n",
    "        d += 1\n",
    "    \n",
    "    return max_d    # always remember to put return if you want the function return something other than none\n",
    "print(gcd(a,-18))\n",
    "print(a)\n",
    "print(max_d)"
   ]
  },
  {
   "cell_type": "markdown",
   "id": "567ce216",
   "metadata": {},
   "source": [
    "We can see the `a` appears in line1, parameter of function `gcd` and inside of the body of the function `gcd`.\n",
    "\n",
    "Supposely, we might expect the `a` should change its value as the function `a` reassign the absolute value of `n` but it does not. This is because function itself is a scope over its paramters and variables. \n",
    "- Since `a` is a parameter of `gcd`, then it is local to the function `gcd`, then this `a` does not affect outer scope variable.\n",
    "- Similarily, `max_d` is a variable inside of the function `gcd`, then this `max_d` does not affect outer scope variable."
   ]
  },
  {
   "cell_type": "code",
   "execution_count": 43,
   "id": "a6c6a4fc",
   "metadata": {},
   "outputs": [
    {
     "name": "stdout",
     "output_type": "stream",
     "text": [
      "113.11200000000001\n",
      "113.14285714285715\n",
      "108.0\n"
     ]
    }
   ],
   "source": [
    "pi = 3.142\n",
    "def sphere_volume(r):\n",
    "    return 4*r**3*pi/3\n",
    "print(sphere_volume(3))\n",
    "pi = 22/7\n",
    "print(sphere_volume(3))\n",
    "pi = 3\n",
    "print(sphere_volume(3))"
   ]
  },
  {
   "cell_type": "markdown",
   "id": "6dfd0f10",
   "metadata": {},
   "source": [
    "What is the value of `pi` function `sphere_volume` above? Indeed, `Python` try find the value of variable inside the scope first, if there is not any, then find it in outer scope. Then, the function `sphere_volume` will use the `pi` of outer scope. If we reassign the variable `pi` with different percision, then the function output different answer.\n",
    "\n",
    "Tips: Keep the scope of variables small.\n",
    "\n",
    "Side Note: Python Scoping. Python has its custom scoping rule to follow, you should read the online documentation or read LEGB rule."
   ]
  },
  {
   "cell_type": "markdown",
   "id": "8ccb1a2d",
   "metadata": {},
   "source": [
    "# Primality Test and Algorithm Analysis\n",
    "\n",
    "A prime number is a number larger than 1 and only divisble by 1 and itself. Equivalently, excluding 1, the smallest divisor of prime number is itself."
   ]
  },
  {
   "cell_type": "code",
   "execution_count": 18,
   "id": "19c35de2",
   "metadata": {},
   "outputs": [
    {
     "name": "stdout",
     "output_type": "stream",
     "text": [
      "True\n",
      "True\n",
      "False\n"
     ]
    }
   ],
   "source": [
    "def smallest_divisor(n):\n",
    "    d = 2\n",
    "    while d < n:\n",
    "        if n%d == 0:\n",
    "            return d\n",
    "        d += 1\n",
    "    return n\n",
    "\n",
    "def is_prime(n):\n",
    "    return smallest_divisor(n) == n\n",
    "\n",
    "print(is_prime(7))\n",
    "print(is_prime(13))\n",
    "print(is_prime(15))"
   ]
  },
  {
   "cell_type": "markdown",
   "id": "794d12e3",
   "metadata": {},
   "source": [
    "To expert programmers, they can visualize how the program evolves and runs. They also perform some analysis on program.\n",
    "Algorithm analysis concerns the correctness of program and how input affect the program. Usually, larger input, slower the program, but **how is degree of slowness**.\n",
    "In algorithm analysis, approximation is enough to provide important insight about a program.\n",
    "\n",
    "When `is_prime(n)` is called, then `smallest_divisor(n)` is called. The line2 is evaluated once, from line3 to line6 are evaluated repeatedly. The question is how many repetitions on given input `n`?\n",
    "\n",
    "Consider the **worst case scenario** in this case, is that the `while` must loop all the ways to `n` if given `n` is a prime. Hence, approximately, the order of growth is $ O(n) $. The order of growth also known as time complexity.\n",
    "\n",
    "The order of growth only care the $ n $ with the largest degree. Suppose that the given growth rate is $ T(n) = n^2 + 100000n + 7!$, we still ignore the $ 10000n $ and $ 7! $, and the order of growth is $ O(n^2) $. This is because in the equation, $n^2$ is the most significant variable that out growth other terms at large value of $n$.\n",
    "\n",
    "Is the program correct given any positive integer $ n $? It requires mathematical expertise to prove it is actually correct."
   ]
  },
  {
   "cell_type": "code",
   "execution_count": 23,
   "id": "301a7fdb",
   "metadata": {},
   "outputs": [
    {
     "name": "stdout",
     "output_type": "stream",
     "text": [
      "True\n",
      "True\n",
      "False\n"
     ]
    }
   ],
   "source": [
    "def is_prime(n):\n",
    "        from math import sqrt\n",
    "        d = 2\n",
    "        while d <= sqrt(n):\n",
    "            if n%d == 0:\n",
    "                return False\n",
    "            d += 1\n",
    "        return True\n",
    "print(is_prime(7))\n",
    "print(is_prime(13))\n",
    "print(is_prime(15))"
   ]
  },
  {
   "cell_type": "markdown",
   "id": "e6ab3aff",
   "metadata": {},
   "source": [
    "Above is another program which is correct but more effective than first version. Because the program halts when $ d = \\sqrt{n} $, hence the order of growth is $ O(\\sqrt{n}) $"
   ]
  },
  {
   "cell_type": "code",
   "execution_count": 25,
   "id": "d6c857bd",
   "metadata": {
    "scrolled": true
   },
   "outputs": [
    {
     "name": "stdout",
     "output_type": "stream",
     "text": [
      "True\n",
      "True\n",
      "False\n"
     ]
    }
   ],
   "source": [
    "def is_prime(n):\n",
    "        d = 2\n",
    "        while d*d <= n:\n",
    "            if n%d == 0:\n",
    "                return False\n",
    "            d += 1\n",
    "        return True\n",
    "print(is_prime(7))\n",
    "print(is_prime(13))\n",
    "print(is_prime(15))"
   ]
  },
  {
   "cell_type": "markdown",
   "id": "0d179918",
   "metadata": {},
   "source": [
    "Above is similar to previous code, in terms of growth of order. However, `sqrt` is more computationally expensive than multiplication, thus the code above is more effecient. On some platform, multiplication and modulus operations are expensive too. These are dependent on platform, but growth of order is independent of programming languages and platforms (except you're working on quantum computer). "
   ]
  },
  {
   "cell_type": "markdown",
   "id": "f354bf39",
   "metadata": {},
   "source": [
    "# Why time complexity?"
   ]
  },
  {
   "cell_type": "code",
   "execution_count": 34,
   "id": "d746ae46",
   "metadata": {},
   "outputs": [],
   "source": [
    "def gcd1(a,b):\n",
    "    d = 1\n",
    "    max_d = 1\n",
    "    def is_divisor(n, d):\n",
    "        return n%d == 0\n",
    "    \n",
    "    while d < b or d < a:\n",
    "        if is_divisor(a,d) and is_divisor(b, d) and d > max_d:\n",
    "            max_d = d\n",
    "        d += 1\n",
    "    \n",
    "    return max_d\n",
    "\n",
    "def gcd2(a,b):\n",
    "    a = abs(a)\n",
    "    b = abs(b)\n",
    "    d = 1\n",
    "    max_d = 1\n",
    "    \n",
    "    def is_divisor(n, d):\n",
    "        return n%d == 0\n",
    "    \n",
    "    while d < b and d < a:  # change or to and\n",
    "        if is_divisor(a,d) and is_divisor(b, d) and d > max_d:\n",
    "            max_d = d\n",
    "        d += 1\n",
    "    \n",
    "    return max_d\n",
    "\n",
    "def gcd3(a,b):\n",
    "    a = abs(a)\n",
    "    b = abs(b)\n",
    "    while a != b:\n",
    "        if a > b:\n",
    "            a = a - b\n",
    "        else:\n",
    "            b = b - a\n",
    "    return a\n",
    "\n",
    "def gcd4(a,b):\n",
    "    a = abs(a)\n",
    "    b = abs(b)\n",
    "    while b != 0:\n",
    "        r = a % b\n",
    "        a = b\n",
    "        b = r\n",
    "    return a"
   ]
  },
  {
   "cell_type": "markdown",
   "id": "078b5b93",
   "metadata": {},
   "source": [
    "Above there are 4 functions calculate $gcd$ of any 2 integers. \n",
    "By using some example values and debugger(or manually), to see how these functinos evolves. \n",
    "\n",
    "**Exercise**\n",
    "\n",
    "Why `gcd1`,`gcd2` and `gcd3` have the same time complexity $O(n)$ under the worst case scenario? Conisder if there is no common divisor of $a$ and $b$ (ie.: $a$ and $b$ are coprime)\n",
    "\n",
    "Assuming that `%` is constant time operation $O(1)$, then use some value to explain how is `gcd4` far more efficient than others? Indeed, the time complexity is $O(\\log_2{n})$"
   ]
  },
  {
   "cell_type": "code",
   "execution_count": 37,
   "id": "2663854a",
   "metadata": {},
   "outputs": [
    {
     "name": "stdout",
     "output_type": "stream",
     "text": [
      "1\n",
      " 0.00100 seconds\n",
      "1\n",
      " 10.9195 seconds\n"
     ]
    }
   ],
   "source": [
    "from time import time\n",
    "a = 7727*7741*7753*7757*7759\n",
    "b = 5839*5843*5849 \n",
    "start_time = time()\n",
    "print(gcd4(a, b))\n",
    "print(f\"{time() - start_time : .5f} seconds\")\n",
    "\n",
    "start_time = time()\n",
    "print(gcd3(a, b))\n",
    "print(f\"{time() - start_time : .5f} seconds\")"
   ]
  },
  {
   "cell_type": "markdown",
   "id": "7e7f3b41",
   "metadata": {},
   "source": [
    "Although at a detail value, `gcd3` is more efficient than `gcd2` and `gcd2` is more efficent than `gcd1`, but they have same the **linear** time complexity $O(n)$.\n",
    "`gcd4` has **logarithmic** time complexity $O(\\log n)$. In Computer Science, the base of logarithm is default to be 2.\n",
    "\n",
    "Although computers calculate things fast, there always exists problems that computers must take comoslogical time to find the answer. Above is an example program that measure execution time. As the numbers go larger, the `gcd3` becomes slower whereas `gcd1` return answer within faction of second.\n",
    "\n",
    "Below is a table of comparing growth of value between linear and logarithm. Suppose that operation time per line is 0.001 millisecond on average. At large value of n, the logarithmic algorithm still can return the answer within fraction of seconds, while it takes few days for linear algorithm."
   ]
  },
  {
   "cell_type": "code",
   "execution_count": 32,
   "id": "68cc33e6",
   "metadata": {},
   "outputs": [
    {
     "name": "stdout",
     "output_type": "stream",
     "text": [
      "n = 10^5\t 0:00:00.100000 \t\t\t 0:00:00\n",
      "n = 10^7\t 0:00:10 \t\t\t 0:00:00.006644\n",
      "n = 10^9\t 0:16:40 \t\t\t 0:00:00.013288\n",
      "n = 10^11\t 1 day, 3:46:40 \t\t\t 0:00:00.019932\n",
      "n = 10^13\t 115 days, 17:46:40 \t\t\t 0:00:00.026575\n",
      "n = 10^15\t 11574 days, 1:46:40 \t\t\t 0:00:00.033219\n",
      "n = 10^17\t 1157407 days, 9:46:40 \t\t\t 0:00:00.039863\n",
      "n = 10^19\t 115740740 days, 17:46:40 \t\t\t 0:00:00.046507\n"
     ]
    }
   ],
   "source": [
    "from math import log\n",
    "from datetime import timedelta\n",
    "n = 10\n",
    "for i in range(5,20,2):\n",
    "    input_size = n ** i * 0.001\n",
    "    lin_time = timedelta(milliseconds=input_size)\n",
    "    log_time = log(0.01 * input_size, 2)\n",
    "    log_time = timedelta(milliseconds=log_time)\n",
    "    print(f'n = {n}^{i}\\t', lin_time, '\\t\\t\\t', log_time)"
   ]
  },
  {
   "cell_type": "markdown",
   "id": "2710d178",
   "metadata": {},
   "source": [
    "The lesson here is that even the fastest computer, it just cannot solve when the input get bigger; even with slow computer, can solve the problem in reasonably time using logarithmic algorithm."
   ]
  }
 ],
 "metadata": {
  "kernelspec": {
   "display_name": "Python 3 (ipykernel)",
   "language": "python",
   "name": "python3"
  },
  "language_info": {
   "codemirror_mode": {
    "name": "ipython",
    "version": 3
   },
   "file_extension": ".py",
   "mimetype": "text/x-python",
   "name": "python",
   "nbconvert_exporter": "python",
   "pygments_lexer": "ipython3",
   "version": "3.10.2"
  },
  "vscode": {
   "interpreter": {
    "hash": "2324a66782fee6ab9f0bdb3c9e79ee636ed86487484f245c4444858429ce7730"
   }
  }
 },
 "nbformat": 4,
 "nbformat_minor": 5
}
