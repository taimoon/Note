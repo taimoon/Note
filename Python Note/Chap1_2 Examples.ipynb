{
 "cells": [
  {
   "cell_type": "markdown",
   "id": "59ae74f6",
   "metadata": {},
   "source": [
    "# Note to previous Chapter 1"
   ]
  },
  {
   "cell_type": "markdown",
   "id": "01f78f20",
   "metadata": {},
   "source": [
    "In Chapter 1, we've reviewed the important elements of Python. Of course, many of you are still clueless in solving problem using programming.\n",
    "\n",
    "Memorise things doesn't help either. Programming is hard because you must learn to `apply` it to solve the problem. This is very different from memorising the concepts and answer the exam.\n",
    "\n",
    "Initially, programming is always not easy and frustrating.\n",
    "\n",
    "Advises:\n",
    "1. It is fine that we do not understand and remember everything in programming\n",
    "2. **Practice make perfect**; There is no royal road to programming\n",
    "3. **Your first program will be always broken, ugly**. So just refactor it afterward\n",
    "4. Make use of online resources. Googling answers is fine\n",
    "5. Even expert programmers, they neither memorize every functions, libraries nor intricacies but they know the techniques and what matters.\n",
    "6. Touch typing is not essential but it can makes your programming task less miserable thus more motivated. This same goes to good IDE\n",
    "7. Consult experienced programmer\n",
    "8. To beginner, it is always okay to break your program, bad practices are okay. Appreciating good practices can grow from experiencing bad things happens due to bad practices"
   ]
  },
  {
   "cell_type": "markdown",
   "id": "92c2e892",
   "metadata": {},
   "source": [
    "# Example 1: Sum of 3 and 5 mutiples\n",
    "Adapted from [ProjectEuler.net](https://projecteuler.net/problem=1)\n",
    "\n",
    "If we list all the natural numbers below 10 that are multiples of 3 or 5, we get 3, 5, 6 and 9. The sum of these multiples is 23.\n",
    "\n",
    "Find the sum of all the multiples of 3 or 5 below 1000. \n",
    "\n",
    "Expected Anwser: 233168\n",
    "\n",
    "From previous chapter, we have the code that sum from 0 to n, then tweaks some of it might possibly work as expected. And we start from small n first, says n = 10."
   ]
  },
  {
   "cell_type": "code",
   "execution_count": 8,
   "id": "b9c0497b",
   "metadata": {},
   "outputs": [
    {
     "data": {
      "text/plain": [
       "33"
      ]
     },
     "execution_count": 8,
     "metadata": {},
     "output_type": "execute_result"
    }
   ],
   "source": [
    "n = 10\n",
    "i = 1\n",
    "result = 0\n",
    "while i <= n:\n",
    "    if i % 3 == 0:\n",
    "        result += i\n",
    "    if i % 5 == 0:\n",
    "        result += i\n",
    "    i += 1\n",
    "result"
   ]
  },
  {
   "cell_type": "markdown",
   "id": "d86b89da",
   "metadata": {},
   "source": [
    "But the code above is not work as expected that `result` should be `23` rather than `33`.\n",
    "\n",
    "It turns out that the program include `10` in the last iteration of `while`. This is an example of **semantic error** where the program can run but doesn't work as expected"
   ]
  },
  {
   "cell_type": "code",
   "execution_count": 9,
   "id": "7c413519",
   "metadata": {},
   "outputs": [
    {
     "data": {
      "text/plain": [
       "23"
      ]
     },
     "execution_count": 9,
     "metadata": {},
     "output_type": "execute_result"
    }
   ],
   "source": [
    "n = 10\n",
    "i = 1\n",
    "result = 0\n",
    "while i < n:\n",
    "    if i % 3 == 0:\n",
    "        result += i\n",
    "    if i % 5 == 0:\n",
    "        result += i\n",
    "    i += 1\n",
    "result"
   ]
  },
  {
   "cell_type": "markdown",
   "id": "74a3f87b",
   "metadata": {},
   "source": [
    "Seems good. We wish to test a larger `n`, let it be 20. By hand calculation, the sum of 3 and 5 multiples below 20 is"
   ]
  },
  {
   "cell_type": "code",
   "execution_count": 11,
   "id": "f6635fb5",
   "metadata": {},
   "outputs": [
    {
     "data": {
      "text/plain": [
       "78"
      ]
     },
     "execution_count": 11,
     "metadata": {},
     "output_type": "execute_result"
    }
   ],
   "source": [
    "3 + 5 + 6 + 9 + 10 + 12 + 15 + 18"
   ]
  },
  {
   "cell_type": "code",
   "execution_count": 12,
   "id": "f9d52645",
   "metadata": {},
   "outputs": [
    {
     "data": {
      "text/plain": [
       "93"
      ]
     },
     "execution_count": 12,
     "metadata": {},
     "output_type": "execute_result"
    }
   ],
   "source": [
    "n = 20\n",
    "i = 1\n",
    "result = 0\n",
    "while i < n:\n",
    "    if i % 3 == 0:\n",
    "        result += i\n",
    "    if i % 5 == 0:\n",
    "        result += i\n",
    "    i += 1\n",
    "result"
   ]
  },
  {
   "cell_type": "markdown",
   "id": "e047f419",
   "metadata": {},
   "source": [
    "Which one is the correct? We have checked that the first program `78` is calculated as problem intended. It turns out that the program include \"15\" twice. This is because 15 is a mutiple of 3 and 5, then the `if` branches are executed twice."
   ]
  },
  {
   "cell_type": "code",
   "execution_count": 13,
   "id": "8ae6210b",
   "metadata": {},
   "outputs": [
    {
     "data": {
      "text/plain": [
       "78"
      ]
     },
     "execution_count": 13,
     "metadata": {},
     "output_type": "execute_result"
    }
   ],
   "source": [
    "n = 20\n",
    "i = 1\n",
    "result = 0\n",
    "while i < n:\n",
    "    if i % 3 == 0:\n",
    "        result += i\n",
    "    elif i % 5 == 0:\n",
    "        result += i\n",
    "    i += 1\n",
    "result"
   ]
  },
  {
   "cell_type": "code",
   "execution_count": 15,
   "id": "be8e3e2a",
   "metadata": {},
   "outputs": [
    {
     "data": {
      "text/plain": [
       "233168"
      ]
     },
     "execution_count": 15,
     "metadata": {},
     "output_type": "execute_result"
    }
   ],
   "source": [
    "n = 1000\n",
    "i = 1\n",
    "result = 0\n",
    "while i < n:\n",
    "    if i % 3 == 0:\n",
    "        result += i\n",
    "    elif i % 5 == 0:\n",
    "        result += i\n",
    "    i += 1\n",
    "result"
   ]
  },
  {
   "cell_type": "markdown",
   "id": "fb62036c",
   "metadata": {},
   "source": [
    "# Exercise\n",
    "Refactor the previous code using `or`"
   ]
  },
  {
   "cell_type": "code",
   "execution_count": null,
   "id": "62d36bc6",
   "metadata": {},
   "outputs": [],
   "source": []
  },
  {
   "cell_type": "markdown",
   "id": "8ccb1a2d",
   "metadata": {},
   "source": [
    "# Example 2: Primality Test\n",
    "\n",
    "A prime number is a number larger than 1 and only divisble by 1 and itself. Equivalently, excluding 1, the smallest divisor of prime number is itself."
   ]
  },
  {
   "cell_type": "code",
   "execution_count": 18,
   "id": "19c35de2",
   "metadata": {},
   "outputs": [
    {
     "name": "stdout",
     "output_type": "stream",
     "text": [
      "True\n",
      "True\n",
      "False\n"
     ]
    }
   ],
   "source": [
    "def smallest_divisor(n):\n",
    "    d = 2\n",
    "    while d < n:\n",
    "        if n%d == 0:\n",
    "            return d\n",
    "        d += 1\n",
    "    return n\n",
    "\n",
    "def is_prime(n):\n",
    "    return smallest_divisor(n) == n\n",
    "\n",
    "print(is_prime(7))\n",
    "print(is_prime(13))\n",
    "print(is_prime(15))"
   ]
  },
  {
   "cell_type": "markdown",
   "id": "794d12e3",
   "metadata": {},
   "source": [
    "Previously says, to an expert programmer, they can visualize how the program evolves and runs.\n",
    "When `is_prime(n)` is called, then `smallest_divisor(n)` is called. The line2 is evaluated once, from line3 to line6 are evaluated repeatedly. The question is how many repetitions on given input `n`?\n",
    "\n",
    "Consider the worst case scenario in this case, is that the `while` must loop all the ways to `n` if given `n` is a prime. Hence, approximately, the order of growth is $ O(n) $.\n",
    "\n",
    "The order of growth only care the $ n $ with the largest degree. Suppose that the given growth rate is $ T(n) = n^2 + 100000n + 7!$, we still ignore the $ 10000n $ and $ 7! $, and the order of growth is $ O(n^2) $.\n",
    "\n",
    "Is the program correct given any positive integer $ n $? It requires mathematical expertise to prove it is actually correct."
   ]
  },
  {
   "cell_type": "code",
   "execution_count": 23,
   "id": "301a7fdb",
   "metadata": {},
   "outputs": [
    {
     "name": "stdout",
     "output_type": "stream",
     "text": [
      "True\n",
      "True\n",
      "False\n"
     ]
    }
   ],
   "source": [
    "def is_prime(n):\n",
    "        from math import sqrt\n",
    "        d = 2\n",
    "        while d <= sqrt(n):\n",
    "            if n%d == 0:\n",
    "                return False\n",
    "            d += 1\n",
    "        return True\n",
    "print(is_prime(7))\n",
    "print(is_prime(13))\n",
    "print(is_prime(15))"
   ]
  },
  {
   "cell_type": "markdown",
   "id": "e6ab3aff",
   "metadata": {},
   "source": [
    "Above is another program which is correct but more effective than first version. Because the program halts when $ d = \\sqrt{n} $, hence the order of growth is $ O(\\sqrt{n}) $"
   ]
  },
  {
   "cell_type": "code",
   "execution_count": 25,
   "id": "d6c857bd",
   "metadata": {
    "scrolled": true
   },
   "outputs": [
    {
     "name": "stdout",
     "output_type": "stream",
     "text": [
      "True\n",
      "True\n",
      "False\n"
     ]
    }
   ],
   "source": [
    "def is_prime(n):\n",
    "        d = 2\n",
    "        while d*d <= n:\n",
    "            if n%d == 0:\n",
    "                return False\n",
    "            d += 1\n",
    "        return True\n",
    "print(is_prime(7))\n",
    "print(is_prime(13))\n",
    "print(is_prime(15))"
   ]
  },
  {
   "cell_type": "markdown",
   "id": "0d179918",
   "metadata": {},
   "source": [
    "Above is similar to previous code, in terms of growth of order. However, `sqrt` is more computationally expensive than multiplication, thus the code above is more effecient. On some platform, multiplication and modulus operations are expensive too. These are dependent on platform, but growth of order is independent of programming languages and platforms (except you're wokring on quantum computer). "
   ]
  },
  {
   "cell_type": "markdown",
   "id": "6f02110e",
   "metadata": {},
   "source": [
    "## Exercise\n",
    "1. Find the sum of primes below 2 million. You may use `is_prime`"
   ]
  },
  {
   "cell_type": "code",
   "execution_count": null,
   "id": "b0e26baf",
   "metadata": {},
   "outputs": [],
   "source": []
  },
  {
   "cell_type": "markdown",
   "id": "f544bc90",
   "metadata": {},
   "source": [
    "2. Develop a program that check a number is a perfect number. [Reference](https://en.wikipedia.org/wiki/Perfect_number)"
   ]
  },
  {
   "cell_type": "code",
   "execution_count": 1,
   "id": "d21d6615",
   "metadata": {
    "scrolled": true
   },
   "outputs": [
    {
     "name": "stdout",
     "output_type": "stream",
     "text": [
      "None\n",
      "None\n",
      "None\n",
      "None\n"
     ]
    }
   ],
   "source": [
    "def is_perfect(n):\n",
    "    pass\n",
    "\n",
    "print(is_perfect(6))\n",
    "print(is_perfect(28))\n",
    "print(is_perfect(496))\n",
    "print(is_perfect(777))"
   ]
  }
 ],
 "metadata": {
  "kernelspec": {
   "display_name": "Python 3 (ipykernel)",
   "language": "python",
   "name": "python3"
  },
  "language_info": {
   "codemirror_mode": {
    "name": "ipython",
    "version": 3
   },
   "file_extension": ".py",
   "mimetype": "text/x-python",
   "name": "python",
   "nbconvert_exporter": "python",
   "pygments_lexer": "ipython3",
   "version": "3.10.2"
  },
  "vscode": {
   "interpreter": {
    "hash": "2324a66782fee6ab9f0bdb3c9e79ee636ed86487484f245c4444858429ce7730"
   }
  }
 },
 "nbformat": 4,
 "nbformat_minor": 5
}
