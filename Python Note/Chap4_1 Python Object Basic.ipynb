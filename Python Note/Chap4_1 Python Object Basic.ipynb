{
 "cells": [
  {
   "attachments": {},
   "cell_type": "markdown",
   "metadata": {},
   "source": [
    "# Object, Representing Bank Account\n",
    "Suppose that we wish develop a program to keep track of bank account. The data required are name, and amount. The methods can be applied are withdraw, and deposit.\n",
    "\n",
    "Syntax of defining object in Python\n",
    "\n",
    "```\n",
    "# general\n",
    "class <type_name>:\n",
    "    <statement_1>\n",
    "    <statement_2>\n",
    "    <statement_3>\n",
    "    ...\n",
    "\n",
    "# common\n",
    "class <type_name>:\n",
    "    def <method_1>(self, <args_1>):\n",
    "        <code>\n",
    "    def <method_2>(self, <args_2>):\n",
    "        <code>\n",
    "    ...\n",
    "\n",
    "# idiom # 1\n",
    "class <type_name>:\n",
    "    def __init__(self): # member 1\n",
    "        <code>\n",
    "    def __repr__(self): # member 2\n",
    "        <code>\n",
    "        return <str>\n",
    "```\n",
    "\n",
    "Note:\n",
    "1. Instances created and defined by `class` are called `objects` too.\n",
    "2. Object methods refer to object's member functions.\n",
    "3. Above syntax are not normally remembered by programmers. Rather, we remember certain idioms (i.e.: commonly used patterns) like chess opening.\n",
    "4. \\<member\\> can be any value including **functions** which are values too in Python.\n",
    "5. There are many magic methods defined by `Python`. `__init__` is a magic method which is only invoked when `<typename>(<args>)` is called. `__repr__` is also a magic method returning `string` value when the object is asked for output."
   ]
  },
  {
   "cell_type": "code",
   "execution_count": 1,
   "metadata": {},
   "outputs": [
    {
     "data": {
      "text/plain": [
       "<__main__.Bank_Account at 0x2a19e713400>"
      ]
     },
     "execution_count": 1,
     "metadata": {},
     "output_type": "execute_result"
    }
   ],
   "source": [
    "class Bank_Account:\n",
    "    name = \"\"       # member 1\n",
    "    balance = 0     # member 2\n",
    "reimu_acc = Bank_Account()  # create an instance of Bank_Account\n",
    "reimu_acc"
   ]
  },
  {
   "cell_type": "markdown",
   "metadata": {},
   "source": [
    "To access the member of a class, we may the syntax as below:\n",
    "\n",
    "```\n",
    "<obj_name>.<member_name>\n",
    "```\n",
    "\n",
    "Can refer as dot notation."
   ]
  },
  {
   "cell_type": "code",
   "execution_count": 17,
   "metadata": {},
   "outputs": [
    {
     "name": "stdout",
     "output_type": "stream",
     "text": [
      "Reimu 100\n"
     ]
    }
   ],
   "source": [
    "reimu_acc.name = \"Reimu\"\n",
    "reimu_acc.age = 100\n",
    "print(reimu_acc.name, reimu_acc.age)"
   ]
  },
  {
   "cell_type": "markdown",
   "metadata": {},
   "source": [
    "As printing and initialization are common operations, Python provides magic methods for them."
   ]
  },
  {
   "cell_type": "code",
   "execution_count": 18,
   "metadata": {},
   "outputs": [],
   "source": [
    "class Bank_Account:\n",
    "    # __init__ is a magic method of Python, it is called every time constructed\n",
    "    # invoked by calling Bank_Account(self, name, amount)\n",
    "    def __init__(self, name, amount): # member 1; method; function\n",
    "        self.name = name\n",
    "        self.amount = amount\n",
    "    \n",
    "    # another magic method that it is invoked when REPL ask for its output\n",
    "    # the return type is expected to string type\n",
    "    def __repr__(self): # member 2; method; function\n",
    "        return f'''Bank_Account('{self.name}', {self.amount})'''"
   ]
  },
  {
   "cell_type": "code",
   "execution_count": 19,
   "metadata": {},
   "outputs": [
    {
     "data": {
      "text/plain": [
       "Bank_Account('Kirisame', 200)"
      ]
     },
     "execution_count": 19,
     "metadata": {},
     "output_type": "execute_result"
    }
   ],
   "source": [
    "marisa_acc = Bank_Account(\"Kirisame\", 200) # create object of Bank_Account; __init__ is invoked\n",
    "marisa_acc  # As Jupyter shell ask for its output, its __repr__ is called"
   ]
  },
  {
   "cell_type": "code",
   "execution_count": 20,
   "metadata": {},
   "outputs": [
    {
     "data": {
      "text/plain": [
       "<bound method Bank_Account.__repr__ of Bank_Account('Kirisame', 200)>"
      ]
     },
     "execution_count": 20,
     "metadata": {},
     "output_type": "execute_result"
    }
   ],
   "source": [
    "# indeed, as functions are values, and it is showns as bound method\n",
    "marisa_acc.__repr__"
   ]
  },
  {
   "cell_type": "code",
   "execution_count": 21,
   "metadata": {},
   "outputs": [],
   "source": [
    "class Bank_Account:\n",
    "    def __init__(self, name, balance):\n",
    "        self.name = name\n",
    "        self.balance = balance\n",
    "\n",
    "    def withdraw(self, amt):\n",
    "        if self.balance < amt:\n",
    "            return \"insufficient fund\"\n",
    "        self.balance -= amt\n",
    "    \n",
    "    def deposit(self, amt):\n",
    "        if amt <= 0:\n",
    "            return \"deposit amount must be positive\"\n",
    "        self.balance += amt\n",
    "\n",
    "    def __repr__(self):\n",
    "        return f'''Bank_Account('{self.name}', {self.balance})'''"
   ]
  },
  {
   "cell_type": "code",
   "execution_count": 22,
   "metadata": {},
   "outputs": [
    {
     "name": "stdout",
     "output_type": "stream",
     "text": [
      "Bank_Account('Marisa', 200)\n",
      "Bank_Account('Marisa', 100)\n",
      "Bank_Account('Marisa', 125)\n"
     ]
    }
   ],
   "source": [
    "marisa_acc = Bank_Account(\"Kirisame\", 200)\n",
    "print(marisa_acc)   # invokve __repr__ if defined\n",
    "marisa_acc.withdraw(100)    # Bank_Account.withdraw(marisa_acc, 100)\n",
    "print(marisa_acc)\n",
    "Bank_Account.deposit(marisa_acc, 25) # same as marisa_acc.deposit(25)\n",
    "print(marisa_acc)"
   ]
  },
  {
   "cell_type": "markdown",
   "metadata": {},
   "source": [
    "# self parameter\n",
    "The functions defined inside the class are also called methods. By default, the first parameter (can be other name than `self`) is the instance of class. The evaluation goes like this:\n",
    "```\n",
    "marisa_acc = Bank_Account(\"Marisa\", 200) # create an instance of Bank_Account\n",
    "marisa_acc.withdraw(100)\n",
    "Bank_Account.withdraw(marisa_acc, 100)\n",
    "    if marisa_acc.balance < 100:\n",
    "        return \"insufficient fund\"\n",
    "    self.marisa_acc -= 100\n",
    "marisa_acc # Bank_Account('Marisa', 100)\n",
    "```"
   ]
  },
  {
   "cell_type": "markdown",
   "metadata": {},
   "source": [
    "# Problem of Object: Sameness and Change\n",
    "\n",
    "Suppose that we have two bank account object."
   ]
  },
  {
   "cell_type": "code",
   "execution_count": 23,
   "metadata": {},
   "outputs": [
    {
     "name": "stdout",
     "output_type": "stream",
     "text": [
      "Bank_Account('Ibuki Suika', 100) Bank_Account('Ibuki Suika', 100)\n"
     ]
    }
   ],
   "source": [
    "suika_acc = Bank_Account(\"Ibuki Suika\", 100)\n",
    "ibuki_acc = Bank_Account(\"Ibuki Suika\", 100)\n",
    "print(suika_acc, ibuki_acc)"
   ]
  },
  {
   "cell_type": "markdown",
   "metadata": {},
   "source": [
    "The question is that are `suika_acc` and `ibuki_acc` the same thing?\n",
    "\n",
    "No, they are not the same thing in the sense that they don't share the same effect, although they created by the same values."
   ]
  },
  {
   "cell_type": "code",
   "execution_count": 24,
   "metadata": {},
   "outputs": [
    {
     "data": {
      "text/plain": [
       "Bank_Account('Ibuki Suika', 45)"
      ]
     },
     "execution_count": 24,
     "metadata": {},
     "output_type": "execute_result"
    }
   ],
   "source": [
    "suika_acc.withdraw(30)\n",
    "suika_acc.withdraw(25)\n",
    "suika_acc"
   ]
  },
  {
   "cell_type": "code",
   "execution_count": 25,
   "metadata": {},
   "outputs": [
    {
     "data": {
      "text/plain": [
       "Bank_Account('Ibuki Suika', 75)"
      ]
     },
     "execution_count": 25,
     "metadata": {},
     "output_type": "execute_result"
    }
   ],
   "source": [
    "ibuki_acc.withdraw(25)\n",
    "ibuki_acc"
   ]
  },
  {
   "cell_type": "markdown",
   "metadata": {},
   "source": [
    "To correctly reason about the programs involving objects, we must somehow know their **history** and **order** of which expressions are evaluated.\n",
    "\n",
    "Therefore, Python provide another keyword `is` is to test whether two object are the same rather than equality."
   ]
  },
  {
   "cell_type": "code",
   "execution_count": 26,
   "metadata": {},
   "outputs": [
    {
     "name": "stdout",
     "output_type": "stream",
     "text": [
      "True\n",
      "False\n"
     ]
    }
   ],
   "source": [
    "print(suika_acc is suika_acc)\n",
    "print(suika_acc is ibuki_acc)"
   ]
  },
  {
   "cell_type": "markdown",
   "metadata": {},
   "source": [
    "There is another problem of object."
   ]
  },
  {
   "cell_type": "code",
   "execution_count": 27,
   "metadata": {},
   "outputs": [
    {
     "name": "stdout",
     "output_type": "stream",
     "text": [
      "100 80\n"
     ]
    }
   ],
   "source": [
    "x = 100\n",
    "y = x\n",
    "y = y - 20\n",
    "print(x,y)"
   ]
  },
  {
   "cell_type": "markdown",
   "metadata": {},
   "source": [
    "However, this is not true for object"
   ]
  },
  {
   "cell_type": "code",
   "execution_count": 30,
   "metadata": {},
   "outputs": [
    {
     "name": "stdout",
     "output_type": "stream",
     "text": [
      "Bank_Account('Sakuya', 80) Bank_Account('Sakuya', 80)\n",
      "True\n"
     ]
    }
   ],
   "source": [
    "sakuya_acc1 = Bank_Account('Sakuya', 100)\n",
    "sakuya_acc2 = sakuya_acc1\n",
    "sakuya_acc1.withdraw(20)\n",
    "print(sakuya_acc1, sakuya_acc2)\n",
    "print(sakuya_acc1 is sakuya_acc2)"
   ]
  },
  {
   "cell_type": "markdown",
   "metadata": {},
   "source": [
    "This is because the expression `sakuya_acc2 = sakuya_acc1` that `sakuya_acc2` is merely aliasing instead deeply copied and assigned a new value. In other word, `sakuya_acc1` and `sakuya_acc2` point to the same object. It can be expected that the expression `sakuya_acc1 is sakuya_acc2` is evaluated to be true."
   ]
  }
 ],
 "metadata": {
  "kernelspec": {
   "display_name": "Python 3.10.2 64-bit",
   "language": "python",
   "name": "python3"
  },
  "language_info": {
   "codemirror_mode": {
    "name": "ipython",
    "version": 3
   },
   "file_extension": ".py",
   "mimetype": "text/x-python",
   "name": "python",
   "nbconvert_exporter": "python",
   "pygments_lexer": "ipython3",
   "version": "3.10.2 (tags/v3.10.2:a58ebcc, Jan 17 2022, 14:12:15) [MSC v.1929 64 bit (AMD64)]"
  },
  "orig_nbformat": 4,
  "vscode": {
   "interpreter": {
    "hash": "2324a66782fee6ab9f0bdb3c9e79ee636ed86487484f245c4444858429ce7730"
   }
  }
 },
 "nbformat": 4,
 "nbformat_minor": 2
}
