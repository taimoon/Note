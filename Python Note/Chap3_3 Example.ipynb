{
 "cells": [
  {
   "cell_type": "markdown",
   "metadata": {},
   "source": [
    "# Example of List Comprehension: Quicksort\n",
    "\n",
    "[Quicksort algorithm in Python](https://www.geeksforgeeks.org/python-program-for-quicksort/)\n",
    "\n",
    "The article demostrate the code of quicksort algorithm. The code is quite common in style in other articles and books that uses non-functional programming languages. \n",
    "\n",
    "It can be written more elegantly and more concise using list comprehension."
   ]
  },
  {
   "cell_type": "code",
   "execution_count": 3,
   "metadata": {},
   "outputs": [],
   "source": [
    "def quicksort(li):\n",
    "    if li == []:\n",
    "        return []\n",
    "    else:\n",
    "        pivot = li[0]\n",
    "        smaller = [i for i in li[1:] if i <= pivot]\n",
    "        bigger = [i for i in li[1:] if i > pivot]\n",
    "        return quicksort(smaller) +  [pivot] + quicksort(bigger)"
   ]
  },
  {
   "cell_type": "code",
   "execution_count": 6,
   "metadata": {},
   "outputs": [
    {
     "data": {
      "text/plain": [
       "[-63, -41, -39, -26, 12, 28, 36, 57, 73, 79]"
      ]
     },
     "execution_count": 6,
     "metadata": {},
     "output_type": "execute_result"
    }
   ],
   "source": [
    "from random import randint\n",
    "n = 10\n",
    "quicksort([randint(-100, 100) for _ in range(n)])"
   ]
  },
  {
   "cell_type": "markdown",
   "metadata": {},
   "source": [
    "Note that the implementation above provides no guarantee in better performance. But it exactly capture the essence of quicksort algorithm. "
   ]
  },
  {
   "cell_type": "markdown",
   "metadata": {},
   "source": [
    "# Example 2: Binary Search\n",
    "\n",
    "Suppose that we have a sequence of numbers and we want to test if given number is in the sequence. Of course, in Python, we may use the membership operator `in` to test this."
   ]
  },
  {
   "cell_type": "code",
   "execution_count": 5,
   "metadata": {},
   "outputs": [
    {
     "data": {
      "text/plain": [
       "[9, 0, 1, 7, 4, 9, 10, 3, 1, 9]"
      ]
     },
     "execution_count": 5,
     "metadata": {},
     "output_type": "execute_result"
    }
   ],
   "source": [
    "li = [9, 0, 1, 7, 4, 9, 10, 3, 1, 9]\n",
    "li"
   ]
  },
  {
   "cell_type": "code",
   "execution_count": 6,
   "metadata": {},
   "outputs": [
    {
     "name": "stdout",
     "output_type": "stream",
     "text": [
      "True\n",
      "False\n"
     ]
    }
   ],
   "source": [
    "print(9 in li)\n",
    "print(11 in li)"
   ]
  },
  {
   "cell_type": "markdown",
   "metadata": {},
   "source": [
    "Hence, to implement membership testing is merely for learning purpose. There are many way to do it, and one of them is to **search** for it. Below code is the naive method of searching if number is in the sequence."
   ]
  },
  {
   "cell_type": "code",
   "execution_count": 12,
   "metadata": {},
   "outputs": [],
   "source": [
    "def linear_search(seq, target):\n",
    "    for i, elem in enumerate(seq):\n",
    "        if elem == target:\n",
    "            return i\n",
    "    return None # return -1 that it is a valid index for python list, hence return None"
   ]
  },
  {
   "cell_type": "code",
   "execution_count": 18,
   "metadata": {},
   "outputs": [
    {
     "name": "stdout",
     "output_type": "stream",
     "text": [
      "2 1\n",
      "6 10\n",
      "None\n"
     ]
    }
   ],
   "source": [
    "print_li = lambda i, li:  print(i) if i is None else print(i, li[i])\n",
    "i = linear_search(li, 1)\n",
    "print_li(i, li)\n",
    "i = linear_search(li, 10)\n",
    "print_li(i, li)\n",
    "i = linear_search(li, 11)\n",
    "print_li(i, li)"
   ]
  },
  {
   "cell_type": "markdown",
   "metadata": {},
   "source": [
    "The time complexity is $O(n)$ because given a sequence of length $n$, and the worst case is that the target is not in sequence, the process have to iterate through all elements of the sequence, hence $O(n)$."
   ]
  },
  {
   "cell_type": "markdown",
   "metadata": {},
   "source": [
    "Suppose that we have a sorted sequence in ascending order, and we also want to find if number is in the sequence. Then, given any position $i$, the elements from position larger than $i$ will be larger, and the reverse implies the same. We can exploit this fact to search faster."
   ]
  },
  {
   "cell_type": "code",
   "execution_count": 20,
   "metadata": {},
   "outputs": [
    {
     "data": {
      "text/plain": [
       "[0, 1, 1, 3, 4, 7, 9, 9, 9, 10]"
      ]
     },
     "execution_count": 20,
     "metadata": {},
     "output_type": "execute_result"
    }
   ],
   "source": [
    "sorted_li = sorted(li)\n",
    "sorted_li"
   ]
  },
  {
   "cell_type": "code",
   "execution_count": 26,
   "metadata": {},
   "outputs": [],
   "source": [
    "def binary_search(seq, target):\n",
    "    lo = 0\n",
    "    hi = len(seq)\n",
    "    mid = lambda x,y: (x+y)//2\n",
    "    while lo != hi:\n",
    "        if seq[mid(lo, hi)] < target:\n",
    "            lo = mid(lo, hi) + 1\n",
    "        elif seq[mid(lo, hi)] > target:\n",
    "            hi = mid(lo, hi) - 1\n",
    "        else:\n",
    "            return mid(lo, hi)\n",
    "    return None"
   ]
  },
  {
   "cell_type": "code",
   "execution_count": 29,
   "metadata": {},
   "outputs": [
    {
     "name": "stdout",
     "output_type": "stream",
     "text": [
      "2 1\n",
      "5 7\n",
      "None\n"
     ]
    }
   ],
   "source": [
    "print_li = lambda i, li:  print(i) if i is None else print(i, li[i])\n",
    "i = binary_search(sorted_li, 1)\n",
    "print_li(i, sorted_li)\n",
    "i = binary_search(sorted_li, 7)\n",
    "print_li(i, sorted_li)\n",
    "i = binary_search(sorted_li, 11)\n",
    "print_li(i, sorted_li)"
   ]
  },
  {
   "cell_type": "markdown",
   "metadata": {},
   "source": [
    "Binary search is more efficient than linear search. Suppose that given a sequence of length $n$, and the target is not in the sequence, then it is the worst case scenario. In this case, for each iteration, the algorithm discard the half of current interval $\\{p_{low}, \\cdots, p_{high}\\}$. The algorithm halts when the interval length is 1 or less than 1. The iteration repeats $\\log_2{n}$ times. Hence, the time complexity time is $O(\\log{n})$. This proof is not rigorous, but it capture the picture of algorithm that it folds things into half.\n",
    "\n",
    "Binary search requires the sequence is sorted thus the original structure is sometimes not maintain (why?).Binary search requires the sequence structure to be contiguous which provides constant time access. Hence, the binary search is not applicable to linked list where access time is asymptomatic nearer to $O(n)$.\n",
    "\n",
    "Due to the efficiency of binary search, computer scientists spend a lot of time studying sorting.\n",
    "\n",
    "Note: In Computer Science literature, the base of $\\log_2$ is often discard and written as $\\log$\n",
    "\n",
    "## Exercise:\n",
    "1. Explain how the method of binary search can be applied in guessing game (refer to Chap1_2). Explain the game should not take more than $\\log(n)$ steps."
   ]
  },
  {
   "cell_type": "markdown",
   "metadata": {},
   "source": [
    "# Exercise: Matrix\n",
    "\n",
    "Adapted from [SICP](https://sicp.sourceacademy.org/chapters/2.2.3.html#ex_2.38)\n",
    "\n",
    "This example is also for learning purpose. Readers may use the numpy library for heavy matrix computations.\n",
    "\n",
    "Suppose that we represents vectors $v = (v_1, .., v_i, .., v_n)$ as sequences of numbers and matrices $M = m_{ij}$ as sequences of vectors. For example, \n",
    "\n",
    "$$\n",
    "\\begin{bmatrix}\n",
    "1 &2 &3 &4 \\\\\n",
    "4 &5 &6 &7 \\\\\n",
    "8 &9 &10 &11\n",
    "\\end{bmatrix}\n",
    "$$\n",
    "\n",
    "can be represented as `tuple` of `tuple`s in Python\n",
    "\n",
    "```\n",
    "((1,2,3,4),\n",
    " (4,5,6,7),\n",
    " (8,9,10,11))\n",
    "```\n",
    "\n",
    "With this representation, we may use `reduce`, `zip` and `map` to represent the basic matrix and vector operations. The operations described as:\n",
    "\n",
    "`dot_product(v,w)` takes two vectors and returns $\\sum^{n}_{i = 0}{v_iw_i}$\n",
    "\n",
    "`matrix_times_vector(m, v)` returns the vector $t$ where $t_i = \\sum_{j}m_{ij}v_j$\n",
    "\n",
    "`matrix_times_matrix(m,n)` returns the matrix $r$ where $r_{ij} = \\sum_{k}m_{ik}n_{kj}$\n",
    "\n",
    "`tranpose(m)` returns the matrix $n$ where $n_{ij} = m_{ji}$\n",
    "\n",
    "references: [tranpose](https://stackoverflow.com/questions/6473679/transpose-list-of-lists)"
   ]
  },
  {
   "cell_type": "code",
   "execution_count": 30,
   "metadata": {},
   "outputs": [
    {
     "data": {
      "text/plain": [
       "(1, 2, 3, 4)"
      ]
     },
     "execution_count": 30,
     "metadata": {},
     "output_type": "execute_result"
    }
   ],
   "source": []
  },
  {
   "cell_type": "markdown",
   "metadata": {},
   "source": [
    "# Discussion:\n",
    "\n",
    "There exists data structures that allow constant time search. One of them is hashmap (aka. hash table). \n",
    "If you want the fast membership testing, then use Python `dict` which is also hash table. \n",
    "Interestingly, hashmap also relies the contiguous sequence like binary search, but it allows non-numeric index. Hashmap uses hash function to compute index.\n",
    "\n",
    "From these, we see that different data structures can have different trade off. We might ask ourselves, whether it is nicer that the programming language automatically pick the best data structures and algorithms for us. \n",
    "\n",
    "SQL takes this idea that SQL optimize the queries more aggresively than conventional programming languages do. Table (array + hash table) are only the data structure in Lua. The trade off is losing fine control. \n",
    "\n",
    "In Lisp, the `cons` is the fundamental building block of many data structures. Lispers use it to build list, binary tree, and as a glue to build complex data structures. This is rather alien to other programming languages. \n",
    "For example in C, one cannot manipulate the `struct` as if it is `array` unless manipulate pointer through casting directly. \n",
    "In Lisp, list and binary tree are just bunch of cons, lispers can use `car` and `cdr` nagvigate through these data structures as if they are the same.\n",
    "\n",
    "\n",
    "This peculiarity of Lisp has its root in mathematic. \n",
    "In 20th century, mathematicians realize the benefits of axiomatic appoarch in studying math. \n",
    "In axiomatic appoarch, it is better to have fewer axioms to be derived from. For example, the Euclid's Elements is a book on geometry, and it required only 5 postulates (axioms). \n",
    "From these, Euclid able to prove many important finding in geometry. "
   ]
  }
 ],
 "metadata": {
  "kernelspec": {
   "display_name": "Python 3 (ipykernel)",
   "language": "python",
   "name": "python3"
  },
  "language_info": {
   "codemirror_mode": {
    "name": "ipython",
    "version": 3
   },
   "file_extension": ".py",
   "mimetype": "text/x-python",
   "name": "python",
   "nbconvert_exporter": "python",
   "pygments_lexer": "ipython3",
   "version": "3.10.2"
  },
  "vscode": {
   "interpreter": {
    "hash": "2324a66782fee6ab9f0bdb3c9e79ee636ed86487484f245c4444858429ce7730"
   }
  }
 },
 "nbformat": 4,
 "nbformat_minor": 2
}
