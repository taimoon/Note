{
 "cells": [
  {
   "cell_type": "markdown",
   "id": "751f9b3f",
   "metadata": {},
   "source": [
    "# Recursion\n",
    "When you learn any functional programming languages (Haskell, Scheme), you might realize that they lack of `while` construct. Instead, they use recursion to do repetition.\n",
    "\n",
    "Recursion is a process where function call itself. This is hard to understand how can this make sense. \n",
    "\n",
    "A general strategy in writing recursion:\n",
    "1. Enumerate the cases\n",
    "2. Check whether your cases include base cases\n",
    "3. Define the base cases\n",
    "4. Define other cases\n",
    "5. Refactor"
   ]
  },
  {
   "cell_type": "markdown",
   "id": "6f7625fa",
   "metadata": {},
   "source": [
    "Example 1 : Factorial"
   ]
  },
  {
   "cell_type": "code",
   "execution_count": 12,
   "id": "75f3b60f",
   "metadata": {},
   "outputs": [
    {
     "data": {
      "text/plain": [
       "24"
      ]
     },
     "execution_count": 12,
     "metadata": {},
     "output_type": "execute_result"
    }
   ],
   "source": [
    "def fact(n):\n",
    "    if n == 0 or n == 1:\n",
    "        return 1\n",
    "    else:\n",
    "        return n * fact(n - 1)\n",
    "\n",
    "fact(4)"
   ]
  },
  {
   "cell_type": "markdown",
   "id": "6c9d3228",
   "metadata": {},
   "source": [
    "Then, we try to keep track the process\n",
    "\n",
    "```\n",
    "fact(4)\n",
    "4 * fact(3)\n",
    "4 * (3 * fact(2))\n",
    "4 * (3 * (2 * fact(1)))\n",
    "4 * (3 * (2 * 1))\n",
    "24\n",
    "```\n",
    "\n",
    "This kind of recursion require the computer to keep track these value, hence consuming more memory."
   ]
  },
  {
   "cell_type": "markdown",
   "id": "ca4a3c98",
   "metadata": {},
   "source": [
    "There is another way to write using one more state variable"
   ]
  },
  {
   "cell_type": "code",
   "execution_count": 14,
   "id": "3306aa8b",
   "metadata": {
    "scrolled": true
   },
   "outputs": [
    {
     "data": {
      "text/plain": [
       "24"
      ]
     },
     "execution_count": 14,
     "metadata": {},
     "output_type": "execute_result"
    }
   ],
   "source": [
    "def fact_iter(n, accumulated = 1):\n",
    "    if n == 0 or n == 1:\n",
    "        return accumulated\n",
    "    else:\n",
    "        return fact_iter(n-1, accumulated*n)\n",
    "\n",
    "fact_iter(4)"
   ]
  },
  {
   "cell_type": "markdown",
   "id": "19f70082",
   "metadata": {},
   "source": [
    "The process is as follow:\n",
    "\n",
    "```\n",
    "fact_iter(4)\n",
    "fact_iter(4,1)\n",
    "fact_iter(3, 4*1)\n",
    "fact_iter(2, 4*3)\n",
    "fact_iter(1, 12*2)\n",
    "fact_iter(1, 24)\n",
    "24\n",
    "```"
   ]
  },
  {
   "cell_type": "markdown",
   "id": "855512ae",
   "metadata": {},
   "source": [
    "`fact_iter` is doing recursion but obverse that the process does not expand as in `fact`. Indeed, this type of recursion will be optimized by the interpreter or compilers such that it will be perform tail-call optimization , where it does not consume stack memory as much as the recursive program like `fact`.\n",
    "\n",
    "Indeed, this recursion type can be easily transformed into `while` construct. Indeed, the `fact_iter` is iterative in nature although it is doing recursion. The `fact` is recursive in nature."
   ]
  },
  {
   "cell_type": "code",
   "execution_count": 16,
   "id": "0790311a",
   "metadata": {},
   "outputs": [
    {
     "data": {
      "text/plain": [
       "24"
      ]
     },
     "execution_count": 16,
     "metadata": {},
     "output_type": "execute_result"
    }
   ],
   "source": [
    "def fact_iter(n):\n",
    "    accumulated = 1\n",
    "    i = 1\n",
    "    while i <= n:\n",
    "        accumulated *= i\n",
    "        i = i + 1\n",
    "    return accumulated\n",
    "fact_iter(4)"
   ]
  },
  {
   "cell_type": "markdown",
   "id": "3892f014",
   "metadata": {},
   "source": [
    "# Why Recursion?\n",
    "Not all algorithms can be cleverly expressed using iterative algorithm. Coin change is an example of these. The coin change problem concerns about how many way you can make a change given amount and type. It is not obvious how to come out an iterative algorithm, but it has an intuitive recursive algorithm. For example,\n",
    "\n",
    "In Malaysia, we have 5 cent, 10 cent, 20 cent and 50 cent to make a sum of RM 1. One of the possible ways is: 10 + 20 + 20 + 50 = 100 cents = RM 1\n",
    "\n",
    "Coin change asks how many ways of such. It is not obvious coming out with iterative algorihtm, but the recursive algorithm is direct, concise and clear.\n",
    "\n",
    "Consider the following, let $s$ be the target sum and $d_i$ is $i$-th kind of coins.\n",
    "1. (Base) If $s=0$, then we count it as one way to make a change\n",
    "2. (Base) If $s < 0$, then there is no way; count as 0\n",
    "3. (Base) If there is no coin left, then there is no way; count as 0\n",
    "4. (Recusion) The number of ways to sum up to $s$ using $\\{d_0, .., d_n\\}$ is equal to \n",
    "\n",
    "    the number of making change amount of $s$ using all coin type but except first kind of coin $d_0$ plus\n",
    "\n",
    "    the number of making change amount of $s-d_0$ using all coin from $\\{d_0, .., d_n\\}$"
   ]
  },
  {
   "cell_type": "code",
   "execution_count": 1,
   "id": "6b1a4391",
   "metadata": {},
   "outputs": [
    {
     "data": {
      "text/plain": [
       "49"
      ]
     },
     "execution_count": 1,
     "metadata": {},
     "output_type": "execute_result"
    }
   ],
   "source": [
    "# Malaysia has four kind of coins\n",
    "def coin_i(i):\n",
    "    if i == 1:\n",
    "        return 5\n",
    "    elif i == 2:\n",
    "        return 10\n",
    "    elif i == 3:\n",
    "        return 20\n",
    "    elif i == 4:\n",
    "        return 50\n",
    "    else:\n",
    "        return 0\n",
    "\n",
    "def count_change(amount, kind = 4):\n",
    "    if amount == 0:\n",
    "        return 1\n",
    "    elif amount < 0:\n",
    "        return 0\n",
    "    elif kind <= 0:\n",
    "        return 0\n",
    "    else:\n",
    "        return count_change(amount, kind - 1) + count_change(amount - coin_i(kind), kind)\n",
    "count_change(100)"
   ]
  },
  {
   "cell_type": "markdown",
   "id": "a4646859",
   "metadata": {},
   "source": [
    "Note to UMP data analytics students:\n",
    "\n",
    "As our syllabus include Operation Research, and Artificial Intelligence, recursion is very common algorithm when it comes to Graph Theory. Understand how recursion works is useful, but it takes practice to yield this weapon well. \n",
    "\n",
    "Additional Resources:\n",
    "[5 Simple Steps for Solving Any Recursive Problem](https://youtu.be/ngCos392W4w)"
   ]
  },
  {
   "cell_type": "markdown",
   "id": "0933c4f6",
   "metadata": {},
   "source": [
    "# Exercise\n",
    "\n",
    "The `partition` is a similar code to `count_change`, but it consider how many way to sum up to $n$ using positive integers no larger than $n$. For example,\n",
    "\n",
    "$$\n",
    "\\begin{align*}\n",
    "4 &= 4 \\\\\n",
    "&= 3 + 1 \\\\\n",
    "&= 2 + 2 \\\\\n",
    "&= 2 + 1 + 1 \\\\\n",
    "&= 1 + 1 + 1 +1\n",
    "\\end{align*}\n",
    "$$\n",
    "\n",
    "Hence, there are 5 ways to sum up to 4. Below is the code of counting such number."
   ]
  },
  {
   "cell_type": "code",
   "execution_count": 2,
   "id": "6773904c",
   "metadata": {
    "scrolled": true
   },
   "outputs": [
    {
     "data": {
      "text/plain": [
       "5"
      ]
     },
     "execution_count": 2,
     "metadata": {},
     "output_type": "execute_result"
    }
   ],
   "source": [
    "def partition(amount):\n",
    "    def recur(amt, d):\n",
    "        if amt == 0:\n",
    "            return 1\n",
    "        elif amt < 0 or d <= 0:\n",
    "            return 0\n",
    "        else:\n",
    "            return recur(amt - d, d) + recur(amt, d - 1)\n",
    "    return recur(amount, amount)\n",
    "partition(4)"
   ]
  },
  {
   "cell_type": "markdown",
   "id": "edcb57cd",
   "metadata": {},
   "source": [
    "This is a difficult question. What if we concern about how many we can express $n$ in term of product? For example,\n",
    "\n",
    "$$\n",
    "\\begin{align*}\n",
    "18 &= 18 \\\\\n",
    "&= 3\\cdot6 \\\\\n",
    "&=  2\\cdot9 \\\\\n",
    "&=  2\\cdot3\\cdot3\n",
    "\\end{align*}\n",
    "$$\n",
    "\n",
    "Develop a program that calculate such number.\n",
    "\n",
    "Tips: \n",
    "1. It is similar to `partition`\n",
    "2. Test if `d` is a divisor of `n`"
   ]
  },
  {
   "cell_type": "code",
   "execution_count": 6,
   "id": "607bd81d",
   "metadata": {},
   "outputs": [
    {
     "ename": "SyntaxError",
     "evalue": "invalid syntax (Temp/ipykernel_17656/3794819579.py, line 3)",
     "output_type": "error",
     "traceback": [
      "\u001b[1;36m  File \u001b[1;32m\"C:\\Users\\LEONGT~1\\AppData\\Local\\Temp/ipykernel_17656/3794819579.py\"\u001b[1;36m, line \u001b[1;32m3\u001b[0m\n\u001b[1;33m    if # complete the code:\u001b[0m\n\u001b[1;37m       ^\u001b[0m\n\u001b[1;31mSyntaxError\u001b[0m\u001b[1;31m:\u001b[0m invalid syntax\n"
     ]
    }
   ],
   "source": [
    "def product_num(n):\n",
    "    def recur(n, d):\n",
    "        if # complete the code:\n",
    "            return 1\n",
    "        elif # complete the code:\n",
    "            return 0\n",
    "        else:\n",
    "            return # complete code\n",
    "    return recur(n, n)       "
   ]
  }
 ],
 "metadata": {
  "kernelspec": {
   "display_name": "Python 3.10.2 64-bit",
   "language": "python",
   "name": "python3"
  },
  "language_info": {
   "codemirror_mode": {
    "name": "ipython",
    "version": 3
   },
   "file_extension": ".py",
   "mimetype": "text/x-python",
   "name": "python",
   "nbconvert_exporter": "python",
   "pygments_lexer": "ipython3",
   "version": "3.10.2"
  },
  "vscode": {
   "interpreter": {
    "hash": "2324a66782fee6ab9f0bdb3c9e79ee636ed86487484f245c4444858429ce7730"
   }
  }
 },
 "nbformat": 4,
 "nbformat_minor": 5
}
