{
 "cells": [
  {
   "cell_type": "markdown",
   "id": "e15062d2",
   "metadata": {},
   "source": [
    "# Data Abstraction\n",
    "Using `class` is not necessary to represent object, but we can use it to do data abstraction (i.e.: defining a new type) "
   ]
  },
  {
   "cell_type": "code",
   "execution_count": 6,
   "id": "7b18cb82",
   "metadata": {},
   "outputs": [],
   "source": [
    "class Rational:\n",
    "    def __init__(self, n, d):\n",
    "        assert(d != 0) # rational cannot have zero denominator\n",
    "        self.numer = n\n",
    "        self.denom = d\n",
    "    def add(self, other):\n",
    "        return Rational(self.numer*other.denom + self.denom*other.numer, \n",
    "                        self.denom*other.denom)\n",
    "    def display(self):\n",
    "        print(f\"Rational({self.numer},{self.denom})\")"
   ]
  },
  {
   "cell_type": "code",
   "execution_count": 7,
   "id": "11e38f3d",
   "metadata": {},
   "outputs": [
    {
     "name": "stdout",
     "output_type": "stream",
     "text": [
      "Rational(11,10)\n"
     ]
    }
   ],
   "source": [
    "r1 = Rational(1,2)\n",
    "r2 = Rational(3,5)\n",
    "r3 = Rational.add(r1,r2)\n",
    "r3.display()"
   ]
  },
  {
   "cell_type": "markdown",
   "id": "f48538fa",
   "metadata": {},
   "source": [
    "## Good thing of Python: Magic Method\n",
    "\n",
    "`__init__` is a magic method of Python. There are a lot of magic methods in Python which we are encouraged to use them (being Pythonic). We may use `__add__` and `__repr__` magic methods as follow."
   ]
  },
  {
   "cell_type": "code",
   "execution_count": 8,
   "id": "7bf13b50",
   "metadata": {},
   "outputs": [],
   "source": [
    "class Rational:\n",
    "    def __init__(self, n, d):\n",
    "        assert(d != 0) # rational cannot have zero denominator\n",
    "        self.numer = n\n",
    "        self.denom = d\n",
    "    # call be called by self + other rather than using .add\n",
    "    def __add__(self, other):\n",
    "        return Rational(self.numer*other.denom + self.denom*other.numer, \n",
    "                        self.denom*other.denom)\n",
    "    \n",
    "    def __repr__(self) -> str: # type hint its return type\n",
    "        return f\"Rational({self.numer},{self.denom})\""
   ]
  },
  {
   "cell_type": "code",
   "execution_count": 10,
   "id": "a11fe2ce",
   "metadata": {
    "scrolled": true
   },
   "outputs": [
    {
     "data": {
      "text/plain": [
       "Rational(11,10)"
      ]
     },
     "execution_count": 10,
     "metadata": {},
     "output_type": "execute_result"
    }
   ],
   "source": [
    "r1 = Rational(1,2)\n",
    "r2 = Rational(3,5)\n",
    "r3 = r1 + r2\n",
    "r3"
   ]
  },
  {
   "cell_type": "code",
   "execution_count": 12,
   "id": "6b1d7d41",
   "metadata": {},
   "outputs": [
    {
     "data": {
      "text/plain": [
       "Rational(25,50)"
      ]
     },
     "execution_count": 12,
     "metadata": {},
     "output_type": "execute_result"
    }
   ],
   "source": [
    "r1 = Rational(3,10)\n",
    "r2 = Rational(1,5)\n",
    "r1+r2"
   ]
  },
  {
   "cell_type": "markdown",
   "id": "373879e6",
   "metadata": {},
   "source": [
    "It is not work perfectly that the `Rational` class doesn't reduce its value into simplest form."
   ]
  },
  {
   "cell_type": "code",
   "execution_count": 13,
   "id": "d0c77552",
   "metadata": {},
   "outputs": [],
   "source": [
    "from math import gcd\n",
    "class Rational:\n",
    "    def __init__(self, n, d):\n",
    "        assert(d != 0) # rational cannot have zero denominator\n",
    "        common_divisor = gcd(n,d)\n",
    "        self.numer = n // common_divisor # added\n",
    "        self.denom = d // common_divisor # added\n",
    "    # call be called by self + other rather than using .add\n",
    "    def __add__(self, other):\n",
    "        return Rational(self.numer*other.denom + self.denom*other.numer, \n",
    "                        self.denom*other.denom)\n",
    "    \n",
    "    def __repr__(self) -> str: # type hint its return type\n",
    "        return f\"Rational({self.numer},{self.denom})\""
   ]
  },
  {
   "cell_type": "code",
   "execution_count": 14,
   "id": "b9132938",
   "metadata": {},
   "outputs": [
    {
     "data": {
      "text/plain": [
       "Rational(1,2)"
      ]
     },
     "execution_count": 14,
     "metadata": {},
     "output_type": "execute_result"
    }
   ],
   "source": [
    "r1 = Rational(3,10)\n",
    "r2 = Rational(1,5)\n",
    "r1+r2"
   ]
  },
  {
   "cell_type": "markdown",
   "id": "4b93316f",
   "metadata": {},
   "source": [
    "# Exercise: Complete the Rational Class"
   ]
  },
  {
   "cell_type": "markdown",
   "id": "776c74f5",
   "metadata": {},
   "source": [
    "Here is the list of magic methods of `int`. Read the Python documentation for more information\n",
    "\n",
    "[List of Operators supported in Python](https://docs.python.org/3/library/operator.html#mapping-operators-to-functions)"
   ]
  },
  {
   "cell_type": "code",
   "execution_count": 11,
   "id": "84654a2f",
   "metadata": {
    "collapsed": true
   },
   "outputs": [
    {
     "data": {
      "text/plain": [
       "['__abs__',\n",
       " '__add__',\n",
       " '__and__',\n",
       " '__bool__',\n",
       " '__ceil__',\n",
       " '__class__',\n",
       " '__delattr__',\n",
       " '__dir__',\n",
       " '__divmod__',\n",
       " '__doc__',\n",
       " '__eq__',\n",
       " '__float__',\n",
       " '__floor__',\n",
       " '__floordiv__',\n",
       " '__format__',\n",
       " '__ge__',\n",
       " '__getattribute__',\n",
       " '__getnewargs__',\n",
       " '__gt__',\n",
       " '__hash__',\n",
       " '__index__',\n",
       " '__init__',\n",
       " '__init_subclass__',\n",
       " '__int__',\n",
       " '__invert__',\n",
       " '__le__',\n",
       " '__lshift__',\n",
       " '__lt__',\n",
       " '__mod__',\n",
       " '__mul__',\n",
       " '__ne__',\n",
       " '__neg__',\n",
       " '__new__',\n",
       " '__or__',\n",
       " '__pos__',\n",
       " '__pow__',\n",
       " '__radd__',\n",
       " '__rand__',\n",
       " '__rdivmod__',\n",
       " '__reduce__',\n",
       " '__reduce_ex__',\n",
       " '__repr__',\n",
       " '__rfloordiv__',\n",
       " '__rlshift__',\n",
       " '__rmod__',\n",
       " '__rmul__',\n",
       " '__ror__',\n",
       " '__round__',\n",
       " '__rpow__',\n",
       " '__rrshift__',\n",
       " '__rshift__',\n",
       " '__rsub__',\n",
       " '__rtruediv__',\n",
       " '__rxor__',\n",
       " '__setattr__',\n",
       " '__sizeof__',\n",
       " '__str__',\n",
       " '__sub__',\n",
       " '__subclasshook__',\n",
       " '__truediv__',\n",
       " '__trunc__',\n",
       " '__xor__',\n",
       " 'as_integer_ratio',\n",
       " 'bit_count',\n",
       " 'bit_length',\n",
       " 'conjugate',\n",
       " 'denominator',\n",
       " 'from_bytes',\n",
       " 'imag',\n",
       " 'numerator',\n",
       " 'real',\n",
       " 'to_bytes']"
      ]
     },
     "execution_count": 11,
     "metadata": {},
     "output_type": "execute_result"
    }
   ],
   "source": [
    "dir(int)"
   ]
  },
  {
   "cell_type": "markdown",
   "id": "237f09c0",
   "metadata": {},
   "source": [
    "Many of these magic methods will overload the operators with new behaviour on selected object type. \n",
    "1. Your goal now is to implement the addition, subtraction, multiplication, equality (`==`) and comparing (`<=, >=, ...`)for `Rational`. Define them as magic methods. Read documentation when necessary.\n",
    "2. The `Rational` sometimes has its negative sign at `denom` or `numer` part. Tweak your program that noramlise the negative sign to `numer` part. This tweak should not change much of others code like adding `gcd` in previous example."
   ]
  },
  {
   "cell_type": "code",
   "execution_count": null,
   "id": "d188689f",
   "metadata": {},
   "outputs": [],
   "source": [
    "from math import gcd\n",
    "class Rational:\n",
    "    def __init__(self, n, d):\n",
    "        assert(d != 0) # rational cannot have zero denominator\n",
    "        common_divisor = gcd(n,d)\n",
    "        self.numer = n // common_divisor\n",
    "        self.denom = d // common_divisor\n",
    "        \n",
    "    def __add__(self, other):\n",
    "        return Rational(self.numer*other.denom + self.denom*other.numer, \n",
    "                        self.denom*other.denom)\n",
    "    def __mul__(self, other):\n",
    "        pass\n",
    "    def __eq__(self, other):\n",
    "        pass\n",
    "    def __repr__(self) -> str:\n",
    "        return f\"Rational({self.numer},{self.denom})\""
   ]
  }
 ],
 "metadata": {
  "kernelspec": {
   "display_name": "Python 3.10.2 64-bit",
   "language": "python",
   "name": "python3"
  },
  "language_info": {
   "codemirror_mode": {
    "name": "ipython",
    "version": 3
   },
   "file_extension": ".py",
   "mimetype": "text/x-python",
   "name": "python",
   "nbconvert_exporter": "python",
   "pygments_lexer": "ipython3",
   "version": "3.10.2"
  },
  "vscode": {
   "interpreter": {
    "hash": "2324a66782fee6ab9f0bdb3c9e79ee636ed86487484f245c4444858429ce7730"
   }
  }
 },
 "nbformat": 4,
 "nbformat_minor": 5
}
