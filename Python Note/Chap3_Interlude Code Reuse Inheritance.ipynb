{
 "cells": [
  {
   "cell_type": "markdown",
   "id": "1b191f93",
   "metadata": {},
   "source": [
    "We've learnt about `function`, `class`(OOP) and data abstraction using `class`. To be a good programmer, you must be lazy. It means that you're reluctant to do it twice, but abstract out the common from duplicated code. The abstraction is not like mathematical nonsense abstraction, the abstraction is programming must be practical and effective."
   ]
  },
  {
   "cell_type": "markdown",
   "id": "f4b386c0",
   "metadata": {},
   "source": [
    "## Example 1"
   ]
  },
  {
   "cell_type": "code",
   "execution_count": 1,
   "id": "5e0d6348",
   "metadata": {
    "scrolled": true
   },
   "outputs": [
    {
     "name": "stdout",
     "output_type": "stream",
     "text": [
      "\n",
      "#include<stdio.h>\n",
      "int main(void)\n",
      "{\n",
      "printf(\"hello world\");\n",
      "return 0;\n",
      "}\n"
     ]
    }
   ],
   "source": [
    "sentences = [\n",
    "    \"#include<stdio.h>\",\n",
    "    \"int main(void)\",\n",
    "    \"{\",\n",
    "    'printf(\"hello world\");',\n",
    "    'return 0;',\n",
    "    \"}\"\n",
    "]\n",
    "prog = \"\"\n",
    "for sent in sentences:\n",
    "    prog += \"\\n\" + sent\n",
    "print(prog)"
   ]
  },
  {
   "cell_type": "code",
   "execution_count": 2,
   "id": "f69a054d",
   "metadata": {},
   "outputs": [
    {
     "data": {
      "text/plain": [
       "{'Fumo', 'Gift Cards', 'Lego Sets', 'Photo', 'Poster', 'Souvenir', 'Tarts'}"
      ]
     },
     "execution_count": 2,
     "metadata": {},
     "output_type": "execute_result"
    }
   ],
   "source": [
    "goodies = [{\"Fumo\", \"Poster\", \"Photo\"},\n",
    "    {\"Fumo\", \"Souvenir\", \"Tarts\"},\n",
    "    {\"Lego Sets\", \"Gift Cards\"}]\n",
    "all_goodies = set()\n",
    "for s in goodies:\n",
    "    all_goodies = all_goodies.union(s)\n",
    "all_goodies"
   ]
  },
  {
   "cell_type": "markdown",
   "id": "0cf89259",
   "metadata": {},
   "source": [
    "There is a common pattern in both program which can be abstracted using `reduce`(ie.: `accumulate`) to do the same thing"
   ]
  },
  {
   "cell_type": "code",
   "execution_count": 3,
   "id": "0e642c24",
   "metadata": {
    "scrolled": false
   },
   "outputs": [
    {
     "name": "stdout",
     "output_type": "stream",
     "text": [
      "#include<stdio.h>\n",
      "int main(void)\n",
      "{\n",
      "printf(\"hello world\");\n",
      "return 0;\n",
      "}\n",
      "--------------------\n",
      "{'Photo', 'Souvenir', 'Fumo', 'Lego Sets', 'Poster', 'Tarts', 'Gift Cards'}\n"
     ]
    }
   ],
   "source": [
    "from functools import reduce\n",
    "print(reduce(lambda acm,val: acm+\"\\n\"+val, sentences))\n",
    "print(\"--\"*10)\n",
    "print(reduce(lambda acm,val: acm.union(val), goodies))"
   ]
  },
  {
   "cell_type": "markdown",
   "id": "1ea30dc6",
   "metadata": {},
   "source": [
    "Alas, why use `reduce` to concatenate the list of string, when you can use the library feature. Don't repeat yourself (DRY principle)"
   ]
  },
  {
   "cell_type": "code",
   "execution_count": 4,
   "id": "a9219562",
   "metadata": {
    "scrolled": true
   },
   "outputs": [
    {
     "name": "stdout",
     "output_type": "stream",
     "text": [
      "#include<stdio.h>\n",
      "int main(void)\n",
      "{\n",
      "printf(\"hello world\");\n",
      "return 0;\n",
      "}\n"
     ]
    }
   ],
   "source": [
    "print(\"\\n\".join(sentences))"
   ]
  },
  {
   "cell_type": "markdown",
   "id": "fc69096b",
   "metadata": {},
   "source": [
    "Nevertheless, we can achieve a shorter code by using `function` without rewriting `for`."
   ]
  },
  {
   "cell_type": "markdown",
   "id": "854e7c7a",
   "metadata": {},
   "source": [
    "## Example 2"
   ]
  },
  {
   "cell_type": "markdown",
   "id": "b1cd8eb8",
   "metadata": {},
   "source": [
    "Indeed, the notion of iterator, generator are an abstraction over sequences. This is a thing in many modern programming languages (C++, Lua, Python, Java, C#). In Python, we use `for` as generic iterator that will iterate through all elements of sequences. Or else, we have to write different algorithm for different data structures, in order to iterate each element. This is similar to the concept of API or conventional interfaces."
   ]
  },
  {
   "cell_type": "markdown",
   "id": "d3de5bbc",
   "metadata": {},
   "source": [
    "In C, we have to write different algorithm to iterate over data structures.\n",
    "```\n",
    "int arr[5] = {7,33,14,15,16};\n",
    "for(int i = 0; arr < 5; ++i)\n",
    "    printf(\"%d \", arr[i]);\n",
    "```\n",
    "\n",
    "```\n",
    "node* li = make_new_list(arr);\n",
    "node* curr = li;\n",
    "while(curr)\n",
    "    printf(\"%d \", curr->data);\n",
    "```\n"
   ]
  },
  {
   "cell_type": "markdown",
   "id": "069037ad",
   "metadata": {},
   "source": [
    "In Python, we use `for` to iterate through."
   ]
  },
  {
   "cell_type": "markdown",
   "id": "6651f61b",
   "metadata": {},
   "source": [
    "# Programming Language Revisited\n",
    "\n",
    "In my humble opinion, every year come out a new programming language, many of them will boast about what they can abstract over. `C` includes abstraction over pointer. `C++` provides additional mean of abstraction through `class`. `Java` abstracted out the memory management through garbage collector. `Go` has a native abstraction over concurrency. \n",
    "\n",
    "In the very first chapter of the SICP book writes:\n",
    "> Every powerful language has three mechanisms\n",
    "for accomplishing this:\n",
    ">\n",
    ">**primitive expressions**, which represent the simplest entities the\n",
    "language is concerned with,\n",
    ">\n",
    "> **means of combination**, by which compound elements are built\n",
    "from simpler ones, and\n",
    ">\n",
    ">**means of abstraction**, by which compound elements can be named\n",
    "and manipulated as units.\n",
    "\n",
    "This statement capture the common among the programming languages and libraries. \n",
    "\n",
    "In Lego, Lego bricks are the primitive. The studs are means of combination that you can combine a brick and another brick into a bigger brick, then up to a complex architecture.\n",
    "\n",
    "In high level programming languages, we can call functions within function. We can define a class in term of other class objects, since a class can be looked as a new data type. **These are the things the novice often forget.**\n",
    "\n",
    "In Python,\n",
    "\n",
    "`int` and arithmetic operators are primitve.\n",
    "\n",
    "We can build thing from the simpler things(combination). \n",
    "\n",
    "`class` and `def` are means of abstractions. \n",
    "\n",
    "\n",
    "For example,"
   ]
  },
  {
   "cell_type": "code",
   "execution_count": null,
   "id": "b1373343",
   "metadata": {},
   "outputs": [],
   "source": [
    "from Rational import *\n",
    "class Coordinate:\n",
    "    def __init__(self, x, y):\n",
    "        self.x = x\n",
    "        self.y = y\n",
    "    def __add__(self, other):\n",
    "        return Coordinate(self.x + other.x, self.x + other.y)\n",
    "    def __repr__(self) -> str:\n",
    "        return f\"Coordinate({self.x},{self.y})\"\n",
    "\n",
    "p1 = Coordinate(Rational(1,2), Rational(3,4))\n",
    "print(p1 + p1)\n",
    "print([p1, p1, p1])\n",
    "print(sum([p1,p1,p1]))"
   ]
  },
  {
   "cell_type": "markdown",
   "id": "381e3550",
   "metadata": {},
   "source": [
    "In short, a poweful language must provide us methods to **reuse** the code. Like half interval method, it is applicable to finding solution of any single-valued function. We can reuse it to compute cube root, sin x, and root of polynomial."
   ]
  },
  {
   "cell_type": "markdown",
   "id": "d657d674",
   "metadata": {},
   "source": [
    "# Inheritance\n",
    "## Bank Account Revisited"
   ]
  },
  {
   "cell_type": "code",
   "execution_count": 6,
   "id": "5142b17d",
   "metadata": {},
   "outputs": [],
   "source": [
    "class Bank_Account:\n",
    "    \n",
    "    def __init__(self, name, amount):\n",
    "        self.name = name\n",
    "        self.amount = amount\n",
    "        \n",
    "    def withdraw(self, amt):\n",
    "        if self.amount < amt:\n",
    "            return \"insufficient fund\"\n",
    "        self.amount -= amt\n",
    "    \n",
    "    def deposit(self, amt):\n",
    "        if amt <= 0:\n",
    "            return \"deposit amount must be positive\"\n",
    "        self.amount += amt\n",
    "        return self.amount\n",
    "\n",
    "    def __repr__(self):\n",
    "        return f'''Bank_Account('{self.name}', {self.amount})'''"
   ]
  },
  {
   "cell_type": "markdown",
   "id": "44b9b980",
   "metadata": {},
   "source": [
    "Suppose that we have to represent a new type of bank account similiar to above, but allow the holder to make a loan and charged with interest. For other method, it is similiar to normal holder.\n",
    "\n",
    "Instead of rewriting whole new type, we can **inherit** the characteristic from normal bank account. Inheritance is a method of reusing code supported by OOP."
   ]
  },
  {
   "cell_type": "code",
   "execution_count": 7,
   "id": "3576265a",
   "metadata": {},
   "outputs": [],
   "source": [
    "class Gold_Bank_Account(Bank_Account): # class_name(parent_class) to perform inheritance\n",
    "    interest = 0.05\n",
    "    def __init__(self, name, amount, curr_loan = 0):\n",
    "        super().__init__(name, amount) # call the parent_class method\n",
    "        self.loan = curr_loan\n",
    "    \n",
    "    def withdraw(self, amt, lend = True):\n",
    "        if lend == False and self.amount < amt:\n",
    "            return \"insufficient fund\"\n",
    "        self.amount -= amt\n",
    "        if self.amount < 0:\n",
    "            borrow = abs(self.amount)*(1+self.interest)\n",
    "            self.loan += borrow\n",
    "            self.amount = 0\n",
    "            return f\"Current loan = {self.loan}, new borrow = {borrow}, interest = {self.interest}\"\n",
    "        \n",
    "    def __repr__(self):\n",
    "        return f'''Gold_Bank_Account('{self.name}', {self.amount}, {self.loan})'''"
   ]
  },
  {
   "cell_type": "code",
   "execution_count": 8,
   "id": "d2013cca",
   "metadata": {},
   "outputs": [
    {
     "data": {
      "text/plain": [
       "Gold_Bank_Account('Muller', 100, 0)"
      ]
     },
     "execution_count": 8,
     "metadata": {},
     "output_type": "execute_result"
    }
   ],
   "source": [
    "muller_acc = Gold_Bank_Account(\"Muller\", 100)\n",
    "muller_acc"
   ]
  },
  {
   "cell_type": "code",
   "execution_count": 9,
   "id": "e47acfe9",
   "metadata": {},
   "outputs": [
    {
     "data": {
      "text/plain": [
       "190"
      ]
     },
     "execution_count": 9,
     "metadata": {},
     "output_type": "execute_result"
    }
   ],
   "source": [
    "# if it is not defined in child class, \n",
    "# then it will access through its parent calss\n",
    "muller_acc.deposit(90) "
   ]
  },
  {
   "cell_type": "code",
   "execution_count": 10,
   "id": "202982ec",
   "metadata": {
    "scrolled": true
   },
   "outputs": [
    {
     "data": {
      "text/plain": [
       "'Current loan = 115.5, new borrow = 115.5, interest = 0.05'"
      ]
     },
     "execution_count": 10,
     "metadata": {},
     "output_type": "execute_result"
    }
   ],
   "source": [
    "# withdraw is defined in the child class\n",
    "# then it will call the child class method; overridden parent method\n",
    "muller_acc.withdraw(300) "
   ]
  },
  {
   "cell_type": "code",
   "execution_count": 11,
   "id": "c2218f1c",
   "metadata": {},
   "outputs": [
    {
     "data": {
      "text/plain": [
       "Gold_Bank_Account('Muller', 0, 115.5)"
      ]
     },
     "execution_count": 11,
     "metadata": {},
     "output_type": "execute_result"
    }
   ],
   "source": [
    "muller_acc"
   ]
  },
  {
   "cell_type": "markdown",
   "id": "26b5e3db",
   "metadata": {},
   "source": [
    "## Static variable"
   ]
  },
  {
   "cell_type": "code",
   "execution_count": 12,
   "id": "76045be8",
   "metadata": {},
   "outputs": [],
   "source": [
    "class Gold_Bank_Account(Bank_Account): # class_name(parent_class) to perform inheritance\n",
    "    interest = 0.05 # this is a static variable shared by all instance of this class\n",
    "    loan_history = [] # changed to keep track\n",
    "    def __init__(self, name, amount, curr_loan = 0):\n",
    "        super().__init__(name, amount) # call the parent_class method\n",
    "        self.loan = curr_loan\n",
    "    \n",
    "    def withdraw(self, amt, lend = True):\n",
    "        if lend == False and self.amount < amt:\n",
    "            return \"insufficient fund\"\n",
    "        self.amount -= amt\n",
    "        if self.amount < 0:\n",
    "            borrow = abs(self.amount)*(1+self.interest)\n",
    "            self.loan += borrow\n",
    "            self.loan_history.append(borrow)\n",
    "            self.amount = 0\n",
    "            return f\"Current loan = {self.loan}, new borrow = {borrow}, interest = {self.interest}\"\n",
    "        \n",
    "    def __repr__(self):\n",
    "        return f'''Gold_Bank_Account('{self.name}', {self.amount}, {self.loan})'''"
   ]
  },
  {
   "cell_type": "code",
   "execution_count": 13,
   "id": "6f9310e5",
   "metadata": {},
   "outputs": [
    {
     "data": {
      "text/plain": [
       "[31.5]"
      ]
     },
     "execution_count": 13,
     "metadata": {},
     "output_type": "execute_result"
    }
   ],
   "source": [
    "muller_acc = Gold_Bank_Account(\"Muller\", 70)\n",
    "ali_acc = Gold_Bank_Account(\"Ali\", 120)\n",
    "muller_acc.withdraw(100)\n",
    "ali_acc.loan_history # wait a minute, how comes Ali has loan?"
   ]
  },
  {
   "cell_type": "markdown",
   "id": "9ea684a6",
   "metadata": {},
   "source": [
    "```\n",
    "class <classname>:\n",
    "    ...\n",
    "    var1 = val1\n",
    "    var2 = val2\n",
    "    ...\n",
    "```\n",
    "If we declare variables as above within the class but not in the method, they will be shared by all instances of the class. The behaviours will be different if they are mutable data like in the code before above code."
   ]
  },
  {
   "cell_type": "markdown",
   "id": "3e77bc8e",
   "metadata": {},
   "source": [
    "# Multiple Inheritance\n",
    "A more powerful language might allow the programmers not only inherit features from one parent but **multiple parents**.\n",
    "\n",
    "Suppose that we need to represent bank account that charge each deposit transaction. Another type will able to make loan but still charge fee."
   ]
  },
  {
   "cell_type": "code",
   "execution_count": 14,
   "id": "79d40a93",
   "metadata": {},
   "outputs": [],
   "source": [
    "class Bronze_Bank_Account(Bank_Account):\n",
    "    charge_rate = 0.01\n",
    "    \n",
    "    def deposit(self, amt):\n",
    "        if amt <= 0:\n",
    "            return \"deposit amount must be positive\"\n",
    "        self.amount += amt*(1-self.charge_rate)\n",
    "        return self.amount"
   ]
  },
  {
   "cell_type": "code",
   "execution_count": 15,
   "id": "292a3a60",
   "metadata": {
    "scrolled": true
   },
   "outputs": [
    {
     "name": "stdout",
     "output_type": "stream",
     "text": [
      "Bank_Account('tom', 199.0)\n",
      "Bank_Account('tom', 109.0)\n"
     ]
    }
   ],
   "source": [
    "tom_acc = Bronze_Bank_Account(\"tom\", 100)\n",
    "tom_acc.deposit(100)\n",
    "print(tom_acc)\n",
    "tom_acc.withdraw(90)\n",
    "print(tom_acc)"
   ]
  },
  {
   "cell_type": "code",
   "execution_count": 16,
   "id": "560a4755",
   "metadata": {},
   "outputs": [],
   "source": [
    "class Sliver_Bank_Account(Bronze_Bank_Account, Gold_Bank_Account):\n",
    "    def __repr__(self):\n",
    "        return f'''Sliver_Bank_Account('{self.name}', {self.amount}, {self.loan})'''"
   ]
  },
  {
   "cell_type": "code",
   "execution_count": 17,
   "id": "dfa03f06",
   "metadata": {
    "scrolled": false
   },
   "outputs": [
    {
     "name": "stdout",
     "output_type": "stream",
     "text": [
      "Sliver_Bank_Account('alan', 174.0, 0)\n",
      "Sliver_Bank_Account('alan', 0, 27.3)\n"
     ]
    }
   ],
   "source": [
    "alan_acc = Sliver_Bank_Account(\"alan\", 75)\n",
    "alan_acc.deposit(100)\n",
    "print(alan_acc)\n",
    "alan_acc.withdraw(200)\n",
    "print(alan_acc)"
   ]
  },
  {
   "cell_type": "markdown",
   "id": "aeb27eb1",
   "metadata": {},
   "source": [
    "# Problem of Multiple Inheritance\n",
    "\n",
    "Suppose the charge policy is extend to withdrawal also, then"
   ]
  },
  {
   "cell_type": "code",
   "execution_count": 37,
   "id": "d2108293",
   "metadata": {},
   "outputs": [],
   "source": [
    "class Bronze_Bank_Account(Bank_Account):\n",
    "    charge_rate = 0.01\n",
    "    \n",
    "    def deposit(self, amt):\n",
    "        if amt <= 0:\n",
    "            return \"deposit amount must be positive\"\n",
    "        self.amount += amt*(1-self.charge_rate)\n",
    "        return self.amount\n",
    "    \n",
    "    def withdraw(self, amt):\n",
    "        if self.amount < amt*(1+self.charge_rate):\n",
    "            return \"insufficent fund\"\n",
    "        self.amount -= amt*(1+self.charge_rate)\n",
    "\n",
    "class Sliver_Bank_Account(Bronze_Bank_Account, Gold_Bank_Account):\n",
    "    def __repr__(self):\n",
    "        return f'''Sliver_Bank_Account('{self.name}', {self.amount}, {self.loan})'''"
   ]
  },
  {
   "cell_type": "markdown",
   "id": "6e0f6cf0",
   "metadata": {},
   "source": [
    "Now, the parents of `Sliver_Bank_Account` both have the implementation of `withdraw`, which method should be called? For example,\n",
    "\n",
    "```\n",
    "koishi_acc = Sliver_Bank_Account(\"Koishi\", 100)\n",
    "koishi_acc.withdraw(111)\n",
    "```\n",
    "\n",
    "Then, the language designers face the issues how to define the behaviour when these occur. The algorithm of determining methods known as Method Resolution Order (MRO). Python uses C3 linearization for MRO."
   ]
  },
  {
   "cell_type": "code",
   "execution_count": 42,
   "id": "0ec2130e",
   "metadata": {},
   "outputs": [
    {
     "data": {
      "text/plain": [
       "'insufficent fund'"
      ]
     },
     "execution_count": 42,
     "metadata": {},
     "output_type": "execute_result"
    }
   ],
   "source": [
    "class Sliver_Bank_Account(Bronze_Bank_Account, Gold_Bank_Account): # different order\n",
    "    def __repr__(self):\n",
    "        return f'''Sliver_Bank_Account('{self.name}', {self.amount}, {self.loan})'''\n",
    "koishi_acc = Sliver_Bank_Account(\"Koishi\", 100)\n",
    "koishi_acc.withdraw(111)"
   ]
  },
  {
   "cell_type": "code",
   "execution_count": 43,
   "id": "e84fe7c4",
   "metadata": {},
   "outputs": [
    {
     "data": {
      "text/plain": [
       "'Current loan = 11.55, new borrow = 11.55, interest = 0.05'"
      ]
     },
     "execution_count": 43,
     "metadata": {},
     "output_type": "execute_result"
    }
   ],
   "source": [
    "class Sliver_Bank_Account(Gold_Bank_Account, Bronze_Bank_Account): # different order\n",
    "    def __repr__(self):\n",
    "        return f'''Sliver_Bank_Account('{self.name}', {self.amount}, {self.loan})'''\n",
    "koishi_acc = Sliver_Bank_Account(\"Koishi\", 100)\n",
    "koishi_acc.withdraw(111)"
   ]
  },
  {
   "cell_type": "markdown",
   "id": "937d4d26",
   "metadata": {},
   "source": [
    "At start, the inheritance is introduced to promote code reuse but it can makes programming and reasoning more complex if you use it.\n",
    "\n",
    "Usually, reusable code part is somewhat (should be) flexible and robust to change. However, it is kinda akward to add new behaviour to classes with inheritance in the case of `Bank_Account`. In my opinion, it might be the sign of using inheritance wrongly.\n",
    "\n",
    "There are many discussions on how to avoid bugs caused by inheritance such as Yo-yo problem. This is because it is too simple to abuse the inheritance when it is written by non-expert. It is so bad that it is often discouraged and considered harmful.\n",
    "\n",
    "There are a lot of discussion whether multiple inheritance is a good or a bad thing, how to make a good use of inheritance. \n",
    "\n",
    "But I believe everyone would agree with me that the bad thing of inheritance is that it makes the reasoning about inheritance require effort and extra knowledge like MRO.\n",
    "\n",
    "Remember that programming always concern about trade-off. If you wish to develop a readable code for others, then make less use of multiple inheritance. If you are too lazy, then you may try multiple inheritance.\n",
    "\n",
    "Lastly, you can wield the weapon well only if you understand its principle clearly.\n",
    "\n",
    "Joke: Is it legal to have more than 2 parents in real life?"
   ]
  },
  {
   "cell_type": "markdown",
   "id": "beeb6771",
   "metadata": {},
   "source": [
    "# Exercise\n",
    "\n",
    "1. Try to write develop a buggy program caused by inheritance. (You may skip it)"
   ]
  },
  {
   "cell_type": "code",
   "execution_count": null,
   "id": "e3f9b416",
   "metadata": {},
   "outputs": [],
   "source": []
  }
 ],
 "metadata": {
  "kernelspec": {
   "display_name": "Python 3 (ipykernel)",
   "language": "python",
   "name": "python3"
  },
  "language_info": {
   "codemirror_mode": {
    "name": "ipython",
    "version": 3
   },
   "file_extension": ".py",
   "mimetype": "text/x-python",
   "name": "python",
   "nbconvert_exporter": "python",
   "pygments_lexer": "ipython3",
   "version": "3.10.2"
  },
  "vscode": {
   "interpreter": {
    "hash": "2324a66782fee6ab9f0bdb3c9e79ee636ed86487484f245c4444858429ce7730"
   }
  }
 },
 "nbformat": 4,
 "nbformat_minor": 5
}
