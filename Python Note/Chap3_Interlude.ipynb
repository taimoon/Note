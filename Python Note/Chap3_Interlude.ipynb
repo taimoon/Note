{
 "cells": [
  {
   "cell_type": "markdown",
   "metadata": {},
   "source": [
    "# Data Structures\n",
    "\n",
    "There exists data structures that allow constant time search. One of them is hashmap (aka. hash table). \n",
    "If you want the fast membership testing, then use Python `dict` which is also hash table. \n",
    "Interestingly, hashmap also relies the contiguous sequence like binary search, but it allows non-numeric index. Hashmap uses hash function to compute index.\n",
    "\n",
    "From these, we see that different data structures can have different trade off. We might ask ourselves, whether it is nicer that the programming language automatically pick the best data structures and algorithms for us. \n",
    "\n",
    "SQL takes this idea that SQL optimize the queries more aggresively than conventional programming languages do. Table (array + hash table) are only the data structure in Lua. The trade off is losing fine control. \n",
    "\n",
    "In Lisp, the `cons` is the fundamental building block of many data structures. Lispers use it to build list, binary tree, and as a glue to build complex data structures. This is rather alien to other programming languages. \n",
    "For example in C, one cannot manipulate the `struct` as if it is `array` unless manipulate pointer through casting directly. \n",
    "In Lisp, list and binary tree are just bunch of cons, lispers can use `car` and `cdr` nagvigate through these data structures as if they are the same.\n",
    "\n",
    "\n",
    "This peculiarity of Lisp has its root in mathematic. \n",
    "In 20th century, mathematicians realize the benefits of axiomatic appoarch in studying math. \n",
    "In axiomatic appoarch, it is better to have fewer axioms to be derived from. For example, the Euclid's Elements is a book on geometry, and it required only 5 postulates (axioms). \n",
    "From these, Euclid able to prove many important finding in geometry. "
   ]
  }
 ],
 "metadata": {
  "kernelspec": {
   "display_name": "Python 3.10.2 64-bit",
   "language": "python",
   "name": "python3"
  },
  "language_info": {
   "name": "python",
   "version": "3.10.2"
  },
  "orig_nbformat": 4,
  "vscode": {
   "interpreter": {
    "hash": "2324a66782fee6ab9f0bdb3c9e79ee636ed86487484f245c4444858429ce7730"
   }
  }
 },
 "nbformat": 4,
 "nbformat_minor": 2
}
