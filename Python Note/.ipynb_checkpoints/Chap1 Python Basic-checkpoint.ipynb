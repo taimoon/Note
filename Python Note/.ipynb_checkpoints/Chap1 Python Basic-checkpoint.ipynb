{
 "cells": [
  {
   "cell_type": "markdown",
   "id": "47deca17",
   "metadata": {},
   "source": [
    "# Preface\n",
    "This note is a checklist about the important concepts what you might miss as a beginner.\n",
    "\n",
    "## Prerequisite \n",
    "1. Install Python, know how to run `hello.py` through terminal\n",
    "2. High School Math\n",
    "3. know how to install Python libraries using `pip install`\n",
    "4. IDE (with debugger)\n",
    "5. Have the spirit of googling, reading forum for intricate code problem\n",
    "6. `pip install jupyter`\n",
    "\n",
    "Above all are easier done by watching Youtube or having an experienced programmer to help you."
   ]
  },
  {
   "cell_type": "markdown",
   "id": "45869822",
   "metadata": {},
   "source": [
    "# Programming in General\n",
    "\n",
    "Every programming languages always abstract the computation through many means such as\n",
    "\n",
    "\n",
    "1. Machine Languages - operation code over ALU\n",
    "2. Assembly - correspondence between mnemonics(aka. instruction sets) and machine operation code\n",
    "3. Virtual Machine - idealized machine comes with instruction sets\n",
    "4. High Level Languages - Functions, Types, Variables, Flow Control, ...\n",
    "\n",
    "The key here is that any programming language always some form of **abstractions** over some form.\n",
    "\n",
    "The common useful means of abstraction are(ie.: common concepts among high level languages):\n",
    "1. Functions\n",
    "2. Variables, Naming\n",
    "3. Repetition, Looping\n",
    "4. Conditional Branching\n",
    "5. Primitive Entities (primitive operators, primitive data structures, ...)\n",
    "6. User-defined data type\n",
    "7. Comments, Documentations\n",
    "8. Many Many More\n",
    "\n",
    "Above listing which we will review each in this notebook."
   ]
  },
  {
   "cell_type": "markdown",
   "id": "f76e3548",
   "metadata": {},
   "source": [
    "# Primitives\n",
    "We may use Python interaction session (REPL) as calculator. Python supports various primitive such as expression evalution, common mathematical operations, string type, boolean operations and etc."
   ]
  },
  {
   "cell_type": "code",
   "execution_count": 1,
   "id": "84840032",
   "metadata": {},
   "outputs": [
    {
     "data": {
      "text/plain": [
       "4"
      ]
     },
     "execution_count": 1,
     "metadata": {},
     "output_type": "execute_result"
    }
   ],
   "source": [
    "# single line comment starts with hashtag #\n",
    "123%7 # % is called modulus operator which return the remainder"
   ]
  },
  {
   "cell_type": "code",
   "execution_count": 2,
   "id": "ea67851e",
   "metadata": {},
   "outputs": [
    {
     "data": {
      "text/plain": [
       "17"
      ]
     },
     "execution_count": 2,
     "metadata": {},
     "output_type": "execute_result"
    }
   ],
   "source": [
    "123//7 # // is division but return quotient"
   ]
  },
  {
   "cell_type": "code",
   "execution_count": 3,
   "id": "3a60edb2",
   "metadata": {},
   "outputs": [
    {
     "data": {
      "text/plain": [
       "123"
      ]
     },
     "execution_count": 3,
     "metadata": {},
     "output_type": "execute_result"
    }
   ],
   "source": [
    "17*7 + 4 # (17*7) + 4"
   ]
  },
  {
   "cell_type": "code",
   "execution_count": 4,
   "id": "218f5120",
   "metadata": {},
   "outputs": [
    {
     "data": {
      "text/plain": [
       "True"
      ]
     },
     "execution_count": 4,
     "metadata": {},
     "output_type": "execute_result"
    }
   ],
   "source": [
    "(123 % 7 + 123 // 7 * 7) == 123 # == is equality test"
   ]
  },
  {
   "cell_type": "markdown",
   "id": "e4f092de",
   "metadata": {},
   "source": [
    "Note: In Python, we use `=` denotes assignment while `==` denotes equality."
   ]
  },
  {
   "cell_type": "code",
   "execution_count": 5,
   "id": "dbbc8392",
   "metadata": {},
   "outputs": [
    {
     "data": {
      "text/plain": [
       "2.5"
      ]
     },
     "execution_count": 5,
     "metadata": {},
     "output_type": "execute_result"
    }
   ],
   "source": [
    "5/2 # / is division that return float number"
   ]
  },
  {
   "cell_type": "code",
   "execution_count": 6,
   "id": "e5ed08cd",
   "metadata": {
    "scrolled": true
   },
   "outputs": [
    {
     "data": {
      "text/plain": [
       "169"
      ]
     },
     "execution_count": 6,
     "metadata": {},
     "output_type": "execute_result"
    }
   ],
   "source": [
    "# ** is exponentiation\n",
    "5**2 + 12**2 # same as (5**2) + (12**2)"
   ]
  },
  {
   "cell_type": "code",
   "execution_count": 7,
   "id": "5bed46d0",
   "metadata": {},
   "outputs": [
    {
     "data": {
      "text/plain": [
       "True"
      ]
     },
     "execution_count": 7,
     "metadata": {},
     "output_type": "execute_result"
    }
   ],
   "source": [
    "5*5 + 12*12 == 13*13 "
   ]
  },
  {
   "cell_type": "code",
   "execution_count": 8,
   "id": "c8678314",
   "metadata": {},
   "outputs": [
    {
     "data": {
      "text/plain": [
       "'(5, 12, 13) is a Pythagorean triplet'"
      ]
     },
     "execution_count": 8,
     "metadata": {},
     "output_type": "execute_result"
    }
   ],
   "source": [
    "'(5, 12, 13) is a ' + \"Pythagorean triplet\" # concatenation"
   ]
  },
  {
   "cell_type": "markdown",
   "id": "d7598ab7",
   "metadata": {},
   "source": [
    "Tips: If in doubt, just put parenthesis to the expression. No need to memorise the exact operator precedence.\n",
    "\n",
    "[List of Operators supported in Python](https://docs.python.org/3/library/operator.html#mapping-operators-to-functions)"
   ]
  },
  {
   "cell_type": "markdown",
   "id": "2a7c4dbd",
   "metadata": {},
   "source": [
    "## Exercise: Using Python as Calculator\n",
    "If you evenly distribute RM 1537  among you and other 4, then how much each person get"
   ]
  },
  {
   "cell_type": "code",
   "execution_count": 9,
   "id": "81d4b646",
   "metadata": {},
   "outputs": [
    {
     "data": {
      "text/plain": [
       "307.4"
      ]
     },
     "execution_count": 9,
     "metadata": {},
     "output_type": "execute_result"
    }
   ],
   "source": [
    "# if you evenly distributing RM 1537  among you and other 4, then how much each person get\n",
    "1537/5"
   ]
  },
  {
   "cell_type": "code",
   "execution_count": 10,
   "id": "5d634e7c",
   "metadata": {},
   "outputs": [],
   "source": [
    "# How much you get if you're not going to give shilling?"
   ]
  },
  {
   "cell_type": "code",
   "execution_count": 11,
   "id": "ae0d3ace",
   "metadata": {},
   "outputs": [],
   "source": [
    "# Validate that 2022 is divisible by 337\n",
    "# put your code here"
   ]
  },
  {
   "cell_type": "code",
   "execution_count": 12,
   "id": "4e6fc172",
   "metadata": {},
   "outputs": [],
   "source": [
    "# Exercise: write any 5 expressions"
   ]
  },
  {
   "cell_type": "markdown",
   "id": "dc209573",
   "metadata": {},
   "source": [
    "# Data Types"
   ]
  },
  {
   "cell_type": "markdown",
   "id": "d360cdaa",
   "metadata": {},
   "source": [
    "A data type define its members' correct behaviour and applicable methods."
   ]
  },
  {
   "cell_type": "markdown",
   "id": "bbfd225a",
   "metadata": {},
   "source": [
    "## Example: `bool` type in Python "
   ]
  },
  {
   "cell_type": "code",
   "execution_count": 13,
   "id": "a2674fba",
   "metadata": {},
   "outputs": [
    {
     "name": "stdout",
     "output_type": "stream",
     "text": [
      "True\n",
      "False\n",
      "False\n",
      "False\n",
      "True\n",
      "False\n"
     ]
    }
   ],
   "source": [
    "# Boolean Type\n",
    "print(True and True)\n",
    "print(False and True)\n",
    "print(True and False)\n",
    "print(False and False)\n",
    "print(not False)\n",
    "print(not True)"
   ]
  },
  {
   "cell_type": "code",
   "execution_count": 14,
   "id": "6662d73d",
   "metadata": {},
   "outputs": [],
   "source": [
    "# Try the or operator as above"
   ]
  },
  {
   "cell_type": "code",
   "execution_count": null,
   "id": "0626931a",
   "metadata": {},
   "outputs": [],
   "source": []
  },
  {
   "cell_type": "markdown",
   "id": "4a9d625e",
   "metadata": {},
   "source": [
    "`<p1> and <p2> and ...`\n",
    "\n",
    "It evaluates to `True` if all `p`'s are evaluated to `True`.\n",
    "If one of the `p` is `False`, then the whole expression is `False`\n",
    "\n",
    "`<p1> or <p2> or ...`\n",
    "\n",
    "It evaluates to `False` if all `p`'s are evaluated to `False`.\n",
    "If one of the `p` is `True`, then the whole expression is `True`"
   ]
  },
  {
   "cell_type": "markdown",
   "id": "a9daf206",
   "metadata": {},
   "source": [
    "## Example: `String` type and receiving user input"
   ]
  },
  {
   "cell_type": "markdown",
   "id": "7957650e",
   "metadata": {},
   "source": [
    "`input(prompt)`\n",
    "\n",
    "prompt will be printed on screen\n",
    "`input` wait user input something. `input` read the input until newline is detected"
   ]
  },
  {
   "cell_type": "code",
   "execution_count": 4,
   "id": "17643c2e",
   "metadata": {},
   "outputs": [
    {
     "name": "stdout",
     "output_type": "stream",
     "text": [
      "Who are you?\n",
      "Teng Man\n",
      "Hello Teng Man\n"
     ]
    }
   ],
   "source": [
    "name = input(\"Who are you?\\n\")\n",
    "print(\"Hello \" + name)"
   ]
  },
  {
   "cell_type": "code",
   "execution_count": null,
   "id": "513d45db",
   "metadata": {},
   "outputs": [],
   "source": []
  },
  {
   "cell_type": "markdown",
   "id": "10f68ebb",
   "metadata": {},
   "source": [
    "##  How is data type important?"
   ]
  },
  {
   "cell_type": "markdown",
   "id": "076faed1",
   "metadata": {},
   "source": [
    "Below is an `TypeError` example."
   ]
  },
  {
   "cell_type": "code",
   "execution_count": 15,
   "id": "3e0d26b1",
   "metadata": {},
   "outputs": [
    {
     "ename": "TypeError",
     "evalue": "unsupported operand type(s) for +: 'int' and 'str'",
     "output_type": "error",
     "traceback": [
      "\u001b[1;31m---------------------------------------------------------------------------\u001b[0m",
      "\u001b[1;31mTypeError\u001b[0m                                 Traceback (most recent call last)",
      "\u001b[1;32mC:\\Users\\LEONGT~1\\AppData\\Local\\Temp/ipykernel_9512/3862296087.py\u001b[0m in \u001b[0;36m<module>\u001b[1;34m\u001b[0m\n\u001b[1;32m----> 1\u001b[1;33m \u001b[1;36m5\u001b[0m \u001b[1;33m+\u001b[0m \u001b[1;34m' is a prime number'\u001b[0m\u001b[1;33m\u001b[0m\u001b[1;33m\u001b[0m\u001b[0m\n\u001b[0m",
      "\u001b[1;31mTypeError\u001b[0m: unsupported operand type(s) for +: 'int' and 'str'"
     ]
    }
   ],
   "source": [
    "5 + ' is a prime number'"
   ]
  },
  {
   "cell_type": "code",
   "execution_count": 16,
   "id": "b04f4196",
   "metadata": {},
   "outputs": [
    {
     "data": {
      "text/plain": [
       "'5 is a prime number'"
      ]
     },
     "execution_count": 16,
     "metadata": {},
     "output_type": "execute_result"
    }
   ],
   "source": [
    "# Fixed version\n",
    "str(5) + ' is a prime number'"
   ]
  },
  {
   "cell_type": "markdown",
   "id": "010973b2",
   "metadata": {},
   "source": [
    "It is possible for a interpreter smart enough to correctly evaluate `5 + ' is a prime number'`. It is known as coercion but implicit. `str(5)` is explicit coercion(aka. type cast) that convert int to string. Implicit coercion can confuse programmers. Hence some languages limit such coercion. Here is an example from Javascript that it is not clear at first sight why it evaluated as `'banana'`:\n",
    "\n",
    "```\n",
    "// you press the key f12 on Google Broswer\n",
    "// it will pop out another window, \n",
    "('b' + 'a' + + 'a' + 'a').toLowerCase() // 'banana'\n",
    "```"
   ]
  },
  {
   "cell_type": "markdown",
   "id": "16d1e6a7",
   "metadata": {},
   "source": [
    "It is not always intuitive how the codes below should behave in Python"
   ]
  },
  {
   "cell_type": "code",
   "execution_count": 17,
   "id": "20d0918d",
   "metadata": {},
   "outputs": [
    {
     "data": {
      "text/plain": [
       "False"
      ]
     },
     "execution_count": 17,
     "metadata": {},
     "output_type": "execute_result"
    }
   ],
   "source": [
    "'String' and False"
   ]
  },
  {
   "cell_type": "code",
   "execution_count": 18,
   "id": "0fcbd864",
   "metadata": {},
   "outputs": [
    {
     "data": {
      "text/plain": [
       "'String'"
      ]
     },
     "execution_count": 18,
     "metadata": {},
     "output_type": "execute_result"
    }
   ],
   "source": [
    "6 and 'String'"
   ]
  },
  {
   "cell_type": "code",
   "execution_count": 19,
   "id": "7c0b6a5b",
   "metadata": {},
   "outputs": [
    {
     "data": {
      "text/plain": [
       "2"
      ]
     },
     "execution_count": 19,
     "metadata": {},
     "output_type": "execute_result"
    }
   ],
   "source": [
    "True  + 1"
   ]
  },
  {
   "cell_type": "code",
   "execution_count": 20,
   "id": "d0cbfc25",
   "metadata": {},
   "outputs": [
    {
     "ename": "TypeError",
     "evalue": "unsupported operand type(s) for +: 'bool' and 'str'",
     "output_type": "error",
     "traceback": [
      "\u001b[1;31m---------------------------------------------------------------------------\u001b[0m",
      "\u001b[1;31mTypeError\u001b[0m                                 Traceback (most recent call last)",
      "\u001b[1;32mC:\\Users\\LEONGT~1\\AppData\\Local\\Temp/ipykernel_9512/3971911971.py\u001b[0m in \u001b[0;36m<module>\u001b[1;34m\u001b[0m\n\u001b[1;32m----> 1\u001b[1;33m \u001b[1;32mFalse\u001b[0m \u001b[1;33m+\u001b[0m \u001b[1;34m'True'\u001b[0m\u001b[1;33m\u001b[0m\u001b[1;33m\u001b[0m\u001b[0m\n\u001b[0m",
      "\u001b[1;31mTypeError\u001b[0m: unsupported operand type(s) for +: 'bool' and 'str'"
     ]
    }
   ],
   "source": [
    "False + 'True'"
   ]
  },
  {
   "cell_type": "markdown",
   "id": "913ed42b",
   "metadata": {},
   "source": [
    "Tips: It is totally okay to avoid use these behaviours unless you and others are comfortable with it. If in doubt, serach online or read the Python official documentation or try various expressions using the REPL."
   ]
  },
  {
   "cell_type": "code",
   "execution_count": 21,
   "id": "28d4986d",
   "metadata": {},
   "outputs": [
    {
     "data": {
      "text/plain": [
       "False"
      ]
     },
     "execution_count": 21,
     "metadata": {},
     "output_type": "execute_result"
    }
   ],
   "source": [
    "0.1 + 0.2 == 0.3"
   ]
  },
  {
   "cell_type": "markdown",
   "id": "b64440c7",
   "metadata": {},
   "source": [
    "Mathematically, it is too resonable to expect `0.1 + 0.2 == 0.3` should return `True` but it does not work as expected on computer. This is due to the computer representation real number using floating point number rather than fixed point number. \n",
    "\n",
    "Typing is also an abstraction but it still require additional knowledges and cares to make an effective use.\n",
    "\n",
    "The choice of data representation is always a trade-off of something over something. \n",
    "\n",
    "Floating point is a trade off of space, speed over accuracy. To an expert programmer, he can visualize how the programs behave, what are the trade off implied by the programs."
   ]
  },
  {
   "cell_type": "markdown",
   "id": "c286e705",
   "metadata": {},
   "source": [
    "# Naming"
   ]
  },
  {
   "cell_type": "code",
   "execution_count": 22,
   "id": "e3e1987d",
   "metadata": {
    "scrolled": true
   },
   "outputs": [
    {
     "data": {
      "text/plain": [
       "18.84955592153876"
      ]
     },
     "execution_count": 22,
     "metadata": {},
     "output_type": "execute_result"
    }
   ],
   "source": [
    "from math import pi\n",
    "radius = 3.0\n",
    "circumferences = 2*pi*radius\n",
    "circumferences"
   ]
  },
  {
   "cell_type": "code",
   "execution_count": 23,
   "id": "6e3993ac",
   "metadata": {},
   "outputs": [
    {
     "data": {
      "text/plain": [
       "18.84955592153876"
      ]
     },
     "execution_count": 23,
     "metadata": {},
     "output_type": "execute_result"
    }
   ],
   "source": [
    "6.283185307179586*3"
   ]
  },
  {
   "cell_type": "markdown",
   "id": "7284470c",
   "metadata": {},
   "source": [
    "Comparing these two codes above, we can see the intention of the first code, while the second is obscure.\n",
    "\n",
    "Indeed, naming/declaring can make the intentions clearer where to a educated person can guess the first program trying to calculate circumference. The latter code is not clear that `6.283...` is refering to the tau constant while figuring whether `3` is the raidus.\n",
    "\n",
    "Declaring variable is the simplest form of abstraction."
   ]
  },
  {
   "cell_type": "markdown",
   "id": "3459af5b",
   "metadata": {},
   "source": [
    "# Variable, Assignment"
   ]
  },
  {
   "cell_type": "code",
   "execution_count": 24,
   "id": "a253be6b",
   "metadata": {},
   "outputs": [
    {
     "data": {
      "text/plain": [
       "'13 days 18 hours'"
      ]
     },
     "execution_count": 24,
     "metadata": {},
     "output_type": "execute_result"
    }
   ],
   "source": [
    "'''\n",
    "Multiline comment enclosed with triple quote \"'\"\n",
    "Example Program that convert 330 hours to days, and remaining hours, print it\n",
    "Use //, %, variables\n",
    "'''\n",
    "hours = 330 # this declares a variable\n",
    "hour_per_day = 24\n",
    "days = hours//hour_per_day\n",
    "hours = hours % hour_per_day\n",
    "str(days) + \" days \" + str(hours) + \" hours\" # another way: f\"{days} days {hours} hours\""
   ]
  },
  {
   "cell_type": "markdown",
   "id": "a3d4aeef",
   "metadata": {},
   "source": [
    "It is not intuitive what does this expression `hours = hours % hour_per_day` did. It is first evaluate the expression after `=` first, then the result is put back to the `hours`. We see that `hours` is initially assigned to `330` but later reassigned to `18`. The `hours` has changed its value during program running, hence the name 'variable'. Another example use of reassignment can be found in Repetition topic."
   ]
  },
  {
   "cell_type": "markdown",
   "id": "93e00a0f",
   "metadata": {},
   "source": [
    "## Exercise\n",
    "$ (a,b,c) $ is a Pythagorean Triple iff. $ a,b,c $ are integers and solutions to $ a^2 + b^2 = c^2 $. Then verify that $ (9, 40, 41) $ is a Pythagorean Triple"
   ]
  },
  {
   "cell_type": "code",
   "execution_count": null,
   "id": "186815c8",
   "metadata": {},
   "outputs": [],
   "source": []
  },
  {
   "cell_type": "markdown",
   "id": "ae0745b8",
   "metadata": {},
   "source": [
    "Refactor the code in Example: Using Python as Calculator where\n",
    "\n",
    "if you evenly distributing RM 1537  among you and other 4, then how much each person get. Note that you're not going to give shilling."
   ]
  },
  {
   "cell_type": "code",
   "execution_count": null,
   "id": "7846ec67",
   "metadata": {},
   "outputs": [],
   "source": []
  },
  {
   "cell_type": "markdown",
   "id": "2b061cfc",
   "metadata": {},
   "source": [
    "# Defining Function\n",
    "Defining Function syntax in Python is as follow:\n",
    "```\n",
    "def <name>(<paramter>*)：\n",
    "    <code>*\n",
    "```\n",
    "\n",
    "Function name also follow the same rule in variable naming\n",
    "\n",
    "**Every functions in Python always return something; default is `None`**\n",
    "\n",
    "Parameters can be empty (ie.: function with no parameter)\n",
    "\n",
    "Calling Function syntax\n",
    "\n",
    "```\n",
    "<function_name>(<argument>*)\n",
    "```"
   ]
  },
  {
   "cell_type": "code",
   "execution_count": 26,
   "id": "f3f9f542",
   "metadata": {},
   "outputs": [
    {
     "data": {
      "text/plain": [
       "25"
      ]
     },
     "execution_count": 26,
     "metadata": {},
     "output_type": "execute_result"
    }
   ],
   "source": [
    "# define a function\n",
    "def square(x):\n",
    "    return x*x\n",
    "    # identation is used in Python to indicate the block structures\n",
    "# to call the function, write the function name, and write the arguments\n",
    "square(5)"
   ]
  },
  {
   "cell_type": "code",
   "execution_count": 27,
   "id": "8a73e8bb",
   "metadata": {},
   "outputs": [
    {
     "data": {
      "text/plain": [
       "25"
      ]
     },
     "execution_count": 27,
     "metadata": {},
     "output_type": "execute_result"
    }
   ],
   "source": [
    "# we can use function inside of a function body\n",
    "def sum_of_square(x,y):\n",
    "    return square(x) + square(y)\n",
    "sum_of_square(3,4)"
   ]
  },
  {
   "cell_type": "markdown",
   "id": "b1222d78",
   "metadata": {},
   "source": [
    "To reason how `sum_of_square(3,4)` is evaluated, we may use substitution rule.\n",
    "\n",
    "1. Evaluate the function body with each formal parameter replaced by the corresponding argument\n",
    "\n",
    "For example,\n",
    "```\n",
    "sum_of_square(3,4)\n",
    "square(3) + square(4)\n",
    "3*3 + 4*4\n",
    "25\n",
    "```"
   ]
  },
  {
   "cell_type": "code",
   "execution_count": 28,
   "id": "369785d0",
   "metadata": {},
   "outputs": [
    {
     "data": {
      "text/plain": [
       "0.9391497164438343"
      ]
     },
     "execution_count": 28,
     "metadata": {},
     "output_type": "execute_result"
    }
   ],
   "source": [
    "from random import random\n",
    "random() # example of function with no parameter"
   ]
  },
  {
   "cell_type": "markdown",
   "id": "f1e0607c",
   "metadata": {},
   "source": [
    "# Compound Expression and Evaluation Model\n",
    "Evaluation model is not meant to be exact in describing how the program is executed. The model is to allow us reason about how a program is executed. The model is often simple and incomplete but not trivial.\n",
    "\n",
    "1. Applicative (aka. Eager) vs. Normal (aka. Lazy)\n",
    "2. Substitution (easier but incomplete)\n",
    "3. Environment (more exact but complex) "
   ]
  },
  {
   "cell_type": "code",
   "execution_count": 29,
   "id": "3ca29a5b",
   "metadata": {},
   "outputs": [
    {
     "data": {
      "text/plain": [
       "29.0"
      ]
     },
     "execution_count": 29,
     "metadata": {},
     "output_type": "execute_result"
    }
   ],
   "source": [
    "from math import sqrt\n",
    "from operator import add\n",
    "def square(x):\n",
    "    return x*x\n",
    "def sum_of_square(x, y):\n",
    "    return add(square(x),square(y))\n",
    "def euclidean_distance(x, y):\n",
    "    return sqrt(sum_of_square(x,y))\n",
    "def f(x):\n",
    "    return x+1\n",
    "euclidean_distance(f(19), f(20))"
   ]
  },
  {
   "cell_type": "markdown",
   "id": "f9624058",
   "metadata": {},
   "source": [
    "How does `euclidean_distance(f(19), f(20))` is evaluated?\n",
    "\n",
    "Applicative Rule states that:\n",
    "1. Evaluate each argument\n",
    "2. Evaluate the function body with each formal parameter replaced by the corresponding argument\n",
    "\n",
    "Hence,\n",
    "\n",
    "```\n",
    "euclidean_distance(f(19), f(20))\n",
    "euclidean_distance(19+1,20+1)\n",
    "euclidean_distance(20,21)\n",
    "sqrt(sum_of_square(20,21))\n",
    "sqrt(add(square(20), square(21)))\n",
    "sqrt(add(20*20, 21*21))\n",
    "sqrt(add(400, 441))\n",
    "sqrt(841)\n",
    "29.0\n",
    "```"
   ]
  },
  {
   "cell_type": "markdown",
   "id": "88cee4b3",
   "metadata": {},
   "source": [
    "Normal Rule states that:\n",
    "1. evaluate the arguments only as needed otherwise pass the argument\n",
    "2. Evaluate the function body with each formal parameter replaced by the corresponding argument\n",
    "\n",
    "Hence,\n",
    "```\n",
    "euclidean_distance(f(19), f(20))\n",
    "sqrt(sum_of_square(f(19),f(20)))\n",
    "sqrt(add(square(f(19)), \n",
    "         square(f(20)))\n",
    "sqrt(add(f(19)*f(19), f(20)*f(20)))\n",
    "sqrt(add((19+1)*(19+1), (20+1)*(20+1)))\n",
    "# now reduce it\n",
    "sqrt(add(20*20,21*21))\n",
    "sqrt(add(400,441))\n",
    "sqrt(841)\n",
    "29.0\n",
    "```"
   ]
  },
  {
   "cell_type": "markdown",
   "id": "44725bf0",
   "metadata": {},
   "source": [
    "We see that in applicative order, the expression does not expand as much as in normal order since it eagerly to evaluate first. We also see that there are expressions are evaluated multiple times in normal order such as `(19+1)*(19+1)`. It is not true to conclude that applicative is more efficient than normal order.\n",
    "\n",
    "In Python, the expressions involving `or` and `and`, their operands are often lazily evaluated. It is called *short-circuited*\n",
    "\n",
    "Consider two examples,\n",
    "```\n",
    "(130%2 == 0) or (130%3 == 0) or (130%5 == 0) \n",
    "```\n",
    "If any one of these subexpressions is evaluated as `True`, then we can conclude the whole expression is `True` regardless of others.\n",
    "However, if we follow applicative order, then we must evaluate each subexpressions `(130%2 == 0)`, `(130%3 == 0)` and `(130%5 == 0)` before reaching the conclusion. In normal order, when we know the subexpression `(130%2) == 0` is `True`, we can conclude it is `True`.\n",
    "\n",
    "Readers may use similar reason that below code is more efficient in normal order.\n",
    "```\n",
    "(0.1 + 0.2 == 0.3) and (130%10 == 0) and (130%5 == 0)\n",
    "```\n",
    "\n",
    "Besides the efficiency, it is true that both expressions yield same result regardless of the evaluation strategies used (Why?). By the way, Python adopts applicative order in most cases unless stated in official documentation like example above. However, there exists expressions (example is in Exercise at back) where different strategies yield different result."
   ]
  },
  {
   "cell_type": "markdown",
   "id": "97cf880b",
   "metadata": {},
   "source": [
    "# Conditionals\n",
    "\n",
    "Conditionals syntax in Python is as below:\n",
    "```\n",
    "if <expression>:\n",
    "    <code>\n",
    "elif <expression>:\n",
    "    <code>\n",
    "else：\n",
    "    <code>\n",
    "```\n",
    "\n",
    "The `elif` and `else` are optional.\n",
    "\n",
    "If current branch expression is evaluated to be `True`, then the indented codes beneath the expression, will be executed. Otherwise, go to next `elif` branch  repeat previous process if there is any. If there is `else` and while all `if` and `elif` branches are false, the code in `else` will be executed.\n",
    "\n",
    "Or else, the conditional block is skipped."
   ]
  },
  {
   "cell_type": "code",
   "execution_count": 30,
   "id": "890b814f",
   "metadata": {},
   "outputs": [
    {
     "data": {
      "text/plain": [
       "10"
      ]
     },
     "execution_count": 30,
     "metadata": {},
     "output_type": "execute_result"
    }
   ],
   "source": [
    "def abs1(x):\n",
    "    '''\n",
    "    return non-negative value\n",
    "    '''\n",
    "    if x < 0:\n",
    "        return -x\n",
    "    else:\n",
    "        return x\n",
    "\n",
    "abs1(-10)"
   ]
  },
  {
   "cell_type": "code",
   "execution_count": 31,
   "id": "83e04fdc",
   "metadata": {},
   "outputs": [
    {
     "data": {
      "text/plain": [
       "10"
      ]
     },
     "execution_count": 31,
     "metadata": {},
     "output_type": "execute_result"
    }
   ],
   "source": [
    "def abs2(x):\n",
    "    if x < 0:\n",
    "        return -x\n",
    "    elif x == 0:\n",
    "        return 0\n",
    "    else:\n",
    "        return x\n",
    "abs2(-10)"
   ]
  },
  {
   "cell_type": "code",
   "execution_count": 32,
   "id": "b1220851",
   "metadata": {},
   "outputs": [
    {
     "data": {
      "text/plain": [
       "10"
      ]
     },
     "execution_count": 32,
     "metadata": {},
     "output_type": "execute_result"
    }
   ],
   "source": [
    "def abs3(x):\n",
    "    return -x if x < 0 else x # one line if-else conditional\n",
    "abs3(-10)"
   ]
  },
  {
   "cell_type": "markdown",
   "id": "0f60add9",
   "metadata": {},
   "source": [
    "# Repetition\n",
    "\n",
    "In Python, we can loop our program using either `while` or `for`. \n",
    "\n",
    "```\n",
    "while <expression>:\n",
    "    <code>\n",
    "```\n",
    "If the expression is evaluated to be `True`, then the `<code>` is executed"
   ]
  },
  {
   "cell_type": "code",
   "execution_count": 33,
   "id": "d74e38c3",
   "metadata": {},
   "outputs": [
    {
     "name": "stdout",
     "output_type": "stream",
     "text": [
      "0\n",
      "1\n",
      "2\n",
      "3\n",
      "4\n",
      "5\n"
     ]
    }
   ],
   "source": [
    "i = 0\n",
    "while i <= 5:\n",
    "    print(i)\n",
    "    i = i + 1"
   ]
  },
  {
   "cell_type": "markdown",
   "id": "093c9386",
   "metadata": {},
   "source": [
    "`for` here (unlike in C) is to iterate over something. For example, `range(n)` is a sequence starting from 0 until n-1, then the statement `for i in range(5)`, the `i` variable will walk to the next thing from the sequence for each iteration. This explaination is incomplete but enough for our purpose."
   ]
  },
  {
   "cell_type": "code",
   "execution_count": 34,
   "id": "94bdd41f",
   "metadata": {},
   "outputs": [
    {
     "name": "stdout",
     "output_type": "stream",
     "text": [
      "0\n",
      "1\n",
      "2\n",
      "3\n",
      "4\n"
     ]
    }
   ],
   "source": [
    "for i in range(5): # range(n) is end exclusive\n",
    "    print(i)"
   ]
  },
  {
   "cell_type": "code",
   "execution_count": null,
   "id": "9a1de5d1",
   "metadata": {},
   "outputs": [],
   "source": [
    "for character in ['hakurei', 'marisa', 'satori']:\n",
    "    print(character)"
   ]
  },
  {
   "cell_type": "markdown",
   "id": "5dff13ca",
   "metadata": {},
   "source": [
    "Common idioms in using `for` will be presented implicitly through example. The topic of using `for` will be revisited in later topic in Python data structures (list, tuple, string, dictionary). For now, we use `for` for convienence."
   ]
  },
  {
   "cell_type": "markdown",
   "id": "b6289b31",
   "metadata": {},
   "source": [
    "Consider a problem calculate the sum of $ 1 $ until $ n $. Says `n = 5`, then we may naviely type"
   ]
  },
  {
   "cell_type": "code",
   "execution_count": 35,
   "id": "b630c99d",
   "metadata": {},
   "outputs": [
    {
     "data": {
      "text/plain": [
       "15"
      ]
     },
     "execution_count": 35,
     "metadata": {},
     "output_type": "execute_result"
    }
   ],
   "source": [
    "1 + 2 + 3 + 4 + 5"
   ]
  },
  {
   "cell_type": "markdown",
   "id": "2935d932",
   "metadata": {},
   "source": [
    "When `n` is getting larger, it is not practical to type all. Code below is very common idiom among many programming languages that do the same thing"
   ]
  },
  {
   "cell_type": "code",
   "execution_count": 36,
   "id": "e2ebe9c6",
   "metadata": {},
   "outputs": [
    {
     "data": {
      "text/plain": [
       "15"
      ]
     },
     "execution_count": 36,
     "metadata": {},
     "output_type": "execute_result"
    }
   ],
   "source": [
    "n = 5\n",
    "i = 1\n",
    "result = 0\n",
    "while i <= n:\n",
    "    result += i # shorthand for result = result + i\n",
    "    i += 1\n",
    "result"
   ]
  },
  {
   "cell_type": "markdown",
   "id": "0326aa4b",
   "metadata": {},
   "source": [
    "The code above use `i` and `result` as state variables temporary store the values."
   ]
  },
  {
   "cell_type": "markdown",
   "id": "c5c90e4d",
   "metadata": {},
   "source": [
    "Below code that use `for` and `range` do the same thing."
   ]
  },
  {
   "cell_type": "code",
   "execution_count": 37,
   "id": "03b5292d",
   "metadata": {},
   "outputs": [
    {
     "data": {
      "text/plain": [
       "15"
      ]
     },
     "execution_count": 37,
     "metadata": {},
     "output_type": "execute_result"
    }
   ],
   "source": [
    "result = 0\n",
    "n = 5\n",
    "for i in range(n+1):\n",
    "    result = result + i\n",
    "result"
   ]
  },
  {
   "cell_type": "markdown",
   "id": "6427ac13",
   "metadata": {},
   "source": [
    "# Chapter Exercise\n",
    "\n",
    "1. Factorial of $ n $ denoted as $ n! $ can be defined as follow\n",
    "\n",
    "$$\n",
    "n! = n(n-1)...(2)(1)\n",
    "$$\n",
    "\n",
    "$$\n",
    "4! = 4(3)(2)(1) = 24\n",
    "$$\n",
    "\n",
    "Write an program in Python that calculate `n=100`\n",
    "\n",
    "Tips: Refer to the summation program in the section Repetition"
   ]
  },
  {
   "cell_type": "code",
   "execution_count": null,
   "id": "ac54594c",
   "metadata": {},
   "outputs": [],
   "source": []
  },
  {
   "cell_type": "markdown",
   "id": "ef666d30",
   "metadata": {},
   "source": [
    "2. Why the code below work as expected? (Difficult)"
   ]
  },
  {
   "cell_type": "code",
   "execution_count": 39,
   "id": "8085f845",
   "metadata": {
    "scrolled": true
   },
   "outputs": [
    {
     "data": {
      "text/plain": [
       "20"
      ]
     },
     "execution_count": 39,
     "metadata": {},
     "output_type": "execute_result"
    }
   ],
   "source": [
    "def a_plus_abs_b(a,b):\n",
    "    from operator import add, sub\n",
    "    return (add if b > 0 else sub)(a,b)\n",
    "a_plus_abs_b(10,-10)"
   ]
  },
  {
   "cell_type": "markdown",
   "id": "8247aa58",
   "metadata": {},
   "source": [
    "3. (Difficult) There is a test whether a programming language is eagerly evaluated or lazily evaluated. The code is the test program in Python. Explain what happens if the code below is eagerly evaluated or lazily evaluated. You try this on R language."
   ]
  },
  {
   "cell_type": "code",
   "execution_count": null,
   "id": "9c1aa418",
   "metadata": {},
   "outputs": [],
   "source": [
    "def p():\n",
    "    return p()\n",
    "def test(x,y):\n",
    "    if x == 0:\n",
    "        return 0\n",
    "    else:\n",
    "        return y\n",
    "test(0, p())"
   ]
  }
 ],
 "metadata": {
  "kernelspec": {
   "display_name": "Python 3 (ipykernel)",
   "language": "python",
   "name": "python3"
  },
  "language_info": {
   "codemirror_mode": {
    "name": "ipython",
    "version": 3
   },
   "file_extension": ".py",
   "mimetype": "text/x-python",
   "name": "python",
   "nbconvert_exporter": "python",
   "pygments_lexer": "ipython3",
   "version": "3.10.2"
  }
 },
 "nbformat": 4,
 "nbformat_minor": 5
}
