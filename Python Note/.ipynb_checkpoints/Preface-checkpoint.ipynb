{
 "cells": [
  {
   "cell_type": "markdown",
   "id": "5c82f27a",
   "metadata": {},
   "source": [
    "# Preface\n",
    "This note is a checklist about the important concepts what you might miss as a beginner. Most of the notes are adapted from the book SICP.\n",
    "\n",
    "$=w=$, uwu, owo, \n",
    "\n",
    "## Prerequisite \n",
    "1. Install Python, know how to run `hello.py` through terminal\n",
    "2. High School Math\n",
    "3. know how to install Python libraries using `pip install`\n",
    "4. IDE (with debugger)\n",
    "5. Have the spirit of googling, reading forum for intricate code problem\n",
    "6. `pip install jupyter`\n",
    "7. Knowing how to manipulate, access `list` is recommended\n",
    "\n",
    "Above all are easier done by watching Youtube or having an experienced programmer to help you."
   ]
  }
 ],
 "metadata": {
  "kernelspec": {
   "display_name": "Python 3 (ipykernel)",
   "language": "python",
   "name": "python3"
  },
  "language_info": {
   "codemirror_mode": {
    "name": "ipython",
    "version": 3
   },
   "file_extension": ".py",
   "mimetype": "text/x-python",
   "name": "python",
   "nbconvert_exporter": "python",
   "pygments_lexer": "ipython3",
   "version": "3.10.2"
  }
 },
 "nbformat": 4,
 "nbformat_minor": 5
}
