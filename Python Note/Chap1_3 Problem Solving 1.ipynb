{
 "cells": [
  {
   "cell_type": "markdown",
   "id": "475e265c",
   "metadata": {},
   "source": [
    "Consider a problem adapted from [ProjectEuler.net](https://projecteuler.net/problem=27):\n",
    "\n",
    "$$\n",
    "n^2 + n + 41\n",
    "$$\n",
    "\n",
    "This formula is discoverd by the great mathematician Euler. It is amazing that it generates 40 primes for $0 \\leq n \\leq 39$. There is another fomula $n^2 - 79n + 1601$ generates 80 primes for $0 \\leq n \\leq 79$.\n",
    "\n",
    "Consider quadratics of the form:\n",
    "$$\n",
    "n^2 + an + b, |a|\\lt 1000, |b|\\leq 1000\n",
    "$$\n",
    "\n",
    "Find the values of the coefficients,  $a$ and $b$, for the quadratic expression that produces the maximum number of primes for consecutive values of , $n$ starting with $n=0$.\n",
    "\n",
    "\n",
    "Naively, we can seperate the problems into smaller pieces problem, and solve each piece, then re-ensemble them.\n",
    "\n",
    "The smaller pieces might be:\n",
    "1. prime test (we've done)\n",
    "2. how many prime is generated from a particular quadratic\n",
    "3. find which quadratic generates the most primes from all given quadratics"
   ]
  },
  {
   "cell_type": "code",
   "execution_count": 8,
   "id": "6528b609",
   "metadata": {},
   "outputs": [],
   "source": [
    "def is_prime(n):\n",
    "    if n < 2: # changed to include negative integers\n",
    "        return False\n",
    "    d = 2\n",
    "    while d*d <= n:\n",
    "        if n%d == 0:\n",
    "            return False\n",
    "        d += 1\n",
    "    return True"
   ]
  },
  {
   "cell_type": "markdown",
   "id": "afed9f14",
   "metadata": {},
   "source": [
    "The problem \"how many prime is generated from a particular quadratic\" can be further divide into:\n",
    "\n",
    "1. calculate value of quadratic given values of others\n",
    "2. how to do the repetition to count prime"
   ]
  },
  {
   "cell_type": "code",
   "execution_count": 2,
   "id": "119932ba",
   "metadata": {},
   "outputs": [],
   "source": [
    "def quadratic(n, a, b):\n",
    "    return n**2 + n*a + b"
   ]
  },
  {
   "cell_type": "markdown",
   "id": "731a5607",
   "metadata": {},
   "source": [
    "We've coded the `quadratic` but we're not sure whether **it works as expected**. We may make use of `is_prime` to check given integer is prime or not"
   ]
  },
  {
   "cell_type": "code",
   "execution_count": 3,
   "id": "df7bb4a0",
   "metadata": {},
   "outputs": [
    {
     "data": {
      "text/plain": [
       "True"
      ]
     },
     "execution_count": 3,
     "metadata": {},
     "output_type": "execute_result"
    }
   ],
   "source": [
    "quadratic(10,10,10) == 10**2 + 10*10 + 10"
   ]
  },
  {
   "cell_type": "code",
   "execution_count": 4,
   "id": "a53566d6",
   "metadata": {},
   "outputs": [],
   "source": [
    "assert(is_prime(quadratic(0,1,41)))\n",
    "assert(is_prime(quadratic(2,1,41)))\n",
    "assert(is_prime(quadratic(39,1,41)))"
   ]
  },
  {
   "cell_type": "markdown",
   "id": "bb48e943",
   "metadata": {},
   "source": [
    "Okay, it seems good. Then we proceed to \"how to count how many primes is generated from given quadratic in consecutive integers\". Indeed, it is question of \"how to enumerate/ iterate all possible cases\"."
   ]
  },
  {
   "cell_type": "code",
   "execution_count": 5,
   "id": "f6493e3c",
   "metadata": {},
   "outputs": [
    {
     "data": {
      "text/plain": [
       "40"
      ]
     },
     "execution_count": 5,
     "metadata": {},
     "output_type": "execute_result"
    }
   ],
   "source": [
    "a = 1\n",
    "b = 41\n",
    "n = 0\n",
    "while is_prime(quadratic(n, a, b)):\n",
    "    n = n+1\n",
    "n"
   ]
  },
  {
   "cell_type": "markdown",
   "id": "bce32571",
   "metadata": {},
   "source": [
    "For now, we've figured out how to find the count. We might go for generalising the counting process into a **function** (ie.: abstracting). \n",
    "\n",
    "```\n",
    "a = 1 # this can be parameter\n",
    "b = 41 # this can be parameter\n",
    "n = 0\n",
    "while is_prime(quadratic(n, a, b)):\n",
    "    n = n+1\n",
    "n # as return value\n",
    "```"
   ]
  },
  {
   "cell_type": "code",
   "execution_count": 6,
   "id": "898569f4",
   "metadata": {},
   "outputs": [
    {
     "name": "stdout",
     "output_type": "stream",
     "text": [
      "40\n",
      "80\n"
     ]
    }
   ],
   "source": [
    "def quadratic_prime_count(a,b):\n",
    "    n = 0\n",
    "    while is_prime(quadratic(n, a, b)):\n",
    "        n += 1\n",
    "    return n\n",
    "print(quadratic_prime_count(1,41))\n",
    "print(quadratic_prime_count(-79,1601))"
   ]
  },
  {
   "cell_type": "markdown",
   "id": "47b924d1",
   "metadata": {},
   "source": [
    "The question states that\n",
    "\n",
    "$$\n",
    "n^2 + an + b, |a|\\lt 1000, |b|\\leq 1000\n",
    "$$\n",
    "\n",
    "Then, it is also another question of enumerating and iterating all $a$, $b$ to find the most primal quadratics."
   ]
  },
  {
   "cell_type": "code",
   "execution_count": 7,
   "id": "5ea98a76",
   "metadata": {},
   "outputs": [
    {
     "data": {
      "text/plain": [
       "(-61, 971, 71)"
      ]
     },
     "execution_count": 7,
     "metadata": {},
     "output_type": "execute_result"
    }
   ],
   "source": [
    "a = -999\n",
    "max_a = 1\n",
    "max_b = 41\n",
    "max_n = 40\n",
    "while a < 1000:\n",
    "    b = -1000\n",
    "    while b <= 1000:\n",
    "        if quadratic_prime_count(a,b) > max_n:\n",
    "            max_a = a \n",
    "            max_b = b\n",
    "            max_n = quadratic_prime_count(max_a,max_b)\n",
    "        b += 1\n",
    "    a += 1\n",
    "max_a,max_b,max_n"
   ]
  },
  {
   "cell_type": "markdown",
   "id": "e15cf847",
   "metadata": {},
   "source": [
    "Indeed, -61 and 971 is the answer. Now, we may refactor the code abit."
   ]
  },
  {
   "cell_type": "code",
   "execution_count": 34,
   "id": "092c6616",
   "metadata": {},
   "outputs": [
    {
     "data": {
      "text/plain": [
       "(-61, 971, 71)"
      ]
     },
     "execution_count": 34,
     "metadata": {},
     "output_type": "execute_result"
    }
   ],
   "source": [
    "def is_prime(n):\n",
    "    if n < 2: # changed to include negative integers\n",
    "        return False\n",
    "    d = 2\n",
    "    while d*d <= n:\n",
    "        if n%d == 0:\n",
    "            return False\n",
    "        d += 1\n",
    "    return True\n",
    "\n",
    "def quadratic(n, a, b):\n",
    "    return n**2 + n*a + b\n",
    "\n",
    "def quadratic_prime_count(a,b):\n",
    "    n = 0\n",
    "    while is_prime(quadratic(n, a, b)):\n",
    "        n += 1\n",
    "    return n\n",
    "\n",
    "max_a = 1\n",
    "max_b = 41\n",
    "max_n = 40\n",
    "for a in range(-999, 1000):\n",
    "    for b in range(-1000, 1000):\n",
    "        if quadratic_prime_count(a,b) > max_n:\n",
    "            max_a = a \n",
    "            max_b = b\n",
    "            max_n = quadratic_prime_count(max_a,max_b)\n",
    "max_a,max_b,max_n"
   ]
  },
  {
   "cell_type": "markdown",
   "id": "14f1d2ba",
   "metadata": {},
   "source": [
    "# Benefit of functions\n",
    "\n",
    "Below is equivalent code that do the same thing without using many functions."
   ]
  },
  {
   "cell_type": "code",
   "execution_count": 19,
   "id": "1f8abb94",
   "metadata": {
    "scrolled": true
   },
   "outputs": [
    {
     "data": {
      "text/plain": [
       "(-61, 971, 72)"
      ]
     },
     "execution_count": 19,
     "metadata": {},
     "output_type": "execute_result"
    }
   ],
   "source": [
    "max_a = 1\n",
    "max_b = 41\n",
    "max_n = 40\n",
    "a = -999\n",
    "while a < 1000:\n",
    "    b = -1000\n",
    "    while b <= 1000:\n",
    "        n = 0\n",
    "        is_prime_bool = True\n",
    "        # count primes generated by quadratic\n",
    "        while is_prime_bool:\n",
    "            quad = n**2 + n*a + b\n",
    "            # check if p is prime\n",
    "            if quad < 2:\n",
    "                is_prime_bool = False\n",
    "            divisor = 2\n",
    "            while divisor*divisor <= quad:\n",
    "                if quad%divisor == 0:\n",
    "                    is_prime_bool = False\n",
    "                    break\n",
    "                divisor += 1\n",
    "            n += 1\n",
    "        # max value check\n",
    "        if n > max_n:\n",
    "            max_a = a \n",
    "            max_b = b\n",
    "            max_n = n\n",
    "        b += 1\n",
    "    a += 1\n",
    "max_a,max_b,max_n"
   ]
  },
  {
   "cell_type": "markdown",
   "id": "fe431d23",
   "metadata": {},
   "source": [
    "Some radicals (if there is any) might argue the code above as a whole that it is much clearer that how the program is going. But writing the code this way have some disadvantages.\n",
    "\n",
    "1. Error Prone\n",
    "2. Inflexible"
   ]
  },
  {
   "cell_type": "markdown",
   "id": "342fdaf4",
   "metadata": {},
   "source": [
    "1. Error Prone. The code below will stuck forever, could you find the bug?\n",
    "```\n",
    "max_a = 1\n",
    "max_b = 41\n",
    "max_n = 40\n",
    "a = -999\n",
    "while a < 1000:\n",
    "    b = -1000\n",
    "    while b <= 1000:\n",
    "        n = 0\n",
    "        is_prime_bool = True\n",
    "        # count primes generated by quadratic\n",
    "        if quad < 2:\n",
    "            is_prime_bool = False\n",
    "        while is_prime_bool:\n",
    "            quad = n**2 + n*a + b\n",
    "            # check if quad is prime\n",
    "            divisor = 2\n",
    "            while divisor*divisor <= quad:\n",
    "                if quad%divisor == 0:\n",
    "                    is_prime_bool = False\n",
    "                    break\n",
    "                divisor += 1\n",
    "        n += 1\n",
    "        # max value check\n",
    "        if n > max_n:\n",
    "            max_a = a \n",
    "            max_b = b\n",
    "            max_n = n\n",
    "        b += 1\n",
    "    a += 1\n",
    "max_a,max_b,max_n\n",
    "```\n",
    "\n",
    "Indeed, it turns out that `n += 1` is mis-indented."
   ]
  },
  {
   "cell_type": "markdown",
   "id": "aff6c7b6",
   "metadata": {},
   "source": [
    "The code below is also stuck forever. Then we may debug each function. It turns out that `is_prime` doesn't work as expected for negative integer `n`.\n",
    "\n",
    "```\n",
    " def is_prime(n):\n",
    "        d = 2\n",
    "        while d*d <= n:\n",
    "            if n%d == 0:\n",
    "                return False\n",
    "            d += 1\n",
    "        return True\n",
    "\n",
    "def quadratic(n, a, b):\n",
    "    return n**2 + n*a + b\n",
    "\n",
    "def quadratic_prime_count(a,b):\n",
    "    n = 0\n",
    "    while is_prime(quadratic(n, a, b)):\n",
    "        n += 1\n",
    "    return n\n",
    "a = -999\n",
    "max_a = 1\n",
    "max_b = 41\n",
    "max_n = 40\n",
    "while a < 1000:\n",
    "    b = -1000\n",
    "    while b <= 1000:\n",
    "        if quadratic_prime_count(a,b) > max_n:\n",
    "            max_a = a \n",
    "            max_b = b\n",
    "            max_n = quadratic_prime_count(max_a,max_b)\n",
    "        b += 1\n",
    "    a += 1\n",
    "max_a,max_b,max_n\n",
    "```"
   ]
  },
  {
   "cell_type": "markdown",
   "id": "83172677",
   "metadata": {},
   "source": [
    "2. Inflexibility\n",
    "\n",
    "Suppose that we have a more effective way to do primality test."
   ]
  },
  {
   "cell_type": "code",
   "execution_count": 32,
   "id": "19b3e823",
   "metadata": {},
   "outputs": [],
   "source": [
    "def sieve(n):\n",
    "    li = [True for _ in range(n)]\n",
    "    li[0] = False\n",
    "    li[1] = False\n",
    "    for i in range(2, n):\n",
    "        if li[i] == True:\n",
    "            for j in range(i*i, n, i):\n",
    "                li[j] = False\n",
    "    return li\n",
    "\n",
    "memo = sieve(100000)\n",
    "def is_prime(n):\n",
    "    if n < 2:\n",
    "        return False\n",
    "    return memo[n]"
   ]
  },
  {
   "cell_type": "markdown",
   "id": "ae8f0298",
   "metadata": {},
   "source": [
    "If we use function, then we not need to change other part of code after we adopt the new primality test algorithm. The code is flexible. In contrary, we have to change the solution code in the less-function code."
   ]
  },
  {
   "cell_type": "code",
   "execution_count": 33,
   "id": "8ecc2b40",
   "metadata": {},
   "outputs": [
    {
     "data": {
      "text/plain": [
       "(-61, 971, 71)"
      ]
     },
     "execution_count": 33,
     "metadata": {},
     "output_type": "execute_result"
    }
   ],
   "source": [
    "def quadratic(n, a, b):\n",
    "    return n**2 + n*a + b\n",
    "\n",
    "def quadratic_prime_count(a,b):\n",
    "    n = 0\n",
    "    while is_prime(quadratic(n, a, b)):\n",
    "        n += 1\n",
    "    return n\n",
    "a = -999\n",
    "max_a = 1\n",
    "max_b = 41\n",
    "max_n = 40\n",
    "while a < 1000:\n",
    "    b = -1000\n",
    "    while b <= 1000:\n",
    "        if quadratic_prime_count(a,b) > max_n:\n",
    "            max_a = a \n",
    "            max_b = b\n",
    "            max_n = quadratic_prime_count(max_a,max_b)\n",
    "        b += 1\n",
    "    a += 1\n",
    "max_a,max_b,max_n"
   ]
  },
  {
   "cell_type": "markdown",
   "id": "55d8e8a2",
   "metadata": {},
   "source": [
    "## side note:\n",
    "\n",
    "Generate and test all possible cases is known as **Brute Force** algorithm. It is not definitely the fastest but it always give the **optimal** answer. Furthermore, it is the easiest algorithm can be thought to solve any problem; it is a naive algorithm."
   ]
  },
  {
   "cell_type": "markdown",
   "id": "fc565a08",
   "metadata": {},
   "source": [
    "# Conclusion\n",
    "\n",
    "The use of functions can make our program more organized and easier to be changed.\n",
    "\n",
    "Besides, the task seperations and re-ensemble are one of the way to solve complex problem. To solve a complex problem, we can solve smaller pieces of the complex problem. I think this method is naive and natural that we apply it natural in real world. \n",
    "\n",
    "Indeed, as we see in the code, the function name also convey what it does, thus more readable. \n",
    "\n",
    "Every function try to do single thing, this is similar to the principle of single responsibility. Although looking at each of the functions itself seems trivial, they together can form the complex program.\n",
    "\n",
    "Here is some guidelines in designing functions:\n",
    "1. Function suppress implementation details\n",
    "2. Function generalizes things\n",
    "3. **Consider required parameters, return values**\n",
    "4. Exploit the fact that arguments are local to the functions\n",
    "5. Exploit the fact that variables inside a function is local to the current function\n",
    "6. Code function over common patterns"
   ]
  },
  {
   "cell_type": "markdown",
   "id": "1d419d25",
   "metadata": {},
   "source": [
    "## Side Note: Python Scoping\n",
    "\n",
    "Python has its custom scoping rule to follow, you should read the online documentation or read LEGB rule."
   ]
  },
  {
   "cell_type": "markdown",
   "id": "5422d9db",
   "metadata": {},
   "source": [
    "# Exercise\n",
    "\n",
    "You make an account on [ProjectEuler.net](https://projecteuler.net/). Then solve the [problem 6](https://projecteuler.net/problem=6)"
   ]
  }
 ],
 "metadata": {
  "kernelspec": {
   "display_name": "Python 3.10.2 64-bit",
   "language": "python",
   "name": "python3"
  },
  "language_info": {
   "codemirror_mode": {
    "name": "ipython",
    "version": 3
   },
   "file_extension": ".py",
   "mimetype": "text/x-python",
   "name": "python",
   "nbconvert_exporter": "python",
   "pygments_lexer": "ipython3",
   "version": "3.10.2"
  },
  "vscode": {
   "interpreter": {
    "hash": "2324a66782fee6ab9f0bdb3c9e79ee636ed86487484f245c4444858429ce7730"
   }
  }
 },
 "nbformat": 4,
 "nbformat_minor": 5
}
