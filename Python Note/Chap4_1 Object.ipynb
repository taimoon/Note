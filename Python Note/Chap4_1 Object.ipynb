{
 "cells": [
  {
   "cell_type": "markdown",
   "id": "3a495df5",
   "metadata": {},
   "source": [
    "# Chapter 4: Object Metaphor"
   ]
  },
  {
   "cell_type": "markdown",
   "id": "d0cff529",
   "metadata": {},
   "source": [
    "# Representing Bank Account\n",
    "Suppose that we wish develop a program to keep track of bank account. The data required are name, and amount. The methods can be applied are withdraw, and deposit."
   ]
  },
  {
   "cell_type": "markdown",
   "id": "381643cd",
   "metadata": {},
   "source": [
    "## Using `Tuple`\n",
    "Naively, we may try to use `tuple`"
   ]
  },
  {
   "cell_type": "code",
   "execution_count": 106,
   "id": "0d67003e",
   "metadata": {
    "scrolled": false
   },
   "outputs": [],
   "source": [
    "def make_new_acc(name, initial_amount):\n",
    "    return name, initial_amount\n",
    "\n",
    "def account_name(acc):\n",
    "    return acc[0]\n",
    "\n",
    "def account_amount(acc):\n",
    "    return acc[1]\n",
    "\n",
    "def withdraw(acc, amt):\n",
    "    if account_amount(acc) < amt:\n",
    "        print(\"Insufficient Fund\") \n",
    "        return acc\n",
    "    return make_new_acc(account_name(acc), \n",
    "                        account_amount(acc) - amt)\n",
    "\n",
    "def deposit(acc, amt):\n",
    "    if amt <= 0:\n",
    "        print(\"Deposit amount must be positive\")\n",
    "        return acc\n",
    "    return make_new_acc(account_name(acc), \n",
    "                        account_amount(acc) + amt) "
   ]
  },
  {
   "cell_type": "code",
   "execution_count": 107,
   "id": "afaecfd3",
   "metadata": {},
   "outputs": [
    {
     "name": "stdout",
     "output_type": "stream",
     "text": [
      "('Teng Man', 100) <class 'tuple'>\n"
     ]
    }
   ],
   "source": [
    "acc = make_new_acc(\"Teng Man\", 100) \n",
    "print(acc, type(acc))"
   ]
  },
  {
   "cell_type": "code",
   "execution_count": 108,
   "id": "7aff3745",
   "metadata": {},
   "outputs": [
    {
     "data": {
      "text/plain": [
       "('Teng Man', 30)"
      ]
     },
     "execution_count": 108,
     "metadata": {},
     "output_type": "execute_result"
    }
   ],
   "source": [
    "acc = withdraw(acc, 70)\n",
    "acc"
   ]
  },
  {
   "cell_type": "code",
   "execution_count": 109,
   "id": "8282cf7a",
   "metadata": {
    "scrolled": true
   },
   "outputs": [
    {
     "data": {
      "text/plain": [
       "('Teng Man', 60)"
      ]
     },
     "execution_count": 109,
     "metadata": {},
     "output_type": "execute_result"
    }
   ],
   "source": [
    "acc = deposit(acc, 30)\n",
    "acc"
   ]
  },
  {
   "cell_type": "code",
   "execution_count": 110,
   "id": "6c8806a6",
   "metadata": {
    "scrolled": false
   },
   "outputs": [
    {
     "data": {
      "text/plain": [
       "('Teng Man', 60)"
      ]
     },
     "execution_count": 110,
     "metadata": {},
     "output_type": "execute_result"
    }
   ],
   "source": [
    "deposit(acc, 30)\n",
    "deposit(acc, 30)\n",
    "deposit(acc, 30)\n",
    "acc"
   ]
  },
  {
   "cell_type": "markdown",
   "id": "8ffb90d1",
   "metadata": {},
   "source": [
    "## Using `dict`"
   ]
  },
  {
   "cell_type": "markdown",
   "id": "6b61afc0",
   "metadata": {},
   "source": [
    "We may also use the Python `dict` to represent the bank account"
   ]
  },
  {
   "cell_type": "code",
   "execution_count": 111,
   "id": "a580ee9c",
   "metadata": {},
   "outputs": [],
   "source": [
    "def call_dict_method(obj, method, *args):\n",
    "    return obj[method](obj, *args)\n",
    "\n",
    "def make_new_acc(name, initial_amount):\n",
    "    def withdraw(acc, amt):\n",
    "        if acc[\"amount\"] < amt:\n",
    "            return \"insufficient fund\"\n",
    "        acc[\"amount\"]  -= amt\n",
    "        return acc[\"amount\"]\n",
    "    \n",
    "    def deposit(acc, amt):\n",
    "        if amt <= 0:\n",
    "            return \"deposit amount must be positive\"\n",
    "        acc[\"amount\"] += amt\n",
    "        return acc[\"amount\"]\n",
    "    \n",
    "    def display(acc):\n",
    "        print(f'''Bank_Account('{acc[\"name\"]}', {acc[\"amount\"]})''')\n",
    "    \n",
    "    return {\n",
    "        \"name\":name,\n",
    "        \"amount\": initial_amount,\n",
    "        \"withdraw\": withdraw,\n",
    "        \"deposit\": deposit,\n",
    "        \"display\": display\n",
    "    }"
   ]
  },
  {
   "cell_type": "code",
   "execution_count": 112,
   "id": "b4c923b4",
   "metadata": {},
   "outputs": [
    {
     "name": "stdout",
     "output_type": "stream",
     "text": [
      "Bank_Account('Teng Man', 100)\n"
     ]
    }
   ],
   "source": [
    "teng_man_acc = make_new_acc(\"Teng Man\", 100)\n",
    "call_dict_method(teng_man_acc, \"display\")"
   ]
  },
  {
   "cell_type": "code",
   "execution_count": 113,
   "id": "e74d6230",
   "metadata": {},
   "outputs": [
    {
     "data": {
      "text/plain": [
       "80"
      ]
     },
     "execution_count": 113,
     "metadata": {},
     "output_type": "execute_result"
    }
   ],
   "source": [
    "call_dict_method(teng_man_acc, \"withdraw\", 20)"
   ]
  },
  {
   "cell_type": "code",
   "execution_count": 114,
   "id": "40dc76b4",
   "metadata": {
    "scrolled": true
   },
   "outputs": [
    {
     "name": "stdout",
     "output_type": "stream",
     "text": [
      "Bank_Account('Teng Man', 80)\n"
     ]
    }
   ],
   "source": [
    "call_dict_method(teng_man_acc, \"display\")"
   ]
  },
  {
   "cell_type": "code",
   "execution_count": 115,
   "id": "7393de30",
   "metadata": {
    "scrolled": true
   },
   "outputs": [
    {
     "data": {
      "text/plain": [
       "200"
      ]
     },
     "execution_count": 115,
     "metadata": {},
     "output_type": "execute_result"
    }
   ],
   "source": [
    "call_dict_method(teng_man_acc, \"deposit\", 120)"
   ]
  },
  {
   "cell_type": "code",
   "execution_count": 116,
   "id": "ef23d588",
   "metadata": {
    "scrolled": true
   },
   "outputs": [
    {
     "name": "stdout",
     "output_type": "stream",
     "text": [
      "Bank_Account('Teng Man', 200)\n"
     ]
    }
   ],
   "source": [
    "call_dict_method(teng_man_acc, \"display\")"
   ]
  },
  {
   "cell_type": "markdown",
   "id": "f5e8f926",
   "metadata": {},
   "source": [
    "## Lexical Closure\n",
    "Or we may exploit `nonlocal`, lexical scoping"
   ]
  },
  {
   "cell_type": "code",
   "execution_count": 117,
   "id": "9ffd38a8",
   "metadata": {},
   "outputs": [],
   "source": [
    "def make_new_acc(name, amount):\n",
    "    def withdraw(amt):\n",
    "        nonlocal amount\n",
    "        if amount < amt:\n",
    "            return \"insufficient fund\"\n",
    "        amount -= amt\n",
    "        return amount\n",
    "    \n",
    "    def deposit(amt):\n",
    "        nonlocal amount\n",
    "        if amt <= 0:\n",
    "            return \"deposit amount must be positive\"\n",
    "        amount += amt\n",
    "        return amount\n",
    "    \n",
    "    def display():\n",
    "        print(f'''Bank_Account('{name}', {amount})''')\n",
    "        \n",
    "    def dispatch(msg):\n",
    "        if msg == \"withdraw\":\n",
    "            return withdraw\n",
    "        elif msg == \"deposit\":\n",
    "            return deposit\n",
    "        elif msg == \"display\":\n",
    "            return display\n",
    "        else:\n",
    "            raise Exception(f\"Unknown Message to the object Bank Account {msg}\")\n",
    "    return dispatch"
   ]
  },
  {
   "cell_type": "code",
   "execution_count": 118,
   "id": "f24f9bd6",
   "metadata": {},
   "outputs": [
    {
     "name": "stdout",
     "output_type": "stream",
     "text": [
      "Bank_Account('Hakurei', 100)\n"
     ]
    }
   ],
   "source": [
    "acc = make_new_acc(\"Hakurei\", 100)\n",
    "acc(\"display\")()"
   ]
  },
  {
   "cell_type": "code",
   "execution_count": 119,
   "id": "6b7f2c7a",
   "metadata": {},
   "outputs": [
    {
     "name": "stdout",
     "output_type": "stream",
     "text": [
      "Bank_Account('Hakurei', 80)\n"
     ]
    }
   ],
   "source": [
    "acc(\"withdraw\")(20)\n",
    "acc(\"display\")()"
   ]
  },
  {
   "cell_type": "code",
   "execution_count": 120,
   "id": "5417a9cf",
   "metadata": {
    "scrolled": true
   },
   "outputs": [
    {
     "name": "stdout",
     "output_type": "stream",
     "text": [
      "Bank_Account('Hakurei', 60)\n"
     ]
    }
   ],
   "source": [
    "acc(\"withdraw\")(20)\n",
    "acc(\"display\")()"
   ]
  },
  {
   "cell_type": "code",
   "execution_count": 121,
   "id": "20f53827",
   "metadata": {},
   "outputs": [
    {
     "name": "stdout",
     "output_type": "stream",
     "text": [
      "Bank_Account('Hakurei', 120)\n"
     ]
    }
   ],
   "source": [
    "acc(\"deposit\")(60)\n",
    "acc(\"display\")()"
   ]
  },
  {
   "cell_type": "markdown",
   "id": "35ac0560",
   "metadata": {},
   "source": [
    "The last 2 use the message passing technique where they dispatch on message and return function. And the functions are encapsulated within the function. \n",
    "\n",
    "Many mainstream programming languages also capture such pattern and abstract these as **object-oriented programming**. They also usually add more feature such as inheritance, data abstraction, and control access.\n",
    "\n",
    "Usually, it is encouraged to use Programming Language features. Indeed, we will use `class` for convenience in data abstraction and program later. Previously proposed programs are just to show that even without the Programming Languages explcitly support OOP, we can still do something similar. Indeed, Python OOP uses something similiar to `dict` to represent object. Lua is lack of `class` construct, but it can use its `table` data structure to emulate OOP."
   ]
  },
  {
   "cell_type": "markdown",
   "id": "ce5d983c",
   "metadata": {},
   "source": [
    "## Using `class`  (recomended)"
   ]
  },
  {
   "cell_type": "code",
   "execution_count": 122,
   "id": "b2456ec1",
   "metadata": {},
   "outputs": [],
   "source": [
    "class Bank_Account:\n",
    "    # __init__ is a magic method of Python, it is called every time constructed\n",
    "    def __init__(self, name, amount):\n",
    "        self.name = name\n",
    "        self.amount = amount\n",
    "    # first parameter of method inside a class, always refer to the object\n",
    "    def withdraw(self, amt):\n",
    "        if self.amount < amt:\n",
    "            return \"insufficient fund\"\n",
    "        self.amount -= amt\n",
    "    \n",
    "    def deposit(self, amt):\n",
    "        if amt <= 0:\n",
    "            return \"deposit amount must be positive\"\n",
    "        self.amount += amt\n",
    "        return self.amount\n",
    "    # another magic method that it is invoked when REPL ask for its output\n",
    "    # the return type is expected to string type\n",
    "    def __repr__(self):\n",
    "        return f'''Bank_Account('{self.name}', {self.amount})'''"
   ]
  },
  {
   "cell_type": "code",
   "execution_count": 123,
   "id": "452c468e",
   "metadata": {},
   "outputs": [
    {
     "data": {
      "text/plain": [
       "Bank_Account('marisa', 200)"
      ]
     },
     "execution_count": 123,
     "metadata": {},
     "output_type": "execute_result"
    }
   ],
   "source": [
    "marisa_acc = Bank_Account(\"marisa\", 200) # create object of Bank_Account; __init__ is invoked\n",
    "marisa_acc"
   ]
  },
  {
   "cell_type": "markdown",
   "id": "68b211ad",
   "metadata": {},
   "source": [
    "To access the member of a class, we may the syntax as below:\n",
    "\n",
    "```\n",
    "<obj_name>.<member_name>\n",
    "```"
   ]
  },
  {
   "cell_type": "code",
   "execution_count": 124,
   "id": "e6f8bb74",
   "metadata": {
    "scrolled": true
   },
   "outputs": [
    {
     "data": {
      "text/plain": [
       "200"
      ]
     },
     "execution_count": 124,
     "metadata": {},
     "output_type": "execute_result"
    }
   ],
   "source": [
    "marisa_acc.amount"
   ]
  },
  {
   "cell_type": "code",
   "execution_count": 125,
   "id": "091ae4c0",
   "metadata": {},
   "outputs": [
    {
     "data": {
      "text/plain": [
       "<bound method Bank_Account.withdraw of Bank_Account('marisa', 200)>"
      ]
     },
     "execution_count": 125,
     "metadata": {},
     "output_type": "execute_result"
    }
   ],
   "source": [
    "marisa_acc.withdraw"
   ]
  },
  {
   "cell_type": "code",
   "execution_count": 126,
   "id": "864f30a5",
   "metadata": {},
   "outputs": [
    {
     "data": {
      "text/plain": [
       "Bank_Account('marisa', 180)"
      ]
     },
     "execution_count": 126,
     "metadata": {},
     "output_type": "execute_result"
    }
   ],
   "source": [
    "marisa_acc.withdraw(20) # it is same as calling Bank_Account.withdraw(marisa_acc, 20)\n",
    "marisa_acc"
   ]
  },
  {
   "cell_type": "markdown",
   "id": "63b77033",
   "metadata": {},
   "source": [
    "# Problem of Object: Sameness and Change\n",
    "\n",
    "Suppose that we have two bank account object."
   ]
  },
  {
   "cell_type": "code",
   "execution_count": 127,
   "id": "261f9455",
   "metadata": {},
   "outputs": [
    {
     "name": "stdout",
     "output_type": "stream",
     "text": [
      "Bank_Account('frisk', 100)\n",
      "Bank_Account('frisk', 100)\n"
     ]
    }
   ],
   "source": [
    "frisk_acc1 = Bank_Account('frisk', 100)\n",
    "frisk_acc2 = Bank_Account('frisk', 100)\n",
    "print(frisk_acc1)\n",
    "print(frisk_acc2)"
   ]
  },
  {
   "cell_type": "markdown",
   "id": "78102af2",
   "metadata": {},
   "source": [
    "The question is that are `frisk_acc1` and `frisk_acc2` the same thing?\n",
    "\n",
    "No, they are not the same thing in the sense that they don't share the same effect, although they created by the same values."
   ]
  },
  {
   "cell_type": "code",
   "execution_count": 128,
   "id": "410589e0",
   "metadata": {},
   "outputs": [
    {
     "data": {
      "text/plain": [
       "Bank_Account('frisk', 45)"
      ]
     },
     "execution_count": 128,
     "metadata": {},
     "output_type": "execute_result"
    }
   ],
   "source": [
    "frisk_acc1.withdraw(30)\n",
    "frisk_acc1.withdraw(25)\n",
    "frisk_acc1"
   ]
  },
  {
   "cell_type": "code",
   "execution_count": 129,
   "id": "f5c840aa",
   "metadata": {
    "scrolled": false
   },
   "outputs": [
    {
     "data": {
      "text/plain": [
       "Bank_Account('frisk', 75)"
      ]
     },
     "execution_count": 129,
     "metadata": {},
     "output_type": "execute_result"
    }
   ],
   "source": [
    "frisk_acc2.withdraw(25)\n",
    "frisk_acc2"
   ]
  },
  {
   "cell_type": "markdown",
   "id": "a976cc0e",
   "metadata": {},
   "source": [
    "Therefore, Python provide another keyword `is` is to test whether two object are the same rather than equality."
   ]
  },
  {
   "cell_type": "code",
   "execution_count": 130,
   "id": "c0fee1b7",
   "metadata": {},
   "outputs": [
    {
     "name": "stdout",
     "output_type": "stream",
     "text": [
      "True\n",
      "False\n"
     ]
    }
   ],
   "source": [
    "print(frisk_acc1 is frisk_acc1)\n",
    "print(frisk_acc2 is frisk_acc1)"
   ]
  },
  {
   "cell_type": "markdown",
   "id": "fb4ef053",
   "metadata": {},
   "source": [
    "To correctly reason about the programs involving objects, we must somehow know their **history** and **order** of which expressions are evaluated."
   ]
  },
  {
   "cell_type": "markdown",
   "id": "f2d43f2b",
   "metadata": {},
   "source": [
    "There is another problem of object."
   ]
  },
  {
   "cell_type": "code",
   "execution_count": 131,
   "id": "c1c8ae09",
   "metadata": {},
   "outputs": [
    {
     "name": "stdout",
     "output_type": "stream",
     "text": [
      "2 11\n"
     ]
    }
   ],
   "source": [
    "x = 2\n",
    "y = 3\n",
    "y += 8\n",
    "print(x,y)"
   ]
  },
  {
   "cell_type": "markdown",
   "id": "68d4fd38",
   "metadata": {},
   "source": [
    "However, this is not true for object"
   ]
  },
  {
   "cell_type": "code",
   "execution_count": 132,
   "id": "499222dd",
   "metadata": {},
   "outputs": [],
   "source": [
    "sakuya_acc1 = Bank_Account('sakuya', 100)\n",
    "sakuya_acc2 = sakuya_acc1"
   ]
  },
  {
   "cell_type": "code",
   "execution_count": 133,
   "id": "fd585bb2",
   "metadata": {},
   "outputs": [],
   "source": [
    "sakuya_acc1.withdraw(20)"
   ]
  },
  {
   "cell_type": "code",
   "execution_count": 134,
   "id": "c5afc668",
   "metadata": {},
   "outputs": [
    {
     "data": {
      "text/plain": [
       "Bank_Account('sakuya', 80)"
      ]
     },
     "execution_count": 134,
     "metadata": {},
     "output_type": "execute_result"
    }
   ],
   "source": [
    "sakuya_acc2"
   ]
  },
  {
   "cell_type": "markdown",
   "id": "82520122",
   "metadata": {},
   "source": [
    "This is because the expression `sakuya_acc2 = sakuya_acc1` that `sakuya_acc2` is merely aliasing instead assigned a new value. In other word, `sakuya_acc1` and `sakuya_acc2` point to the same object. It can be expected that the expression below is evaluated to be true."
   ]
  },
  {
   "cell_type": "code",
   "execution_count": 135,
   "id": "f62b2e1d",
   "metadata": {},
   "outputs": [
    {
     "data": {
      "text/plain": [
       "True"
      ]
     },
     "execution_count": 135,
     "metadata": {},
     "output_type": "execute_result"
    }
   ],
   "source": [
    "sakuya_acc1 is sakuya_acc2"
   ]
  },
  {
   "cell_type": "markdown",
   "id": "3d79f796",
   "metadata": {},
   "source": [
    "Interestingly, the bank account representation that use `tuple` doesn't share this defect as long as you don't reassign. Hence, the tuple representation is not object in this sense. Indeed, `tuple` is immutable.\n",
    "\n",
    "However, `list` share the same defect because `list` is object too."
   ]
  },
  {
   "cell_type": "code",
   "execution_count": 136,
   "id": "ab5ddd96",
   "metadata": {},
   "outputs": [
    {
     "name": "stdout",
     "output_type": "stream",
     "text": [
      "[0, 1, 2]\n",
      "[[0, 1, 2], [0, 1, 2], [0, 1, 2]]\n"
     ]
    }
   ],
   "source": [
    "xs = list(range(3))\n",
    "ys = [xs,xs,xs]\n",
    "print(xs)\n",
    "print(ys)"
   ]
  },
  {
   "cell_type": "code",
   "execution_count": 137,
   "id": "a924bd98",
   "metadata": {},
   "outputs": [
    {
     "data": {
      "text/plain": [
       "[[0, 1, 2, 'bug', 'never gonna give you up'],\n",
       " [0, 1, 2, 'bug', 'never gonna give you up'],\n",
       " [0, 1, 2, 'bug', 'never gonna give you up']]"
      ]
     },
     "execution_count": 137,
     "metadata": {},
     "output_type": "execute_result"
    }
   ],
   "source": [
    "xs.extend([\"bug\", \"never gonna give you up\"])\n",
    "ys"
   ]
  },
  {
   "cell_type": "markdown",
   "id": "0d0fc771",
   "metadata": {},
   "source": [
    "Data structures with these ability is called **mutable**. Lack of this ability include `string` and `tuple`, they are called **immutable**.\n",
    "\n",
    "Python default arguments are evaluated once, hence if the default argument is mutable, then it can change over time causing confuing bugs.\n",
    "\n",
    "Tips: default arguments should be immutable data"
   ]
  },
  {
   "cell_type": "code",
   "execution_count": 138,
   "id": "a65357de",
   "metadata": {},
   "outputs": [
    {
     "data": {
      "text/plain": [
       "4563"
      ]
     },
     "execution_count": 138,
     "metadata": {},
     "output_type": "execute_result"
    }
   ],
   "source": [
    "DEFAULT_CURRENCY = [1,2,5,10,20,50,100,200]\n",
    "def count_change(amount, coins=DEFAULT_CURRENCY):\n",
    "    if amount == 0:\n",
    "        return 1\n",
    "    elif amount < 0:\n",
    "        return 0\n",
    "    elif coins == []:\n",
    "        return 0\n",
    "    else:\n",
    "        return count_change(amount, coins[1:]) + count_change(amount - coins[0], coins)\n",
    "count_change(100)"
   ]
  },
  {
   "cell_type": "code",
   "execution_count": 139,
   "id": "5ca88258",
   "metadata": {},
   "outputs": [
    {
     "data": {
      "text/plain": [
       "197"
      ]
     },
     "execution_count": 139,
     "metadata": {},
     "output_type": "execute_result"
    }
   ],
   "source": [
    "DEFAULT_CURRENCY.pop(0)\n",
    "count_change(100) "
   ]
  },
  {
   "cell_type": "markdown",
   "id": "4dc1fdfa",
   "metadata": {},
   "source": [
    "# Exercise\n",
    "\n",
    "1. `tuple` and `string` are immutable. For example,"
   ]
  },
  {
   "cell_type": "code",
   "execution_count": 140,
   "id": "5e3e00db",
   "metadata": {},
   "outputs": [
    {
     "ename": "TypeError",
     "evalue": "'tuple' object does not support item assignment",
     "output_type": "error",
     "traceback": [
      "\u001b[1;31m---------------------------------------------------------------------------\u001b[0m",
      "\u001b[1;31mTypeError\u001b[0m                                 Traceback (most recent call last)",
      "\u001b[1;32mC:\\Users\\LEONGT~1\\AppData\\Local\\Temp/ipykernel_12316/1809388532.py\u001b[0m in \u001b[0;36m<module>\u001b[1;34m\u001b[0m\n\u001b[0;32m      1\u001b[0m \u001b[0mt\u001b[0m \u001b[1;33m=\u001b[0m \u001b[0mtuple\u001b[0m\u001b[1;33m(\u001b[0m\u001b[0mrange\u001b[0m\u001b[1;33m(\u001b[0m\u001b[1;36m3\u001b[0m\u001b[1;33m)\u001b[0m\u001b[1;33m)\u001b[0m\u001b[1;33m\u001b[0m\u001b[1;33m\u001b[0m\u001b[0m\n\u001b[1;32m----> 2\u001b[1;33m \u001b[0mt\u001b[0m\u001b[1;33m[\u001b[0m\u001b[1;36m0\u001b[0m\u001b[1;33m]\u001b[0m \u001b[1;33m=\u001b[0m \u001b[0mt\u001b[0m\u001b[1;33m[\u001b[0m\u001b[1;36m0\u001b[0m\u001b[1;33m]\u001b[0m \u001b[1;33m+\u001b[0m \u001b[1;36m1\u001b[0m\u001b[1;33m\u001b[0m\u001b[1;33m\u001b[0m\u001b[0m\n\u001b[0m",
      "\u001b[1;31mTypeError\u001b[0m: 'tuple' object does not support item assignment"
     ]
    }
   ],
   "source": [
    "t = tuple(range(3))\n",
    "t[0] = t[0] + 1"
   ]
  },
  {
   "cell_type": "code",
   "execution_count": 142,
   "id": "a086df18",
   "metadata": {},
   "outputs": [
    {
     "ename": "TypeError",
     "evalue": "'str' object does not support item assignment",
     "output_type": "error",
     "traceback": [
      "\u001b[1;31m---------------------------------------------------------------------------\u001b[0m",
      "\u001b[1;31mTypeError\u001b[0m                                 Traceback (most recent call last)",
      "\u001b[1;32mC:\\Users\\LEONGT~1\\AppData\\Local\\Temp/ipykernel_12316/81821119.py\u001b[0m in \u001b[0;36m<module>\u001b[1;34m\u001b[0m\n\u001b[0;32m      1\u001b[0m \u001b[0mhakurei\u001b[0m \u001b[1;33m=\u001b[0m \u001b[1;34m\"hakurei\"\u001b[0m\u001b[1;33m\u001b[0m\u001b[1;33m\u001b[0m\u001b[0m\n\u001b[1;32m----> 2\u001b[1;33m \u001b[0mhakurei\u001b[0m\u001b[1;33m[\u001b[0m\u001b[1;36m0\u001b[0m\u001b[1;33m]\u001b[0m \u001b[1;33m=\u001b[0m \u001b[1;34m\"H\"\u001b[0m\u001b[1;33m\u001b[0m\u001b[1;33m\u001b[0m\u001b[0m\n\u001b[0m",
      "\u001b[1;31mTypeError\u001b[0m: 'str' object does not support item assignment"
     ]
    }
   ],
   "source": [
    "hakurei = \"hakurei\"\n",
    "hakurei[0] = \"H\""
   ]
  },
  {
   "cell_type": "markdown",
   "id": "88999d42",
   "metadata": {},
   "source": [
    "This is known as **immutablity**. Since `tuple` is immutable, fix the `count_change` in previously shown."
   ]
  },
  {
   "cell_type": "code",
   "execution_count": 143,
   "id": "fe889654",
   "metadata": {
    "scrolled": true
   },
   "outputs": [
    {
     "data": {
      "text/plain": [
       "4563"
      ]
     },
     "execution_count": 143,
     "metadata": {},
     "output_type": "execute_result"
    }
   ],
   "source": [
    "DEFAULT_CURRENCY = [1,2,5,10,20,50,100,200]\n",
    "def count_change(amount, coins=DEFAULT_CURRENCY):\n",
    "    if amount == 0:\n",
    "        return 1\n",
    "    elif amount < 0:\n",
    "        return 0\n",
    "    elif coins == []:\n",
    "        return 0\n",
    "    else:\n",
    "        return count_change(amount, coins[1:]) + count_change(amount - coins[0], coins)\n",
    "count_change(100)"
   ]
  },
  {
   "cell_type": "markdown",
   "id": "3bd9ab44",
   "metadata": {},
   "source": [
    "2. We expected that arguments are usually local to the function for example"
   ]
  },
  {
   "cell_type": "code",
   "execution_count": 144,
   "id": "a569a241",
   "metadata": {},
   "outputs": [
    {
     "name": "stdout",
     "output_type": "stream",
     "text": [
      "We Expected That Arguments Are Usually Local To The Function For Example\n",
      "We expected that arguments are usually local to the function for example\n"
     ]
    }
   ],
   "source": [
    "def capitalize_words(msg):\n",
    "    msg = msg.split()\n",
    "    msg = map(lambda s:s.capitalize(), msg)\n",
    "    msg = \" \".join(msg)\n",
    "    return msg\n",
    "msg = \"We expected that arguments are usually local to the function for example\"\n",
    "print(capitalize_words(msg))\n",
    "print(msg)"
   ]
  },
  {
   "cell_type": "code",
   "execution_count": 145,
   "id": "7447453d",
   "metadata": {},
   "outputs": [
    {
     "data": {
      "text/plain": [
       "[1, 4, 9]"
      ]
     },
     "execution_count": 145,
     "metadata": {},
     "output_type": "execute_result"
    }
   ],
   "source": [
    "def sqr_list(li):\n",
    "    for i, itm in enumerate(li):\n",
    "        li[i] = li[i]*li[i]\n",
    "    return li\n",
    "xs = list(range(1,4))\n",
    "ys = sqr_list(xs)\n",
    "xs"
   ]
  },
  {
   "cell_type": "markdown",
   "id": "e3bba0c2",
   "metadata": {},
   "source": [
    "However, this is not true to mutable data as in the example above. We might expect that argument `xs` should not change but it changes. Try to come out similiar bug using `dict`."
   ]
  },
  {
   "cell_type": "markdown",
   "id": "999da88e",
   "metadata": {},
   "source": [
    "3. Consider a game object which has name, health, decrease health if hit, increase healht if heal and die if reach zero health. Complete the code below, and demonstrate how to use it."
   ]
  },
  {
   "cell_type": "code",
   "execution_count": 146,
   "id": "84a88c5b",
   "metadata": {},
   "outputs": [],
   "source": [
    "class NPC:\n",
    "    def __init__(self):\n",
    "        pass\n",
    "    def heal(self):\n",
    "        pass\n",
    "    def hit(self):\n",
    "        pass\n",
    "    def is_dead(self):\n",
    "        pass"
   ]
  }
 ],
 "metadata": {
  "kernelspec": {
   "display_name": "Python 3.10.2 64-bit",
   "language": "python",
   "name": "python3"
  },
  "language_info": {
   "codemirror_mode": {
    "name": "ipython",
    "version": 3
   },
   "file_extension": ".py",
   "mimetype": "text/x-python",
   "name": "python",
   "nbconvert_exporter": "python",
   "pygments_lexer": "ipython3",
   "version": "3.10.2"
  },
  "vscode": {
   "interpreter": {
    "hash": "2324a66782fee6ab9f0bdb3c9e79ee636ed86487484f245c4444858429ce7730"
   }
  }
 },
 "nbformat": 4,
 "nbformat_minor": 5
}
