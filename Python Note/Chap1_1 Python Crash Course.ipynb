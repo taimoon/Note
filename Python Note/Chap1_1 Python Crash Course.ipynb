{
 "cells": [
  {
   "cell_type": "markdown",
   "id": "45869822",
   "metadata": {},
   "source": [
    "# Programming in General\n",
    "\n",
    "Every programming languages always abstract the computation through many means such as\n",
    "\n",
    "\n",
    "1. Machine Languages - instructions set over computation operation of ALU\n",
    "2. Assembly - correspondence between mnemonics of instruction sets and machine operation code\n",
    "3. Virtual Machine - idealized machine comes with instruction sets\n",
    "4. High Level Languages - Functions, Types, Variables, Flow Control, ...\n",
    "\n",
    "The essence here is that any programming language always provide some form of **abstractions** over some form.\n",
    "\n",
    "The common useful means of abstraction are (ie.: common concepts among high level languages):\n",
    "1. Functions\n",
    "2. Variables, Naming\n",
    "3. Repetition, Looping\n",
    "4. Conditional Branching\n",
    "5. Primitive Entities (primitive operators, primitive data structures, ...)\n",
    "6. User-defined data type\n",
    "7. Comments, Documentations\n",
    "8. Modules, Libraries\n",
    "\n",
    "Above listing which we will use Python to review each concept."
   ]
  },
  {
   "cell_type": "markdown",
   "id": "f76e3548",
   "metadata": {},
   "source": [
    "# Primitives\n",
    "We may use Python interaction session (REPL) as calculator. Python supports various primitives such as expression evalution, common mathematical operations, string type, boolean operations and etc."
   ]
  },
  {
   "cell_type": "code",
   "execution_count": 1,
   "id": "84840032",
   "metadata": {},
   "outputs": [
    {
     "data": {
      "text/plain": [
       "4"
      ]
     },
     "execution_count": 1,
     "metadata": {},
     "output_type": "execute_result"
    }
   ],
   "source": [
    "# single line comment starts with hashtag\n",
    "# % is called modulus operator which return the remainder\n",
    "123 % 7"
   ]
  },
  {
   "cell_type": "code",
   "execution_count": 2,
   "id": "ea67851e",
   "metadata": {},
   "outputs": [
    {
     "data": {
      "text/plain": [
       "17"
      ]
     },
     "execution_count": 2,
     "metadata": {},
     "output_type": "execute_result"
    }
   ],
   "source": [
    "123 // 7 # // is division but return quotient"
   ]
  },
  {
   "cell_type": "code",
   "execution_count": 3,
   "id": "3a60edb2",
   "metadata": {},
   "outputs": [
    {
     "data": {
      "text/plain": [
       "123"
      ]
     },
     "execution_count": 3,
     "metadata": {},
     "output_type": "execute_result"
    }
   ],
   "source": [
    "17 * 7 + 4 # (17*7) + 4"
   ]
  },
  {
   "cell_type": "code",
   "execution_count": 4,
   "id": "218f5120",
   "metadata": {},
   "outputs": [
    {
     "data": {
      "text/plain": [
       "True"
      ]
     },
     "execution_count": 4,
     "metadata": {},
     "output_type": "execute_result"
    }
   ],
   "source": [
    "# In Python, = is assignment while == is equality.\n",
    "(123 % 7 + 123 // 7 * 7) == 123"
   ]
  },
  {
   "cell_type": "code",
   "execution_count": 5,
   "id": "dbbc8392",
   "metadata": {},
   "outputs": [
    {
     "data": {
      "text/plain": [
       "2.5"
      ]
     },
     "execution_count": 5,
     "metadata": {},
     "output_type": "execute_result"
    }
   ],
   "source": [
    "5/2 # / is division that return float number"
   ]
  },
  {
   "cell_type": "code",
   "execution_count": 6,
   "id": "e5ed08cd",
   "metadata": {
    "scrolled": true
   },
   "outputs": [
    {
     "data": {
      "text/plain": [
       "169"
      ]
     },
     "execution_count": 6,
     "metadata": {},
     "output_type": "execute_result"
    }
   ],
   "source": [
    "# ** is exponentiation\n",
    "5**2 + 12**2 # same as (5**2) + (12**2)"
   ]
  },
  {
   "cell_type": "code",
   "execution_count": 7,
   "id": "5bed46d0",
   "metadata": {},
   "outputs": [
    {
     "data": {
      "text/plain": [
       "True"
      ]
     },
     "execution_count": 7,
     "metadata": {},
     "output_type": "execute_result"
    }
   ],
   "source": [
    "5 * 5 + 12 * 12 == 13 * 13 "
   ]
  },
  {
   "cell_type": "code",
   "execution_count": 8,
   "id": "c8678314",
   "metadata": {},
   "outputs": [
    {
     "data": {
      "text/plain": [
       "'(5, 12, 13) is a Pythagorean triplet'"
      ]
     },
     "execution_count": 8,
     "metadata": {},
     "output_type": "execute_result"
    }
   ],
   "source": [
    "'(5, 12, 13) is a ' + \"Pythagorean triplet\" # string concatenation"
   ]
  },
  {
   "cell_type": "code",
   "execution_count": 1,
   "id": "510f608a",
   "metadata": {},
   "outputs": [
    {
     "data": {
      "text/plain": [
       "'(5, 12, 13) is a Pythagorean triplet'"
      ]
     },
     "execution_count": 1,
     "metadata": {},
     "output_type": "execute_result"
    }
   ],
   "source": [
    "f\"{(5,12,13)} is a Pythagorean triplet\" # using f-strings"
   ]
  },
  {
   "cell_type": "markdown",
   "id": "d7598ab7",
   "metadata": {},
   "source": [
    "Tips: If in doubt, just put parentheses to the expression. No need to memorise the exact operator precedence.\n",
    "\n",
    "[List of Operators supported in Python](https://docs.python.org/3/library/operator.html#mapping-operators-to-functions)"
   ]
  },
  {
   "cell_type": "markdown",
   "id": "2a7c4dbd",
   "metadata": {},
   "source": [
    "## Exercise: Using Python as Calculator\n",
    "If you evenly distribute RM 1537  among you and other 4, then how much each person get"
   ]
  },
  {
   "cell_type": "code",
   "execution_count": 9,
   "id": "81d4b646",
   "metadata": {},
   "outputs": [
    {
     "data": {
      "text/plain": [
       "307.4"
      ]
     },
     "execution_count": 9,
     "metadata": {},
     "output_type": "execute_result"
    }
   ],
   "source": [
    "# if you evenly distributing RM 1537  among you and other 4, then how much each person get\n",
    "1537 / 5"
   ]
  },
  {
   "cell_type": "code",
   "execution_count": 10,
   "id": "5d634e7c",
   "metadata": {},
   "outputs": [],
   "source": [
    "# How much you get if you're not going to give shilling?\n",
    "# Tip: use modulus operator %"
   ]
  },
  {
   "cell_type": "code",
   "execution_count": 11,
   "id": "ae0d3ace",
   "metadata": {},
   "outputs": [],
   "source": [
    "# Validate that 2022 is divisible by 337\n",
    "# put your code here"
   ]
  },
  {
   "cell_type": "code",
   "execution_count": 12,
   "id": "4e6fc172",
   "metadata": {},
   "outputs": [],
   "source": [
    "# Exercise: write any 5 expressions"
   ]
  },
  {
   "cell_type": "markdown",
   "id": "c286e705",
   "metadata": {},
   "source": [
    "# Variable, Assignment"
   ]
  },
  {
   "cell_type": "code",
   "execution_count": 1,
   "id": "60dbe9c0",
   "metadata": {},
   "outputs": [
    {
     "data": {
      "text/plain": [
       "18.84955592153876"
      ]
     },
     "execution_count": 1,
     "metadata": {},
     "output_type": "execute_result"
    }
   ],
   "source": [
    "from math import pi # example of using Python library\n",
    "radius = 3.0\n",
    "circumferences = 2 * pi * radius\n",
    "circumferences"
   ]
  },
  {
   "cell_type": "code",
   "execution_count": 14,
   "id": "7d8bdda6",
   "metadata": {},
   "outputs": [
    {
     "data": {
      "text/plain": [
       "18.84955592153876"
      ]
     },
     "execution_count": 14,
     "metadata": {},
     "output_type": "execute_result"
    }
   ],
   "source": [
    "6.283185307179586 * 3"
   ]
  },
  {
   "cell_type": "markdown",
   "id": "9c7ecf6d",
   "metadata": {},
   "source": [
    "Comparing these two codes above, we can see the intention of the first code, while the second is obscure.\n",
    "\n",
    "Indeed, naming/declaring can make the intentions clearer where to a educated person can guess the first program trying to calculate circumference. The latter code is not clear that `6.283...` is refering to the tau constant while figuring whether `3` is the raidus.\n",
    "\n",
    "Declaring variable is the simplest form of abstraction."
   ]
  },
  {
   "cell_type": "code",
   "execution_count": 3,
   "id": "bfea845e",
   "metadata": {},
   "outputs": [
    {
     "name": "stdout",
     "output_type": "stream",
     "text": [
      "13 days 18 hours\n"
     ]
    }
   ],
   "source": [
    "'''\n",
    "Multiline comment enclosed with triple quote\n",
    "Example Program that convert 330 hours to days, and remaining hours, print it\n",
    "Use //, %, variables\n",
    "'''\n",
    "hours = 330 # this declares a variable\n",
    "hour_per_day = 24\n",
    "days = hours // hour_per_day\n",
    "hours = hours % hour_per_day\n",
    "print(f\"{days} days {hours} hours\")"
   ]
  },
  {
   "cell_type": "markdown",
   "id": "a559168b",
   "metadata": {},
   "source": [
    "It is not intuitive what does this expression `hours = hours % hour_per_day` did. It is first evaluate the expression after `=` first, then the result is put back to the `hours`. We see that `hours` is initially assigned to `330` but later reassigned to `18`. The `hours` has changed its value during program running, hence the name 'variable'. Another example use of reassignment can be found in Repetition topic."
   ]
  },
  {
   "cell_type": "markdown",
   "id": "760d5cba",
   "metadata": {},
   "source": [
    "## Exercise"
   ]
  },
  {
   "cell_type": "markdown",
   "id": "f6c8ea79",
   "metadata": {},
   "source": [
    "$ (a,b,c) $ is a Pythagorean triplet iff. $ a,b,c $ are integers and solutions to $ a^2 + b^2 = c^2 $. Then verify that $ (9, 40, 41) $ is a Pythagorean Triple"
   ]
  },
  {
   "cell_type": "code",
   "execution_count": null,
   "id": "41f98513",
   "metadata": {},
   "outputs": [],
   "source": []
  },
  {
   "cell_type": "markdown",
   "id": "69be1739",
   "metadata": {},
   "source": [
    "Refactor the code from Example: Using Python as Calculator where\n",
    "\n",
    "if you evenly distributing RM 1537  among you and other 4, then how much each person get. Note that you're not going to give shilling."
   ]
  },
  {
   "cell_type": "code",
   "execution_count": null,
   "id": "1acc32d3",
   "metadata": {},
   "outputs": [],
   "source": []
  },
  {
   "cell_type": "markdown",
   "id": "dc209573",
   "metadata": {},
   "source": [
    "# Data Types"
   ]
  },
  {
   "cell_type": "markdown",
   "id": "d360cdaa",
   "metadata": {},
   "source": [
    "A data type define its members' correct behaviour and applicable methods."
   ]
  },
  {
   "cell_type": "markdown",
   "id": "bbfd225a",
   "metadata": {},
   "source": [
    "## Example: `bool` type in Python "
   ]
  },
  {
   "cell_type": "code",
   "execution_count": 16,
   "id": "a2674fba",
   "metadata": {},
   "outputs": [
    {
     "name": "stdout",
     "output_type": "stream",
     "text": [
      "True\n",
      "False\n",
      "False\n",
      "False\n",
      "True\n",
      "False\n"
     ]
    }
   ],
   "source": [
    "# Boolean Type\n",
    "print(True and True)\n",
    "print(False and True)\n",
    "print(True and False)\n",
    "print(False and False)\n",
    "print(not False)\n",
    "print(not True)"
   ]
  },
  {
   "cell_type": "code",
   "execution_count": 17,
   "id": "6662d73d",
   "metadata": {},
   "outputs": [],
   "source": [
    "# Try the or operator as above"
   ]
  },
  {
   "cell_type": "markdown",
   "id": "4a9d625e",
   "metadata": {},
   "source": [
    "`<p1> and <p2> and ...`\n",
    "\n",
    "It evaluates to `True` if all `p`'s are evaluated to `True`.\n",
    "If one of the `p` is `False`, then the whole expression is `False`\n",
    "\n",
    "`<p1> or <p2> or ...`\n",
    "\n",
    "It evaluates to `False` if all `p`'s are evaluated to `False`.\n",
    "If one of the `p` is `True`, then the whole expression is `True`"
   ]
  },
  {
   "cell_type": "markdown",
   "id": "a9daf206",
   "metadata": {},
   "source": [
    "## Example: `String` type and receiving user input"
   ]
  },
  {
   "cell_type": "markdown",
   "id": "7957650e",
   "metadata": {},
   "source": [
    "`input(prompt)`\n",
    "\n",
    "prompt will be printed on screen\n",
    "`input` wait user input something. `input` read the input until newline is detected."
   ]
  },
  {
   "cell_type": "code",
   "execution_count": 18,
   "id": "17643c2e",
   "metadata": {},
   "outputs": [
    {
     "name": "stdout",
     "output_type": "stream",
     "text": [
      "Hello Teng Man\n"
     ]
    }
   ],
   "source": [
    "name = input(\"Who are you?\\n\")\n",
    "print(\"Hello \" + name)"
   ]
  },
  {
   "cell_type": "markdown",
   "id": "10f68ebb",
   "metadata": {},
   "source": [
    "##  How is data type important?"
   ]
  },
  {
   "cell_type": "markdown",
   "id": "076faed1",
   "metadata": {},
   "source": [
    "Below is an `TypeError` example."
   ]
  },
  {
   "cell_type": "code",
   "execution_count": 20,
   "id": "3e0d26b1",
   "metadata": {},
   "outputs": [
    {
     "ename": "TypeError",
     "evalue": "unsupported operand type(s) for +: 'int' and 'str'",
     "output_type": "error",
     "traceback": [
      "\u001b[1;31m---------------------------------------------------------------------------\u001b[0m",
      "\u001b[1;31mTypeError\u001b[0m                                 Traceback (most recent call last)",
      "\u001b[1;32mC:\\Users\\LEONGT~1\\AppData\\Local\\Temp/ipykernel_13980/3862296087.py\u001b[0m in \u001b[0;36m<module>\u001b[1;34m\u001b[0m\n\u001b[1;32m----> 1\u001b[1;33m \u001b[1;36m5\u001b[0m \u001b[1;33m+\u001b[0m \u001b[1;34m' is a prime number'\u001b[0m\u001b[1;33m\u001b[0m\u001b[1;33m\u001b[0m\u001b[0m\n\u001b[0m",
      "\u001b[1;31mTypeError\u001b[0m: unsupported operand type(s) for +: 'int' and 'str'"
     ]
    }
   ],
   "source": [
    "5 + ' is a prime number'"
   ]
  },
  {
   "cell_type": "code",
   "execution_count": 21,
   "id": "b04f4196",
   "metadata": {},
   "outputs": [
    {
     "data": {
      "text/plain": [
       "'5 is a prime number'"
      ]
     },
     "execution_count": 21,
     "metadata": {},
     "output_type": "execute_result"
    }
   ],
   "source": [
    "# Fixed version\n",
    "str(5) + ' is a prime number'"
   ]
  },
  {
   "cell_type": "markdown",
   "id": "010973b2",
   "metadata": {},
   "source": [
    "It is possible for a interpreter smart enough to correctly evaluate `5 + ' is a prime number'`. It is known as coercion but implicit. `str(5)` is a explicit conversion from int to string. Implicit coercion can confuse programmers. Hence some languages limit such coercion. Here is an example from Javascript that it is not clear at first sight why it evaluated as `'banana'`:\n",
    "\n",
    "```\n",
    "// you press the key f12 on Google Broswer\n",
    "// it will pop out another window, \n",
    "// click the console tab, it is the REPL of Javascript\n",
    "('b' + 'a' + + 'a' + 'a').toLowerCase() // 'banana'\n",
    "```"
   ]
  },
  {
   "cell_type": "markdown",
   "id": "16d1e6a7",
   "metadata": {},
   "source": [
    "## Truthy Value\n",
    "It is not always intuitive how the codes involving mix-types below should behave in Python"
   ]
  },
  {
   "cell_type": "code",
   "execution_count": 22,
   "id": "20d0918d",
   "metadata": {},
   "outputs": [
    {
     "data": {
      "text/plain": [
       "False"
      ]
     },
     "execution_count": 22,
     "metadata": {},
     "output_type": "execute_result"
    }
   ],
   "source": [
    "'String' and False"
   ]
  },
  {
   "cell_type": "code",
   "execution_count": 23,
   "id": "0fcbd864",
   "metadata": {},
   "outputs": [
    {
     "data": {
      "text/plain": [
       "'String'"
      ]
     },
     "execution_count": 23,
     "metadata": {},
     "output_type": "execute_result"
    }
   ],
   "source": [
    "6 and 'String'"
   ]
  },
  {
   "cell_type": "code",
   "execution_count": 24,
   "id": "7c0b6a5b",
   "metadata": {},
   "outputs": [
    {
     "data": {
      "text/plain": [
       "2"
      ]
     },
     "execution_count": 24,
     "metadata": {},
     "output_type": "execute_result"
    }
   ],
   "source": [
    "True  + 1"
   ]
  },
  {
   "cell_type": "code",
   "execution_count": 26,
   "id": "d0cbfc25",
   "metadata": {},
   "outputs": [
    {
     "ename": "TypeError",
     "evalue": "unsupported operand type(s) for +: 'bool' and 'str'",
     "output_type": "error",
     "traceback": [
      "\u001b[1;31m---------------------------------------------------------------------------\u001b[0m",
      "\u001b[1;31mTypeError\u001b[0m                                 Traceback (most recent call last)",
      "\u001b[1;32mC:\\Users\\LEONGT~1\\AppData\\Local\\Temp/ipykernel_13980/3971911971.py\u001b[0m in \u001b[0;36m<module>\u001b[1;34m\u001b[0m\n\u001b[1;32m----> 1\u001b[1;33m \u001b[1;32mFalse\u001b[0m \u001b[1;33m+\u001b[0m \u001b[1;34m'True'\u001b[0m\u001b[1;33m\u001b[0m\u001b[1;33m\u001b[0m\u001b[0m\n\u001b[0m",
      "\u001b[1;31mTypeError\u001b[0m: unsupported operand type(s) for +: 'bool' and 'str'"
     ]
    }
   ],
   "source": [
    "False + 'True'"
   ]
  },
  {
   "cell_type": "markdown",
   "id": "913ed42b",
   "metadata": {},
   "source": [
    "Tips: It is totally okay to avoid use these behaviours unless you and others are comfortable with it. These behaviours are convenience for expert but not for beginner. If in doubt, serach online or read the Python official documentation and try various expressions using the REPL."
   ]
  },
  {
   "cell_type": "markdown",
   "id": "a6cd202e",
   "metadata": {},
   "source": [
    "## Real Number Representation using Float Number"
   ]
  },
  {
   "cell_type": "code",
   "execution_count": 27,
   "id": "28d4986d",
   "metadata": {},
   "outputs": [
    {
     "data": {
      "text/plain": [
       "False"
      ]
     },
     "execution_count": 27,
     "metadata": {},
     "output_type": "execute_result"
    }
   ],
   "source": [
    "0.1 + 0.2 == 0.3"
   ]
  },
  {
   "cell_type": "markdown",
   "id": "b64440c7",
   "metadata": {},
   "source": [
    "Mathematically, it is too resonable to expect `0.1 + 0.2 == 0.3` should return `True` but it does not work as expected on computer. This is due to the computer representation real number using floating point number rather than fixed point number. \n",
    "\n",
    "Typing is also an abstraction but it still require additional knowledges and cares to make an effective use.\n",
    "\n",
    "The choice of data representation is always a trade-off of something over something. \n",
    "\n",
    "Floating point is a trade off of space, speed over accuracy. To an expert programmer, he able to visualize how the programs behave, what are the trade off implied by the programs."
   ]
  },
  {
   "cell_type": "markdown",
   "id": "b14a421e",
   "metadata": {},
   "source": [
    "## When Data Type is important?\n",
    "\n",
    "[Ariane 5 Rocket Failure](https://www-users.cse.umn.edu/~arnold/disasters/ariane.html)\n",
    "\n",
    "[Fast Inverse Square Root — A Quake III Algorithm](https://youtu.be/p8u_k2LIZyo)\n",
    "\n",
    "The first one is a failure due to misuse of data type. And this mistake costs a lot. This showns lack of understanding of data type can lead to a costly mistake.\n",
    "\n",
    "The second one is an interesting but good use of data type. \n",
    "It should be noted that the time of the algorithm is the time of where\n",
    "computing resource is very sacred and expensive.\n",
    "There is a built-in `sqrt` in modern cpu but it is not fast enough.\n",
    "The fast algorithm is a trade off of speed over accuracy.\n",
    "\n",
    "The degree of importance of understanding data type is varied depending\n",
    "what you want work with. Remember, every program offer different trade off.\n",
    "Some might think that a programming language should provide single unified number type\n",
    "so that it is easier.\n",
    "Some might prefer finer control by using different size of data type such as `int`, `float`, `double` and `unsigned`.\n",
    "\n",
    "From the case `0.1 + 0.2 != 0.3`, \n",
    "readers can infer that bank system cannot use `float` data type to represent money balance.\n",
    "Bank system uses fixed point number to represent money."
   ]
  },
  {
   "cell_type": "markdown",
   "id": "2b061cfc",
   "metadata": {},
   "source": [
    "# Defining Function\n",
    "Defining Function syntax in Python is as follow:\n",
    "```\n",
    "def <name>(<parameter>*)：\n",
    "    <code>*\n",
    "```\n",
    "\n",
    "Function name also follow the same rule in variable naming\n",
    "\n",
    "**Every functions in Python always return something; default is `None`**\n",
    "\n",
    "Parameters can be empty (ie.: function with no parameter)\n",
    "\n",
    "Calling Function syntax\n",
    "\n",
    "```\n",
    "<function_name>(<argument>*)\n",
    "```\n",
    "\n",
    "Footnote: Parameters are the names defined in function header while arguments are the values passed to the functions."
   ]
  },
  {
   "cell_type": "code",
   "execution_count": 28,
   "id": "f3f9f542",
   "metadata": {},
   "outputs": [
    {
     "data": {
      "text/plain": [
       "25"
      ]
     },
     "execution_count": 28,
     "metadata": {},
     "output_type": "execute_result"
    }
   ],
   "source": [
    "# define a function\n",
    "def square(x):\n",
    "    return x*x\n",
    "    # identation is used in Python to indicate the block structures\n",
    "# to call the function, write the function name, and write the arguments\n",
    "square(5)"
   ]
  },
  {
   "cell_type": "code",
   "execution_count": 29,
   "id": "8a73e8bb",
   "metadata": {},
   "outputs": [
    {
     "data": {
      "text/plain": [
       "25"
      ]
     },
     "execution_count": 29,
     "metadata": {},
     "output_type": "execute_result"
    }
   ],
   "source": [
    "# we can use function inside of a function body\n",
    "def sum_of_square(x,y):\n",
    "    return square(x) + square(y)\n",
    "sum_of_square(3,4)"
   ]
  },
  {
   "cell_type": "markdown",
   "id": "b1222d78",
   "metadata": {},
   "source": [
    "To reason how `sum_of_square(3,4)` is evaluated, we may use substitution rule. This is not exact description of how Python evaluate but the rule still correctly predict the behaviour in most cases.\n",
    "\n",
    "The rule is simple: evaluate the function body with each formal parameter replaced by the corresponding argument\n",
    "\n",
    "For example,\n",
    "```\n",
    "sum_of_square(3,4)\n",
    "square(3) + square(4)\n",
    "3*3 + 4*4\n",
    "25\n",
    "```"
   ]
  },
  {
   "cell_type": "code",
   "execution_count": 30,
   "id": "369785d0",
   "metadata": {},
   "outputs": [
    {
     "data": {
      "text/plain": [
       "0.8932372435231659"
      ]
     },
     "execution_count": 30,
     "metadata": {},
     "output_type": "execute_result"
    }
   ],
   "source": [
    "from random import random\n",
    "random() # example of function with no parameter"
   ]
  },
  {
   "cell_type": "markdown",
   "id": "f1e0607c",
   "metadata": {},
   "source": [
    "# Compound Expression and Evaluation Model\n",
    "Evaluation model is not meant to be exact in describing how the program is executed. The model is to allow us reason about how a program is executed. The model is often simple and incomplete but not trivial.\n",
    "\n",
    "1. Applicative (aka. Eager) vs. Normal (aka. Lazy)\n",
    "2. Substitution (easier but incomplete)\n",
    "3. Environment (more exact but complex) "
   ]
  },
  {
   "cell_type": "code",
   "execution_count": 31,
   "id": "3ca29a5b",
   "metadata": {},
   "outputs": [
    {
     "data": {
      "text/plain": [
       "29.0"
      ]
     },
     "execution_count": 31,
     "metadata": {},
     "output_type": "execute_result"
    }
   ],
   "source": [
    "from math import sqrt\n",
    "from operator import add\n",
    "def square(x):\n",
    "    return x*x\n",
    "def sum_of_square(x, y):\n",
    "    return add(square(x),square(y))\n",
    "def euclidean_distance(x, y):\n",
    "    return sqrt(sum_of_square(x,y))\n",
    "def f(x):\n",
    "    return x+1\n",
    "euclidean_distance(f(19), f(20))"
   ]
  },
  {
   "cell_type": "markdown",
   "id": "f9624058",
   "metadata": {},
   "source": [
    "How can `euclidean_distance(f(19), f(20))` is evaluated?\n",
    "\n",
    "Applicative Rule states that:\n",
    "1. Evaluate each argument\n",
    "2. Evaluate the function body with each formal parameter replaced by the corresponding argument\n",
    "\n",
    "Hence,\n",
    "\n",
    "```\n",
    "euclidean_distance(f(19), f(20))\n",
    "euclidean_distance(19+1,20+1)\n",
    "euclidean_distance(20,21)\n",
    "sqrt(sum_of_square(20,21))\n",
    "sqrt(add(square(20), square(21)))\n",
    "sqrt(add(20*20, 21*21))\n",
    "sqrt(add(400, 441))\n",
    "sqrt(841)\n",
    "29.0\n",
    "```"
   ]
  },
  {
   "cell_type": "markdown",
   "id": "88cee4b3",
   "metadata": {},
   "source": [
    "Normal Rule states that:\n",
    "1. Evaluate the arguments only as needed otherwise pass them\n",
    "2. Evaluate the function body with each formal parameter replaced by the corresponding argument\n",
    "\n",
    "Hence,\n",
    "```\n",
    "euclidean_distance(f(19), f(20))\n",
    "sqrt(sum_of_square(f(19),f(20)))\n",
    "sqrt(add(square(f(19)), \n",
    "         square(f(20)))\n",
    "sqrt(add(f(19)*f(19), f(20)*f(20)))\n",
    "sqrt(add((19+1)*(19+1), (20+1)*(20+1)))\n",
    "# now reduce it\n",
    "sqrt(add(20*20,21*21))\n",
    "sqrt(add(400,441))\n",
    "sqrt(841)\n",
    "29.0\n",
    "```"
   ]
  },
  {
   "cell_type": "markdown",
   "id": "44725bf0",
   "metadata": {},
   "source": [
    "We see that in applicative order, the expression does not expand as much as in normal order since it eagerly evaluates the expression . We also see that in normal order, there are expressions are evaluated multiple times in normal order such as `(19+1)*(19+1)`. It is not true to conclude that applicative is more efficient than normal order.\n",
    "\n",
    "In Python, the expressions involving `or` and `and`, their operands are lazily evaluated. It is called *short-circuited*\n",
    "\n",
    "Consider two examples,\n",
    "```\n",
    "(130%2 == 0) or (130%3 == 0) or (130%5 == 0) \n",
    "```\n",
    "If any one of these subexpressions is evaluated as `True`, then we can conclude the whole expression is `True` regardless of others.\n",
    "However, if we follow applicative order, then we must evaluate each subexpressions `(130%2 == 0)`, `(130%3 == 0)` and `(130%5 == 0)` before reaching the conclusion. In normal order, when we know the subexpression `(130%2) == 0` is `True`, we can conclude it is `True`.\n",
    "\n",
    "Readers may use similar reason that below code is more efficient in normal order.\n",
    "```\n",
    "(0.1 + 0.2 == 0.3) and (130%10 == 0) and (130%5 == 0)\n",
    "```\n",
    "\n",
    "Besides the efficiency, it is true that both expressions yield same result regardless of the evaluation strategies used (Why?). By the way, Python adopts applicative order in most cases unless stated in official documentation like example above. However, there exists expressions (example is in Exercise at back) where different strategies yield different result."
   ]
  },
  {
   "cell_type": "markdown",
   "id": "97cf880b",
   "metadata": {},
   "source": [
    "# Conditionals\n",
    "\n",
    "Conditionals syntax in Python is as below:\n",
    "```\n",
    "if <expression>:\n",
    "    <code>\n",
    "elif <expression>:\n",
    "    <code>\n",
    "else：\n",
    "    <code>\n",
    "```\n",
    "\n",
    "The `elif` and `else` are optional.\n",
    "\n",
    "If current branch `<expression>` is evaluated to be `True`, then the indented codes beneath the `<expression>`, will be executed. Otherwise, go to next `elif` branch  repeat previous process if there is any `elif` remains. If there is an `else` branch and while all `if` and `elif` branches are false, the code in `else` will be executed.\n",
    "\n",
    "Or else, the conditional block is skipped."
   ]
  },
  {
   "cell_type": "code",
   "execution_count": 32,
   "id": "890b814f",
   "metadata": {},
   "outputs": [
    {
     "data": {
      "text/plain": [
       "10"
      ]
     },
     "execution_count": 32,
     "metadata": {},
     "output_type": "execute_result"
    }
   ],
   "source": [
    "def abs1(x):\n",
    "    '''\n",
    "    return non-negative value\n",
    "    '''\n",
    "    if x < 0:\n",
    "        return -x\n",
    "    else:\n",
    "        return x\n",
    "\n",
    "abs1(-10)"
   ]
  },
  {
   "cell_type": "code",
   "execution_count": 33,
   "id": "83e04fdc",
   "metadata": {},
   "outputs": [
    {
     "data": {
      "text/plain": [
       "10"
      ]
     },
     "execution_count": 33,
     "metadata": {},
     "output_type": "execute_result"
    }
   ],
   "source": [
    "def abs2(x):\n",
    "    if x < 0:\n",
    "        return -x\n",
    "    elif x == 0:\n",
    "        return 0\n",
    "    else:\n",
    "        return x\n",
    "abs2(-10)"
   ]
  },
  {
   "cell_type": "code",
   "execution_count": 34,
   "id": "b1220851",
   "metadata": {},
   "outputs": [
    {
     "data": {
      "text/plain": [
       "10"
      ]
     },
     "execution_count": 34,
     "metadata": {},
     "output_type": "execute_result"
    }
   ],
   "source": [
    "def abs3(x):\n",
    "    return -x if x < 0 else x # one line if-else conditional\n",
    "abs3(-10)"
   ]
  },
  {
   "cell_type": "markdown",
   "id": "0f60add9",
   "metadata": {},
   "source": [
    "# Repetition\n",
    "\n",
    "In Python, we can loop our program using either `while` or `for`. \n",
    "\n",
    "```\n",
    "while <expression>:\n",
    "    <code>\n",
    "```\n",
    "If the `<expression>` is evaluated to be `True`, then the `<code>` is executed, and repeated until `<expression>` is `False`."
   ]
  },
  {
   "cell_type": "code",
   "execution_count": 35,
   "id": "d74e38c3",
   "metadata": {},
   "outputs": [
    {
     "name": "stdout",
     "output_type": "stream",
     "text": [
      "0\n",
      "1\n",
      "2\n",
      "3\n",
      "4\n",
      "5\n"
     ]
    }
   ],
   "source": [
    "i = 0\n",
    "while i <= 5:\n",
    "    print(i)\n",
    "    i = i + 1"
   ]
  },
  {
   "cell_type": "markdown",
   "id": "093c9386",
   "metadata": {},
   "source": [
    "`for` here (unlike in C) is to iterate over something. For example, `range(n)` is a sequence starting from 0 until n-1, then the statement `for i in range(5)`, the `i` variable will walk to the next thing of the sequence for each iteration. This explaination is incomplete but enough for our purpose."
   ]
  },
  {
   "cell_type": "code",
   "execution_count": 36,
   "id": "94bdd41f",
   "metadata": {},
   "outputs": [
    {
     "name": "stdout",
     "output_type": "stream",
     "text": [
      "0\n",
      "1\n",
      "2\n",
      "3\n",
      "4\n"
     ]
    }
   ],
   "source": [
    "for i in range(5): # range(n) is end exclusive\n",
    "    print(i)"
   ]
  },
  {
   "cell_type": "code",
   "execution_count": 37,
   "id": "9a1de5d1",
   "metadata": {},
   "outputs": [
    {
     "name": "stdout",
     "output_type": "stream",
     "text": [
      "hakurei\n",
      "marisa\n",
      "satori\n"
     ]
    }
   ],
   "source": [
    "for character in ['hakurei', 'marisa', 'satori']:\n",
    "    print(character)"
   ]
  },
  {
   "cell_type": "markdown",
   "id": "5dff13ca",
   "metadata": {},
   "source": [
    "Common idioms in using `for` will be presented implicitly through example. For now, we use `for` for convienence."
   ]
  },
  {
   "cell_type": "markdown",
   "id": "b6289b31",
   "metadata": {},
   "source": [
    "Consider a problem calculate the sum of $ 1 $ until $ n $. Says `n = 5`, then we may naviely type"
   ]
  },
  {
   "cell_type": "code",
   "execution_count": 38,
   "id": "b630c99d",
   "metadata": {},
   "outputs": [
    {
     "data": {
      "text/plain": [
       "15"
      ]
     },
     "execution_count": 38,
     "metadata": {},
     "output_type": "execute_result"
    }
   ],
   "source": [
    "1 + 2 + 3 + 4 + 5"
   ]
  },
  {
   "cell_type": "markdown",
   "id": "2935d932",
   "metadata": {},
   "source": [
    "When `n` is getting larger, it is not practical to type all the numbers. Code below is very common idiom among many programming languages that do the same thing"
   ]
  },
  {
   "cell_type": "code",
   "execution_count": 39,
   "id": "e2ebe9c6",
   "metadata": {},
   "outputs": [
    {
     "data": {
      "text/plain": [
       "15"
      ]
     },
     "execution_count": 39,
     "metadata": {},
     "output_type": "execute_result"
    }
   ],
   "source": [
    "n = 5\n",
    "i = 1\n",
    "result = 0\n",
    "while i <= n:\n",
    "    result += i # shorthand for result = result + i\n",
    "    i += 1\n",
    "result"
   ]
  },
  {
   "cell_type": "markdown",
   "id": "0326aa4b",
   "metadata": {},
   "source": [
    "The code above use `i` and `result` as state variables temporary store the values."
   ]
  },
  {
   "cell_type": "markdown",
   "id": "c5c90e4d",
   "metadata": {},
   "source": [
    "Below code that use `for` and `range` do the same thing."
   ]
  },
  {
   "cell_type": "code",
   "execution_count": 40,
   "id": "03b5292d",
   "metadata": {},
   "outputs": [
    {
     "data": {
      "text/plain": [
       "15"
      ]
     },
     "execution_count": 40,
     "metadata": {},
     "output_type": "execute_result"
    }
   ],
   "source": [
    "result = 0\n",
    "n = 5\n",
    "for i in range(n+1):\n",
    "    result = result + i\n",
    "result"
   ]
  },
  {
   "cell_type": "markdown",
   "id": "e95bded7",
   "metadata": {},
   "source": [
    "## Program Flow\n",
    "\n",
    "The explained evaluation model just now is not sufficient to describe how Python program run. But the clearer picture includes 2 more simple rules:\n",
    "\n",
    "1. Program execute line by line, **sequentially**\n",
    "2. Program may jump to other line during execution (ie.: functions, conditionals or repetitions)"
   ]
  },
  {
   "cell_type": "code",
   "execution_count": 4,
   "id": "bce57e60",
   "metadata": {},
   "outputs": [
    {
     "name": "stdout",
     "output_type": "stream",
     "text": [
      "line4:  4\n",
      "line5:  True\n",
      "line6\n",
      "line9:  True\n",
      "line10\n",
      "line11:  3\n",
      "line9:  True\n",
      "line10\n",
      "line11:  2\n",
      "line9:  True\n",
      "line10\n",
      "line11:  1\n",
      "line9:  True\n",
      "line10\n",
      "line11:  0\n",
      "line9:  False\n"
     ]
    }
   ],
   "source": [
    "def print_expr(line, expr):\n",
    "    print(f\"line{line}: \", expr)\n",
    "    return expr\n",
    "print_expr(4, x := 4)\n",
    "if print_expr(5, x%2 == 0):\n",
    "    print(\"line6\")\n",
    "else:\n",
    "    print(\"line8\")\n",
    "while print_expr(9, x > 0):\n",
    "    print(\"line10\")\n",
    "    print_expr(11, x := x - 1) # := is assignment expression, it is used sparingly"
   ]
  },
  {
   "cell_type": "markdown",
   "id": "400a40ed",
   "metadata": {},
   "source": [
    "## Exercise\n",
    "1. Try to reason or visualize how below code is evaluated. You may use a table to keep track the variables' value."
   ]
  },
  {
   "cell_type": "code",
   "execution_count": 1,
   "id": "b576d88d",
   "metadata": {
    "scrolled": true
   },
   "outputs": [
    {
     "data": {
      "text/plain": [
       "10"
      ]
     },
     "execution_count": 1,
     "metadata": {},
     "output_type": "execute_result"
    }
   ],
   "source": [
    "n = 4\n",
    "i = 1\n",
    "result = 0\n",
    "while i <= n:\n",
    "    result = result + i\n",
    "    i += 1\n",
    "result"
   ]
  },
  {
   "cell_type": "markdown",
   "id": "6427ac13",
   "metadata": {},
   "source": [
    "# Chapter Exercise\n",
    "\n",
    "1. Factorial of $ n $ denoted as $ n! $ can be defined as follow\n",
    "\n",
    "    $$\n",
    "    n! = n(n-1)...(2)(1)\n",
    "    $$\n",
    "\n",
    "    $$\n",
    "    4! = 4(3)(2)(1) = 24\n",
    "    $$\n",
    "\n",
    "    Write an program in Python that calculate `n=100`. Then refactor it into a function.\n",
    "\n",
    "    Tips: Refer to the summation program in the section Repetition"
   ]
  },
  {
   "cell_type": "code",
   "execution_count": null,
   "id": "ac54594c",
   "metadata": {},
   "outputs": [],
   "source": []
  },
  {
   "cell_type": "markdown",
   "id": "ef666d30",
   "metadata": {},
   "source": [
    "2. Why the code below work as expected? (Difficult)"
   ]
  },
  {
   "cell_type": "code",
   "execution_count": 41,
   "id": "8085f845",
   "metadata": {
    "scrolled": true
   },
   "outputs": [
    {
     "data": {
      "text/plain": [
       "20"
      ]
     },
     "execution_count": 41,
     "metadata": {},
     "output_type": "execute_result"
    }
   ],
   "source": [
    "def a_plus_abs_b(a,b):\n",
    "    from operator import add, sub\n",
    "    return (add if b > 0 else sub)(a,b)\n",
    "a_plus_abs_b(10,-10)"
   ]
  },
  {
   "cell_type": "markdown",
   "id": "8247aa58",
   "metadata": {},
   "source": [
    "3. (Difficult) There is a test whether a programming language is eagerly evaluated or lazily evaluated. The presented code is the test program in Python. Explain what happens if the code below is eagerly evaluated or lazily evaluated. You may try this on R language."
   ]
  },
  {
   "cell_type": "code",
   "execution_count": null,
   "id": "9c1aa418",
   "metadata": {
    "scrolled": true
   },
   "outputs": [
    {
     "ename": "",
     "evalue": "",
     "output_type": "error",
     "traceback": [
      "\u001b[1;31mCanceled future for execute_request message before replies were done"
     ]
    },
    {
     "ename": "",
     "evalue": "",
     "output_type": "error",
     "traceback": [
      "\u001b[1;31mThe Kernel crashed while executing code in the the current cell or a previous cell. Please review the code in the cell(s) to identify a possible cause of the failure. Click <a href='https://aka.ms/vscodeJupyterKernelCrash'>here</a> for more info. View Jupyter <a href='command:jupyter.viewOutput'>log</a> for further details."
     ]
    }
   ],
   "source": [
    "def p():\n",
    "    return p()\n",
    "def test(x,y):\n",
    "    if x == 0:\n",
    "        return 0\n",
    "    else:\n",
    "        return y\n",
    "test(0, p())"
   ]
  }
 ],
 "metadata": {
  "kernelspec": {
   "display_name": "Python 3 (ipykernel)",
   "language": "python",
   "name": "python3"
  },
  "language_info": {
   "codemirror_mode": {
    "name": "ipython",
    "version": 3
   },
   "file_extension": ".py",
   "mimetype": "text/x-python",
   "name": "python",
   "nbconvert_exporter": "python",
   "pygments_lexer": "ipython3",
   "version": "3.10.2"
  },
  "vscode": {
   "interpreter": {
    "hash": "2324a66782fee6ab9f0bdb3c9e79ee636ed86487484f245c4444858429ce7730"
   }
  }
 },
 "nbformat": 4,
 "nbformat_minor": 5
}
