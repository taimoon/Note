{
 "cells": [
  {
   "cell_type": "markdown",
   "id": "5c82f27a",
   "metadata": {},
   "source": [
    "# Preface\n",
    "The note is due to one of my coursemate that he could not understand the Python code that involves Python `class`. Then, I decide to write a note for him.\n",
    "\n",
    "This note is a checklist about the important concepts what you might miss as a beginner. Most of the notes are adapted from the book SICP.\n",
    "\n",
    "You can make a hobby out from programming rather than as a profession; you can do math for the sake of it.\n",
    "\n",
    "=w=, uwu, owo, =M=, =3=, =m=, o3o, O3O, O.o, o.O, o.o, OoO, OwO, u3u, xwx, xMx, x3x\n",
    "\n",
    "## Prerequisite \n",
    "1. Install Python, know how to run `hello.py` through terminal \n",
    "   1. [install python](https://www.youtube.com/watch?v=Kn1HF3oD19c)\n",
    "   2. REMEMBER TO ADD THE PATH DURING THE INSTALLATION\n",
    "   3. [running python file](https://www.youtube.com/watch?v=Qi28uPKaH_A)\n",
    "2. High School Math\n",
    "3. know how to install Python libraries using `pip install`\n",
    "4. IDE and knowing how to use debugger\n",
    "5. Have the spirit of googling, reading forum for intricate code problem\n",
    "6. [`pip install jupyter`](https://www.youtube.com/watch?v=1w-Bm4zpFgs)\n",
    "7. Knowing how to manipulate, access `list` is recommended\n",
    "\n",
    "Above all are easier done by watching Youtube or having an experienced programmer to help you.\n",
    "\n",
    "## How to use this note\n",
    "[Programiz Python](https://www.programiz.com/python-programming) can serve gateway drug but read them superficially and fast within 2 weeks everyday while reading the note.\n",
    "\n",
    "Read chapter 1 and 2 in order.\n",
    "\n",
    "Chapter 3, 4 and 5 are interconnected, but you may read the chapter 5 interlude first before diving into these.\n",
    "Also 2 weeks.\n",
    "\n",
    "Offer no pedalogical guarantee.\n",
    "\n",
    "## Goal\n",
    "1. Short and Dense; Mounthful Bite"
   ]
  }
 ],
 "metadata": {
  "kernelspec": {
   "display_name": "Python 3.10.2 64-bit",
   "language": "python",
   "name": "python3"
  },
  "language_info": {
   "codemirror_mode": {
    "name": "ipython",
    "version": 3
   },
   "file_extension": ".py",
   "mimetype": "text/x-python",
   "name": "python",
   "nbconvert_exporter": "python",
   "pygments_lexer": "ipython3",
   "version": "3.10.2"
  },
  "vscode": {
   "interpreter": {
    "hash": "2324a66782fee6ab9f0bdb3c9e79ee636ed86487484f245c4444858429ce7730"
   }
  }
 },
 "nbformat": 4,
 "nbformat_minor": 5
}
