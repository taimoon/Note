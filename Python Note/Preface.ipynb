{
 "cells": [
  {
   "cell_type": "markdown",
   "id": "5c82f27a",
   "metadata": {},
   "source": [
    "# Preface\n",
    "\n",
    "### What is it about?\n",
    "This note is a checklist about the important concepts what you might miss as a beginner. Most of the notes are adapted from the book SICP.\n",
    "\n",
    "### Why the note is written?\n",
    "The note is due to one of my coursemate that he could not understand the Python code that involves Python `class`. Then, I decide to write a note for him. After that, I maintain the note as a supplement to the Data Science Programming 1 course offered by my university.\n",
    "\n",
    "### How this note differs from other tutorials?\n",
    "The note is not introductory and does not compete others with depthness, broadness, and rigors, but the note is an attempt to discover the enduring concepts and problems in Computer Science.\n",
    "\n",
    "\n",
    "### About Author\n",
    "At the time of writing, I am an university student. I do not make a living of programming having no experience in modern web, application and software development but rather as a hobby. You can make a hobby out from programming rather than as a profession; you can do math for the sake of it.\n",
    "\n",
    "=w=, uwu, owo, =M=, =3=, =m=, o3o, O3O, O.o, o.O, o.o, OoO, OwO, u3u, xwx, xMx, x3x, =o=, uou, omo, oMo\n",
    "\n",
    "## Prerequisite \n",
    "1. High School Math Equivalent Maturity\n",
    "   1. Malaysia Context: SPM Additional Mathematics or Above include STPM Math\n",
    "   2. IGCS Additional Math or A-level Math equivalent\n",
    "   3. You can learn math on Khan Academy for free\n",
    "   4. Practice, practice and practice\n",
    "2. Know how to install Python libraries using `pip install`\n",
    "3. IDE and knowing how to use debugger is also recommended\n",
    "4. Have the spirit of googling, reading forum for intricate code problem\n",
    "5. Knowing how to manipulate, access `list` is recommended\n",
    "\n",
    "## How to start programming in Python\n",
    "1. Install Python, know how to run `hello.py` and other Python script files from **terminal** \n",
    "   1. [Install Python, and `pip install jupyter`](https://www.youtube.com/watch?v=1w-Bm4zpFgs)\n",
    "   2. [running python file](https://www.youtube.com/watch?v=Qi28uPKaH_A)\n",
    "   3. For practice, using the IDLE or Shell Python as calculator, prompt input and print out something on the screen.\n",
    "\n",
    "Above all are easier done by watching Youtube or having an experienced programmer to help you.\n",
    "\n",
    "## How you can use this note\n",
    "[Programiz Python](https://www.programiz.com/python-programming) can serve gateway drug but read them superficially and fast within 2 weeks everyday while reading the note.\n",
    "\n",
    "Read the chapters in order.\n",
    "\n",
    "Offer no pedalogical guarantee.\n",
    "\n",
    "## Goal\n",
    "1. Short and Dense; Mounthful Bite"
   ]
  },
  {
   "cell_type": "markdown",
   "id": "182a0c54",
   "metadata": {},
   "source": [
    "# Why learning programming?\n",
    "Unless you are to make a lucrative profession in developer career, then why you want to learn programming?\n",
    "\n",
    "Well, similar questions would be like:\n",
    "1. Why learn Mathematics?\n",
    "2. Why learn English?/Why learn a second language?\n",
    "\n",
    "Anyway, it seems that the ignorance of these is not really harmful. They are not necessities. Some learn programming just for fun. Sometimes, learn programming is to know that computers and softwares are not magic. This reason is quite sufficient.\n",
    "\n",
    "As the world becomes more globalize than ever, English is just convenient to communicate with other Earthlings from different nations. Of course, it can be in the form of written text.\n",
    "\n",
    "Mathematics is the foundations of many theortical studies and technologies. Honestly, I think that the commoners don't bothered by the Mathematics. For example, no one going to solve simultaneous equation to get the price of things when buying things in convenient store.\n",
    "\n",
    "However, computers is so ubiquitous that digitalization is a trend among many companies and careers. It required some programming knowledge to further utilize the computers technology. \n",
    "It might boost your career.\n",
    "For example, without manually couting and regrouping, sales report can be automated using Excel's functions such as SUM, AVERAGE, COUNTIF and etc. \n",
    "\n",
    "Unless, you are not going to utilize the computers, then you may ignore programming."
   ]
  },
  {
   "cell_type": "markdown",
   "id": "5c41722a",
   "metadata": {},
   "source": [
    "# Why learning programming is very hard?\n",
    "\n",
    "Programming is also a pratical subject. We learn the concepts and apply it to see the **effects**. You must learn programming by **doing**.\n",
    "Remembering recipes is not enough to be good chef, you have to actually cook it.\n",
    "\n",
    "Unlike in your secondary school education, memorizing is enough to pass the exam. This does not work in programming, we often look reference for information, and emphasize problem solving. \n",
    "\n",
    "However, programming is just plain hard that computers do not automatically solve your errors in programs including syntax and semantic. Unfortunately, failure is just common in progrmaming and debugging program can be a very frustrating experience(if you like debugging, then you can be a good programmer)."
   ]
  },
  {
   "cell_type": "markdown",
   "id": "8d4cb310",
   "metadata": {},
   "source": [
    "## Reductionism\n",
    "Philosophically and intellectually, most computer scientists like scientists and mathematicians prefer reductionism.\n",
    "\n",
    "Reductionism is an intellectual preference that interprets a complex system in terms of its smaller parts; a belief that the physical univerese is made up of smaller atoms where atoms is made up of subatomic particles. \n",
    "Whether it really describes the complex phenomena or truth is yet up to debate, \n",
    "but no doubt that it is a very powerful weapon to solve problem. \n",
    "Axiomatic approach in mathematics (e.g.: Euclid's Elements) is an example of reductionism in mathematics. Mathematicians derive theorems and facts from few assumptions or axioms.\n",
    "\n",
    "Programming is like playing lego, we build bigger things by combining different smaller pieces. Yet, these smaller pieces can be composed of other smaller things. In programming, we understand how the smaller things works, and learn how to combine things. Then, arrange and combine the things until solve the problem.\n",
    "\n",
    "This is not an obvious method to many people. Please always remember that in programming, **we often build things from smaller things; complete difficult task by completing its simpler subtasks.**\n",
    "\n",
    "# Why Python？\n",
    "Every programming language is good for its purpose. \n",
    "`C` is a simple programming language but not simpler. Simple does not mean easy to use. For beginner, string manipulation is very tedious and difficult in `C`. Although `C` provide control over machine, `C` does not provide certain abstraction mean such as object and first class functions. In other word, `C` is not expressive.\n",
    "\n",
    "`Python` is not a simple language due to its abundant features but it is easy to use and learn yet expressive and powerful. One can easily learn `Python` in few days to make a Snake game.\n",
    "Currently, there are many actively maintained libraries for `Python`, where developers can easily use the libraries to solve problem. "
   ]
  },
  {
   "cell_type": "markdown",
   "id": "0c4df163",
   "metadata": {},
   "source": [
    "# Advises\n",
    "In Chapter 1, we will review the important elements of Python. Of course, after reading that chapter, many of you are still clueless in solving problem using programming.\n",
    "\n",
    "Memorise things doesn't really help either. Programming is hard because you must learn to **apply** it to solve the problem. This is very different from memorising the concepts and answer the exam.\n",
    "\n",
    "Initially, programming is always not easy and frustrating.\n",
    "\n",
    "1. It is fine that we do not understand and remember everything in programming\n",
    "2. It is perfectly fine to google and copy the answers from online. It is better to understand how the code is executed exactly\n",
    "3. **Practice make perfect**; There is no royal road to programming\n",
    "4. **Your first program will be always broken, ugly**. So just refactor it afterward\n",
    "5. Even expert programmers, they neither memorize every functions, libraries nor intricacies but they know the techniques and what matters.\n",
    "6. Touch typing is not essential but it can makes your programming task less miserable thus more motivated. This same goes to good IDE\n",
    "7. **Consult experienced programmer**\n",
    "8. To beginner, it is always okay to break your program, bad practices are okay. Appreciating good practices can grow from experiencing bad things happens due to bad practices\n",
    "9.  Imitating is fine in initial learning, but please try mentally simulate how the program is running\n",
    "10. By imitating the program, someday you will just clicked in solving certain problem"
   ]
  },
  {
   "cell_type": "markdown",
   "id": "a96f063f",
   "metadata": {},
   "source": [
    "# How to ask programmer - Beginner\n",
    "1. **Solve it yourself first, Google, then Stackoverflow**\n",
    "2. Politely greet\n",
    "3. Describe your problem and intents\n",
    "4. **SCREENSHOT THE ERROR REPORTS IF ANY**\n",
    "5. Screenshot/send the **whole** program\n",
    "\n",
    "    To me, setting up programming environment (installing programming language, using libraries) can be asked even you not yet putting effort to it, because it is also frustrating experience among many programmers. "
   ]
  }
 ],
 "metadata": {
  "kernelspec": {
   "display_name": "Python 3.10.2 64-bit",
   "language": "python",
   "name": "python3"
  },
  "language_info": {
   "codemirror_mode": {
    "name": "ipython",
    "version": 3
   },
   "file_extension": ".py",
   "mimetype": "text/x-python",
   "name": "python",
   "nbconvert_exporter": "python",
   "pygments_lexer": "ipython3",
   "version": "3.10.2"
  },
  "vscode": {
   "interpreter": {
    "hash": "2324a66782fee6ab9f0bdb3c9e79ee636ed86487484f245c4444858429ce7730"
   }
  }
 },
 "nbformat": 4,
 "nbformat_minor": 5
}
