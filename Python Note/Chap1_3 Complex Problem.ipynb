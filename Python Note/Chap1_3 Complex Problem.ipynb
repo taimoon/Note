{
 "cells": [
  {
   "cell_type": "markdown",
   "id": "4e74309a",
   "metadata": {},
   "source": [
    "# Essence of Programming Languages\n",
    "\n",
    "In the very first chapter of the SICP book writes:\n",
    "> Thus,\n",
    "> when we describe a language, we should pay particular attention to the\n",
    "> means that the language provides for combining simple ideas to form\n",
    "> more complex ideas.\n",
    "> Every powerful language has three mechanisms for accomplishing this:\n",
    ">\n",
    ">**primitive expressions**, which represent the simplest entities the\n",
    "language is concerned with,\n",
    ">\n",
    "> **means of combination**, by which compound elements are built from simpler ones, and\n",
    ">\n",
    ">**means of abstraction**, by which compound elements can be named and manipulated as units.\n",
    "\n",
    "From the topic Python Basic, we can form expression from numbers and their operators to calculate another values. These numbers are primitve entities in Python. `string` is also an example that can be operated via concatenate operator to a longer `string`.\n",
    "\n",
    "Defining variable is also mean of abstraction, allow us to reference the entities via their names.\n",
    "\n",
    "`def` is the keyword in Python allow us to define program that can be else where. It is also mean of abstraction because we call other functions inside of a function.\n",
    "\n",
    "Indeed, the notion of **combination** can be further explained in other way:\n",
    "1. One line statement or expression is a program, and multiple lines of these also a program. Combine program A and program B is still a program.\n",
    "2. The syntax of `if` is as followed:\n",
    "   ```\n",
    "    if <expr>:\n",
    "        <prog>\n",
    "   ```\n",
    "   Note that this `if` form is also a program, hence insert `if` inside the `if` is still a program.\n",
    "    ```\n",
    "    def main():\n",
    "        if x % 2 == 0:\n",
    "            print(f'{x} is even')\n",
    "    ```\n",
    "    ```\n",
    "    def main():\n",
    "        if x%3 == 0:\n",
    "            print(f'{x} is a multiple of 3')\n",
    "            if x % 2 == 0:\n",
    "                print(f'{x} is even') \n",
    "    ```\n",
    "    Similarily, `if`-`elif`-`else`, `while`, `def` and `for` can also nest a program as above and program below.\n",
    "    ```\n",
    "    def sum_of_multiples(a,b,n):\n",
    "        res = 0\n",
    "        while n > 0:\n",
    "            if n % a == 0 and n % b == 0:\n",
    "                res = res + n\n",
    "            n = n - 1\n",
    "        return res\n",
    "    ```\n",
    "3. We can call functions inside of a function.\n",
    "\n",
    "The lesson here is that in programming, **we build complex and big thing by combining simpler and smaller things.** \n",
    "To learn a new programming language or libraries, beside looking tutorial videos and documentations,\n",
    "we can be mindful on what are the underlying assumptions, fundamental entities and opartions that form the libraries or programming languages.\n",
    "Specifically, what are the primitives, the means of combination, and the means of abstraction.\n",
    "\n",
    "Remember, we can combine things using smaller things. \n",
    "- We can use repetitions and conditionals inside of the body beneathing conditional\n",
    "- We can use repetitions and conditionals inside of the body beneath repetition\n",
    "- We can define functions inside of the functions\n",
    "- We can call other functions at nearly anywhere of the code\n",
    "\n",
    "Footnote: \n",
    "1. The statement \"One line statement or expression is a program, and multiple lines of these also a program. Combine program A and program B is still a program.\" is same as the mathematical concept of *closure*\n",
    "2. Nest a program inside in another program sound like recursion. To many, recursion being counterintuitive concept. It is very convenient in parsing the grammar of formal langauges."
   ]
  },
  {
   "cell_type": "markdown",
   "id": "475e265c",
   "metadata": {},
   "source": [
    "# Naive Strategy: Solve smaller problems of bigger problem\n",
    "\n",
    "Consider a problem adapted from [ProjectEuler.net](https://projecteuler.net/problem=27):\n",
    "\n",
    "$$\n",
    "n^2 + n + 41\n",
    "$$\n",
    "\n",
    "This formula is discoverd by the great mathematician Euler. It is amazing that it generates 40 primes for $0 \\leq n \\leq 39$. There is another fomula $n^2 - 79n + 1601$ generates 80 primes for $0 \\leq n \\leq 79$.\n",
    "\n",
    "Consider quadratics of the form:\n",
    "$$\n",
    "n^2 + an + b, |a|\\lt 1000, |b|\\leq 1000\n",
    "$$\n",
    "\n",
    "Find the values of the coefficients,  $a$ and $b$, for the quadratic expression that produces the maximum number of primes for consecutive values of , $n$ starting with $n=0$.\n",
    "\n",
    "\n",
    "Naively, we can seperate the problems into smaller pieces of the problems, and solve each piece, then re-ensemble them.\n",
    "\n",
    "The smaller pieces might be:\n",
    "1. prime test\n",
    "2. how many prime is generated from a particular quadratic\n",
    "3. find which quadratic generates the most primes from all given quadratics"
   ]
  },
  {
   "cell_type": "code",
   "execution_count": 8,
   "id": "6528b609",
   "metadata": {},
   "outputs": [],
   "source": [
    "def smallest_divisor(n):\n",
    "    d = 2\n",
    "    while d < n:\n",
    "        if n%d == 0:\n",
    "            return d\n",
    "        d += 1\n",
    "    return n\n",
    "\n",
    "def is_prime(n):\n",
    "    return smallest_divisor(n) == n"
   ]
  },
  {
   "cell_type": "markdown",
   "id": "afed9f14",
   "metadata": {},
   "source": [
    "The problem \"how many prime is generated from a particular quadratic\" can be further divide into:\n",
    "\n",
    "1. calculate value of quadratic given values of others\n",
    "2. how to do the repetition to count prime"
   ]
  },
  {
   "cell_type": "code",
   "execution_count": 2,
   "id": "119932ba",
   "metadata": {},
   "outputs": [],
   "source": [
    "def quadratic(n, a, b):\n",
    "    return n**2 + n*a + b"
   ]
  },
  {
   "cell_type": "markdown",
   "id": "731a5607",
   "metadata": {},
   "source": [
    "We have coded the `quadratic` but we are not sure whether **it works as expected**. We may make use of `is_prime` to check given integer is prime or not"
   ]
  },
  {
   "cell_type": "code",
   "execution_count": 3,
   "id": "df7bb4a0",
   "metadata": {},
   "outputs": [
    {
     "data": {
      "text/plain": [
       "True"
      ]
     },
     "execution_count": 3,
     "metadata": {},
     "output_type": "execute_result"
    }
   ],
   "source": [
    "quadratic(10,10,10) == 10**2 + 10*10 + 10"
   ]
  },
  {
   "cell_type": "code",
   "execution_count": 4,
   "id": "a53566d6",
   "metadata": {},
   "outputs": [],
   "source": [
    "assert(is_prime(quadratic(0,1,41)))\n",
    "assert(is_prime(quadratic(2,1,41)))\n",
    "assert(is_prime(quadratic(39,1,41)))"
   ]
  },
  {
   "cell_type": "markdown",
   "id": "bb48e943",
   "metadata": {},
   "source": [
    "Okay, it seems good. Then we proceed to \"how to count how many primes is generated from given quadratic in consecutive integers\". Indeed, it is a question of \"how to enumerate/ iterate all possible cases\"."
   ]
  },
  {
   "cell_type": "code",
   "execution_count": 5,
   "id": "f6493e3c",
   "metadata": {},
   "outputs": [
    {
     "data": {
      "text/plain": [
       "40"
      ]
     },
     "execution_count": 5,
     "metadata": {},
     "output_type": "execute_result"
    }
   ],
   "source": [
    "a = 1\n",
    "b = 41\n",
    "n = 0\n",
    "while is_prime(quadratic(n, a, b)):\n",
    "    n = n+1\n",
    "n"
   ]
  },
  {
   "cell_type": "markdown",
   "id": "bce32571",
   "metadata": {},
   "source": [
    "For now, we've figured out how to find the count. We might go for generalising the counting process into a **function** (ie.: abstracting). \n",
    "\n",
    "```\n",
    "a = 1 # this can be parameter\n",
    "b = 41 # this can be parameter\n",
    "n = 0\n",
    "while is_prime(quadratic(n, a, b)):\n",
    "    n = n+1\n",
    "n # as return value\n",
    "```"
   ]
  },
  {
   "cell_type": "code",
   "execution_count": 6,
   "id": "898569f4",
   "metadata": {},
   "outputs": [
    {
     "name": "stdout",
     "output_type": "stream",
     "text": [
      "40\n",
      "80\n"
     ]
    }
   ],
   "source": [
    "def quadratic_prime_count(a,b):\n",
    "    n = 0\n",
    "    while is_prime(quadratic(n, a, b)):\n",
    "        n += 1\n",
    "    return n\n",
    "print(quadratic_prime_count(1,41))\n",
    "print(quadratic_prime_count(-79,1601))"
   ]
  },
  {
   "cell_type": "markdown",
   "id": "47b924d1",
   "metadata": {},
   "source": [
    "The question states that\n",
    "\n",
    "$$\n",
    "n^2 + an + b, |a|\\lt 1000, |b|\\leq 1000\n",
    "$$\n",
    "\n",
    "Then, it is also another question of enumerating and iterating all $a$, $b$ to find the most primal quadratics."
   ]
  },
  {
   "cell_type": "code",
   "execution_count": 7,
   "id": "5ea98a76",
   "metadata": {},
   "outputs": [
    {
     "data": {
      "text/plain": [
       "(-61, 971, 71)"
      ]
     },
     "execution_count": 7,
     "metadata": {},
     "output_type": "execute_result"
    }
   ],
   "source": [
    "a = -999\n",
    "max_a = 1\n",
    "max_b = 41\n",
    "max_n = 40\n",
    "while a < 1000:\n",
    "    b = -1000\n",
    "    while b <= 1000:\n",
    "        if quadratic_prime_count(a,b) > max_n:\n",
    "            max_a = a \n",
    "            max_b = b\n",
    "            max_n = quadratic_prime_count(max_a,max_b)\n",
    "        b += 1\n",
    "    a += 1\n",
    "max_a,max_b,max_n"
   ]
  },
  {
   "cell_type": "markdown",
   "id": "e15cf847",
   "metadata": {},
   "source": [
    "Indeed, -61 and 971 is the answer. Now, we may refactor the code abit."
   ]
  },
  {
   "cell_type": "code",
   "execution_count": 34,
   "id": "092c6616",
   "metadata": {},
   "outputs": [
    {
     "data": {
      "text/plain": [
       "(-61, 971, 71)"
      ]
     },
     "execution_count": 34,
     "metadata": {},
     "output_type": "execute_result"
    }
   ],
   "source": [
    "def is_prime(n):\n",
    "    if n < 2: # changed to include negative integers\n",
    "        return False\n",
    "    d = 2\n",
    "    while d*d <= n:\n",
    "        if n%d == 0:\n",
    "            return False\n",
    "        d += 1\n",
    "    return True\n",
    "\n",
    "def quadratic(n, a, b):\n",
    "    return n**2 + n*a + b\n",
    "\n",
    "def quadratic_prime_count(a,b):\n",
    "    n = 0\n",
    "    while is_prime(quadratic(n, a, b)):\n",
    "        n += 1\n",
    "    return n\n",
    "\n",
    "max_a = 1\n",
    "max_b = 41\n",
    "max_n = 40\n",
    "for a in range(-999, 1000):\n",
    "    for b in range(-1000, 1000):\n",
    "        if quadratic_prime_count(a,b) > max_n:\n",
    "            max_a = a \n",
    "            max_b = b\n",
    "            max_n = quadratic_prime_count(max_a,max_b)\n",
    "max_a,max_b,max_n"
   ]
  },
  {
   "cell_type": "markdown",
   "id": "14f1d2ba",
   "metadata": {},
   "source": [
    "# Benefit of functions\n",
    "\n",
    "Below is equivalent code that do the same thing without using many functions."
   ]
  },
  {
   "cell_type": "code",
   "execution_count": 19,
   "id": "1f8abb94",
   "metadata": {
    "scrolled": true
   },
   "outputs": [
    {
     "data": {
      "text/plain": [
       "(-61, 971, 72)"
      ]
     },
     "execution_count": 19,
     "metadata": {},
     "output_type": "execute_result"
    }
   ],
   "source": [
    "max_a = 1\n",
    "max_b = 41\n",
    "max_n = 40\n",
    "a = -999\n",
    "while a < 1000:\n",
    "    b = -1000\n",
    "    while b <= 1000:\n",
    "        n = 0\n",
    "        is_prime_bool = True\n",
    "        # count primes generated by quadratic\n",
    "        while is_prime_bool:\n",
    "            quad = n**2 + n*a + b\n",
    "            # check if p is prime\n",
    "            if quad < 2:\n",
    "                is_prime_bool = False\n",
    "            divisor = 2\n",
    "            while divisor*divisor <= quad:\n",
    "                if quad%divisor == 0:\n",
    "                    is_prime_bool = False\n",
    "                    break\n",
    "                divisor += 1\n",
    "            n += 1\n",
    "        # max value check\n",
    "        if n > max_n:\n",
    "            max_a = a \n",
    "            max_b = b\n",
    "            max_n = n\n",
    "        b += 1\n",
    "    a += 1\n",
    "max_a,max_b,max_n"
   ]
  },
  {
   "cell_type": "markdown",
   "id": "fe431d23",
   "metadata": {},
   "source": [
    "Some radicals (if there is any) might argue the code above as a whole that it is much clearer that how the program is going. But writing the code this way have some disadvantages.\n",
    "\n",
    "1. Error Prone\n",
    "2. Inflexible"
   ]
  },
  {
   "cell_type": "markdown",
   "id": "342fdaf4",
   "metadata": {},
   "source": [
    "1. Error Prone. The code below will stuck forever, could you find the bug?\n",
    "```\n",
    "max_a = 1\n",
    "max_b = 41\n",
    "max_n = 40\n",
    "a = -999\n",
    "while a < 1000:\n",
    "    b = -1000\n",
    "    while b <= 1000:\n",
    "        n = 0\n",
    "        is_prime_bool = True\n",
    "        # count primes generated by quadratic\n",
    "        if quad < 2:\n",
    "            is_prime_bool = False\n",
    "        while is_prime_bool:\n",
    "            quad = n**2 + n*a + b\n",
    "            # check if quad is prime\n",
    "            divisor = 2\n",
    "            while divisor*divisor <= quad:\n",
    "                if quad%divisor == 0:\n",
    "                    is_prime_bool = False\n",
    "                    break\n",
    "                divisor += 1\n",
    "        n += 1\n",
    "        # max value check\n",
    "        if n > max_n:\n",
    "            max_a = a \n",
    "            max_b = b\n",
    "            max_n = n\n",
    "        b += 1\n",
    "    a += 1\n",
    "max_a,max_b,max_n\n",
    "```\n",
    "\n",
    "Indeed, it turns out that `n += 1` is mis-indented."
   ]
  },
  {
   "cell_type": "markdown",
   "id": "aff6c7b6",
   "metadata": {},
   "source": [
    "The code below is also stuck forever. Then we may debug each function. It turns out that `is_prime` doesn't work as expected for negative integer `n`.\n",
    "\n",
    "```\n",
    " def is_prime(n):\n",
    "        d = 2\n",
    "        while d*d <= n:\n",
    "            if n%d == 0:\n",
    "                return False\n",
    "            d += 1\n",
    "        return True\n",
    "\n",
    "def quadratic(n, a, b):\n",
    "    return n**2 + n*a + b\n",
    "\n",
    "def quadratic_prime_count(a,b):\n",
    "    n = 0\n",
    "    while is_prime(quadratic(n, a, b)):\n",
    "        n += 1\n",
    "    return n\n",
    "a = -999\n",
    "max_a = 1\n",
    "max_b = 41\n",
    "max_n = 40\n",
    "while a < 1000:\n",
    "    b = -1000\n",
    "    while b <= 1000:\n",
    "        if quadratic_prime_count(a,b) > max_n:\n",
    "            max_a = a \n",
    "            max_b = b\n",
    "            max_n = quadratic_prime_count(max_a,max_b)\n",
    "        b += 1\n",
    "    a += 1\n",
    "max_a,max_b,max_n\n",
    "```"
   ]
  },
  {
   "cell_type": "markdown",
   "id": "83172677",
   "metadata": {},
   "source": [
    "2. Inflexibility\n",
    "    \n",
    "    Suppose that we have a more effective way to do primality test."
   ]
  },
  {
   "cell_type": "code",
   "execution_count": 1,
   "id": "19b3e823",
   "metadata": {},
   "outputs": [],
   "source": [
    "def sieve(n):\n",
    "    li = [True for _ in range(n)]\n",
    "    li[0] = False\n",
    "    li[1] = False\n",
    "    for i in range(2, n):\n",
    "        if li[i] == True:\n",
    "            for j in range(i*i, n, i):\n",
    "                li[j] = False\n",
    "    return li\n",
    "\n",
    "memo = sieve(100000)\n",
    "# modified version\n",
    "def is_prime(n):\n",
    "    if n < 2:\n",
    "        return False\n",
    "    return memo[n]"
   ]
  },
  {
   "cell_type": "markdown",
   "id": "ae8f0298",
   "metadata": {},
   "source": [
    "If we use function, then we not need to change other part of code after we adopt the new primality test algorithm. The code is flexible. In contrary, to utilize the new algorithm, we have to change the more code in the less-function code."
   ]
  },
  {
   "cell_type": "code",
   "execution_count": 33,
   "id": "8ecc2b40",
   "metadata": {},
   "outputs": [
    {
     "data": {
      "text/plain": [
       "(-61, 971, 71)"
      ]
     },
     "execution_count": 33,
     "metadata": {},
     "output_type": "execute_result"
    }
   ],
   "source": [
    "def quadratic(n, a, b):\n",
    "    return n**2 + n*a + b\n",
    "\n",
    "def quadratic_prime_count(a,b):\n",
    "    n = 0\n",
    "    while is_prime(quadratic(n, a, b)):\n",
    "        n += 1\n",
    "    return n\n",
    "a = -999\n",
    "max_a = 1\n",
    "max_b = 41\n",
    "max_n = 40\n",
    "while a < 1000:\n",
    "    b = -1000\n",
    "    while b <= 1000:\n",
    "        if quadratic_prime_count(a,b) > max_n:\n",
    "            max_a = a \n",
    "            max_b = b\n",
    "            max_n = quadratic_prime_count(max_a,max_b)\n",
    "        b += 1\n",
    "    a += 1\n",
    "max_a,max_b,max_n"
   ]
  },
  {
   "cell_type": "markdown",
   "id": "55d8e8a2",
   "metadata": {},
   "source": [
    "## side note:\n",
    "\n",
    "Generate and test all possible cases is known as **Brute Force** algorithm. It is not definitely the fastest but it always give the **optimal** answer. Furthermore, it is the easiest algorithm can be thought to solve any problem; it is a naive algorithm. Indeed, we also brute force in developing `gcd` function in the topic Examples."
   ]
  },
  {
   "cell_type": "markdown",
   "id": "fc565a08",
   "metadata": {},
   "source": [
    "# Conclusion\n",
    "\n",
    "The use of functions can make our program more organized and easier to be changed.\n",
    "\n",
    "Besides, the task seperations and re-ensemble are one of the way to solve complex problem. To solve a complex problem, we can solve smaller pieces of the complex problem.\n",
    "\n",
    "Indeed, as we see in the code, the function name also convey what it does, thus more readable. \n",
    "\n",
    "Benefit of functions\n",
    "- readable\n",
    "- lesser code\n",
    "- flexible\n",
    "- easier to debug\n",
    "\n",
    "Every function does single thing, this is similar to the principle of single responsibility. Although looking at each of the functions itself seems trivial, they together can form the complex program. \n",
    "\n",
    "Here is some guidelines in designing functions and solving problem:\n",
    "1. Function suppress implementation details\n",
    "2. Function tends to generalize things\n",
    "3. **Consider required parameters, return values**\n",
    "4. Exploit the fact that arguments are local to the functions\n",
    "5. Exploit the fact that variables inside a function is local to the current function\n",
    "6. Code function over common patterns\n",
    "7. Functions can be called at nearly anywhere\n",
    "8. Consider functions to divide tasks\n",
    "9. Break down the problems into mutiple simpler problems or solve related problem first\n",
    "10. **Do some research, googling**\n"
   ]
  }
 ],
 "metadata": {
  "kernelspec": {
   "display_name": "Python 3 (ipykernel)",
   "language": "python",
   "name": "python3"
  },
  "language_info": {
   "codemirror_mode": {
    "name": "ipython",
    "version": 3
   },
   "file_extension": ".py",
   "mimetype": "text/x-python",
   "name": "python",
   "nbconvert_exporter": "python",
   "pygments_lexer": "ipython3",
   "version": "3.10.2"
  },
  "vscode": {
   "interpreter": {
    "hash": "2324a66782fee6ab9f0bdb3c9e79ee636ed86487484f245c4444858429ce7730"
   }
  }
 },
 "nbformat": 4,
 "nbformat_minor": 5
}
